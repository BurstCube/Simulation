{
 "cells": [
  {
   "cell_type": "code",
   "execution_count": 2,
   "metadata": {},
   "outputs": [],
   "source": [
    "import numpy as np"
   ]
  },
  {
   "cell_type": "markdown",
   "metadata": {},
   "source": [
    "This is from http://ieeexplore.ieee.org/stamp/stamp.jsp?arnumber=1312019\n",
    "\n",
    "Pretty sure these are FWHM in %"
   ]
  },
  {
   "cell_type": "code",
   "execution_count": 3,
   "metadata": {},
   "outputs": [],
   "source": [
    "BGO_Res = np.array([[14.112467496090513, 85.16224074593971],\n",
    "                    [16.317880639956307, 76.33160780668469],\n",
    "                    [21.529484754666246, 62.88582792641345],       \n",
    "                    [30.340061754746333, 51.36204531455002],\n",
    "                    [31.564490647760646, 50.50054099138297],\n",
    "                    [59.07609059010949, 33.97986790321826],\n",
    "                    [80.5455029654807, 28.943728295027455],\n",
    "                    [87.18616032653354, 27.059282816411404],\n",
    "                    [122.02985991237784, 24.03156941030447],\n",
    "                    [274.68755904528973, 15.237373250313242],\n",
    "                    [317.65214486172084, 13.097409178482653],\n",
    "                    [350.6352709986531, 13.091871640828803],\n",
    "                    [408.16809754765507, 11.159079618580677],\n",
    "                    [507.2805805268648, 10.963557901149636],\n",
    "                    [567.4460246135365, 10.508998479149959],\n",
    "                    [656.1074275793231, 9.498500888983962],\n",
    "                    [826.3755295834812, 8.800328043332597],\n",
    "                    [1054.7318340511356, 7.884470538587283],\n",
    "                    [1260.1763199614118, 7.492443958046428]])"
   ]
  },
  {
   "cell_type": "code",
   "execution_count": 8,
   "metadata": {},
   "outputs": [
    {
     "name": "stdout",
     "output_type": "stream",
     "text": [
      "DCalBGO.EnergyResolution Gauss   14.1124674961    14.1124674961   5.10339428629\n",
      "DCalBGO.EnergyResolution Gauss   16.31788064    16.31788064   5.28904486304\n",
      "DCalBGO.EnergyResolution Gauss   21.5294847547    21.5294847547   5.74904235085\n",
      "DCalBGO.EnergyResolution Gauss   30.3400617547    30.3400617547   6.6171024488\n",
      "DCalBGO.EnergyResolution Gauss   31.5644906478    31.5644906478   6.76867878484\n",
      "DCalBGO.EnergyResolution Gauss   59.0760905901    59.0760905901   8.52398197236\n",
      "DCalBGO.EnergyResolution Gauss   80.5455029655    80.5455029655   9.89930850624\n",
      "DCalBGO.EnergyResolution Gauss   87.1861603265    87.1861603265   10.0178130359\n",
      "DCalBGO.EnergyResolution Gauss   122.029859912    122.029859912   12.4525224994\n",
      "DCalBGO.EnergyResolution Gauss   274.687559045    274.687559045   17.7728953902\n",
      "DCalBGO.EnergyResolution Gauss   317.652144862    317.652144862   17.6663274636\n",
      "DCalBGO.EnergyResolution Gauss   350.635270999    350.635270999   19.4924499391\n",
      "DCalBGO.EnergyResolution Gauss   408.168097548    408.168097548   19.3408929864\n",
      "DCalBGO.EnergyResolution Gauss   507.280580527    507.280580527   23.6161359522\n",
      "DCalBGO.EnergyResolution Gauss   567.446024614    567.446024614   25.3218233956\n",
      "DCalBGO.EnergyResolution Gauss   656.107427579    656.107427579   26.4630020558\n",
      "DCalBGO.EnergyResolution Gauss   826.375529583    826.375529583   30.8805764217\n",
      "DCalBGO.EnergyResolution Gauss   1054.73183405    1054.73183405   35.3121107078\n",
      "DCalBGO.EnergyResolution Gauss   1260.17631996    1260.17631996   40.0925709323\n"
     ]
    }
   ],
   "source": [
    "for line in BGO_Res:\n",
    "    energy = line[0]\n",
    "    sigma = (energy*line[1]/100.)/2.355\n",
    "    res_str = 'DCalBGO.EnergyResolution Gauss   {}    {}   {}'.format(energy,energy,sigma)\n",
    "    print(res_str)"
   ]
  },
  {
   "cell_type": "markdown",
   "metadata": {},
   "source": [
    "This is from https://www.sciencedirect.com/science/article/pii/S135044870900170X"
   ]
  },
  {
   "cell_type": "code",
   "execution_count": 9,
   "metadata": {},
   "outputs": [],
   "source": [
    "CsI_Res = np.array([[16.623074089900765, 23.843549923658838],\n",
    "    [22.091568232336797, 11.63664501527187],\n",
    "    [30.36196429373176, 10.212186251518398],\n",
    "    [32.15571367468885, 10.120986704830358],\n",
    "    [59.14873653834491, 6.994389219344719],\n",
    "    [88.3582208292084, 5.841367644574854],\n",
    "    [121.52770628872315, 6.2243261380298325],\n",
    "    [319.36244228296096, 6.636601152130713],\n",
    "    [508.0714771342876, 5.984940584829619],\n",
    "    [575.7693297292499, 5.644573173821099],\n",
    "    [662.8116046177133, 5.371917789732989],\n",
    "    [838.0551026923001, 4.887266440547163],\n",
    "    [1065.1420028025645, 4.406406691875983],\n",
    "    [1176.453371633488, 4.6311469140867745],\n",
    "    [1271.6327211744988, 4.044986804575026],\n",
    "    [1332.8151935855174, 4.045173102550864],\n",
    "    [1756.8721319162862, 3.565910445023562]])\n"
   ]
  },
  {
   "cell_type": "code",
   "execution_count": 10,
   "metadata": {},
   "outputs": [
    {
     "name": "stdout",
     "output_type": "stream",
     "text": [
      "DCalCSI.EnergyResolution Gauss   16.6230740899    16.6230740899   1.68302801251\n",
      "DCalCSI.EnergyResolution Gauss   22.0915682323    22.0915682323   1.09159973397\n",
      "DCalCSI.EnergyResolution Gauss   30.3619642937    30.3619642937   1.31661161074\n",
      "DCalCSI.EnergyResolution Gauss   32.1557136747    32.1557136747   1.38194288996\n",
      "DCalCSI.EnergyResolution Gauss   59.1487365383    59.1487365383   1.75672732561\n",
      "DCalCSI.EnergyResolution Gauss   88.3582208292    88.3582208292   2.19164693114\n",
      "DCalCSI.EnergyResolution Gauss   121.527706289    121.527706289   3.21200882695\n",
      "DCalCSI.EnergyResolution Gauss   319.362442283    319.362442283   8.99991996774\n",
      "DCalCSI.EnergyResolution Gauss   508.071477134    508.071477134   12.9120068089\n",
      "DCalCSI.EnergyResolution Gauss   575.769329729    575.769329729   13.8003062119\n",
      "DCalCSI.EnergyResolution Gauss   662.811604618    662.811604618   15.1191908709\n",
      "DCalCSI.EnergyResolution Gauss   838.055102692    838.055102692   17.3919260243\n",
      "DCalCSI.EnergyResolution Gauss   1065.1420028    1065.1420028   19.9297191038\n",
      "DCalCSI.EnergyResolution Gauss   1176.45337163    1176.45337163   23.1351524484\n",
      "DCalCSI.EnergyResolution Gauss   1271.63272117    1271.63272117   21.8417731525\n",
      "DCalCSI.EnergyResolution Gauss   1332.81519359    1332.81519359   22.8937077357\n",
      "DCalCSI.EnergyResolution Gauss   1756.87213192    1756.87213192   26.6023298759\n"
     ]
    }
   ],
   "source": [
    "for line in CsI_Res:\n",
    "    energy = line[0]\n",
    "    sigma = (energy*line[1]/100.)/2.355\n",
    "    res_str = 'DCalCSI.EnergyResolution Gauss   {}    {}   {}'.format(energy,energy,sigma)\n",
    "    print(res_str)"
   ]
  },
  {
   "cell_type": "markdown",
   "metadata": {},
   "source": [
    "This is from https://www.sciencedirect.com/science/article/pii/S0168900201019647"
   ]
  },
  {
   "cell_type": "code",
   "execution_count": 11,
   "metadata": {},
   "outputs": [],
   "source": [
    "NaI_res = np.array([[16.609889045528742, 19.666362541625514],\n",
    "[30.968827550606385, 18.887704875429613],\n",
    "[32.19063994170191, 19.013004934946572],\n",
    "[59.55615800270122, 6.30628459838303],\n",
    "[80.85091934835975, 5.2342824759747675],\n",
    "[122.31981698047885, 5.956325466017732],\n",
    "[279.97583116092983, 7.027795558168128],\n",
    "[513.9923275483156, 6.954505864675259],\n",
    "[660.9797279312698, 6.189723100037608],\n",
    "[836.946514458684, 5.714181368112343],\n",
    "[1167.399188060197, 4.497186107769874],\n",
    "[1271.1302372984526, 4.837865122479165],\n",
    "[1326.4026507533188, 4.138287887316978]])"
   ]
  },
  {
   "cell_type": "code",
   "execution_count": 15,
   "metadata": {},
   "outputs": [
    {
     "name": "stdout",
     "output_type": "stream",
     "text": [
      "DCalNaI.EnergyResolution Gauss   16.6098890455    16.6098890455   1.38707473353\n",
      "DCalNaI.EnergyResolution Gauss   30.9688275506    30.9688275506   2.48377951216\n",
      "DCalNaI.EnergyResolution Gauss   32.1906399417    32.1906399417   2.59889934637\n",
      "DCalNaI.EnergyResolution Gauss   59.5561580027    59.5561580027   1.59481138833\n",
      "DCalNaI.EnergyResolution Gauss   80.8509193484    80.8509193484   1.79701295249\n",
      "DCalNaI.EnergyResolution Gauss   122.31981698    122.31981698   3.093743698\n",
      "DCalNaI.EnergyResolution Gauss   279.975831161    279.975831161   8.35504417251\n",
      "DCalNaI.EnergyResolution Gauss   513.992327548    513.992327548   15.1786100057\n",
      "DCalNaI.EnergyResolution Gauss   660.979727931    660.979727931   17.3727451832\n",
      "DCalNaI.EnergyResolution Gauss   836.946514459    836.946514459   20.3077035203\n",
      "DCalNaI.EnergyResolution Gauss   1167.39918806    1167.39918806   22.2930420839\n",
      "DCalNaI.EnergyResolution Gauss   1271.1302373    1271.1302373   26.1127670537\n",
      "DCalNaI.EnergyResolution Gauss   1326.40265075    1326.40265075   23.3080085916\n"
     ]
    }
   ],
   "source": [
    "for line in NaI_res:\n",
    "    energy = line[0]\n",
    "    sigma = (energy*line[1]/100.)/2.355\n",
    "    res_str = 'DCalNaI.EnergyResolution Gauss   {}    {}   {}'.format(energy,energy,sigma)\n",
    "    print(res_str)"
   ]
  },
  {
   "cell_type": "code",
   "execution_count": null,
   "metadata": {},
   "outputs": [],
   "source": []
  }
 ],
 "metadata": {
  "kernelspec": {
   "display_name": "Python 2",
   "language": "python",
   "name": "python2"
  },
  "language_info": {
   "codemirror_mode": {
    "name": "ipython",
    "version": 2
   },
   "file_extension": ".py",
   "mimetype": "text/x-python",
   "name": "python",
   "nbconvert_exporter": "python",
   "pygments_lexer": "ipython2",
   "version": "2.7.11"
  }
 },
 "nbformat": 4,
 "nbformat_minor": 2
}
