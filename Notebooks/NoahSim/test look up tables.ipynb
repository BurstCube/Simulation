{
 "cells": [
  {
   "cell_type": "code",
   "execution_count": 1,
   "metadata": {
    "collapsed": true
   },
   "outputs": [],
   "source": [
    "#The following cell contains the \"FastCube\" class. This is the simulation I hope to use to be able to run quicker simulations. \n",
    "\n",
    "from numpy import rad2deg,deg2rad,pi,sqrt,add,array,average\n",
    "from healpy import ang2vec, newvisufunc\n",
    "import burstutils as bf\n",
    "from random import gauss\n",
    "import statistics as s\n",
    "import matplotlib.pyplot as plt\n",
    "\n",
    "class FastCube():\n",
    "\n",
    "    def __init__(self,background,dettilt,alternating=False):\n",
    "        if alternating == False:\n",
    "            self.tilt = deg2rad(dettilt)\n",
    "            self.tiltA = self.tiltB = self.tiltC = self.tiltD = self.tilt\n",
    "        \n",
    "        else:\n",
    "            self.tiltB = (float(input(\"Please enter the second tilt (deg) \")))\n",
    "            self.tiltB = deg2rad(self.tiltB)\n",
    "            self.tiltC = self.tiltA = deg2rad(dettilt)\n",
    "            self.tiltD = self.tiltB\n",
    "        \n",
    "        self.zenith = [0 , 0]\n",
    "        self.bg = background\n",
    "\n",
    "\n",
    "        \n",
    "    @property\n",
    "    def detA(self):\n",
    "        \"\"\"BurstCube is composed of 4 separate scintillators to detect and localize events. \n",
    "        In this software package, they are labelled A through D. \n",
    "        \"\"\"\n",
    "        return [ self.zenith[0] + self.tiltA , self.zenith[1] ]\n",
    "    @property \n",
    "    def detB(self):\n",
    "        \"\"\"BurstCube is composed of 4 separate scintillators to detect and localize events. \n",
    "        In this software package, they are labelled A through D. \n",
    "        \"\"\"\n",
    "        return [ self.zenith[0] + self.tiltB , self.zenith[1] + pi/2 ]\n",
    "    @property\n",
    "    def detC(self):\n",
    "        \"\"\"BurstCube is composed of 4 separate scintillators to detect and localize events. \n",
    "        In this software package, they are labelled A through D. \n",
    "        \"\"\"\n",
    "        return [ self.zenith[0] + self.tiltC , self.zenith[1] + pi ]\n",
    "    @property \n",
    "    def detD(self):\n",
    "        \"\"\"BurstCube is composed of 4 separate scintillators to detect and localize events. \n",
    "        In this software package, they are labelled A through D. \n",
    "        \"\"\"\n",
    "        return [ self.zenith[0] + self.tiltD , self.zenith[1] + 3*pi/2 ]\n",
    "    @property\n",
    "    def normA(self):\n",
    "        return  ang2vec(self.detA[0],self.detA[1])\n",
    "    @property \n",
    "    def normB(self):\n",
    "        return  ang2vec(self.detB[0],self.detB[1])\n",
    "    @property\n",
    "    def normC(self):\n",
    "        return  ang2vec(self.detC[0],self.detC[1])\n",
    "    @property \n",
    "    def normD(self):\n",
    "        return  ang2vec(self.detD[0],self.detD[1])\n",
    "\n",
    "    \n",
    "    @property\n",
    "    def dets(self):\n",
    "        return [self.normA,self.normB,self.normC,self.normD] \n",
    "    \n",
    "    \n",
    "    \n",
    "    def response2GRB(self, GRB, samples,test=True,talk=False):   #is this how I inherit? \n",
    "\n",
    "    #first need to include the GRB.\n",
    "       \n",
    "        \"\"\"\n",
    "        Using least squares regression, respond2GRB will determine the sky position of an array of GRB sources assuming some inherent background noise within \n",
    "        detectors, along with fluctuations of either Gaussian or Poissonian nature. \n",
    "\n",
    "        Parameters\n",
    "        ----------\n",
    "        GRB : object\n",
    "            An instance of the separately defined \"GRBs\" class that contains a number of evenly spaced sky positions of a given strength. \n",
    "        \n",
    "        test : boolean \n",
    "            For sanity purposes, if the simulation seems to give unrealistic results, switching to test mode allows for much quicker sampling, allowing it easier to spot potential errors. \n",
    "        \n",
    "        \n",
    "\n",
    "        Returns\n",
    "        ----------\n",
    "        localizationerrors : array\n",
    "            numpy array that contains the average localization uncertainty at each sky position. \n",
    "        \n",
    "        Additionally, response2GRB will print the sky position it is currently sampling, along with the average offset of localizations at that spot. \n",
    "        \n",
    "        \"\"\"\n",
    "        \n",
    "        if test:\n",
    "            sample = 1\n",
    "            bottheta = 0\n",
    "            toptheta = 90\n",
    "            botphi = 0 \n",
    "            topphi = 360\n",
    "            botA = 0\n",
    "            topA = 1000\n",
    "            ntheta = 10   #over sky chi points\n",
    "            nphi = 37\n",
    "            nA = 100\n",
    "\n",
    "        else:\n",
    "            sample = len(GRB.sourceangs) \n",
    "            bottheta = 0\n",
    "            toptheta = 90\n",
    "            botphi = 0 \n",
    "            topphi = 360\n",
    "            botA = 400\n",
    "            topA = 1000\n",
    "            ntheta = 31   #over sky chi points\n",
    "            nphi = 120\n",
    "            nA = 12\n",
    "        self.localizationerrors = []    \n",
    "        for i in range(sample):\n",
    "            sourceAng = GRB.sourceangs[i]\n",
    "            if talk:\n",
    "                print(\"Testing \" + str(rad2deg(sourceAng)))\n",
    "           #this check passes.       \n",
    "\n",
    "            \n",
    "           # print(\"Testing at \" + str(np.rad2deg(GRB.sourceangs)))\n",
    "            sourcexyz = ang2vec(sourceAng[0],sourceAng[1]) #cartesian position of the burst\n",
    "            loop = 0 #I'm going to want to sample each sky position more than once,\n",
    "                    #here's where I define how many times that is\n",
    "            locunc = []\n",
    "            while loop<samples:\n",
    "                sepA=bf.angle(sourcexyz,self.normA)\n",
    "                xA = bf.look_up_A(self.normA,sourcexyz)\n",
    "                   # print(\"separation from A is \" + str(np.rad2deg(sepA)))\n",
    "                   #this check passes.  \n",
    "               \n",
    "                dtheoryA=GRB.Ao*bf.response(sepA,xA)  #still need to define strength, brb and gonna do that \n",
    "                     \n",
    "                   # print(\"dtheory test: \" + str(dtheory))\n",
    "                    # this check passes too. \n",
    "                    \n",
    "                countsA = dtheoryA + self.bg\n",
    "                unccountsA = sqrt(countsA)\n",
    "                detactualA = gauss(countsA,unccountsA)  #there is a lot of noise present, updating it now. \n",
    "                if detactualA-self.bg < 0:\n",
    "                    detactualA = self.bg\n",
    "                    \n",
    "                detcountsA = detactualA\n",
    "                \n",
    "                sepB=bf.angle(sourcexyz,self.normB)\n",
    "                xB = bf.look_up_B(self.normB,sourcexyz)\n",
    "\n",
    "                   # print(\"separation from B is \" + str(np.rad2deg(sepB)))\n",
    "                   #this check passes.  \n",
    "               \n",
    "                dtheoryB=GRB.Ao*bf.response(sepB,xB)  \n",
    "                    #still need to define strength, brb and gonna do that \n",
    "\n",
    "                     \n",
    "                   # print(\"dtheory test: \" + str(dtheory))\n",
    "                    # this check passes too. \n",
    "                    \n",
    "                countsB = dtheoryB + self.bg \n",
    "                unccountsB = sqrt(countsB)\n",
    "                detactualB = gauss(countsB,unccountsB)  #there is a lot of noise, present, updating it now. \n",
    "                if detactualB-self.bg < 0:\n",
    "                    detactualB = self.bg\n",
    "                    \n",
    "                detcountsB = detactualB\n",
    "                \n",
    "\n",
    "\n",
    "                sepC=bf.angle(sourcexyz,self.normC)\n",
    "                   # print(\"separation from C is \" + str(np.rad2deg(sepC)))\n",
    "                   #this check passes.  \n",
    "                xC =  bf.look_up_C(self.normC,sourcexyz)\n",
    "                dtheoryC=GRB.Ao*bf.response(sepC,xC)  #still need to define strength, brb and gonna do that \n",
    "                     \n",
    "                   # print(\"dtheory test: \" + str(dtheory))\n",
    "                    # this check passes too. \n",
    "                    \n",
    "                countsC = dtheoryC + self.bg #another artifact, incl this background effect somewhere\n",
    "                unccountsC = sqrt(countsC)\n",
    "                detactualC = gauss(countsC,unccountsC)  #there is a lot of noise, present, updating it now. \n",
    "                if detactualC-self.bg < 0:\n",
    "                    detactualC = self.bg\n",
    "                    \n",
    "                detcountsC = detactualC\n",
    "                \n",
    "                \n",
    "\n",
    "                \n",
    "                sepD=bf.angle(sourcexyz,self.normD)\n",
    "                   # print(\"separation from D is \" + str(np.rad2deg(sepD)))\n",
    "                   #this check passes.  \n",
    "                xD = bf.look_up_D(self.normD,sourcexyz)\n",
    "                dtheoryD=GRB.Ao*bf.response(sepD,xD)  #still need to define strength, brb and gonna do that \n",
    "                     \n",
    "                   # print(\"dtheory test: \" + str(dtheory))\n",
    "                    # this check passes too. \n",
    "                    \n",
    "                countsD = dtheoryD + self.bg #another artifact, incl this background effect somewhere\n",
    "                unccountsD = sqrt(countsD)\n",
    "                detactualD = gauss(countsD,unccountsD)  #there is a lot of noise, present, updating it now. \n",
    "                if detactualD-self.bg < 0:\n",
    "                    detactualD = self.bg\n",
    "                    \n",
    "                detcountsD = detactualD\n",
    "                \n",
    "\n",
    "                \n",
    "                \n",
    "                #coarse to fine optimization\n",
    "                chiA = bf.quad_solver(detcountsA,self.normA,bottheta,toptheta,botphi,topphi,botA,topA,ntheta,nphi,nA,self.bg,A=True)\n",
    "                chiB = bf.quad_solver(detcountsB,self.normB,bottheta,toptheta,botphi,topphi,botA,topA,ntheta,nphi,nA,self.bg,B=True)\n",
    "                chiC = bf.quad_solver(detcountsC,self.normC,bottheta,toptheta,botphi,topphi,botA,topA,ntheta,nphi,nA,self.bg,C=True)\n",
    "                chiD = bf.quad_solver(detcountsD,self.normD,bottheta,toptheta,botphi,topphi,botA,topA,ntheta,nphi,nA,self.bg,D=True)\n",
    "                \n",
    "                chisquared = add(add(chiA,chiB),add(chiC,chiD)) #adds it all up for total chi2\n",
    "                \n",
    "                #print(\"Chi squareds: \" +str(chisquared))\n",
    "                \n",
    "                \n",
    "                thetaloc, philoc, Aguess = bf.indexer(chisquared,bottheta,toptheta,botphi,topphi,botA,topA,ntheta,nphi,nA)\n",
    "                recvec = ang2vec(deg2rad(thetaloc),deg2rad(philoc))\n",
    "                locoffset = rad2deg(bf.angle(sourcexyz,recvec))\n",
    "               # print(\"Loc offset = \" + str(locoffset) + \" deg\")\n",
    "                \n",
    "                locunc.append(locoffset)\n",
    "                loop +=1\n",
    "            if talk:\n",
    "                print(\"Avg loc offset = \" + str(average(locunc)) + \" deg.\")\n",
    "\n",
    "            self.localizationerrors.append(s.mean(locunc))\n",
    "        return self.localizationerrors\n",
    "\n",
    "\n",
    "    def plotSkymap(self,skyvals):\n",
    "        im = array(skyvals)\n",
    "        newvisufunc.mollview(im,min=0, max=15,unit='Localization Accurary (degrees)',graticule=True,graticule_labels=True)\n",
    "        plt.title('All Sky Localization Uncertainty for BurstCube set as ' + str(rad2deg(self.tilt)) + ' deg')  #should add something about design too! \n",
    "\n",
    "        plt.show()"
   ]
  },
  {
   "cell_type": "code",
   "execution_count": 2,
   "metadata": {
    "collapsed": true
   },
   "outputs": [],
   "source": [
    "import GRBgenerator\n",
    "sky = GRB generator.Sky(NSIDE=4,strength=500)\n",
    "\n",
    "cube1 = FastCube(dettilt=45,background=1000)"
   ]
  },
  {
   "cell_type": "code",
   "execution_count": null,
   "metadata": {},
   "outputs": [
    {
     "name": "stdout",
     "output_type": "stream",
     "text": [
      "Testing [11.71585239 45.        ]\n",
      "Avg loc offset = 7.927705673894252 deg.\n",
      "Testing [ 11.71585239 135.        ]\n",
      "Avg loc offset = 8.514901267835965 deg.\n",
      "Testing [ 11.71585239 225.        ]\n",
      "Avg loc offset = 6.998397699058162 deg.\n",
      "Testing [ 11.71585239 315.        ]\n",
      "Avg loc offset = 7.765579825619296 deg.\n",
      "Testing [23.55646431 22.5       ]\n",
      "Avg loc offset = 9.018142239651258 deg.\n",
      "Testing [23.55646431 67.5       ]\n",
      "Avg loc offset = 5.329880865836365 deg.\n",
      "Testing [ 23.55646431 112.5       ]\n",
      "Avg loc offset = 4.9176993161561615 deg.\n",
      "Testing [ 23.55646431 157.5       ]\n",
      "Avg loc offset = 7.843576630882966 deg.\n",
      "Testing [ 23.55646431 202.5       ]\n"
     ]
    }
   ],
   "source": [
    "cube1.response2GRB(GRB=sky,samples=10,test=False,talk=True)"
   ]
  },
  {
   "cell_type": "code",
   "execution_count": null,
   "metadata": {
    "collapsed": true
   },
   "outputs": [],
   "source": []
  },
  {
   "cell_type": "code",
   "execution_count": null,
   "metadata": {
    "collapsed": true
   },
   "outputs": [],
   "source": [
    "%debug"
   ]
  },
  {
   "cell_type": "markdown",
   "metadata": {},
   "source": [
    "What still needs to be done:\n",
    "\n",
    "Quad solvers all need to be refactored\n",
    "There's a unique response function designed for array inputs, it needs to use the lookup table inside the chi squared solver where chisource xyz is the input in it and it'll figure out what response to use for each spot."
   ]
  },
  {
   "cell_type": "code",
   "execution_count": null,
   "metadata": {
    "collapsed": true
   },
   "outputs": [],
   "source": [
    "import burstutils as b"
   ]
  },
  {
   "cell_type": "code",
   "execution_count": null,
   "metadata": {
    "collapsed": true
   },
   "outputs": [],
   "source": [
    "b.look_up_A([[0,0,1],[0,0,1]],[[0,0,1],[0,0,1]])"
   ]
  },
  {
   "cell_type": "code",
   "execution_count": null,
   "metadata": {
    "collapsed": true
   },
   "outputs": [],
   "source": [
    "eh = [[0,0,1],[0,0,1],[0,0,1],[0,0,1]]\n",
    "hehe = [0.1,2,3]"
   ]
  },
  {
   "cell_type": "code",
   "execution_count": null,
   "metadata": {
    "collapsed": true
   },
   "outputs": [],
   "source": [
    "np.shape(hehe)[0]"
   ]
  },
  {
   "cell_type": "code",
   "execution_count": null,
   "metadata": {
    "collapsed": true
   },
   "outputs": [],
   "source": [
    "import numpy as np"
   ]
  },
  {
   "cell_type": "code",
   "execution_count": null,
   "metadata": {
    "collapsed": true
   },
   "outputs": [],
   "source": [
    "len(eh)"
   ]
  },
  {
   "cell_type": "code",
   "execution_count": null,
   "metadata": {
    "collapsed": true
   },
   "outputs": [],
   "source": []
  },
  {
   "cell_type": "code",
   "execution_count": null,
   "metadata": {
    "collapsed": true
   },
   "outputs": [],
   "source": [
    "(type(np.array([])))"
   ]
  },
  {
   "cell_type": "code",
   "execution_count": null,
   "metadata": {
    "collapsed": true
   },
   "outputs": [],
   "source": [
    "type(type(eh))"
   ]
  },
  {
   "cell_type": "code",
   "execution_count": null,
   "metadata": {
    "collapsed": true
   },
   "outputs": [],
   "source": [
    "import numpy as np\n",
    "import matplotlib.pyplot as plt"
   ]
  }
 ],
 "metadata": {
  "kernelspec": {
   "display_name": "Python 3",
   "language": "python",
   "name": "python3"
  },
  "language_info": {
   "codemirror_mode": {
    "name": "ipython",
    "version": 3
   },
   "file_extension": ".py",
   "mimetype": "text/x-python",
   "name": "python",
   "nbconvert_exporter": "python",
   "pygments_lexer": "ipython3",
   "version": "3.6.1"
  }
 },
 "nbformat": 4,
 "nbformat_minor": 2
}
