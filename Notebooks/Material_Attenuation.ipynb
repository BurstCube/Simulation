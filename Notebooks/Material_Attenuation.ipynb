{
 "cells": [
  {
   "cell_type": "code",
   "execution_count": 1,
   "metadata": {
    "collapsed": false,
    "deletable": true,
    "editable": true
   },
   "outputs": [],
   "source": [
    "%matplotlib inline\n",
    "import matplotlib.pyplot as plt\n",
    "import numpy as np"
   ]
  },
  {
   "cell_type": "markdown",
   "metadata": {
    "deletable": true,
    "editable": true
   },
   "source": [
    "# Aluminum that's 0.1 inch thick"
   ]
  },
  {
   "cell_type": "code",
   "execution_count": 2,
   "metadata": {
    "collapsed": false,
    "deletable": true,
    "editable": true
   },
   "outputs": [],
   "source": [
    "mu_al = np.genfromtxt('mass_coeff_al.txt')"
   ]
  },
  {
   "cell_type": "code",
   "execution_count": 3,
   "metadata": {
    "collapsed": false,
    "deletable": true,
    "editable": true
   },
   "outputs": [
    {
     "data": {
      "text/plain": [
       "[<matplotlib.lines.Line2D at 0x1035b5668>]"
      ]
     },
     "execution_count": 3,
     "metadata": {},
     "output_type": "execute_result"
    },
    {
     "data": {
      "image/png": "[encoded data removed]",
      "text/plain": [
       "<matplotlib.figure.Figure at 0x10359b710>"
      ]
     },
     "metadata": {},
     "output_type": "display_data"
    }
   ],
   "source": [
    "plt.loglog(mu_al[:,0],mu_al[:,1])"
   ]
  },
  {
   "cell_type": "code",
   "execution_count": 4,
   "metadata": {
    "collapsed": false,
    "deletable": true,
    "editable": true
   },
   "outputs": [],
   "source": [
    "ro_al = 2.70\n",
    "l_al = 0.01"
   ]
  },
  {
   "cell_type": "code",
   "execution_count": 5,
   "metadata": {
    "collapsed": false,
    "deletable": true,
    "editable": true
   },
   "outputs": [],
   "source": [
    "I_al = np.exp(-1*mu_al[:,1]*ro_al*l_al)"
   ]
  },
  {
   "cell_type": "code",
   "execution_count": 6,
   "metadata": {
    "collapsed": false,
    "deletable": true,
    "editable": true
   },
   "outputs": [
    {
     "data": {
      "text/plain": [
       "(50.0, 0.99011052566416502)"
      ]
     },
     "execution_count": 6,
     "metadata": {},
     "output_type": "execute_result"
    }
   ],
   "source": [
    "(mu_al[:,0]*1000.)[15],I_al[15]"
   ]
  },
  {
   "cell_type": "code",
   "execution_count": 7,
   "metadata": {
    "collapsed": false,
    "deletable": true,
    "editable": true
   },
   "outputs": [
    {
     "data": {
      "image/png": "[encoded data removed]",
      "text/plain": [
       "<matplotlib.figure.Figure at 0x1038a7cf8>"
      ]
     },
     "metadata": {},
     "output_type": "display_data"
    }
   ],
   "source": [
    "plt.loglog(mu_al[:,0]*1000.,I_al)\n",
    "plt.ylim((1e-10,10))\n",
    "plt.xlim((1,500))\n",
    "plt.axvline(x=50,ymin=1e-10,ymax=10)\n",
    "plt.xlabel('Energy [keV]')\n",
    "plt.ylabel('Percent Attenuation')\n",
    "plt.show()"
   ]
  },
  {
   "cell_type": "code",
   "execution_count": 8,
   "metadata": {
    "collapsed": false,
    "deletable": true,
    "editable": true
   },
   "outputs": [
    {
     "data": {
      "image/png": "[encoded data removed]",
      "text/plain": [
       "<matplotlib.figure.Figure at 0x103adcc50>"
      ]
     },
     "metadata": {},
     "output_type": "display_data"
    }
   ],
   "source": [
    "plt.loglog(mu_al[:,0]*1000.,I_al)\n",
    "plt.ylim((1e-1,2))\n",
    "plt.xlim((10,100))\n",
    "plt.axvline(x=50,ymin=1e-10,ymax=10)\n",
    "plt.xlabel('Energy [keV]')\n",
    "plt.ylabel('Percent Attenuation')\n",
    "plt.show()"
   ]
  },
  {
   "cell_type": "markdown",
   "metadata": {
    "deletable": true,
    "editable": true
   },
   "source": [
    "# Galium that's 0.07 cm thick (GaAs Solar Panel)"
   ]
  },
  {
   "cell_type": "code",
   "execution_count": 9,
   "metadata": {
    "collapsed": false,
    "deletable": true,
    "editable": true
   },
   "outputs": [],
   "source": [
    "mu_ga = np.genfromtxt('mass_coeff_ga.txt') "
   ]
  },
  {
   "cell_type": "code",
   "execution_count": 10,
   "metadata": {
    "collapsed": false,
    "deletable": true,
    "editable": true
   },
   "outputs": [],
   "source": [
    "ro_ga = 5.91\n",
    "l_ga = 0.07"
   ]
  },
  {
   "cell_type": "code",
   "execution_count": 11,
   "metadata": {
    "collapsed": false,
    "deletable": true,
    "editable": true
   },
   "outputs": [],
   "source": [
    "I_ga = np.exp(-1*mu_ga[:,1]*ro_ga*l_ga)"
   ]
  },
  {
   "cell_type": "code",
   "execution_count": 12,
   "metadata": {
    "collapsed": false,
    "deletable": true,
    "editable": true
   },
   "outputs": [
    {
     "data": {
      "text/plain": [
       "(50.0, 0.28011887845633821)"
      ]
     },
     "execution_count": 12,
     "metadata": {},
     "output_type": "execute_result"
    }
   ],
   "source": [
    "(mu_ga[:,0]*1000.)[24],I_ga[24]"
   ]
  },
  {
   "cell_type": "code",
   "execution_count": 13,
   "metadata": {
    "collapsed": false,
    "deletable": true,
    "editable": true
   },
   "outputs": [
    {
     "data": {
      "text/plain": [
       "<matplotlib.text.Text at 0x103674550>"
      ]
     },
     "execution_count": 13,
     "metadata": {},
     "output_type": "execute_result"
    },
    {
     "data": {
      "image/png": "[encoded data removed]",
      "text/plain": [
       "<matplotlib.figure.Figure at 0x103d225f8>"
      ]
     },
     "metadata": {},
     "output_type": "display_data"
    }
   ],
   "source": [
    "plt.loglog(mu_ga[:,0]*1000.,I_ga)\n",
    "plt.ylim((1e-1,2))\n",
    "plt.xlim((50,100))\n",
    "plt.axvline(x=50,ymin=1e-10,ymax=10)\n",
    "plt.xlabel('Energy [keV]')\n",
    "plt.ylabel('Percent Attenuation')"
   ]
  },
  {
   "cell_type": "code",
   "execution_count": 14,
   "metadata": {
    "collapsed": false,
    "deletable": true,
    "editable": true
   },
   "outputs": [
    {
     "data": {
      "text/plain": [
       "[<matplotlib.lines.Line2D at 0x1036e1400>]"
      ]
     },
     "execution_count": 14,
     "metadata": {},
     "output_type": "execute_result"
    },
    {
     "data": {
      "image/png": "[encoded data removed]",
      "text/plain": [
       "<matplotlib.figure.Figure at 0x103c7bb00>"
      ]
     },
     "metadata": {},
     "output_type": "display_data"
    }
   ],
   "source": [
    "plt.loglog(mu_ga[:,0]*1000.,mu_ga[:,1])"
   ]
  },
  {
   "cell_type": "markdown",
   "metadata": {
    "deletable": true,
    "editable": true
   },
   "source": [
    "#Aluminum that's 0.07 cm thick (aluminum substrate)"
   ]
  },
  {
   "cell_type": "code",
   "execution_count": 15,
   "metadata": {
    "collapsed": false,
    "deletable": true,
    "editable": true
   },
   "outputs": [],
   "source": [
    "l_al_2 = 0.07"
   ]
  },
  {
   "cell_type": "code",
   "execution_count": 16,
   "metadata": {
    "collapsed": false,
    "deletable": true,
    "editable": true
   },
   "outputs": [],
   "source": [
    "I_al_2 = np.exp(-1*mu_al[:,1]*ro_al*l_al_2)"
   ]
  },
  {
   "cell_type": "code",
   "execution_count": 17,
   "metadata": {
    "collapsed": false,
    "deletable": true,
    "editable": true
   },
   "outputs": [
    {
     "data": {
      "image/png": "[encoded data removed]",
      "text/plain": [
       "<matplotlib.figure.Figure at 0x103f353c8>"
      ]
     },
     "metadata": {},
     "output_type": "display_data"
    }
   ],
   "source": [
    "plt.loglog(mu_al[:,0]*1000.,I_al_2)\n",
    "plt.ylim((1e-10,10))\n",
    "plt.xlim((10,500))\n",
    "plt.axvline(x=50,ymin=1e-10,ymax=10)\n",
    "plt.xlabel('Energy [keV]')\n",
    "plt.ylabel('Percent Attenuation')\n",
    "plt.show()"
   ]
  },
  {
   "cell_type": "code",
   "execution_count": 18,
   "metadata": {
    "collapsed": false,
    "deletable": true,
    "editable": true
   },
   "outputs": [
    {
     "data": {
      "text/plain": [
       "(50.0, 0.93279399594569889)"
      ]
     },
     "execution_count": 18,
     "metadata": {},
     "output_type": "execute_result"
    }
   ],
   "source": [
    "(mu_al[:,0]*1000)[15],I_al_2[15]"
   ]
  },
  {
   "cell_type": "markdown",
   "metadata": {
    "deletable": true,
    "editable": true
   },
   "source": [
    "#Germanium Substrate that's 0.04 cm thick"
   ]
  },
  {
   "cell_type": "code",
   "execution_count": 19,
   "metadata": {
    "collapsed": false,
    "deletable": true,
    "editable": true
   },
   "outputs": [],
   "source": [
    "ro_ge = 5.323"
   ]
  },
  {
   "cell_type": "code",
   "execution_count": 20,
   "metadata": {
    "collapsed": false,
    "deletable": true,
    "editable": true
   },
   "outputs": [],
   "source": [
    "mu_ge = np.genfromtxt('mass_coeff_ge.txt')"
   ]
  },
  {
   "cell_type": "code",
   "execution_count": 21,
   "metadata": {
    "collapsed": false,
    "deletable": true,
    "editable": true
   },
   "outputs": [],
   "source": [
    "I_ge = np.exp(-1*mu_ge[:,1]*ro_ge*0.04)"
   ]
  },
  {
   "cell_type": "code",
   "execution_count": 22,
   "metadata": {
    "collapsed": false,
    "deletable": true,
    "editable": true
   },
   "outputs": [
    {
     "data": {
      "text/plain": [
       "(50.0, 0.4916008363550019)"
      ]
     },
     "execution_count": 22,
     "metadata": {},
     "output_type": "execute_result"
    }
   ],
   "source": [
    "(mu_ge[:,0]*1000)[24],I_ge[24]"
   ]
  },
  {
   "cell_type": "code",
   "execution_count": 23,
   "metadata": {
    "collapsed": false,
    "deletable": true,
    "editable": true
   },
   "outputs": [
    {
     "data": {
      "image/png": "[encoded data removed]",
      "text/plain": [
       "<matplotlib.figure.Figure at 0x10402aac8>"
      ]
     },
     "metadata": {},
     "output_type": "display_data"
    }
   ],
   "source": [
    "plt.loglog(mu_ge[:,0]*1000.,I_ge)\n",
    "plt.ylim((1e-1,2))\n",
    "plt.xlim((10,500))\n",
    "plt.axvline(x=50,ymin=1e-10,ymax=10)\n",
    "plt.xlabel('Energy [keV]')\n",
    "plt.ylabel('Percent Attenuation')\n",
    "plt.show()"
   ]
  },
  {
   "cell_type": "markdown",
   "metadata": {
    "deletable": true,
    "editable": true
   },
   "source": [
    "# 4 microns Ga and the rest is Al"
   ]
  },
  {
   "cell_type": "code",
   "execution_count": 24,
   "metadata": {
    "collapsed": false,
    "deletable": true,
    "editable": true
   },
   "outputs": [],
   "source": [
    "l_ga = 0.0004\n",
    "l_al = 0.07 - l_ga"
   ]
  },
  {
   "cell_type": "code",
   "execution_count": 25,
   "metadata": {
    "collapsed": false,
    "deletable": true,
    "editable": true
   },
   "outputs": [],
   "source": [
    "I_al = np.exp(-1*mu_al[:,1]*ro_al*l_al)\n",
    "I_ga = np.exp(-1*mu_ga[:,1]*ro_ga*l_ga)"
   ]
  },
  {
   "cell_type": "code",
   "execution_count": 26,
   "metadata": {
    "collapsed": false,
    "deletable": true,
    "editable": true
   },
   "outputs": [
    {
     "data": {
      "image/png": "[encoded data removed]",
      "text/plain": [
       "<matplotlib.figure.Figure at 0x103f66a90>"
      ]
     },
     "metadata": {},
     "output_type": "display_data"
    }
   ],
   "source": [
    "plt.loglog(mu_ga[:,0]*1000.,I_ga)\n",
    "plt.loglog(mu_al[:,0]*1000.,I_al)\n",
    "plt.ylim((1e-1,2))\n",
    "plt.xlim((2,100))\n",
    "plt.axvline(x=50,ymin=1e-10,ymax=10)\n",
    "plt.xlabel('Energy [keV]')\n",
    "plt.ylabel('Percent Attenuation')\n",
    "plt.show()"
   ]
  },
  {
   "cell_type": "code",
   "execution_count": 27,
   "metadata": {
    "collapsed": false,
    "deletable": true,
    "editable": true
   },
   "outputs": [
    {
     "data": {
      "text/plain": [
       "47"
      ]
     },
     "execution_count": 27,
     "metadata": {},
     "output_type": "execute_result"
    }
   ],
   "source": [
    "len(mu_ga[:,0])"
   ]
  },
  {
   "cell_type": "code",
   "execution_count": 28,
   "metadata": {
    "collapsed": false,
    "deletable": true,
    "editable": true
   },
   "outputs": [
    {
     "ename": "SyntaxError",
     "evalue": "Missing parentheses in call to 'print' (<ipython-input-28-b403df2f1f66>, line 2)",
     "output_type": "error",
     "traceback": [
      "\u001b[0;36m  File \u001b[0;32m\"<ipython-input-28-b403df2f1f66>\"\u001b[0;36m, line \u001b[0;32m2\u001b[0m\n\u001b[0;31m    print e, I_ga[i]\u001b[0m\n\u001b[0m          ^\u001b[0m\n\u001b[0;31mSyntaxError\u001b[0m\u001b[0;31m:\u001b[0m Missing parentheses in call to 'print'\n"
     ]
    }
   ],
   "source": [
    "for i,e in enumerate(mu_ga[:,0]*1000.):\n",
    "    print e, I_ga[i]"
   ]
  },
  {
   "cell_type": "code",
   "execution_count": 29,
   "metadata": {
    "collapsed": false,
    "deletable": true,
    "editable": true
   },
   "outputs": [
    {
     "ename": "SyntaxError",
     "evalue": "Missing parentheses in call to 'print' (<ipython-input-29-836c3a46c83c>, line 2)",
     "output_type": "error",
     "traceback": [
      "\u001b[0;36m  File \u001b[0;32m\"<ipython-input-29-836c3a46c83c>\"\u001b[0;36m, line \u001b[0;32m2\u001b[0m\n\u001b[0;31m    print e, I_al[i]\u001b[0m\n\u001b[0m          ^\u001b[0m\n\u001b[0;31mSyntaxError\u001b[0m\u001b[0;31m:\u001b[0m Missing parentheses in call to 'print'\n"
     ]
    }
   ],
   "source": [
    "for i,e in enumerate(mu_al[:,0]*1000.):\n",
    "    print e, I_al[i]"
   ]
  },
  {
   "cell_type": "markdown",
   "metadata": {
    "collapsed": false,
    "deletable": true,
    "editable": true
   },
   "source": [
    "# Carbon (Fiber?) that's 5cm thick"
   ]
  },
  {
   "cell_type": "code",
   "execution_count": 30,
   "metadata": {
    "collapsed": true,
    "deletable": true,
    "editable": true
   },
   "outputs": [],
   "source": [
    "mu_c = np.genfromtxt('mass_coeff_c.txt')"
   ]
  },
  {
   "cell_type": "code",
   "execution_count": 31,
   "metadata": {
    "collapsed": true,
    "deletable": true,
    "editable": true
   },
   "outputs": [],
   "source": [
    "ro_c = 2.267\n",
    "l_c = 5.0"
   ]
  },
  {
   "cell_type": "code",
   "execution_count": 32,
   "metadata": {
    "collapsed": true,
    "deletable": true,
    "editable": true
   },
   "outputs": [],
   "source": [
    "I_c = np.exp(-1*mu_c[:,1]*ro_c*l_c)"
   ]
  },
  {
   "cell_type": "code",
   "execution_count": 34,
   "metadata": {
    "collapsed": false,
    "deletable": true,
    "editable": true
   },
   "outputs": [
    {
     "data": {
      "image/png": "[encoded data removed]",
      "text/plain": [
       "<matplotlib.figure.Figure at 0x104318d30>"
      ]
     },
     "metadata": {},
     "output_type": "display_data"
    }
   ],
   "source": [
    "plt.figure(figsize=(16,9))\n",
    "plt.loglog(mu_c[:,0]*1000.,I_c)\n",
    "plt.ylim((1e-4,10))\n",
    "plt.xlim((10,3e4))\n",
    "#plt.axvline(x=50,ymin=1e-10,ymax=10)\n",
    "plt.xlabel('Energy [keV]')\n",
    "plt.ylabel('Percent Attenuation')\n",
    "plt.show()"
   ]
  },
  {
   "cell_type": "code",
   "execution_count": 11,
   "metadata": {
    "collapsed": false,
    "deletable": true,
    "editable": true
   },
   "outputs": [
    {
     "data": {
      "text/plain": [
       "array([  0.00000000e+000,   0.00000000e+000,   1.19262614e-298,\n",
       "         1.16411749e-089,   6.36601404e-038,   1.49791893e-019,\n",
       "         1.65663100e-011,   3.12406008e-005,   4.60970691e-003,\n",
       "         1.60462389e-001,   3.67139278e-001,   5.59447606e-001,\n",
       "         6.24609141e-001,   6.54321996e-001,   6.72061718e-001,\n",
       "         6.94205675e-001,   7.09479412e-001,   7.36854447e-001,\n",
       "         7.56831757e-001,   7.85321414e-001,   8.05406774e-001,\n",
       "         8.20723468e-001,   8.33038966e-001,   8.51791994e-001,\n",
       "         8.65711238e-001,   8.78980734e-001,   8.89222379e-001,\n",
       "         9.04204127e-001,   9.22423771e-001,   9.33256226e-001,\n",
       "         9.40456052e-001,   9.45565394e-001,   9.52341890e-001,\n",
       "         9.56561180e-001,   9.62237805e-001,   9.64924663e-001])"
      ]
     },
     "execution_count": 11,
     "metadata": {},
     "output_type": "execute_result"
    }
   ],
   "source": [
    "I_c"
   ]
  },
  {
   "cell_type": "code",
   "execution_count": 13,
   "metadata": {
    "collapsed": false,
    "deletable": true,
    "editable": true
   },
   "outputs": [
    {
     "data": {
      "text/plain": [
       "array([  1.00000000e+00,   1.50000000e+00,   2.00000000e+00,\n",
       "         3.00000000e+00,   4.00000000e+00,   5.00000000e+00,\n",
       "         6.00000000e+00,   8.00000000e+00,   1.00000000e+01,\n",
       "         1.50000000e+01,   2.00000000e+01,   3.00000000e+01,\n",
       "         4.00000000e+01,   5.00000000e+01,   6.00000000e+01,\n",
       "         8.00000000e+01,   1.00000000e+02,   1.50000000e+02,\n",
       "         2.00000000e+02,   3.00000000e+02,   4.00000000e+02,\n",
       "         5.00000000e+02,   6.00000000e+02,   8.00000000e+02,\n",
       "         1.00000000e+03,   1.25000000e+03,   1.50000000e+03,\n",
       "         2.00000000e+03,   3.00000000e+03,   4.00000000e+03,\n",
       "         5.00000000e+03,   6.00000000e+03,   8.00000000e+03,\n",
       "         1.00000000e+04,   1.50000000e+04,   2.00000000e+04])"
      ]
     },
     "execution_count": 13,
     "metadata": {},
     "output_type": "execute_result"
    }
   ],
   "source": [
    "mu_c[:,0]*1000"
   ]
  },
  {
   "cell_type": "code",
   "execution_count": null,
   "metadata": {
    "collapsed": true,
    "deletable": true,
    "editable": true
   },
   "outputs": [],
   "source": []
  }
 ],
 "metadata": {
  "kernelspec": {
   "display_name": "Python 3",
   "language": "python",
   "name": "python3"
  },
  "language_info": {
   "codemirror_mode": {
    "name": "ipython",
    "version": 3
   },
   "file_extension": ".py",
   "mimetype": "text/x-python",
   "name": "python",
   "nbconvert_exporter": "python",
   "pygments_lexer": "ipython3",
   "version": "3.6.1"
  }
 },
 "nbformat": 4,
 "nbformat_minor": 0
}
