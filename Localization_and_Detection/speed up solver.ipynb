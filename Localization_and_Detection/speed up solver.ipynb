{
 "cells": [
  {
   "cell_type": "code",
   "execution_count": 5,
   "metadata": {
    "collapsed": true
   },
   "outputs": [],
   "source": [
    "import healpy as hp\n",
    "import numpy as np\n",
    "import burstutils\n",
    "import random as rand\n",
    "import statistics as s\n"
   ]
  },
  {
   "cell_type": "markdown",
   "metadata": {},
   "source": [
    "This is my workspace where I'm experimenting with the class functions before I end up transferring it into the py version. Some of the things I still need to do while here is:\n",
    "\n",
    "\n",
    "Documentation\n",
    "\n",
    "Random gauss vs poisson\n",
    "\n",
    "Importing modules \n",
    "\n",
    " adding skymaps. \n",
    " \n",
    " \n",
    " Updating how classes are defined (input really best approach?) "
   ]
  },
  {
   "cell_type": "markdown",
   "metadata": {},
   "source": [
    "After redefining classes, build up BurstCube class so that it runs the entire sim! call on module that contains all the functions, length, angle, sep, etc. Should be easiest this way"
   ]
  },
  {
   "cell_type": "code",
   "execution_count": 1,
   "metadata": {
    "collapsed": true
   },
   "outputs": [],
   "source": [
    "class GRBs():\n",
    "   #this produces an error, deal with soon!\n",
    "    \"\"\"\n",
    "    Generates an array of GRB's given \n",
    "    certains strength at different sky positions.\n",
    "    \n",
    "    Output should be an array. \n",
    "    \"\"\"\n",
    "    \n",
    "  #  import numpy as np\n",
    "   # import healpy as hp\n",
    "    def __init__(self,NSIDE,strength):\n",
    "        from healpy import nside2npix\n",
    "        from healpy import pix2ang\n",
    "        #depending on NSIDE, there will be anywhere from 12 to infinite spots on the sky w/ GRBs\n",
    "        self.Ao = strength\n",
    "        self.pixels = nside2npix(NSIDE)\n",
    "\n",
    "        #want to convert these pixels into theta phi coords. \n",
    "        self.sourceangs = []\n",
    "        for i in range(self.pixels):\n",
    "            self.sourceangs.append(pix2ang(NSIDE,i))\n",
    "\n",
    "    def say_Ao(self):\n",
    "        print(\"The GRBs being tested will be \" + str(self.Ao) + \" counts strong.\")\n",
    "        \n",
    "            "
   ]
  },
  {
   "cell_type": "code",
   "execution_count": 2,
   "metadata": {
    "collapsed": true
   },
   "outputs": [],
   "source": [
    "GRB = GRBs(4,500)"
   ]
  },
  {
   "cell_type": "code",
   "execution_count": 3,
   "metadata": {},
   "outputs": [
    {
     "data": {
      "text/plain": [
       "192"
      ]
     },
     "execution_count": 3,
     "metadata": {},
     "output_type": "execute_result"
    }
   ],
   "source": [
    "GRB.pixels"
   ]
  },
  {
   "cell_type": "code",
   "execution_count": 4,
   "metadata": {},
   "outputs": [
    {
     "name": "stdout",
     "output_type": "stream",
     "text": [
      "The GRBs being tested will be 500 counts strong.\n"
     ]
    }
   ],
   "source": [
    "GRB.say_Ao()"
   ]
  },
  {
   "cell_type": "code",
   "execution_count": null,
   "metadata": {
    "collapsed": true
   },
   "outputs": [],
   "source": []
  },
  {
   "cell_type": "code",
   "execution_count": 5,
   "metadata": {
    "collapsed": true
   },
   "outputs": [],
   "source": [
    "class BurstCube():\n",
    "\n",
    "    def __init__(self,background):\n",
    "        import numpy as np\n",
    "        import healpy as hp\n",
    "        import burstfuncs as bf\n",
    "        self.zenith = [0 , 0]\n",
    "        self.bg = background\n",
    "        test = input(\"Are the detectors alternating? \")\n",
    "        if test == \"yes\" or test == \"Yes\" or test == \"y\" or test == \"asdlfkjawe\":           \n",
    "            self.tiltA = np.deg2rad(float(input(\"Please enter the first tilt (deg) \")))\n",
    "            self.tiltB = np.deg2rad(float(input(\"Please enter the second tilt (deg) \")))\n",
    "            self.tiltC = self.tiltA\n",
    "            self.tiltD = self.tiltB\n",
    "        else:\n",
    "            self.tilt = np.deg2rad(float(input(\"Please enter the tilt (deg) \")))\n",
    "            self.tiltA = self.tiltB = self.tiltC = self.tiltD = self.tilt\n",
    "            \n",
    "    \n",
    "    #make the normal vectors!\n",
    "        #self.detA = [ zenith[0] + self.tiltA , zenith[1] ] \n",
    "        #self.detB = [ zenith[0] + self.tiltB , zenith[1] + np.pi/2 ] \n",
    "       # self.detC = [ zenith[0] + self.tiltC , zenith[1] + np.pi ] \n",
    "        #self.detD = [ zenith[0] + self.tiltD , zenith[1] + 3*np.pi/2 ] \n",
    "\n",
    "        #self.Anorm = hp.ang2vec(self.detA[0],self.detA[1])\n",
    "        #self.Bnorm = hp.ang2vec(self.detB[0],self.detB[1])\n",
    "        #self.Cnorm = hp.ang2vec(self.detC[0],self.detC[1])\n",
    "        #self.Dnorm = hp.ang2vec(self.detD[0],self.detD[1])\n",
    "\n",
    "    \n",
    "       # self.dets = [self.Anorm,self.Bnorm,self.Cnorm,self.Dnorm] \n",
    "        \n",
    "    @property\n",
    "    def detA(self):\n",
    "        \"\"\"BurstCube is composed of 4 separate scintillators to detect and localize events. \n",
    "        In this software package, they are labelled A through D. \n",
    "        \"\"\"\n",
    "        return [ self.zenith[0] + self.tiltA , self.zenith[1] ]\n",
    "    @property \n",
    "    def detB(self):\n",
    "        \"\"\"BurstCube is composed of 4 separate scintillators to detect and localize events. \n",
    "        In this software package, they are labelled A through D. \n",
    "        \"\"\"\n",
    "        return [ self.zenith[0] + self.tiltB , self.zenith[1] + np.pi/2 ]\n",
    "    @property\n",
    "    def detC(self):\n",
    "        \"\"\"BurstCube is composed of 4 separate scintillators to detect and localize events. \n",
    "        In this software package, they are labelled A through D. \n",
    "        \"\"\"\n",
    "        return [ self.zenith[0] + self.tiltC , self.zenith[1] + np.pi]\n",
    "    @property \n",
    "    def detD(self):\n",
    "        \"\"\"BurstCube is composed of 4 separate scintillators to detect and localize events. \n",
    "        In this software package, they are labelled A through D. \n",
    "        \"\"\"\n",
    "        return [ self.zenith[0] + self.tiltD , self.zenith[1] + 3*np.pi/2 ]\n",
    "    @property\n",
    "    def normA(self):\n",
    "        return  hp.ang2vec(self.detA[0],self.detA[1])\n",
    "    @property \n",
    "    def normB(self):\n",
    "        return  hp.ang2vec(self.detB[0],self.detB[1])\n",
    "    @property\n",
    "    def normC(self):\n",
    "        return  hp.ang2vec(self.detC[0],self.detC[1])\n",
    "    @property \n",
    "    def normD(self):\n",
    "        return  hp.ang2vec(self.detD[0],self.detD[1])\n",
    "\n",
    "    \n",
    "    @property\n",
    "    def dets(self):\n",
    "        return [self.normA,self.normB,self.normC,self.normD] \n",
    "    \n",
    "    \n",
    "    \n",
    "    def response2GRB(self, GRB):   #is this how I inherit? \n",
    "        #first need to include the GRB.\n",
    "       \n",
    "        \"\"\"\n",
    "        Using least squares regression, respond2GRB will determine the sky position of an array of GRB sources assuming some inherent background noise within \n",
    "        detectors, along with fluctuations of either Gaussian or Poissonian nature. \n",
    "\n",
    "        Parameters\n",
    "        ----------\n",
    "        GRB : object\n",
    "        \n",
    "        An instance of the separately defined \"GRBs\" class that contains a number of evenly spaced sky positions of a given strength. \n",
    "\n",
    "        Returns\n",
    "        ----------\n",
    "        localizationerrors : array\n",
    "\n",
    "        numpy array that contains the average localization uncertainty at each sky position. \n",
    "\n",
    "        \n",
    "        \"\"\"\n",
    "        \n",
    "        self.localizationerrors = []    \n",
    "        for i in range(len(GRB.sourceangs)):\n",
    "            sourceAng = GRB.sourceangs[i]\n",
    "            print(\"Testing \" + str(np.rad2deg(sourceAng)))\n",
    "           #this check passes.       \n",
    "\n",
    "            \n",
    "           # print(\"Testing at \" + str(np.rad2deg(GRB.sourceangs)))\n",
    "            sourcexyz = hp.ang2vec(sourceAng[0],sourceAng[1]) #cartesian position of the burst\n",
    "            loop = 0 #I'm going to want to sample each sky position more than once,\n",
    "                    #here's where I define how many times that is\n",
    "            locunc = []\n",
    "            while loop<5:\n",
    "                detcounts = []  #number of counts incident in each detector. \n",
    "                for j in range(len(self.dets)):\n",
    "                    sep=bf.angle(sourcexyz,self.dets[j])\n",
    "                   # print(\"separation is \" + str(np.rad2deg(sep)))\n",
    "                   #this check passes.  \n",
    "               \n",
    "                    if sep < np.pi/2: # meaning if >90, would not be facing detector.\n",
    "                        dtheory=GRB.Ao*bf.response(sourcexyz,self.dets[j])  #still need to define strength, brb and gonna do that \n",
    "                    else: #like I was saying, has to face it!\n",
    "                        dtheory = 0 \n",
    "                     \n",
    "                   # print(\"dtheory test: \" + str(dtheory))\n",
    "                    # this check passes too. \n",
    "                    \n",
    "                    counts = dtheory + self.bg #another artifact, incl this background effect somewhere\n",
    "                    unccounts = np.sqrt(counts)\n",
    "                    detactual = rand.gauss(counts,unccounts)  #there is a lot of noise, present, updating it now. \n",
    "                    if detactual-self.bg < 0:\n",
    "                        detactual = 0\n",
    "                    \n",
    "                    detcounts.append(detactual)\n",
    "                \n",
    "                \n",
    "                coarsethetaloc,coarsephiloc,coarseAo = bf.solver(detcounts,self.dets,0,90,0,360,10,37,self.bg)\n",
    "                finethetaloc,finephiloc,fineAo = bf.solver(detcounts,self.dets,coarsethetaloc-5,coarsethetaloc+5,coarsephiloc-5,coarsephiloc+5,10,10,self.bg)\n",
    "                \n",
    "                if finethetaloc > 180:\n",
    "                #    print(\"it recovered an unrealistic answer, skip\")\n",
    "                    break\n",
    "                elif finethetaloc < 0:\n",
    "                    #print(\"Same issue, there are limits to theta that are broken here. \")\n",
    "                    break \n",
    "                    \n",
    "                recpos = [finethetaloc,finephiloc]\n",
    "              #  print(\"Recovered position at \" + str(recpos))\n",
    "                \n",
    "                recvec = hp.ang2vec(np.deg2rad(finethetaloc),np.deg2rad(finephiloc))\n",
    "                locunc.append(bf.angle(sourcexyz,recvec))\n",
    "               # print(\"loc unc: \" + str(np.rad2deg(bf.angle(sourcexyz,recvec))) + \" deg\")\n",
    "                loop+=1\n",
    "          #  print(\"Obtained avg loc unc of \" + np.rad2deg(s.mean(locunc)) + \"\")\n",
    "            if len(locunc)>0:\n",
    "                self.localizationerrors.append(np.rad2deg(s.mean(locunc)))\n",
    "            else:\n",
    "                self.localizationerrors(1000)\n",
    "                #some big # signifying that it can't catch it \n",
    "\n",
    "            print(\"Loc unc \" +  str(np.rad2deg(s.mean(locunc))))\n",
    "                #loc unc is the uncertainty at each sky position, localerros is for all of them\n",
    "            \n",
    "            #should there be more selfs? more prints? basically done so time to debug after lunch. \n",
    "        \n",
    "        maybe = input(\"All done with the simulation, want to make the skymap too? \")\n",
    "        \n",
    "        if maybe == \"yes\" or maybe == \"Yes\" or maybe == \"y\": \n",
    "            import matplotlib.pyplot as plt\n",
    "            from healpy import newvisufunc\n",
    "            if len(self.localizationerrors) == len(GRB.sourceangs):\n",
    "                im = np.array(self.localizationerrors)\n",
    "            else:\n",
    "                blockedpart=1000*np.ones(GRB.pixels-len(self.localizadtionerrors))\n",
    "                im = np.concatenate((self.localizationerrors,blockedpart))\n",
    "            hp.newvisufunc.mollview(im,min=0, max=30,unit='Localization Accurary (degrees)',graticule=True,graticule_labels=True,cmap='viridis_r')\n",
    "            plt.title('All Sky Localization Uncertainty for BurstCube')\n",
    "        else:\n",
    "            print(\"Ok, maybe next time!\")\n",
    "\n",
    "        return self.localizationerrors\n",
    "            \n",
    "    \n",
    "    "
   ]
  },
  {
   "cell_type": "code",
   "execution_count": null,
   "metadata": {
    "collapsed": true
   },
   "outputs": [],
   "source": [
    "    def plot_skymap(self,GRB):\n",
    "        import numpy as np\n",
    "        import matplotlib.pyplot as plt\n",
    "        import healpy as hp\n",
    "        from healpy import newvisufunc\n",
    "        if len(self.localizationerrors) == len(GRB.sourceangs):  #if the function successfully was able to catch all the spots (meaning nothing went wrong!)\n",
    "            im = np.array(self.localizationerrors) \n",
    "        else:\n",
    "            blockedpart=1000*np.ones(GRB.pixels-len(angoffset))\n",
    "            im=np.concatenate((self.localizationerrors,blockedpart))\n",
    "        hp.newvisufunc.mollview(im,min=0, max=50,unit='Localization Accurary (degrees)',graticule=True,graticule_labels=True,cmap='viridis_r')\n",
    "        plt.title('All Sky Localization Uncertainty for BurstCube')\n",
    "        "
   ]
  },
  {
   "cell_type": "code",
   "execution_count": null,
   "metadata": {
    "collapsed": true
   },
   "outputs": [],
   "source": [
    "\n",
    "import numpy as np\n",
    "import matplotlib.pyplot as plt\n",
    "import healpy as hp\n",
    "from healpy import newvisufunc\n",
    "%matplotlib notebook\n",
    "if len(im) == 48:\n",
    "    im = np.array(im)\n",
    "else:\n",
    "    blockedpart= 1000*np.ones(48-len(im))\n",
    "    im=np.concatenate((im,blockedpart))\n",
    "hp.newvisufunc.mollview(im,min=0, max=50,unit='Localization Accurary (degrees)',graticule=True,graticule_labels=True,cmap='viridis_r')\n"
   ]
  },
  {
   "cell_type": "code",
   "execution_count": null,
   "metadata": {
    "collapsed": true
   },
   "outputs": [],
   "source": [
    "im = [12.193725149835284,\n",
    " 25.25448240996645,\n",
    " 22.305707106859245,\n",
    " 23.965693073949609,\n",
    " 52.008548584668084,\n",
    " 27.821629706579458,\n",
    " 37.423685868114056,\n",
    " 68.476263273719425,\n",
    " 30.625361189430574,\n",
    " 23.401815051293706,\n",
    " 43.663123284390203,\n",
    " 19.564729694837329,\n",
    " 51.433859688574401,\n",
    " 74.844783683652736,\n",
    " 56.576057682336121,\n",
    " 33.323870897313476,\n",
    " 90.612650101315353,\n",
    " 82.253008561973189,\n",
    " 80.329406453087046,\n",
    " 94.19026553811679,\n",
    " 99.538349117642525,\n",
    " 75.175862782099529,\n",
    " 51.048488219348087,\n",
    " 74.128524449751453,\n",
    " 58.480977383443751,\n",
    " 52.597647136484362,\n",
    " 77.222734640119555,\n",
    " 103.61494510174424,\n",
    " 41.109554839392487,\n",
    " 76.269478377179141,\n",
    " 98.202392939060829,\n",
    " 99.73653357751094,\n",
    " 122.38781518900511,\n",
    " 74.733648939874953,\n",
    " 99.483079370711494,\n",
    " 100.81648250231294,\n",
    " 142.5793551632658,\n",
    " 128.99519400895949,\n",
    " 109.03771544592294,\n",
    " 98.612082515419004,\n",
    " 127.9138150277825,\n",
    " 93.497546429808551,\n",
    " 141.23279694489702,\n",
    " 130.06560240843098,\n",
    " 157.61167766859899,\n",
    " 129.80910207180099]\n"
   ]
  },
  {
   "cell_type": "code",
   "execution_count": null,
   "metadata": {
    "collapsed": true
   },
   "outputs": [],
   "source": []
  },
  {
   "cell_type": "code",
   "execution_count": null,
   "metadata": {
    "collapsed": true
   },
   "outputs": [],
   "source": []
  },
  {
   "cell_type": "code",
   "execution_count": null,
   "metadata": {
    "collapsed": true
   },
   "outputs": [],
   "source": [
    "class Plots:"
   ]
  },
  {
   "cell_type": "code",
   "execution_count": 6,
   "metadata": {},
   "outputs": [
    {
     "ename": "ModuleNotFoundError",
     "evalue": "No module named 'burstfuncs'",
     "output_type": "error",
     "traceback": [
      "\u001b[0;31m---------------------------------------------------------------------------\u001b[0m",
      "\u001b[0;31mModuleNotFoundError\u001b[0m                       Traceback (most recent call last)",
      "\u001b[0;32m<ipython-input-6-7bf53c784db3>\u001b[0m in \u001b[0;36m<module>\u001b[0;34m()\u001b[0m\n\u001b[0;32m----> 1\u001b[0;31m \u001b[0mcube1\u001b[0m \u001b[0;34m=\u001b[0m \u001b[0mBurstCube\u001b[0m\u001b[0;34m(\u001b[0m\u001b[0mbackground\u001b[0m\u001b[0;34m=\u001b[0m\u001b[0;36m1000\u001b[0m\u001b[0;34m)\u001b[0m\u001b[0;34m\u001b[0m\u001b[0m\n\u001b[0m",
      "\u001b[0;32m<ipython-input-5-c5923351fa71>\u001b[0m in \u001b[0;36m__init__\u001b[0;34m(self, background)\u001b[0m\n\u001b[1;32m      4\u001b[0m         \u001b[0;32mimport\u001b[0m \u001b[0mnumpy\u001b[0m \u001b[0;32mas\u001b[0m \u001b[0mnp\u001b[0m\u001b[0;34m\u001b[0m\u001b[0m\n\u001b[1;32m      5\u001b[0m         \u001b[0;32mimport\u001b[0m \u001b[0mhealpy\u001b[0m \u001b[0;32mas\u001b[0m \u001b[0mhp\u001b[0m\u001b[0;34m\u001b[0m\u001b[0m\n\u001b[0;32m----> 6\u001b[0;31m         \u001b[0;32mimport\u001b[0m \u001b[0mburstfuncs\u001b[0m \u001b[0;32mas\u001b[0m \u001b[0mbf\u001b[0m\u001b[0;34m\u001b[0m\u001b[0m\n\u001b[0m\u001b[1;32m      7\u001b[0m         \u001b[0mself\u001b[0m\u001b[0;34m.\u001b[0m\u001b[0mzenith\u001b[0m \u001b[0;34m=\u001b[0m \u001b[0;34m[\u001b[0m\u001b[0;36m0\u001b[0m \u001b[0;34m,\u001b[0m \u001b[0;36m0\u001b[0m\u001b[0;34m]\u001b[0m\u001b[0;34m\u001b[0m\u001b[0m\n\u001b[1;32m      8\u001b[0m         \u001b[0mself\u001b[0m\u001b[0;34m.\u001b[0m\u001b[0mbg\u001b[0m \u001b[0;34m=\u001b[0m \u001b[0mbackground\u001b[0m\u001b[0;34m\u001b[0m\u001b[0m\n",
      "\u001b[0;31mModuleNotFoundError\u001b[0m: No module named 'burstfuncs'"
     ]
    }
   ],
   "source": [
    "cube1 = BurstCube(background=1000)"
   ]
  },
  {
   "cell_type": "code",
   "execution_count": null,
   "metadata": {
    "collapsed": true,
    "scrolled": true
   },
   "outputs": [],
   "source": [
    "cube1.response2GRB(GRB)"
   ]
  },
  {
   "cell_type": "code",
   "execution_count": null,
   "metadata": {
    "collapsed": true
   },
   "outputs": [],
   "source": [
    "cube1.plot_skymap()"
   ]
  },
  {
   "cell_type": "code",
   "execution_count": null,
   "metadata": {
    "collapsed": true
   },
   "outputs": [],
   "source": [
    "import matplotlib.pyplot as plt\n",
    "plt.show()"
   ]
  },
  {
   "cell_type": "code",
   "execution_count": null,
   "metadata": {
    "collapsed": true
   },
   "outputs": [],
   "source": [
    "#to generate an array of all the source angles, and basically follow that \n",
    "\n",
    "GRB = GRBs(2)  #only thing I have to identify is the nside\n",
    "len(GRB.sourceangs)"
   ]
  },
  {
   "cell_type": "code",
   "execution_count": null,
   "metadata": {
    "collapsed": true
   },
   "outputs": [],
   "source": [
    "import numpy as np\n",
    "import healpy as hp\n",
    "import burstfuncs as bf\n",
    "import random as rand\n",
    "\n",
    "class GRBs():\n",
    " \n",
    "    \"\"\"\n",
    "    Generates an array of GRB's with some given strength at different sky positions.\n",
    "    \n",
    "    Output should be an array. \n",
    "    \"\"\"\n",
    "    def __init__(self,NSIDE,strength):\n",
    "        import numpy as np\n",
    "        import healpy as hp\n",
    "        #depending on NSIDE, there will be anywhere from 12 to infinite spots on the sky w/ GRBs\n",
    "        self.Ao = strength\n",
    "        self.pixels = hp.nside2npix(NSIDE)\n",
    "\n",
    "        #want to convert these pixels into theta phi coords. \n",
    "        self.sourceangs = []\n",
    "        for i in range(self.pixels):\n",
    "            self.sourceangs.append(hp.pix2ang(NSIDE,i))\n",
    "\n",
    "\n",
    "class BurstCube:\n",
    "    def __init__(self,background):\n",
    "        import numpy as np\n",
    "        import healpy as hp\n",
    "        import burstfuncs as bf\n",
    "        self.zenith = [0 , 0]\n",
    "        self.bg = background\n",
    "        test = input(\"Are the detectors alternating? \")\n",
    "        if test == \"yes\" or test == \"Yes\" or test == \"y\" or test == \"asdlfkjawe\":           \n",
    "            self.tiltA = np.deg2rad(float(input(\"Please enter the first tilt (deg) \")))\n",
    "            self.tiltB = np.deg2rad(float(input(\"Please enter the second tilt (deg) \")))\n",
    "            self.tiltC = self.tiltA\n",
    "            self.tiltD = self.tiltB\n",
    "        else:\n",
    "            self.tilt = np.deg2rad(float(input(\"Please enter the tilt (deg) \")))\n",
    "            self.tiltA = self.tiltB = self.tiltC = self.tiltD = self.tilt\n",
    "            \n",
    "        \n",
    "    @property\n",
    "    def detA(self):\n",
    "        return [ self.zenith[0] + self.tiltA , self.zenith[1] ]\n",
    "    @property \n",
    "    def detB(self):\n",
    "        return [ self.zenith[0] + self.tiltB , self.zenith[1] + np.pi/2 ]\n",
    "    @property\n",
    "    def detC(self):\n",
    "        return [ self.zenith[0] + self.tiltC , self.zenith[1] ]\n",
    "    @property \n",
    "    def detD(self):\n",
    "        return [ self.zenith[0] + self.tiltD , self.zenith[1] + np.pi/2 ]\n",
    "    @property\n",
    "    def normA(self):\n",
    "        return  hp.ang2vec(self.detA[0],self.detA[1])\n",
    "    @property \n",
    "    def normB(self):\n",
    "        return  hp.ang2vec(self.detB[0],self.detB[1])\n",
    "    @property\n",
    "    def normC(self):\n",
    "        return  hp.ang2vec(self.detC[0],self.detC[1])\n",
    "    @property \n",
    "    def normD(self):\n",
    "        return  hp.ang2vec(self.detD[0],self.detD[1])\n",
    "\n",
    "    \n",
    "    @property\n",
    "    def dets(self):\n",
    "        return [self.normA,self.normB,self.normC,self.normD] \n",
    "    \n",
    "    \n",
    "    \n",
    "    \n",
    "    def respond2GRB(self, GRB):   #is this how I inherit? \n",
    "        #first need to include the GRB.\n",
    "        \n",
    "        #Putting these here as a reminder, need to learn how to implement Gaussian fluctuations, hopefully in a similar to the actions gauss(x,sigmax)\n",
    "        #Gauss = True\n",
    "        #Poisson = False\n",
    "\n",
    "\n",
    "        \"\"\"\n",
    "        Using least squares regression, respond2GRB will determine the sky position of an array of GRB sources assuming some inherent background noise within \n",
    "        detectors, along with fluctuations of either Gaussian or Poissonian nature. \n",
    "\n",
    "        Parameters\n",
    "        ----------\n",
    "        GRB : object\n",
    "        \n",
    "        An instance of the separately defined \"GRBs\" class that contains a number of evenly spaced sky positions of a given strength. \n",
    "\n",
    "        Returns\n",
    "        ----------\n",
    "        localizationerrors : array\n",
    "\n",
    "        numpy array that contains the average localization uncertainty at each sky position. \n",
    "\n",
    "        \n",
    "        \"\"\"\n",
    "        localizationerrors = []    \n",
    "        for i in range(len(GRB.sourceangs)):\n",
    "            sourceAng = GRB.sourceangs[i]\n",
    "           # print(\"Source angle is \" + str(sourceAng))\n",
    "           #this check passes.       \n",
    "\n",
    "            \n",
    "           # print(\"Testing at \" + str(np.rad2deg(GRB.sourceangs)))\n",
    "            sourcexyz = hp.ang2vec(sourceAng[0],sourceAng[1]) #cartesian position of the burst\n",
    "            loop = 0 #I'm going to want to sample each sky position more than once,\n",
    "                    #here's where I define how many times that is\n",
    "            locunc = []\n",
    "            while loop<3:\n",
    "                detcounts = []  #number of counts incident in each detector. \n",
    "                for j in range(len(self.dets)):\n",
    "                    sep=bf.angle(sourcexyz,self.dets[j])\n",
    "                   # print(\"separation is \" + str(np.rad2deg(sep)))\n",
    "                   #this check passes.  \n",
    "               \n",
    "                    if sep < np.pi/2: # meaning if >90, would not be facing detector.\n",
    "                        dtheory=GRB.Ao*bf.response(sourcexyz,self.dets[j])  #still need to define strength, brb and gonna do that \n",
    "                    else: #like I was saying, has to face it!\n",
    "                        dtheory = 0 \n",
    "                     \n",
    "                   # print(\"dtheory test: \" + str(dtheory))\n",
    "                    # this check passes too. \n",
    "                    \n",
    "                    counts = dtheory + self.bg #another artifact, incl this background effect somewhere\n",
    "                    unccounts = np.sqrt(counts)\n",
    "                    detactual = rand.gauss(counts,unccounts)  #there is a lot of noise, present, updating it now. \n",
    "                    if detactual-self.bg < 0:\n",
    "                        detactual = 0\n",
    "                    \n",
    "                    detcounts.append(detactual)\n",
    "    \n",
    "                   #now for the LSF method using chi squared, applies a coarse to fine refactor here. \n",
    "                   #plenty of old variable names to update as well. \n",
    "                \n",
    "                   # print(\"after fluctuations, \" + str(detactual))\n",
    "                    #fixed indentation errors, uninstalled module, legacy code all fixed. Passes. \n",
    "\n",
    "                \n",
    "                \n",
    "                coarsethetaloc,coarsephiloc,coarseAo = bf.solver(detcounts,self.dets,0,90,0,360,12,self.bg)\n",
    "                finethetaloc,finephiloc,fineAo = bf.solver(detcounts,self.dets,coarsethetaloc-5,coarsethetaloc+5,coarsephiloc-7,coarsephiloc+7,12,self.bg)\n",
    "                \n",
    "                if finethetaloc > 180:\n",
    "                #    print(\"it recovered an unrealistic answer, skip\")\n",
    "                    break\n",
    "                elif finethetaloc < 0:\n",
    "                    #print(\"Same issue, there are limits to theta that are broken here. \")\n",
    "                    break \n",
    "                    \n",
    "                recpos = [finethetaloc,finephiloc]\n",
    "                recvec = hp.ang2vec(np.deg2rad(finethetaloc),np.deg2rad(finephiloc))\n",
    "                locunc.append(bf.angle(sourcexyz,recvec))\n",
    "               # print(\"loc unc\" + str(locunc))\n",
    "                loop+=1\n",
    "            print(np.rad2deg(s.mean(locunc)))\n",
    "\n",
    "            localizationerrors.append(np.rad2deg(s.mean(locunc)))\n",
    "\n",
    "           # print(\"obtained error of\" +  str(s.mean(locunc)))\n",
    "                #loc unc is the uncertainty at each sky position, localerros is for all of them\n",
    "            \n",
    "            #should there be more selfs? more prints? basically done so time to debug after lunch. \n",
    "        return localizationerrors\n",
    "        "
   ]
  },
  {
   "cell_type": "code",
   "execution_count": null,
   "metadata": {
    "collapsed": true
   },
   "outputs": [],
   "source": [
    "GRB = GRBs(NSIDE=8,strength=500)"
   ]
  },
  {
   "cell_type": "code",
   "execution_count": null,
   "metadata": {
    "collapsed": true
   },
   "outputs": [],
   "source": [
    "cubesat = BurstCube(background=1000)"
   ]
  },
  {
   "cell_type": "code",
   "execution_count": null,
   "metadata": {
    "collapsed": true
   },
   "outputs": [],
   "source": [
    "cubesat.bg"
   ]
  },
  {
   "cell_type": "code",
   "execution_count": null,
   "metadata": {
    "collapsed": true
   },
   "outputs": [],
   "source": [
    "cubesat.respond2GRB(GRB)"
   ]
  },
  {
   "cell_type": "code",
   "execution_count": 7,
   "metadata": {
    "collapsed": true
   },
   "outputs": [],
   "source": [
    "import numpy as np"
   ]
  },
  {
   "cell_type": "code",
   "execution_count": 9,
   "metadata": {},
   "outputs": [
    {
     "data": {
      "text/plain": [
       "numpy.ndarray"
      ]
     },
     "execution_count": 9,
     "metadata": {},
     "output_type": "execute_result"
    }
   ],
   "source": [
    "type(np.arange(0,100))\n"
   ]
  },
  {
   "cell_type": "code",
   "execution_count": 10,
   "metadata": {},
   "outputs": [
    {
     "data": {
      "text/plain": [
       "numpy.ndarray"
      ]
     },
     "execution_count": 10,
     "metadata": {},
     "output_type": "execute_result"
    }
   ],
   "source": [
    "type(np.linspace(0,100,101))"
   ]
  },
  {
   "cell_type": "code",
   "execution_count": null,
   "metadata": {
    "collapsed": true
   },
   "outputs": [],
   "source": [
    "        \n",
    "        Chisep = \n",
    "\n",
    "\n",
    "        \n",
    "        for sa in range(len(oa)): \n",
    "            for sb in range(len(ob)):\n",
    "                for sc in range(len(Aofit)):\n",
    "                    #make sure it fits within the acceptable range\n",
    "                    if oa[sa]>=0 and oa[sa]<=np.pi and ob[sb]>=0 and ob[sb]<=2*np.pi:\n",
    "                        CHIsourceang=[oa[sa],ob[sb]]\n",
    "                        CHIsourcexyz = hp.ang2vec(CHIsourceang[0],CHIsourceang[1])\n",
    "                        CHIsep=angle(CHIsourcexyz,detnorms[s])                                           \n",
    "                        if CHIsep<np.pi/2: \n",
    "                            chi=Aofit[sc]*response(CHIsourcexyz,detnorms[s])+bgrd\n",
    "                            #print(\"Chi test angle\"+str(CHIsourcexyz))\n",
    "                            #print(\"detector\"+str(dets[s]))\n",
    "                            #print(\"chi sometiems\"+str(chi))\n",
    "                            #print(\"separation here, is it okay? \" +str(np.rad2deg(CHIsep)))\n",
    "\n",
    "                            #this produces nan error, se\n",
    "                            \n",
    "                        else:\n",
    "                            chi=0            \n",
    "                        if detsvals[s]>0:   #if there is a signal in the detector \n",
    "                            chiterm=((chi-detsvals[s])**2/detsvals[s])\n",
    "                        else:    #if not, just zero \n",
    "                            chiterm=1e10"
   ]
  },
  {
   "cell_type": "code",
   "execution_count": 8,
   "metadata": {
    "collapsed": true
   },
   "outputs": [],
   "source": [
    "from astropy.coordinates import SkyCoord"
   ]
  },
  {
   "cell_type": "code",
   "execution_count": 11,
   "metadata": {},
   "outputs": [
    {
     "ename": "AttributeError",
     "evalue": "'list' object has no attribute 'is_equivalent_frame'",
     "output_type": "error",
     "traceback": [
      "\u001b[0;31m---------------------------------------------------------------------------\u001b[0m",
      "\u001b[0;31mAttributeError\u001b[0m                            Traceback (most recent call last)",
      "\u001b[0;32m<ipython-input-11-b516d63f8525>\u001b[0m in \u001b[0;36m<module>\u001b[0;34m()\u001b[0m\n\u001b[0;32m----> 1\u001b[0;31m \u001b[0mSkyCoord\u001b[0m\u001b[0;34m.\u001b[0m\u001b[0mseparation\u001b[0m\u001b[0;34m(\u001b[0m\u001b[0mnormA\u001b[0m\u001b[0;34m,\u001b[0m\u001b[0msource\u001b[0m\u001b[0;34m)\u001b[0m\u001b[0;34m\u001b[0m\u001b[0m\n\u001b[0m",
      "\u001b[0;32m/Users/noahkasmanoff/anaconda/lib/python3.6/site-packages/astropy/coordinates/sky_coordinate.py\u001b[0m in \u001b[0;36mseparation\u001b[0;34m(self, other)\u001b[0m\n\u001b[1;32m    689\u001b[0m         \u001b[0;32mfrom\u001b[0m \u001b[0;34m.\u001b[0m\u001b[0mangle_utilities\u001b[0m \u001b[0;32mimport\u001b[0m \u001b[0mangular_separation\u001b[0m\u001b[0;34m\u001b[0m\u001b[0m\n\u001b[1;32m    690\u001b[0m \u001b[0;34m\u001b[0m\u001b[0m\n\u001b[0;32m--> 691\u001b[0;31m         \u001b[0;32mif\u001b[0m \u001b[0;32mnot\u001b[0m \u001b[0mself\u001b[0m\u001b[0;34m.\u001b[0m\u001b[0mis_equivalent_frame\u001b[0m\u001b[0;34m(\u001b[0m\u001b[0mother\u001b[0m\u001b[0;34m)\u001b[0m\u001b[0;34m:\u001b[0m\u001b[0;34m\u001b[0m\u001b[0m\n\u001b[0m\u001b[1;32m    692\u001b[0m             \u001b[0;32mtry\u001b[0m\u001b[0;34m:\u001b[0m\u001b[0;34m\u001b[0m\u001b[0m\n\u001b[1;32m    693\u001b[0m                 \u001b[0mother\u001b[0m \u001b[0;34m=\u001b[0m \u001b[0mother\u001b[0m\u001b[0;34m.\u001b[0m\u001b[0mtransform_to\u001b[0m\u001b[0;34m(\u001b[0m\u001b[0mself\u001b[0m\u001b[0;34m,\u001b[0m \u001b[0mmerge_attributes\u001b[0m\u001b[0;34m=\u001b[0m\u001b[0;32mFalse\u001b[0m\u001b[0;34m)\u001b[0m\u001b[0;34m\u001b[0m\u001b[0m\n",
      "\u001b[0;31mAttributeError\u001b[0m: 'list' object has no attribute 'is_equivalent_frame'"
     ]
    }
   ],
   "source": [
    "SkyCoord.separation(normA,source)"
   ]
  },
  {
   "cell_type": "code",
   "execution_count": 9,
   "metadata": {
    "collapsed": true
   },
   "outputs": [],
   "source": [
    "normA = [np.pi/4,0]"
   ]
  },
  {
   "cell_type": "code",
   "execution_count": 10,
   "metadata": {
    "collapsed": true
   },
   "outputs": [],
   "source": [
    "source = [0,0]"
   ]
  },
  {
   "cell_type": "code",
   "execution_count": null,
   "metadata": {
    "collapsed": true
   },
   "outputs": [],
   "source": [
    "def solver(detsvals,detnorms,bottheta,toptheta,botphi,topphi,ntheta,nphi,bgrd):\n",
    "#this function uses a chi squared minimizer over a given range to identify the theta,phi,\n",
    "#and Ao values which correspond to the minimum chi squared and thus localized source. \n",
    "    confidence = []\n",
    "    chiterms = []\n",
    "    thecon = []\n",
    "    phicon = []\n",
    "    for s in range(len(detsvals)):     \n",
    "        \n",
    " \n",
    "                    if oa[sa]>=0 and oa[sa]<=np.pi and ob[sb]>=0 and ob[sb]<=2*np.pi:\n",
    "                        CHIsourceang=[oa[sa],ob[sb]]\n",
    "                        CHIsourceyz = hp.ang2vec(CHIsourceang[0],CHIsourceang[1])\n",
    "                        CHIsep=angle(CHIsourcexyz,detnorms[s])                                           \n",
    "                        if CHIsep<np.pi/2: \n",
    "                            c\n",
    "                            \n",
    "                            chi=Aofit[sc]*response(CHIsourcexyz,detnorms[s])+bgrd\n",
    "                            #print(\"Chi test angle\"+str(CHIsourcexyz))\n",
    "                            #print(\"detector\"+str(dets[s]))\n",
    "                            #print(\"chi sometiems\"+str(chi))\n",
    "                            #print(\"separation here, is it okay? \" +str(np.rad2deg(CHIsep)))\n",
    "\n",
    "                            #this produces nan error, se\n",
    "                            \n",
    "                        else:\n",
    "                            chi=0            \n",
    "                        if detsvals[s]>0:   #if there is a signal in the detector \n",
    "                            chiterm=((chi-detsvals[s])**2/detsvals[s])\n",
    "                        else:    #if not, just zero \n",
    "                            chiterm=1e10\n",
    "                    else: \n",
    "                        chiterm=1e10 #some large #, just to note that it definitely isn't right angle \n",
    "                                                                       \n",
    "                                    \n",
    "                    chiterms.append(chiterm)   #this is an array of EVERY SINGLE term, need to split in pieces and add element by element...\n",
    "    chisquareds=chimaker(chiterms,len(detsvals))\n",
    "    chimin=np.amin(chisquareds)\n",
    "    #print(\"The chi min is \" + str(chimin))\n",
    "    #is there a better way to do this? \n",
    "    chisquareds=list(chisquareds)\n",
    "\n",
    "    thetaloc = np.rad2deg(oa[int((chisquareds.index(chimin)-(chisquareds.index(chimin) % (len(ob)*len(Aofit))))/(len(ob)*len(Aofit)))])\n",
    "    philoc = np.rad2deg(ob[int(((chisquareds.index(chimin) % (len(ob)*len(Aofit)))-(chisquareds.index(chimin) % (len(Aofit))))/len(Aofit))])\n",
    "    Aoguess=Aofit[int((chisquareds.index(chimin) % (len(ob)*len(Aofit)))  % len(Aofit))]\n",
    "    #print(Aoguess)\n",
    "    #print(thetaloc,philoc)\n",
    "    \n",
    "    return thetaloc,philoc,Aoguess\n"
   ]
  },
  {
   "cell_type": "code",
   "execution_count": 23,
   "metadata": {
    "collapsed": true
   },
   "outputs": [],
   "source": [
    "import numpy as np\n",
    "import time "
   ]
  },
  {
   "cell_type": "code",
   "execution_count": 51,
   "metadata": {
    "collapsed": true
   },
   "outputs": [],
   "source": [
    "start = time.time()\n",
    "theta = np.deg2rad(np.linspace(0,90,100))\n",
    "phi = np.deg2rad(np.linspace(0,360,100))\n",
    "A = np.linspace(0,1000,11)\n",
    "chi=A*response(CHIsourcexyz,detnorms[s])+bgrd\n",
    "\n",
    "xyz = [theta,phi]"
   ]
  },
  {
   "cell_type": "code",
   "execution_count": 52,
   "metadata": {},
   "outputs": [
    {
     "data": {
      "text/plain": [
       "array([ 0.        ,  0.17453293,  0.34906585,  0.52359878,  0.6981317 ,\n",
       "        0.87266463,  1.04719755,  1.22173048,  1.3962634 ,  1.57079633])"
      ]
     },
     "execution_count": 52,
     "metadata": {},
     "output_type": "execute_result"
    }
   ],
   "source": [
    "theta"
   ]
  },
  {
   "cell_type": "code",
   "execution_count": 108,
   "metadata": {},
   "outputs": [
    {
     "name": "stdout",
     "output_type": "stream",
     "text": [
      "Time elapsed: 0.012300968170166016\n"
     ]
    }
   ],
   "source": [
    "import healpy as hp\n",
    "start = time.time()\n",
    "theta = np.deg2rad(np.linspace(0,90,1000))\n",
    "phi = np.deg2rad(np.linspace(0,360,1000))\n",
    "A= np.linspace(0,1000,1000)\n",
    "CHIsourcexyz = hp.ang2vec(theta,phi)\n",
    "fakenorm = [0,0,1] #need to make this an array really long\n",
    "\n",
    "chisep = []\n",
    "for i in range(len(CHIsourcexyz)): #all 1000 anyway\n",
    "    chisep.append(angle(CHIsourcexyz[i],fakenorm))\n",
    "    \n",
    "chisep = np.array(chisep) \n",
    "\n",
    "chiresponse =  A * np.cos(chisep) #DONT include background, its subtracted anyway... it isn't in the code but lets talk about this first. \n",
    "\n",
    "end = time.time()\n",
    "print(\"Time elapsed: \" + str(end-start))"
   ]
  },
  {
   "cell_type": "code",
   "execution_count": 116,
   "metadata": {
    "collapsed": true
   },
   "outputs": [],
   "source": [
    "chiterms = []\n",
    "for i in range(len(chiresponse)):\n",
    "    chiterm = (actual - chiresponse[i])**2/ actual \n",
    "    chiterms.append(chiterm)\n"
   ]
  },
  {
   "cell_type": "code",
   "execution_count": 121,
   "metadata": {
    "collapsed": true
   },
   "outputs": [],
   "source": [
    "chimin = min(chiterms)"
   ]
  },
  {
   "cell_type": "code",
   "execution_count": 124,
   "metadata": {
    "collapsed": true
   },
   "outputs": [],
   "source": [
    "thetaloc = np.rad2deg(theta[int((chiterms.index(chimin)-(chiterms.index(chimin) % (len(phi)*len(A))))/(len(phi)*len(A)))])\n",
    "philoc = np.rad2deg(phi[int(((chiterms.index(chimin) % (len(phi)*len(A)))-(chiterms.index(chimin) % (len(A))))/len(A))])"
   ]
  },
  {
   "cell_type": "code",
   "execution_count": 125,
   "metadata": {},
   "outputs": [
    {
     "data": {
      "text/plain": [
       "(0.0, 0.0)"
      ]
     },
     "execution_count": 125,
     "metadata": {},
     "output_type": "execute_result"
    }
   ],
   "source": [
    "thetaloc,philoc"
   ]
  },
  {
   "cell_type": "code",
   "execution_count": 96,
   "metadata": {},
   "outputs": [
    {
     "data": {
      "text/plain": [
       "numpy.ndarray"
      ]
     },
     "execution_count": 96,
     "metadata": {},
     "output_type": "execute_result"
    }
   ],
   "source": [
    "type(A)"
   ]
  },
  {
   "cell_type": "code",
   "execution_count": null,
   "metadata": {
    "collapsed": true
   },
   "outputs": [],
   "source": []
  },
  {
   "cell_type": "code",
   "execution_count": 87,
   "metadata": {},
   "outputs": [
    {
     "name": "stdout",
     "output_type": "stream",
     "text": [
      "Time elapsed: 0.018271923065185547\n"
     ]
    }
   ],
   "source": [
    "   \n",
    "    \n",
    "    if chisep> np.pi/2:\n",
    "    \n",
    "    chiresponse =  A * np.cos(chisep)   \n",
    "else:\n",
    "    \n",
    "#need to create an array! \n",
    "end = time.time()\n",
    "print(\"Time elapsed: \" + str(end-start))"
   ]
  },
  {
   "cell_type": "code",
   "execution_count": 90,
   "metadata": {},
   "outputs": [
    {
     "data": {
      "text/plain": [
       "0.0"
      ]
     },
     "execution_count": 90,
     "metadata": {},
     "output_type": "execute_result"
    }
   ],
   "source": [
    "min(chiresponse)"
   ]
  },
  {
   "cell_type": "code",
   "execution_count": 80,
   "metadata": {},
   "outputs": [
    {
     "ename": "ValueError",
     "evalue": "shapes (1000,3) and (1000,3) not aligned: 3 (dim 1) != 1000 (dim 0)",
     "output_type": "error",
     "traceback": [
      "\u001b[0;31m---------------------------------------------------------------------------\u001b[0m",
      "\u001b[0;31mValueError\u001b[0m                                Traceback (most recent call last)",
      "\u001b[0;32m<ipython-input-80-00a1b6b6cc33>\u001b[0m in \u001b[0;36m<module>\u001b[0;34m()\u001b[0m\n\u001b[1;32m     14\u001b[0m \u001b[0;34m\u001b[0m\u001b[0m\n\u001b[1;32m     15\u001b[0m \u001b[0;34m\u001b[0m\u001b[0m\n\u001b[0;32m---> 16\u001b[0;31m \u001b[0mchiterm\u001b[0m \u001b[0;34m=\u001b[0m \u001b[0mA\u001b[0m \u001b[0;34m*\u001b[0m \u001b[0mnp\u001b[0m\u001b[0;34m.\u001b[0m\u001b[0mcos\u001b[0m\u001b[0;34m(\u001b[0m\u001b[0mangle\u001b[0m\u001b[0;34m(\u001b[0m\u001b[0mnp\u001b[0m\u001b[0;34m.\u001b[0m\u001b[0msqueeze\u001b[0m\u001b[0;34m(\u001b[0m\u001b[0mCHIsourcexyz\u001b[0m\u001b[0;34m)\u001b[0m\u001b[0;34m,\u001b[0m\u001b[0mnp\u001b[0m\u001b[0;34m.\u001b[0m\u001b[0msqueeze\u001b[0m\u001b[0;34m(\u001b[0m\u001b[0ma\u001b[0m\u001b[0;34m)\u001b[0m\u001b[0;34m)\u001b[0m\u001b[0;34m)\u001b[0m\u001b[0;34m\u001b[0m\u001b[0m\n\u001b[0m\u001b[1;32m     17\u001b[0m \u001b[0mend\u001b[0m \u001b[0;34m=\u001b[0m \u001b[0mtime\u001b[0m\u001b[0;34m.\u001b[0m\u001b[0mtime\u001b[0m\u001b[0;34m(\u001b[0m\u001b[0;34m)\u001b[0m\u001b[0;34m\u001b[0m\u001b[0m\n\u001b[1;32m     18\u001b[0m \u001b[0mprint\u001b[0m\u001b[0;34m(\u001b[0m\u001b[0;34m\"Time elapsed: \"\u001b[0m \u001b[0;34m+\u001b[0m \u001b[0mstr\u001b[0m\u001b[0;34m(\u001b[0m\u001b[0mend\u001b[0m\u001b[0;34m-\u001b[0m\u001b[0mstart\u001b[0m\u001b[0;34m)\u001b[0m\u001b[0;34m)\u001b[0m\u001b[0;34m\u001b[0m\u001b[0m\n",
      "\u001b[0;32m<ipython-input-63-8906d1bd28f6>\u001b[0m in \u001b[0;36mangle\u001b[0;34m(v1, v2)\u001b[0m\n\u001b[1;32m     18\u001b[0m     \"\"\"\n\u001b[1;32m     19\u001b[0m \u001b[0;34m\u001b[0m\u001b[0m\n\u001b[0;32m---> 20\u001b[0;31m     \u001b[0mang\u001b[0m \u001b[0;34m=\u001b[0m \u001b[0mnp\u001b[0m\u001b[0;34m.\u001b[0m\u001b[0marccos\u001b[0m\u001b[0;34m(\u001b[0m\u001b[0mnp\u001b[0m\u001b[0;34m.\u001b[0m\u001b[0mdot\u001b[0m\u001b[0;34m(\u001b[0m\u001b[0mv1\u001b[0m\u001b[0;34m,\u001b[0m \u001b[0mv2\u001b[0m\u001b[0;34m)\u001b[0m \u001b[0;34m/\u001b[0m \u001b[0;34m(\u001b[0m\u001b[0mlength\u001b[0m\u001b[0;34m(\u001b[0m\u001b[0mv1\u001b[0m\u001b[0;34m)\u001b[0m \u001b[0;34m*\u001b[0m \u001b[0mlength\u001b[0m\u001b[0;34m(\u001b[0m\u001b[0mv2\u001b[0m\u001b[0;34m)\u001b[0m\u001b[0;34m)\u001b[0m\u001b[0;34m)\u001b[0m\u001b[0;34m\u001b[0m\u001b[0m\n\u001b[0m\u001b[1;32m     21\u001b[0m     \u001b[0;32mreturn\u001b[0m \u001b[0mang\u001b[0m\u001b[0;34m\u001b[0m\u001b[0m\n\u001b[1;32m     22\u001b[0m \u001b[0;34m\u001b[0m\u001b[0m\n",
      "\u001b[0;31mValueError\u001b[0m: shapes (1000,3) and (1000,3) not aligned: 3 (dim 1) != 1000 (dim 0)"
     ]
    }
   ],
   "source": [
    "a = []\n",
    "for i in range(1000):\n",
    "    a.append(fakenorm)\n",
    "\n",
    "\n",
    "    \n",
    "chiterm = A * np.cos(angle(CHIsourcexyz,a))\n",
    "end = time.time()\n",
    "print(\"Time elapsed: \" + str(end-start))"
   ]
  },
  {
   "cell_type": "code",
   "execution_count": 78,
   "metadata": {},
   "outputs": [
    {
     "ename": "ValueError",
     "evalue": "shapes (1000,3) and (1000,3) not aligned: 3 (dim 1) != 1000 (dim 0)",
     "output_type": "error",
     "traceback": [
      "\u001b[0;31m---------------------------------------------------------------------------\u001b[0m",
      "\u001b[0;31mValueError\u001b[0m                                Traceback (most recent call last)",
      "\u001b[0;32m<ipython-input-78-5ea47d0c42c6>\u001b[0m in \u001b[0;36m<module>\u001b[0;34m()\u001b[0m\n\u001b[0;32m----> 1\u001b[0;31m \u001b[0mangle\u001b[0m\u001b[0;34m(\u001b[0m\u001b[0ma\u001b[0m\u001b[0;34m,\u001b[0m\u001b[0ma\u001b[0m\u001b[0;34m)\u001b[0m\u001b[0;34m\u001b[0m\u001b[0m\n\u001b[0m",
      "\u001b[0;32m<ipython-input-63-8906d1bd28f6>\u001b[0m in \u001b[0;36mangle\u001b[0;34m(v1, v2)\u001b[0m\n\u001b[1;32m     18\u001b[0m     \"\"\"\n\u001b[1;32m     19\u001b[0m \u001b[0;34m\u001b[0m\u001b[0m\n\u001b[0;32m---> 20\u001b[0;31m     \u001b[0mang\u001b[0m \u001b[0;34m=\u001b[0m \u001b[0mnp\u001b[0m\u001b[0;34m.\u001b[0m\u001b[0marccos\u001b[0m\u001b[0;34m(\u001b[0m\u001b[0mnp\u001b[0m\u001b[0;34m.\u001b[0m\u001b[0mdot\u001b[0m\u001b[0;34m(\u001b[0m\u001b[0mv1\u001b[0m\u001b[0;34m,\u001b[0m \u001b[0mv2\u001b[0m\u001b[0;34m)\u001b[0m \u001b[0;34m/\u001b[0m \u001b[0;34m(\u001b[0m\u001b[0mlength\u001b[0m\u001b[0;34m(\u001b[0m\u001b[0mv1\u001b[0m\u001b[0;34m)\u001b[0m \u001b[0;34m*\u001b[0m \u001b[0mlength\u001b[0m\u001b[0;34m(\u001b[0m\u001b[0mv2\u001b[0m\u001b[0;34m)\u001b[0m\u001b[0;34m)\u001b[0m\u001b[0;34m)\u001b[0m\u001b[0;34m\u001b[0m\u001b[0m\n\u001b[0m\u001b[1;32m     21\u001b[0m     \u001b[0;32mreturn\u001b[0m \u001b[0mang\u001b[0m\u001b[0;34m\u001b[0m\u001b[0m\n\u001b[1;32m     22\u001b[0m \u001b[0;34m\u001b[0m\u001b[0m\n",
      "\u001b[0;31mValueError\u001b[0m: shapes (1000,3) and (1000,3) not aligned: 3 (dim 1) != 1000 (dim 0)"
     ]
    }
   ],
   "source": [
    "#so the error to resolve now is in the angle function, the issue is something with the shapes not being aligned."
   ]
  },
  {
   "cell_type": "code",
   "execution_count": 29,
   "metadata": {},
   "outputs": [
    {
     "name": "stdout",
     "output_type": "stream",
     "text": [
      "Time elapsed: 0.0006878376007080078\n"
     ]
    }
   ],
   "source": [
    "def angle(v1, v2):\n",
    "    \"\"\"\"\n",
    "    Finds the angle between 2 vectors\n",
    "    \n",
    "    Parameters\n",
    "    ----------\n",
    "    \n",
    "    v1 : array\n",
    "    v2 : array\n",
    "        The arrays representing the vectors who's angle is to be calculated.\n",
    "        \n",
    "    Returns\n",
    "    -------\n",
    "    \n",
    "    ang : float\n",
    "        Angle between the 2 vectors. \n",
    "        \n",
    "    \"\"\"\n",
    "\n",
    "    ang = np.arccos(np.dot(v1, v2) / (length(v1) * length(v2)))\n",
    "    return ang\n",
    "\n",
    "\n",
    "for i in range(len(theta)):\n",
    "    for j in range(len(phi)):\n",
    "        for k in range(len(A)):\n",
    "            if i ==600 and j ==3000 and k == 600:\n",
    "                print(\"Done\")\n",
    "\n",
    "end = time.time()\n",
    "print(\"Time elapsed: \" + str(end-start))\n",
    "\n",
    "\n",
    "#combine all of these, creates an array of 4070!"
   ]
  },
  {
   "cell_type": "code",
   "execution_count": 63,
   "metadata": {
    "collapsed": true
   },
   "outputs": [],
   "source": [
    "def angle(v1, v2):\n",
    "    \"\"\"\"\n",
    "    Finds the angle between 2 vectors\n",
    "    \n",
    "    Parameters\n",
    "    ----------\n",
    "    \n",
    "    v1 : array\n",
    "    v2 : array\n",
    "        The arrays representing the vectors who's angle is to be calculated.\n",
    "        \n",
    "    Returns\n",
    "    -------\n",
    "    \n",
    "    ang : float\n",
    "        Angle between the 2 vectors. \n",
    "        \n",
    "    \"\"\"\n",
    "\n",
    "    ang = np.arccos(np.dot(v1, v2) / (length(v1) * length(v2)))\n",
    "    return ang\n",
    "\n",
    "def length(v):\n",
    "    \"\"\"\n",
    "    Finds the length of a vector\n",
    "    \n",
    "    Parameters\n",
    "    ----------\n",
    "    \n",
    "    v : array\n",
    "        numpy array representative of the vector you want to find the magnitude of. \n",
    "    \n",
    "    Returns\n",
    "    -------\n",
    "    \n",
    "    magv : float\n",
    "        magnitude of v.\n",
    "    \"\"\"\n",
    "    magv = np.sqrt(np.dot(v, v))\n",
    "    return magv"
   ]
  },
  {
   "cell_type": "code",
   "execution_count": 37,
   "metadata": {},
   "outputs": [
    {
     "data": {
      "text/plain": [
       "(array([  0.,  10.,  20.,  30.,  40.,  50.,  60.,  70.,  80.,  90.]),\n",
       " array([ 20.,  20.,  20.,  20.,  20.,  20.,  20.,  20.,  20.,  20.]))"
      ]
     },
     "execution_count": 37,
     "metadata": {},
     "output_type": "execute_result"
    }
   ],
   "source": []
  },
  {
   "cell_type": "code",
   "execution_count": null,
   "metadata": {
    "collapsed": true
   },
   "outputs": [],
   "source": [
    "def solver(detsvals,detnorms,bgrd):\n",
    "#this function uses a chi squared minimizer over a given range to identify the theta,phi,\n",
    "#and Ao values which correspond to the minimum chi squared and thus localized source. \n",
    "    \"\"\"Stray thoughts about code so far. Should be quicker, rather than 1000 use arbitrary vals, as well as top and bottom phi\n",
    "    No longer need chimaker since it adds it in. \n",
    "    \"\"\"\n",
    "    \n",
    "    chiterms = np.zeros(1000)\n",
    "    confidence = []\n",
    "    chiterms = []\n",
    "    thecon = []\n",
    "    phicon = []\n",
    "    for s in range(len(detsvals)):     \n",
    "        detresponse = detsvals[s]*np.ones(1000)\n",
    "        oa = np.deg2rad(np.linspace(0,90,1000))\n",
    "        ob = np.deg2rad(np.linspace(0,360,1000))\n",
    "        Ao = np.linspace(0,1000,1000)\n",
    "        bg = bgrd*np.ones(1000)\n",
    "        CHIsourcexyz = hp.ang2vec(oa,ob)\n",
    "        fakenorm = [0,0,1] #need to make this an array really long\n",
    "\n",
    "        chisep = []\n",
    "        for i in range(len(CHIsourcexyz)): #all 1000 anyway\n",
    "            chisep.append(angle(CHIsourcexyz[i],fakenorm))\n",
    "        \n",
    "        #If necessary,here's where I would create another array saying to ignore >pi/2 terms.\n",
    "        chisep = np.array(chisep) \n",
    "\n",
    "        chiresponse =  Ao * np.cos(chisep) + bg  \n",
    "        chiterm=((chi-detsvals[s])**2/detsvals[s])\n",
    "        chiterms += np.divide((chirespone-detresponse)**2,detresponse)\n",
    "\n",
    "                                                                       \n",
    "        \n",
    "\n",
    "    chimin=np.amin(chisquareds)\n",
    "\n",
    "    chisquareds=list(chisquareds)\n",
    "\n",
    "    thetaloc = np.rad2deg(oa[int((chisquareds.index(chimin)-(chisquareds.index(chimin) % (len(ob)*len(Aofit))))/(len(ob)*len(Aofit)))])\n",
    "    philoc = np.rad2deg(ob[int(((chisquareds.index(chimin) % (len(ob)*len(Aofit)))-(chisquareds.index(chimin) % (len(Aofit))))/len(Aofit))])\n",
    "    Aoguess=Aofit[int((chisquareds.index(chimin) % (len(ob)*len(Aofit)))  % len(Aofit))]\n",
    "    #print(Aoguess)\n",
    "    #print(thetaloc,philoc)\n",
    "    \n",
    "    return thetaloc,philoc,Aoguess\n"
   ]
  },
  {
   "cell_type": "code",
   "execution_count": 6,
   "metadata": {},
   "outputs": [],
   "source": [
    "baba = 1000*np.ones(10)\n",
    "\n",
    "oba = np.linspace(0,10,10)"
   ]
  },
  {
   "cell_type": "code",
   "execution_count": 2,
   "metadata": {
    "collapsed": true
   },
   "outputs": [],
   "source": [
    "import numpy as np"
   ]
  },
  {
   "cell_type": "code",
   "execution_count": 7,
   "metadata": {},
   "outputs": [
    {
     "data": {
      "text/plain": [
       "array([ 1000.        ,  1001.11111111,  1002.22222222,  1003.33333333,\n",
       "        1004.44444444,  1005.55555556,  1006.66666667,  1007.77777778,\n",
       "        1008.88888889,  1010.        ])"
      ]
     },
     "execution_count": 7,
     "metadata": {},
     "output_type": "execute_result"
    }
   ],
   "source": [
    "oba + baba"
   ]
  },
  {
   "cell_type": "code",
   "execution_count": 8,
   "metadata": {},
   "outputs": [
    {
     "data": {
      "text/plain": [
       "array([ 1000000.        ,   997779.01234568,   995560.49382716,\n",
       "         993344.44444444,   991130.86419753,   988919.75308642,\n",
       "         986711.11111111,   984504.9382716 ,   982301.2345679 ,   980100.        ])"
      ]
     },
     "execution_count": 8,
     "metadata": {},
     "output_type": "execute_result"
    }
   ],
   "source": [
    "(oba - baba)**2"
   ]
  },
  {
   "cell_type": "code",
   "execution_count": 9,
   "metadata": {},
   "outputs": [
    {
     "data": {
      "text/plain": [
       "array([  0.        ,   1.11111111,   2.22222222,   3.33333333,\n",
       "         4.44444444,   5.55555556,   6.66666667,   7.77777778,\n",
       "         8.88888889,  10.        ])"
      ]
     },
     "execution_count": 9,
     "metadata": {},
     "output_type": "execute_result"
    }
   ],
   "source": [
    "oba"
   ]
  },
  {
   "cell_type": "code",
   "execution_count": 10,
   "metadata": {},
   "outputs": [
    {
     "data": {
      "text/plain": [
       "array([ 1000.,  1000.,  1000.,  1000.,  1000.,  1000.,  1000.,  1000.,\n",
       "        1000.,  1000.])"
      ]
     },
     "execution_count": 10,
     "metadata": {},
     "output_type": "execute_result"
    }
   ],
   "source": [
    "baba"
   ]
  },
  {
   "cell_type": "code",
   "execution_count": 11,
   "metadata": {
    "collapsed": true
   },
   "outputs": [],
   "source": [
    "abba = np.linspace(3,20,10)"
   ]
  },
  {
   "cell_type": "code",
   "execution_count": 16,
   "metadata": {},
   "outputs": [
    {
     "name": "stderr",
     "output_type": "stream",
     "text": [
      "/Users/noahkasmanoff/anaconda/lib/python3.6/site-packages/ipykernel/__main__.py:1: RuntimeWarning: divide by zero encountered in true_divide\n",
      "  if __name__ == '__main__':\n"
     ]
    },
    {
     "data": {
      "text/plain": [
       "array([        inf,  4.4       ,  3.05      ,  2.6       ,  2.375     ,\n",
       "        2.24      ,  2.15      ,  2.08571429,  2.0375    ,  2.        ])"
      ]
     },
     "execution_count": 16,
     "metadata": {},
     "output_type": "execute_result"
    }
   ],
   "source": [
    "np.divide(abba,oba)"
   ]
  },
  {
   "cell_type": "code",
   "execution_count": 13,
   "metadata": {},
   "outputs": [
    {
     "data": {
      "text/plain": [
       "array([  3.        ,   4.88888889,   6.77777778,   8.66666667,\n",
       "        10.55555556,  12.44444444,  14.33333333,  16.22222222,\n",
       "        18.11111111,  20.        ])"
      ]
     },
     "execution_count": 13,
     "metadata": {},
     "output_type": "execute_result"
    }
   ],
   "source": [
    "abba"
   ]
  },
  {
   "cell_type": "code",
   "execution_count": 15,
   "metadata": {},
   "outputs": [
    {
     "data": {
      "text/plain": [
       "array([  0.        ,   1.11111111,   2.22222222,   3.33333333,\n",
       "         4.44444444,   5.55555556,   6.66666667,   7.77777778,\n",
       "         8.88888889,  10.        ])"
      ]
     },
     "execution_count": 15,
     "metadata": {},
     "output_type": "execute_result"
    }
   ],
   "source": [
    "oba"
   ]
  },
  {
   "cell_type": "code",
   "execution_count": null,
   "metadata": {
    "collapsed": true
   },
   "outputs": [],
   "source": []
  }
 ],
 "metadata": {
  "kernelspec": {
   "display_name": "Python 3",
   "language": "python",
   "name": "python3"
  },
  "language_info": {
   "codemirror_mode": {
    "name": "ipython",
    "version": 3
   },
   "file_extension": ".py",
   "mimetype": "text/x-python",
   "name": "python",
   "nbconvert_exporter": "python",
   "pygments_lexer": "ipython3",
   "version": "3.6.1"
  }
 },
 "nbformat": 4,
 "nbformat_minor": 2
}
