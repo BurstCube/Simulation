{
 "cells": [
  {
   "cell_type": "code",
   "execution_count": 1,
   "metadata": {
    "collapsed": true
   },
   "outputs": [],
   "source": [
    "import healpy as hp\n",
    "import numpy as np\n",
    "import random as rand\n",
    "import statistics as s\n",
    "import burstutils as bf"
   ]
  },
  {
   "cell_type": "markdown",
   "metadata": {},
   "source": [
    "This is my workspace where I'm experimenting with the class functions before I end up transferring it into the py version. Some of the things I still need to do while here is:\n",
    "\n",
    "\n",
    "Documentation\n",
    "\n",
    "Random gauss vs poisson\n",
    "\n",
    "Importing modules \n",
    "\n",
    " adding skymaps. \n",
    " \n",
    " \n",
    " Updating how classes are defined (input really best approach?) "
   ]
  },
  {
   "cell_type": "markdown",
   "metadata": {},
   "source": [
    "After redefining classes, build up BurstCube class so that it runs the entire sim! call on module that contains all the functions, length, angle, sep, etc. Should be easiest this way"
   ]
  },
  {
   "cell_type": "code",
   "execution_count": 2,
   "metadata": {
    "collapsed": true
   },
   "outputs": [],
   "source": [
    "class GRBs():\n",
    "   #this produces an error, deal with soon!\n",
    "    \"\"\"\n",
    "    Generates an array of GRB's given \n",
    "    certains strength at different sky positions.\n",
    "    \n",
    "    Output should be an array. \n",
    "    \"\"\"\n",
    "    \n",
    "  #  import numpy as np\n",
    "   # import healpy as hp\n",
    "    def __init__(self,NSIDE,strength):\n",
    "        from healpy import nside2npix\n",
    "        from healpy import pix2ang\n",
    "        #depending on NSIDE, there will be anywhere from 12 to infinite spots on the sky w/ GRBs\n",
    "        self.Ao = strength\n",
    "        self.pixels = nside2npix(NSIDE)\n",
    "\n",
    "        #want to convert these pixels into theta phi coords. \n",
    "        self.sourceangs = []\n",
    "        for i in range(self.pixels):\n",
    "            self.sourceangs.append(pix2ang(NSIDE,i))\n",
    "\n",
    "    def say_Ao(self):\n",
    "        print(\"The GRBs being tested will be \" + str(self.Ao) + \" counts strong.\")\n",
    "        \n",
    "            "
   ]
  },
  {
   "cell_type": "code",
   "execution_count": 3,
   "metadata": {
    "collapsed": true
   },
   "outputs": [],
   "source": [
    "GRB = GRBs(8,500)"
   ]
  },
  {
   "cell_type": "code",
   "execution_count": 4,
   "metadata": {},
   "outputs": [
    {
     "data": {
      "text/plain": [
       "768"
      ]
     },
     "execution_count": 4,
     "metadata": {},
     "output_type": "execute_result"
    }
   ],
   "source": [
    "GRB.pixels"
   ]
  },
  {
   "cell_type": "code",
   "execution_count": 5,
   "metadata": {},
   "outputs": [
    {
     "name": "stdout",
     "output_type": "stream",
     "text": [
      "The GRBs being tested will be 500 counts strong.\n"
     ]
    }
   ],
   "source": [
    "GRB.say_Ao()"
   ]
  },
  {
   "cell_type": "code",
   "execution_count": null,
   "metadata": {
    "collapsed": true
   },
   "outputs": [],
   "source": []
  },
  {
   "cell_type": "code",
   "execution_count": 12,
   "metadata": {
    "collapsed": true
   },
   "outputs": [],
   "source": [
    "class BurstCube():\n",
    "\n",
    "    def __init__(self,background):\n",
    "\n",
    "        self.zenith = [0 , 0]\n",
    "        self.bg = background\n",
    "        test = input(\"Are the detectors alternating? \")\n",
    "        if test == \"yes\" or test == \"Yes\" or test == \"y\" or test == \"asdlfkjawe\":           \n",
    "            self.tiltA = np.deg2rad(float(input(\"Please enter the first tilt (deg) \")))\n",
    "            self.tiltB = np.deg2rad(float(input(\"Please enter the second tilt (deg) \")))\n",
    "            self.tiltC = self.tiltA\n",
    "            self.tiltD = self.tiltB\n",
    "        else:\n",
    "            self.tilt = np.deg2rad(float(input(\"Please enter the tilt (deg) \")))\n",
    "            self.tiltA = self.tiltB = self.tiltC = self.tiltD = self.tilt\n",
    "            \n",
    "    \n",
    "    #make the normal vectors!\n",
    "        #self.detA = [ zenith[0] + self.tiltA , zenith[1] ] \n",
    "        #self.detB = [ zenith[0] + self.tiltB , zenith[1] + np.pi/2 ] \n",
    "       # self.detC = [ zenith[0] + self.tiltC , zenith[1] + np.pi ] \n",
    "        #self.detD = [ zenith[0] + self.tiltD , zenith[1] + 3*np.pi/2 ] \n",
    "\n",
    "        #self.Anorm = hp.ang2vec(self.detA[0],self.detA[1])\n",
    "        #self.Bnorm = hp.ang2vec(self.detB[0],self.detB[1])\n",
    "        #self.Cnorm = hp.ang2vec(self.detC[0],self.detC[1])\n",
    "        #self.Dnorm = hp.ang2vec(self.detD[0],self.detD[1])\n",
    "\n",
    "    \n",
    "       # self.dets = [self.Anorm,self.Bnorm,self.Cnorm,self.Dnorm] \n",
    "        \n",
    "    @property\n",
    "    def detA(self):\n",
    "        \"\"\"BurstCube is composed of 4 separate scintillators to detect and localize events. \n",
    "        In this software package, they are labelled A through D. \n",
    "        \"\"\"\n",
    "        return [ self.zenith[0] + self.tiltA , self.zenith[1] ]\n",
    "    @property \n",
    "    def detB(self):\n",
    "        \"\"\"BurstCube is composed of 4 separate scintillators to detect and localize events. \n",
    "        In this software package, they are labelled A through D. \n",
    "        \"\"\"\n",
    "        return [ self.zenith[0] + self.tiltB , self.zenith[1] + np.pi/2 ]\n",
    "    @property\n",
    "    def detC(self):\n",
    "        \"\"\"BurstCube is composed of 4 separate scintillators to detect and localize events. \n",
    "        In this software package, they are labelled A through D. \n",
    "        \"\"\"\n",
    "        return [ self.zenith[0] + self.tiltC , self.zenith[1] + np.pi]\n",
    "    @property \n",
    "    def detD(self):\n",
    "        \"\"\"BurstCube is composed of 4 separate scintillators to detect and localize events. \n",
    "        In this software package, they are labelled A through D. \n",
    "        \"\"\"\n",
    "        return [ self.zenith[0] + self.tiltD , self.zenith[1] + 3*np.pi/2 ]\n",
    "    @property\n",
    "    def normA(self):\n",
    "        return  hp.ang2vec(self.detA[0],self.detA[1])\n",
    "    @property \n",
    "    def normB(self):\n",
    "        return  hp.ang2vec(self.detB[0],self.detB[1])\n",
    "    @property\n",
    "    def normC(self):\n",
    "        return  hp.ang2vec(self.detC[0],self.detC[1])\n",
    "    @property \n",
    "    def normD(self):\n",
    "        return  hp.ang2vec(self.detD[0],self.detD[1])\n",
    "\n",
    "    \n",
    "    @property\n",
    "    def dets(self):\n",
    "        return [self.normA,self.normB,self.normC,self.normD] \n",
    "    \n",
    "    \n",
    "    \n",
    "    def response2GRB(self, GRB):   #is this how I inherit? \n",
    "        #first need to include the GRB.\n",
    "       \n",
    "        \"\"\"\n",
    "        Using least squares regression, respond2GRB will determine the sky position of an array of GRB sources assuming some inherent background noise within \n",
    "        detectors, along with fluctuations of either Gaussian or Poissonian nature. \n",
    "\n",
    "        Parameters\n",
    "        ----------\n",
    "        GRB : object\n",
    "        \n",
    "        An instance of the separately defined \"GRBs\" class that contains a number of evenly spaced sky positions of a given strength. \n",
    "\n",
    "        Returns\n",
    "        ----------\n",
    "        localizationerrors : array\n",
    "\n",
    "        numpy array that contains the average localization uncertainty at each sky position. \n",
    "\n",
    "        \n",
    "        \"\"\"\n",
    "        \n",
    "        self.localizationerrors = []    \n",
    "        for i in range(len(GRB.sourceangs)):\n",
    "            sourceAng = GRB.sourceangs[i]\n",
    "            print(\"Testing \" + str(np.rad2deg(sourceAng)))\n",
    "           #this check passes.       \n",
    "\n",
    "            \n",
    "           # print(\"Testing at \" + str(np.rad2deg(GRB.sourceangs)))\n",
    "            sourcexyz = hp.ang2vec(sourceAng[0],sourceAng[1]) #cartesian position of the burst\n",
    "            loop = 0 #I'm going to want to sample each sky position more than once,\n",
    "                    #here's where I define how many times that is\n",
    "            locunc = []\n",
    "            while loop<1:\n",
    "                detcounts = []  #number of counts incident in each detector. \n",
    "                for j in range(len(self.dets)):\n",
    "                    sep = (bf.angle(sourcexyz,self.dets[j]))\n",
    "                   # print(\"separation is \" + str(np.rad2deg(sep)))\n",
    "                   #this check passes.  \n",
    "                   \n",
    "                #if sep < np.pi/2: # meaning if >90, would not be facing detector.\n",
    "                    dtheory=GRB.Ao*bf.response(sep)  #still need to define strength, brb and gonna do that \n",
    "                #else: #like I was saying, has to face it!\n",
    "                    #dtheory = 0 \n",
    "                     \n",
    "                   # print(\"dtheory test: \" + str(dtheory))\n",
    "                    # this check passes too. \n",
    "                    \n",
    "                    counts = dtheory + self.bg #another artifact, incl this background effect somewhere\n",
    "                    unccounts = np.sqrt(counts)\n",
    "                    detactual = rand.gauss(counts,unccounts)  #there is a lot of noise, present, updating it now. \n",
    "                    if detactual-self.bg < 0:\n",
    "                        detactual = 1e-5\n",
    "                    \n",
    "                    detcounts.append(detactual)\n",
    "                \n",
    "                \n",
    "                finethetaloc,finephiloc,fineAo = bf.speedy_solver(detcounts,self.dets,self.bg)\n",
    "                \n",
    "                if finethetaloc > 180:\n",
    "                #    print(\"it recovered an unrealistic answer, skip\")\n",
    "                    break\n",
    "                elif finethetaloc < 0:\n",
    "                    #print(\"Same issue, there are limits to theta that are broken here. \")\n",
    "                    break \n",
    "                    \n",
    "                recpos = [finethetaloc,finephiloc]\n",
    "              #  print(\"Recovered position at \" + str(recpos))\n",
    "                \n",
    "                recvec = hp.ang2vec(np.deg2rad(finethetaloc),np.deg2rad(finephiloc))\n",
    "                locunc.append(bf.angle(sourcexyz,recvec))\n",
    "               # print(\"loc unc: \" + str(np.rad2deg(bf.angle(sourcexyz,recvec))) + \" deg\")\n",
    "                loop+=1\n",
    "          #  print(\"Obtained avg loc unc of \" + np.rad2deg(s.mean(locunc)) + \"\")\n",
    "            if len(locunc)>0:\n",
    "                self.localizationerrors.append(np.rad2deg(s.mean(locunc)))\n",
    "            else:\n",
    "                self.localizationerrors(1000)\n",
    "                #some big # signifying that it can't catch it \n",
    "\n",
    "            print(\"Loc unc \" +  str(np.rad2deg(s.mean(locunc))))\n",
    "                #loc unc is the uncertainty at each sky position, localerros is for all of them\n",
    "            \n",
    "            #should there be more selfs? more prints? basically done so time to debug after lunch. \n",
    "        \n",
    "        maybe = input(\"All done with the simulation, want to make the skymap too? \")\n",
    "        \n",
    "        if maybe == \"yes\" or maybe == \"Yes\" or maybe == \"y\": \n",
    "            import matplotlib.pyplot as plt\n",
    "            from healpy import newvisufunc\n",
    "            if len(self.localizationerrors) == len(GRB.sourceangs):\n",
    "                im = np.array(self.localizationerrors)\n",
    "            else:\n",
    "                blockedpart=1000*np.ones(GRB.pixels-len(self.localizadtionerrors))\n",
    "                im = np.concatenate((self.localizationerrors,blockedpart))\n",
    "            hp.newvisufunc.mollview(im,min=0, max=30,unit='Localization Accurary (degrees)',graticule=True,graticule_labels=True,cmap='viridis_r')\n",
    "            plt.title('All Sky Localization Uncertainty for BurstCube')\n",
    "        else:\n",
    "            print(\"Ok, maybe next time!\")\n",
    "\n",
    "        return self.localizationerrors\n",
    "            \n",
    "    \n",
    "    "
   ]
  },
  {
   "cell_type": "code",
   "execution_count": 13,
   "metadata": {},
   "outputs": [
    {
     "name": "stdout",
     "output_type": "stream",
     "text": [
      "Are the detectors alternating? no\n",
      "Please enter the tilt (deg) 45\n"
     ]
    }
   ],
   "source": [
    "cube1 = BurstCube(background=1000)\n"
   ]
  },
  {
   "cell_type": "code",
   "execution_count": null,
   "metadata": {
    "scrolled": false
   },
   "outputs": [
    {
     "name": "stdout",
     "output_type": "stream",
     "text": [
      "Testing [ 48.1896851  45.       ]\n",
      "chi terms: \n",
      "chi terms: \n",
      "chi terms: \n",
      "chi terms: \n",
      "Index of theta; 0\n",
      "Theta loc 0.0\n",
      "Loc unc 48.1896851042\n",
      "Testing [  48.1896851  135.       ]\n",
      "chi terms: \n",
      "chi terms: \n",
      "chi terms: \n",
      "chi terms: \n",
      "Index of theta; 0\n",
      "Theta loc 0.0\n",
      "Loc unc 48.1896851042\n",
      "Testing [  48.1896851  225.       ]\n",
      "chi terms: \n",
      "chi terms: \n",
      "chi terms: \n",
      "chi terms: \n",
      "Index of theta; 0\n",
      "Theta loc 0.0\n",
      "Loc unc 48.1896851042\n",
      "Testing [  48.1896851  315.       ]\n",
      "chi terms: \n",
      "chi terms: \n",
      "chi terms: \n",
      "chi terms: \n",
      "Index of theta; 0\n",
      "Theta loc 0.0\n",
      "Loc unc 48.1896851042\n",
      "Testing [ 90.   0.]\n",
      "chi terms: \n",
      "chi terms: \n",
      "chi terms: \n",
      "chi terms: \n",
      "Index of theta; 0\n",
      "Theta loc 0.0\n",
      "Loc unc 90.0\n",
      "Testing [ 90.  90.]\n",
      "chi terms: \n",
      "chi terms: \n",
      "chi terms: \n",
      "chi terms: \n",
      "Index of theta; 0\n",
      "Theta loc 0.0\n",
      "Loc unc 90.0\n",
      "Testing [  90.  180.]\n",
      "chi terms: \n",
      "chi terms: \n",
      "chi terms: \n",
      "chi terms: \n",
      "Index of theta; 0\n",
      "Theta loc 0.0\n",
      "Loc unc 90.0\n",
      "Testing [  90.  270.]\n",
      "chi terms: \n",
      "chi terms: \n",
      "chi terms: \n",
      "chi terms: \n",
      "Index of theta; 0\n",
      "Theta loc 0.0\n",
      "Loc unc 90.0\n",
      "Testing [ 131.8103149   45.       ]\n",
      "chi terms: \n",
      "chi terms: \n",
      "chi terms: \n",
      "chi terms: \n",
      "Index of theta; 0\n",
      "Theta loc 0.0\n",
      "Loc unc 131.810314896\n",
      "Testing [ 131.8103149  135.       ]\n",
      "chi terms: \n",
      "chi terms: \n",
      "chi terms: \n",
      "chi terms: \n",
      "Index of theta; 0\n",
      "Theta loc 0.0\n",
      "Loc unc 131.810314896\n",
      "Testing [ 131.8103149  225.       ]\n",
      "chi terms: \n",
      "chi terms: \n",
      "chi terms: \n",
      "chi terms: \n",
      "Index of theta; 0\n",
      "Theta loc 0.0\n",
      "Loc unc 131.810314896\n",
      "Testing [ 131.8103149  315.       ]\n",
      "chi terms: \n",
      "chi terms: \n",
      "chi terms: \n",
      "chi terms: \n",
      "Index of theta; 0\n",
      "Theta loc 0.0\n",
      "Loc unc 131.810314896\n"
     ]
    }
   ],
   "source": [
    "cube1.response2GRB(GRB)"
   ]
  },
  {
   "cell_type": "code",
   "execution_count": null,
   "metadata": {
    "collapsed": true
   },
   "outputs": [],
   "source": []
  },
  {
   "cell_type": "code",
   "execution_count": null,
   "metadata": {
    "collapsed": true
   },
   "outputs": [],
   "source": []
  },
  {
   "cell_type": "code",
   "execution_count": null,
   "metadata": {
    "collapsed": true
   },
   "outputs": [],
   "source": [
    "    def plot_skymap(self,GRB):\n",
    "        import numpy as np\n",
    "        import matplotlib.pyplot as plt\n",
    "        import healpy as hp\n",
    "        from healpy import newvisufunc\n",
    "        if len(self.localizationerrors) == len(GRB.sourceangs):  #if the function successfully was able to catch all the spots (meaning nothing went wrong!)\n",
    "            im = np.array(self.localizationerrors) \n",
    "        else:\n",
    "            blockedpart=1000*np.ones(GRB.pixels-len(angoffset))\n",
    "            im=np.concatenate((self.localizationerrors,blockedpart))\n",
    "        hp.newvisufunc.mollview(im,min=0, max=50,unit='Localization Accurary (degrees)',graticule=True,graticule_labels=True,cmap='viridis_r')\n",
    "        plt.title('All Sky Localization Uncertainty for BurstCube')\n",
    "        "
   ]
  },
  {
   "cell_type": "code",
   "execution_count": null,
   "metadata": {
    "collapsed": true
   },
   "outputs": [],
   "source": [
    "\n",
    "import numpy as np\n",
    "import matplotlib.pyplot as plt\n",
    "import healpy as hp\n",
    "from healpy import newvisufunc\n",
    "%matplotlib notebook\n",
    "if len(im) == 48:\n",
    "    im = np.array(im)\n",
    "else:\n",
    "    blockedpart= 1000*np.ones(48-len(im))\n",
    "    im=np.concatenate((im,blockedpart))\n",
    "hp.newvisufunc.mollview(im,min=0, max=50,unit='Localization Accurary (degrees)',graticule=True,graticule_labels=True,cmap='viridis_r')\n"
   ]
  },
  {
   "cell_type": "code",
   "execution_count": null,
   "metadata": {
    "collapsed": true
   },
   "outputs": [],
   "source": [
    "im = [12.193725149835284,\n",
    " 25.25448240996645,\n",
    " 22.305707106859245,\n",
    " 23.965693073949609,\n",
    " 52.008548584668084,\n",
    " 27.821629706579458,\n",
    " 37.423685868114056,\n",
    " 68.476263273719425,\n",
    " 30.625361189430574,\n",
    " 23.401815051293706,\n",
    " 43.663123284390203,\n",
    " 19.564729694837329,\n",
    " 51.433859688574401,\n",
    " 74.844783683652736,\n",
    " 56.576057682336121,\n",
    " 33.323870897313476,\n",
    " 90.612650101315353,\n",
    " 82.253008561973189,\n",
    " 80.329406453087046,\n",
    " 94.19026553811679,\n",
    " 99.538349117642525,\n",
    " 75.175862782099529,\n",
    " 51.048488219348087,\n",
    " 74.128524449751453,\n",
    " 58.480977383443751,\n",
    " 52.597647136484362,\n",
    " 77.222734640119555,\n",
    " 103.61494510174424,\n",
    " 41.109554839392487,\n",
    " 76.269478377179141,\n",
    " 98.202392939060829,\n",
    " 99.73653357751094,\n",
    " 122.38781518900511,\n",
    " 74.733648939874953,\n",
    " 99.483079370711494,\n",
    " 100.81648250231294,\n",
    " 142.5793551632658,\n",
    " 128.99519400895949,\n",
    " 109.03771544592294,\n",
    " 98.612082515419004,\n",
    " 127.9138150277825,\n",
    " 93.497546429808551,\n",
    " 141.23279694489702,\n",
    " 130.06560240843098,\n",
    " 157.61167766859899,\n",
    " 129.80910207180099]\n"
   ]
  },
  {
   "cell_type": "code",
   "execution_count": null,
   "metadata": {
    "collapsed": true
   },
   "outputs": [],
   "source": [
    "chiterms = np.zeros(1000)"
   ]
  },
  {
   "cell_type": "code",
   "execution_count": null,
   "metadata": {
    "collapsed": true,
    "scrolled": true
   },
   "outputs": [],
   "source": [
    "chiterms = chiterms + np.linspace(0,999,1000)"
   ]
  },
  {
   "cell_type": "code",
   "execution_count": null,
   "metadata": {
    "collapsed": true
   },
   "outputs": [],
   "source": [
    "chiterms += np.linspace(0,999,1000)"
   ]
  },
  {
   "cell_type": "code",
   "execution_count": null,
   "metadata": {
    "collapsed": true
   },
   "outputs": [],
   "source": [
    "len(chiterms)"
   ]
  },
  {
   "cell_type": "code",
   "execution_count": null,
   "metadata": {
    "collapsed": true,
    "scrolled": true
   },
   "outputs": [],
   "source": [
    "cube1.response2GRB(GRB)"
   ]
  },
  {
   "cell_type": "code",
   "execution_count": null,
   "metadata": {
    "collapsed": true
   },
   "outputs": [],
   "source": [
    "cube1.plot_skymap()"
   ]
  },
  {
   "cell_type": "code",
   "execution_count": null,
   "metadata": {
    "collapsed": true
   },
   "outputs": [],
   "source": [
    "import matplotlib.pyplot as plt\n",
    "plt.show()"
   ]
  },
  {
   "cell_type": "code",
   "execution_count": null,
   "metadata": {
    "collapsed": true
   },
   "outputs": [],
   "source": [
    "#to generate an array of all the source angles, and basically follow that \n",
    "\n",
    "GRB = GRBs(2)  #only thing I have to identify is the nside\n",
    "len(GRB.sourceangs)"
   ]
  },
  {
   "cell_type": "code",
   "execution_count": null,
   "metadata": {
    "collapsed": true
   },
   "outputs": [],
   "source": [
    "import numpy as np\n",
    "import healpy as hp\n",
    "import burstfuncs as bf\n",
    "import random as rand\n",
    "\n",
    "class GRBs():\n",
    " \n",
    "    \"\"\"\n",
    "    Generates an array of GRB's with some given strength at different sky positions.\n",
    "    \n",
    "    Output should be an array. \n",
    "    \"\"\"\n",
    "    def __init__(self,NSIDE,strength):\n",
    "        import numpy as np\n",
    "        import healpy as hp\n",
    "        #depending on NSIDE, there will be anywhere from 12 to infinite spots on the sky w/ GRBs\n",
    "        self.Ao = strength\n",
    "        self.pixels = hp.nside2npix(NSIDE)\n",
    "\n",
    "        #want to convert these pixels into theta phi coords. \n",
    "        self.sourceangs = []\n",
    "        for i in range(self.pixels):\n",
    "            self.sourceangs.append(hp.pix2ang(NSIDE,i))\n",
    "\n",
    "\n",
    "class BurstCube:\n",
    "    def __init__(self,background):\n",
    "        import numpy as np\n",
    "        import healpy as hp\n",
    "        import burstfuncs as bf\n",
    "        self.zenith = [0 , 0]\n",
    "        self.bg = background\n",
    "        test = input(\"Are the detectors alternating? \")\n",
    "        if test == \"yes\" or test == \"Yes\" or test == \"y\" or test == \"asdlfkjawe\":           \n",
    "            self.tiltA = np.deg2rad(float(input(\"Please enter the first tilt (deg) \")))\n",
    "            self.tiltB = np.deg2rad(float(input(\"Please enter the second tilt (deg) \")))\n",
    "            self.tiltC = self.tiltA\n",
    "            self.tiltD = self.tiltB\n",
    "        else:\n",
    "            self.tilt = np.deg2rad(float(input(\"Please enter the tilt (deg) \")))\n",
    "            self.tiltA = self.tiltB = self.tiltC = self.tiltD = self.tilt\n",
    "            \n",
    "        \n",
    "    @property\n",
    "    def detA(self):\n",
    "        return [ self.zenith[0] + self.tiltA , self.zenith[1] ]\n",
    "    @property \n",
    "    def detB(self):\n",
    "        return [ self.zenith[0] + self.tiltB , self.zenith[1] + np.pi/2 ]\n",
    "    @property\n",
    "    def detC(self):\n",
    "        return [ self.zenith[0] + self.tiltC , self.zenith[1] ]\n",
    "    @property \n",
    "    def detD(self):\n",
    "        return [ self.zenith[0] + self.tiltD , self.zenith[1] + np.pi/2 ]\n",
    "    @property\n",
    "    def normA(self):\n",
    "        return  hp.ang2vec(self.detA[0],self.detA[1])\n",
    "    @property \n",
    "    def normB(self):\n",
    "        return  hp.ang2vec(self.detB[0],self.detB[1])\n",
    "    @property\n",
    "    def normC(self):\n",
    "        return  hp.ang2vec(self.detC[0],self.detC[1])\n",
    "    @property \n",
    "    def normD(self):\n",
    "        return  hp.ang2vec(self.detD[0],self.detD[1])\n",
    "\n",
    "    \n",
    "    @property\n",
    "    def dets(self):\n",
    "        return [self.normA,self.normB,self.normC,self.normD] \n",
    "    \n",
    "    \n",
    "    \n",
    "    \n",
    "    def respond2GRB(self, GRB):   #is this how I inherit? \n",
    "        #first need to include the GRB.\n",
    "        \n",
    "        #Putting these here as a reminder, need to learn how to implement Gaussian fluctuations, hopefully in a similar to the actions gauss(x,sigmax)\n",
    "        #Gauss = True\n",
    "        #Poisson = False\n",
    "\n",
    "\n",
    "        \"\"\"\n",
    "        Using least squares regression, respond2GRB will determine the sky position of an array of GRB sources assuming some inherent background noise within \n",
    "        detectors, along with fluctuations of either Gaussian or Poissonian nature. \n",
    "\n",
    "        Parameters\n",
    "        ----------\n",
    "        GRB : object\n",
    "        \n",
    "        An instance of the separately defined \"GRBs\" class that contains a number of evenly spaced sky positions of a given strength. \n",
    "\n",
    "        Returns\n",
    "        ----------\n",
    "        localizationerrors : array\n",
    "\n",
    "        numpy array that contains the average localization uncertainty at each sky position. \n",
    "\n",
    "        \n",
    "        \"\"\"\n",
    "        localizationerrors = []    \n",
    "        for i in range(len(GRB.sourceangs)):\n",
    "            sourceAng = GRB.sourceangs[i]\n",
    "           # print(\"Source angle is \" + str(sourceAng))\n",
    "           #this check passes.       \n",
    "\n",
    "            \n",
    "           # print(\"Testing at \" + str(np.rad2deg(GRB.sourceangs)))\n",
    "            sourcexyz = hp.ang2vec(sourceAng[0],sourceAng[1]) #cartesian position of the burst\n",
    "            loop = 0 #I'm going to want to sample each sky position more than once,\n",
    "                    #here's where I define how many times that is\n",
    "            locunc = []\n",
    "            while loop<3:\n",
    "                detcounts = []  #number of counts incident in each detector. \n",
    "                for j in range(len(self.dets)):\n",
    "                    sep=bf.angle(sourcexyz,self.dets[j])\n",
    "                   # print(\"separation is \" + str(np.rad2deg(sep)))\n",
    "                   #this check passes.  \n",
    "               \n",
    "                    if sep < np.pi/2: # meaning if >90, would not be facing detector.\n",
    "                        dtheory=GRB.Ao*bf.response(sourcexyz,self.dets[j])  #still need to define strength, brb and gonna do that \n",
    "                    else: #like I was saying, has to face it!\n",
    "                        dtheory = 0 \n",
    "                     \n",
    "                   # print(\"dtheory test: \" + str(dtheory))\n",
    "                    # this check passes too. \n",
    "                    \n",
    "                    counts = dtheory + self.bg #another artifact, incl this background effect somewhere\n",
    "                    unccounts = np.sqrt(counts)\n",
    "                    detactual = rand.gauss(counts,unccounts)  #there is a lot of noise, present, updating it now. \n",
    "                    if detactual-self.bg < 0:\n",
    "                        detactual = 0\n",
    "                    \n",
    "                    detcounts.append(detactual)\n",
    "    \n",
    "                   #now for the LSF method using chi squared, applies a coarse to fine refactor here. \n",
    "                   #plenty of old variable names to update as well. \n",
    "                \n",
    "                   # print(\"after fluctuations, \" + str(detactual))\n",
    "                    #fixed indentation errors, uninstalled module, legacy code all fixed. Passes. \n",
    "\n",
    "                \n",
    "                \n",
    "                coarsethetaloc,coarsephiloc,coarseAo = bf.solver(detcounts,self.dets,0,90,0,360,12,self.bg)\n",
    "                finethetaloc,finephiloc,fineAo = bf.solver(detcounts,self.dets,coarsethetaloc-5,coarsethetaloc+5,coarsephiloc-7,coarsephiloc+7,12,self.bg)\n",
    "                \n",
    "                if finethetaloc > 180:\n",
    "                #    print(\"it recovered an unrealistic answer, skip\")\n",
    "                    break\n",
    "                elif finethetaloc < 0:\n",
    "                    #print(\"Same issue, there are limits to theta that are broken here. \")\n",
    "                    break \n",
    "                    \n",
    "                recpos = [finethetaloc,finephiloc]\n",
    "                recvec = hp.ang2vec(np.deg2rad(finethetaloc),np.deg2rad(finephiloc))\n",
    "                locunc.append(bf.angle(sourcexyz,recvec))\n",
    "               # print(\"loc unc\" + str(locunc))\n",
    "                loop+=1\n",
    "            print(np.rad2deg(s.mean(locunc)))\n",
    "\n",
    "            localizationerrors.append(np.rad2deg(s.mean(locunc)))\n",
    "\n",
    "           # print(\"obtained error of\" +  str(s.mean(locunc)))\n",
    "                #loc unc is the uncertainty at each sky position, localerros is for all of them\n",
    "            \n",
    "            #should there be more selfs? more prints? basically done so time to debug after lunch. \n",
    "        return localizationerrors\n",
    "        "
   ]
  },
  {
   "cell_type": "code",
   "execution_count": null,
   "metadata": {
    "collapsed": true
   },
   "outputs": [],
   "source": [
    "GRB = GRBs(NSIDE=8,strength=500)"
   ]
  },
  {
   "cell_type": "code",
   "execution_count": null,
   "metadata": {
    "collapsed": true
   },
   "outputs": [],
   "source": [
    "cubesat = BurstCube(background=1000)"
   ]
  },
  {
   "cell_type": "code",
   "execution_count": null,
   "metadata": {
    "collapsed": true
   },
   "outputs": [],
   "source": [
    "cubesat.bg"
   ]
  },
  {
   "cell_type": "code",
   "execution_count": null,
   "metadata": {
    "collapsed": true
   },
   "outputs": [],
   "source": [
    "cubesat.respond2GRB(GRB)"
   ]
  },
  {
   "cell_type": "code",
   "execution_count": null,
   "metadata": {
    "collapsed": true
   },
   "outputs": [],
   "source": [
    "import numpy as np"
   ]
  },
  {
   "cell_type": "code",
   "execution_count": null,
   "metadata": {
    "collapsed": true
   },
   "outputs": [],
   "source": [
    "type(np.arange(0,100))\n"
   ]
  },
  {
   "cell_type": "code",
   "execution_count": null,
   "metadata": {
    "collapsed": true
   },
   "outputs": [],
   "source": [
    "type(np.linspace(0,100,101))"
   ]
  },
  {
   "cell_type": "code",
   "execution_count": null,
   "metadata": {
    "collapsed": true
   },
   "outputs": [],
   "source": [
    "        \n",
    "        Chisep = \n",
    "\n",
    "\n",
    "        \n",
    "        for sa in range(len(oa)): \n",
    "            for sb in range(len(ob)):\n",
    "                for sc in range(len(Aofit)):\n",
    "                    #make sure it fits within the acceptable range\n",
    "                    if oa[sa]>=0 and oa[sa]<=np.pi and ob[sb]>=0 and ob[sb]<=2*np.pi:\n",
    "                        CHIsourceang=[oa[sa],ob[sb]]\n",
    "                        CHIsourcexyz = hp.ang2vec(CHIsourceang[0],CHIsourceang[1])\n",
    "                        CHIsep=angle(CHIsourcexyz,detnorms[s])                                           \n",
    "                        if CHIsep<np.pi/2: \n",
    "                            chi=Aofit[sc]*response(CHIsourcexyz,detnorms[s])+bgrd\n",
    "                            #print(\"Chi test angle\"+str(CHIsourcexyz))\n",
    "                            #print(\"detector\"+str(dets[s]))\n",
    "                            #print(\"chi sometiems\"+str(chi))\n",
    "                            #print(\"separation here, is it okay? \" +str(np.rad2deg(CHIsep)))\n",
    "\n",
    "                            #this produces nan error, se\n",
    "                            \n",
    "                        else:\n",
    "                            chi=0            \n",
    "                        if detsvals[s]>0:   #if there is a signal in the detector \n",
    "                            chiterm=((chi-detsvals[s])**2/detsvals[s])\n",
    "                        else:    #if not, just zero \n",
    "                            chiterm=1e10"
   ]
  },
  {
   "cell_type": "code",
   "execution_count": null,
   "metadata": {
    "collapsed": true
   },
   "outputs": [],
   "source": [
    "from astropy.coordinates import SkyCoord"
   ]
  },
  {
   "cell_type": "code",
   "execution_count": null,
   "metadata": {
    "collapsed": true
   },
   "outputs": [],
   "source": [
    "SkyCoord.separation()"
   ]
  },
  {
   "cell_type": "code",
   "execution_count": 1,
   "metadata": {
    "collapsed": true
   },
   "outputs": [],
   "source": [
    "chisquareds = [10,100,4,60,66,1002,99,93]"
   ]
  },
  {
   "cell_type": "code",
   "execution_count": null,
   "metadata": {
    "collapsed": true
   },
   "outputs": [],
   "source": [
    "utils.indexer(chisquareds,bottheta,toptheta,botphi,topphi,botA,6,2,2,2)"
   ]
  }
 ],
 "metadata": {
  "kernelspec": {
   "display_name": "Python 3",
   "language": "python",
   "name": "python3"
  },
  "language_info": {
   "codemirror_mode": {
    "name": "ipython",
    "version": 3
   },
   "file_extension": ".py",
   "mimetype": "text/x-python",
   "name": "python",
   "nbconvert_exporter": "python",
   "pygments_lexer": "ipython3",
   "version": "3.6.1"
  }
 },
 "nbformat": 4,
 "nbformat_minor": 2
}
