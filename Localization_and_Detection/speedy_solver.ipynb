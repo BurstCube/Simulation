{
 "cells": [
  {
   "cell_type": "code",
   "execution_count": null,
   "metadata": {
    "collapsed": true
   },
   "outputs": [],
   "source": [
    "def speedy_solver(detsvals,detnorms,bottheta,toptheta,botphi,topphi,n):\n",
    "    theta = np.deg2rad(np.linspace(0,90,10))\n",
    "    phi = np.deg2rad(np.linspace(0,360,37))\n",
    "    mtheta,mphi = np.meshgrid(theta,phi)\n",
    "    chiveco = hp.ang2vec(mtheta,mphi)\n",
    "    chivecs = np.concatenate(chiveco)\n",
    "    As= np.linspace(0,1000,30)\n",
    "    chiterms = 0\n",
    "    for s in range(len(detsvals)):\n",
    "        normarr = detnorms[s]\n",
    "        normarrs = []\n",
    "        for garc in range((len(theta)*len(phi))):\n",
    "            normarrs.append([normarr[0],normarr[1],normarr[2]])\n",
    "        \n",
    "        seps = findAngles(chivecs,normarrs)\n",
    "\n",
    "        AA,SS = np.meshgrid(As,seps)\n",
    "\n",
    "        Aofit = np.concatenate(AA)\n",
    "        chiseps = np.concatenate(SS)\n",
    "        bg = 1000 * np.ones(len(chiseps))\n",
    "        chiResponse = np.multiply(Aofit,response(chiseps)) + bg\n",
    "        chiterm = np.divide(np.power(np.subtract(chiResponse,detsvals[s]),2),detsvals[s])\n",
    "        chiterms += chiterm\n",
    "    chimin = min(chiterms)\n",
    "    chisquareds = list(chiterms)\n",
    "    thetaloc = np.rad2deg(theta[int((chisquareds.index(chimin)-(chisquareds.index(chimin) % (len(phi)*len(Aofit))))/(len(phi)*len(Aofit)))])\n",
    "    philoc = np.rad2deg(phi[int(((chisquareds.index(chimin) % (len(phi)*len(Aofit)))-(chisquareds.index(chimin) % (len(Aofit))))/len(Aofit))])\n",
    "    Aoguess=Aofit[int((chisquareds.index(chimin) % (len(phi)*len(Aofit)))  % len(Aofit))]\n",
    "    \n",
    "    return thetaloc,philoc,Aoguess"
   ]
  }
 ],
 "metadata": {
  "kernelspec": {
   "display_name": "Python 3",
   "language": "python",
   "name": "python3"
  },
  "language_info": {
   "codemirror_mode": {
    "name": "ipython",
    "version": 3
   },
   "file_extension": ".py",
   "mimetype": "text/x-python",
   "name": "python",
   "nbconvert_exporter": "python",
   "pygments_lexer": "ipython3",
   "version": "3.6.1"
  }
 },
 "nbformat": 4,
 "nbformat_minor": 2
}
