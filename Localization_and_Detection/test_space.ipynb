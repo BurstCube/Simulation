{
 "cells": [
  {
   "cell_type": "code",
   "execution_count": 1,
   "metadata": {
    "collapsed": true
   },
   "outputs": [],
   "source": [
    "\n",
    "#Needs to know how to point to healpy \n",
    "import healpy as hp\n",
    "\n",
    "class Sky():\n",
    "    \"\"\"\n",
    "    Generates an array of GRB's given \n",
    "    certains strength at different sky positions.\n",
    "    \n",
    "    Output should be an array. \n",
    "    \"\"\"\n",
    "    def __init__(self,NSIDE,strength):\n",
    "\n",
    "        #depending on NSIDE, there will be anywhere from 12 to infinite spots on the sky w/ GRBs\n",
    "        self.Ao = strength\n",
    "        self.pixels = hp.nside2npix(NSIDE)\n",
    "\n",
    "        #want to convert these pixels into theta phi coords. \n",
    "        self.sourceangs = []\n",
    "        for i in range(self.pixels):\n",
    "            self.sourceangs.append(hp.pix2ang(NSIDE,i))\n",
    "\n",
    "    def say_Ao(self):\n",
    "        \"\"\"\n",
    "        \"\"\"\n",
    "\n",
    "        print(\"The GRBs being tested will be \" + str(self.Ao) + \" counts strong.\")\n",
    "        \n"
   ]
  },
  {
   "cell_type": "code",
   "execution_count": 14,
   "metadata": {},
   "outputs": [],
   "source": [
    "import numpy as np\n",
    "import healpy as hp\n",
    "import burstutils as bf\n",
    "import random as rand\n",
    "import statistics as s\n",
    "\n",
    "class BurstCube():\n",
    "\n",
    "    def __init__(self,background,dettilt,alternating=False):\n",
    "        if alternating == False:\n",
    "            self.tilt = np.deg2rad(dettilt)\n",
    "            self.tiltA = self.tiltB = self.tiltC = self.tiltD = self.tilt\n",
    "        \n",
    "        else:\n",
    "            self.tiltB = np.deg2rad(float(input(\"Please enter the second tilt (deg) \")))\n",
    "        \n",
    "            self.tiltC = self.tiltA = dettilt\n",
    "            self.tiltD = self.tiltB\n",
    "        self.zenith = [0 , 0]\n",
    "        self.bg = background\n",
    "\n",
    "            \n",
    "    \n",
    "    #make the normal vectors!\n",
    "        #self.detA = [ zenith[0] + self.tiltA , zenith[1] ] \n",
    "        #self.detB = [ zenith[0] + self.tiltB , zenith[1] + np.pi/2 ] \n",
    "       # self.detC = [ zenith[0] + self.tiltC , zenith[1] + np.pi ] \n",
    "        #self.detD = [ zenith[0] + self.tiltD , zenith[1] + 3*np.pi/2 ] \n",
    "\n",
    "        #self.Anorm = hp.ang2vec(self.detA[0],self.detA[1])\n",
    "        #self.Bnorm = hp.ang2vec(self.detB[0],self.detB[1])\n",
    "        #self.Cnorm = hp.ang2vec(self.detC[0],self.detC[1])\n",
    "        #self.Dnorm = hp.ang2vec(self.detD[0],self.detD[1])\n",
    "\n",
    "    \n",
    "       # self.dets = [self.Anorm,self.Bnorm,self.Cnorm,self.Dnorm] \n",
    "        \n",
    "    @property\n",
    "    def detA(self):\n",
    "        \"\"\"BurstCube is composed of 4 separate scintillators to detect and localize events. \n",
    "        In this software package, they are labelled A through D. \n",
    "        \"\"\"\n",
    "        return [ self.zenith[0] + self.tiltA , self.zenith[1] ]\n",
    "    @property \n",
    "    def detB(self):\n",
    "        \"\"\"BurstCube is composed of 4 separate scintillators to detect and localize events. \n",
    "        In this software package, they are labelled A through D. \n",
    "        \"\"\"\n",
    "        return [ self.zenith[0] + self.tiltB , self.zenith[1] + np.pi/2 ]\n",
    "    @property\n",
    "    def detC(self):\n",
    "        \"\"\"BurstCube is composed of 4 separate scintillators to detect and localize events. \n",
    "        In this software package, they are labelled A through D. \n",
    "        \"\"\"\n",
    "        return [ self.zenith[0] + self.tiltC , self.zenith[1] + np.pi ]\n",
    "    @property \n",
    "    def detD(self):\n",
    "        \"\"\"BurstCube is composed of 4 separate scintillators to detect and localize events. \n",
    "        In this software package, they are labelled A through D. \n",
    "        \"\"\"\n",
    "        return [ self.zenith[0] + self.tiltD , self.zenith[1] + 3*np.pi/2 ]\n",
    "    @property\n",
    "    def normA(self):\n",
    "        return  hp.ang2vec(self.detA[0],self.detA[1])\n",
    "    @property \n",
    "    def normB(self):\n",
    "        return  hp.ang2vec(self.detB[0],self.detB[1])\n",
    "    @property\n",
    "    def normC(self):\n",
    "        return  hp.ang2vec(self.detC[0],self.detC[1])\n",
    "    @property \n",
    "    def normD(self):\n",
    "        return  hp.ang2vec(self.detD[0],self.detD[1])\n",
    "\n",
    "    \n",
    "    @property\n",
    "    def dets(self):\n",
    "        return [self.normA,self.normB,self.normC,self.normD] \n",
    "    \n",
    "    \n",
    "    \n",
    "    def response2GRB(self, GRB):   #is this how I inherit? \n",
    "        #first need to include the GRB.\n",
    "       \n",
    "        \"\"\"\n",
    "        Using least squares regression, respond2GRB will determine the sky position of an array of GRB sources assuming some inherent background noise within \n",
    "        detectors, along with fluctuations of either Gaussian or Poissonian nature. \n",
    "\n",
    "        Parameters\n",
    "        ----------\n",
    "        GRB : object\n",
    "        \n",
    "        An instance of the separately defined \"GRBs\" class that contains a number of evenly spaced sky positions of a given strength. \n",
    "\n",
    "        Returns\n",
    "        ----------\n",
    "        localizationerrors : array\n",
    "\n",
    "        numpy array that contains the average localization uncertainty at each sky position. \n",
    "\n",
    "        \n",
    "        \"\"\"\n",
    "        \n",
    "        self.localizationerrors = []    \n",
    "        for i in range(1):       #len(GRB.sourceangs)):\n",
    "            sourceAng = GRB.sourceangs[i]\n",
    "            print(\"Testing \" + str(np.rad2deg(sourceAng)))\n",
    "           #this check passes.       \n",
    "\n",
    "            \n",
    "           # print(\"Testing at \" + str(np.rad2deg(GRB.sourceangs)))\n",
    "            sourcexyz = hp.ang2vec(sourceAng[0],sourceAng[1]) #cartesian position of the burst\n",
    "            loop = 0 #I'm going to want to sample each sky position more than once,\n",
    "                    #here's where I define how many times that is\n",
    "            locunc = []\n",
    "            while loop<1:\n",
    "                detcounts = []  #number of counts incident in each detector. \n",
    "                for j in range(len(self.dets)):\n",
    "                    sep=bf.angle(sourcexyz,self.dets[j])\n",
    "                   # print(\"separation is \" + str(np.rad2deg(sep)))\n",
    "                   #this check passes.  \n",
    "               \n",
    "                    if sep < np.pi/2: # meaning if >90, would not be facing detector.\n",
    "                        dtheory=GRB.Ao*bf.response(bf.angle(sourcexyz,self.dets[j]))  #still need to define strength, brb and gonna do that \n",
    "                    else: #like I was saying, has to face it!\n",
    "                        dtheory = 0 \n",
    "                     \n",
    "                   # print(\"dtheory test: \" + str(dtheory))\n",
    "                    # this check passes too. \n",
    "                    \n",
    "                    counts = dtheory + self.bg #another artifact, incl this background effect somewhere\n",
    "                    unccounts = np.sqrt(counts)\n",
    "                    detactual = rand.gauss(counts,unccounts)  #there is a lot of noise, present, updating it now. \n",
    "                    if detactual-self.bg < 0:\n",
    "                        detactual = self.bg\n",
    "                    \n",
    "                    detcounts.append(detactual)\n",
    "                \n",
    "                \n",
    "                self.chiangs, self.chiR, self.chiterms = bf.speedy_solver(detcounts,self.dets,0,90,0,360,37,self.bg)\n",
    "                chisquareds = list(self.chiterms)\n",
    "                chimin = min(self.chiterms)\n",
    "                print(\"Response in chi \" + str(self.chiR))\n",
    "                print(\"chi min \" + str(min(self.chiterms)) )\n",
    "                print(\"index of chimin in array \" + str(chisquareds.index(chimin)))\n",
    "                \"\"\"\n",
    "                if finethetaloc > 180:\n",
    "                #    print(\"it recovered an unrealistic answer, skip\")\n",
    "                    break\n",
    "                elif finethetaloc < 0:\n",
    "                    #print(\"Same issue, there are limits to theta that are broken here. \")\n",
    "                    break \n",
    "                recpos = [finethetaloc,finephiloc]\n",
    "              #  print(\"Recovered position at \" + str(recpos))\n",
    "                \n",
    "                recvec = hp.ang2vec(np.deg2rad(finethetaloc),np.deg2rad(finephiloc))\n",
    "                locunc.append(bf.angle(sourcexyz,recvec))\n",
    "              #   print(\"loc unc: \" + str(np.rad2deg(bf.angle(sourcexyz,recvec))) + \" deg\")\n",
    "                \"\"\"\n",
    "                loop+=1\n",
    "          #  print(\"Obtained avg loc unc of \" + np.rad2deg(s.mean(locunc)) + \"\")\n",
    "           # if len(locunc)>0:\n",
    "            #    self.localizationerrors.append(np.rad2deg(s.mean(locunc)))\n",
    "            #else:\n",
    "            #    self.localizationerrors.append(1000)\n",
    "                #some big # signifying that it can't catch it \n",
    "\n",
    "           # print(\"avg loc unc  \" +  str(s.mean(np.rad2deg(locunc))))\n",
    "\n",
    "      #  return self.localizationerrors\n"
   ]
  },
  {
   "cell_type": "code",
   "execution_count": 15,
   "metadata": {
    "collapsed": true
   },
   "outputs": [],
   "source": [
    "GRB1 = Sky(8,500)"
   ]
  },
  {
   "cell_type": "code",
   "execution_count": 16,
   "metadata": {},
   "outputs": [],
   "source": [
    "cube1= BurstCube(1000,45)"
   ]
  },
  {
   "cell_type": "code",
   "execution_count": 17,
   "metadata": {},
   "outputs": [
    {
     "name": "stdout",
     "output_type": "stream",
     "text": [
      "Testing [  5.85026706  45.        ]\n",
      "Response in chi [ 1007.68437591  1033.91724538  1060.15011485 ...,  1000.          1000.\n",
      "  1000.        ]\n",
      "chi min 0.358682177135\n",
      "index of chimin in array 39557\n"
     ]
    }
   ],
   "source": [
    "cube1.response2GRB(GRB1)"
   ]
  },
  {
   "cell_type": "code",
   "execution_count": 34,
   "metadata": {},
   "outputs": [
    {
     "data": {
      "text/plain": [
       "-0.0"
      ]
     },
     "execution_count": 34,
     "metadata": {},
     "output_type": "execute_result"
    }
   ],
   "source": []
  },
  {
   "cell_type": "markdown",
   "metadata": {
    "collapsed": true
   },
   "source": []
  },
  {
   "cell_type": "code",
   "execution_count": 22,
   "metadata": {},
   "outputs": [
    {
     "data": {
      "text/plain": [
       "1369"
      ]
     },
     "execution_count": 22,
     "metadata": {},
     "output_type": "execute_result"
    }
   ],
   "source": [
    "37*37"
   ]
  },
  {
   "cell_type": "code",
   "execution_count": null,
   "metadata": {
    "collapsed": true
   },
   "outputs": [],
   "source": [
    "b = np.array([1,2,3,4,5])"
   ]
  },
  {
   "cell_type": "code",
   "execution_count": null,
   "metadata": {
    "collapsed": true
   },
   "outputs": [],
   "source": [
    "mask = b<3"
   ]
  },
  {
   "cell_type": "code",
   "execution_count": null,
   "metadata": {
    "collapsed": true
   },
   "outputs": [],
   "source": [
    "b[mask]"
   ]
  },
  {
   "cell_type": "code",
   "execution_count": null,
   "metadata": {
    "collapsed": true
   },
   "outputs": [],
   "source": [
    "b = b[mask]"
   ]
  },
  {
   "cell_type": "code",
   "execution_count": null,
   "metadata": {
    "collapsed": true
   },
   "outputs": [],
   "source": [
    "b"
   ]
  },
  {
   "cell_type": "code",
   "execution_count": null,
   "metadata": {
    "collapsed": true
   },
   "outputs": [],
   "source": []
  }
 ],
 "metadata": {
  "kernelspec": {
   "display_name": "Python 3",
   "language": "python",
   "name": "python3"
  },
  "language_info": {
   "codemirror_mode": {
    "name": "ipython",
    "version": 3
   },
   "file_extension": ".py",
   "mimetype": "text/x-python",
   "name": "python",
   "nbconvert_exporter": "python",
   "pygments_lexer": "ipython3",
   "version": "3.6.1"
  }
 },
 "nbformat": 4,
 "nbformat_minor": 2
}
