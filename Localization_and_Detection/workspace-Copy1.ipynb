{
 "cells": [
  {
   "cell_type": "markdown",
   "metadata": {},
   "source": [
    "In this version, I will no longer loop THROUGH each detector, rather, continously do this in case that's the source of the problem. "
   ]
  },
  {
   "cell_type": "code",
   "execution_count": null,
   "metadata": {
    "collapsed": true
   },
   "outputs": [],
   "source": [
    "import healpy as hp\n",
    "import numpy as np\n",
    "import random as rand\n",
    "import statistics as s\n",
    "import burstutils as bf"
   ]
  },
  {
   "cell_type": "markdown",
   "metadata": {},
   "source": [
    "This is my workspace where I'm experimenting with the class functions before I end up transferring it into the py version. Some of the things I still need to do while here is:\n",
    "\n",
    "\n",
    "Documentation\n",
    "\n",
    "Random gauss vs poisson\n",
    "\n",
    "Importing modules \n",
    "\n",
    " adding skymaps. \n",
    " \n",
    " \n",
    " Updating how classes are defined (input really best approach?) "
   ]
  },
  {
   "cell_type": "markdown",
   "metadata": {},
   "source": [
    "After redefining classes, build up BurstCube class so that it runs the entire sim! call on module that contains all the functions, length, angle, sep, etc. Should be easiest this way"
   ]
  },
  {
   "cell_type": "code",
   "execution_count": null,
   "metadata": {
    "collapsed": true
   },
   "outputs": [],
   "source": [
    "class GRBs():\n",
    "   #this produces an error, deal with soon!\n",
    "    \"\"\"\n",
    "    Generates an array of GRB's given \n",
    "    certains strength at different sky positions.\n",
    "    \n",
    "    Output should be an array. \n",
    "    \"\"\"\n",
    "    \n",
    "  #  import numpy as np\n",
    "   # import healpy as hp\n",
    "    def __init__(self,NSIDE,strength):\n",
    "        from healpy import nside2npix\n",
    "        from healpy import pix2ang\n",
    "        #depending on NSIDE, there will be anywhere from 12 to infinite spots on the sky w/ GRBs\n",
    "        self.Ao = strength\n",
    "        self.pixels = nside2npix(NSIDE)\n",
    "\n",
    "        #want to convert these pixels into theta phi coords. \n",
    "        self.sourceangs = []\n",
    "        for i in range(self.pixels):\n",
    "            self.sourceangs.append(pix2ang(NSIDE,i))\n",
    "\n",
    "    def say_Ao(self):\n",
    "        print(\"The GRBs being tested will be \" + str(self.Ao) + \" counts strong.\")\n",
    "        \n",
    "            "
   ]
  },
  {
   "cell_type": "code",
   "execution_count": null,
   "metadata": {
    "collapsed": true
   },
   "outputs": [],
   "source": [
    "GRB = GRBs(64,100)"
   ]
  },
  {
   "cell_type": "code",
   "execution_count": null,
   "metadata": {
    "collapsed": true
   },
   "outputs": [],
   "source": [
    "GRB.pixels"
   ]
  },
  {
   "cell_type": "code",
   "execution_count": null,
   "metadata": {
    "collapsed": true
   },
   "outputs": [],
   "source": [
    "GRB.say_Ao()"
   ]
  },
  {
   "cell_type": "code",
   "execution_count": null,
   "metadata": {
    "collapsed": true
   },
   "outputs": [],
   "source": []
  },
  {
   "cell_type": "code",
   "execution_count": null,
   "metadata": {
    "collapsed": true
   },
   "outputs": [],
   "source": [
    "class BurstCube():\n",
    "\n",
    "    def __init__(self,background):\n",
    "        import numpy as np\n",
    "        import healpy as hp\n",
    "        import burstfuncs as bf\n",
    "        self.zenith = [0 , 0]\n",
    "        self.bg = background\n",
    "        test = input(\"Are the detectors alternating? \")\n",
    "        if test == \"yes\" or test == \"Yes\" or test == \"y\" or test == \"asdlfkjawe\":           \n",
    "            self.tiltA = np.deg2rad(float(input(\"Please enter the first tilt (deg) \")))\n",
    "            self.tiltB = np.deg2rad(float(input(\"Please enter the second tilt (deg) \")))\n",
    "            self.tiltC = self.tiltA\n",
    "            self.tiltD = self.tiltB\n",
    "        else:\n",
    "            self.tilt = np.deg2rad(float(input(\"Please enter the tilt (deg) \")))\n",
    "            self.tiltA = self.tiltB = self.tiltC = self.tiltD = self.tilt\n",
    "            \n",
    "    \n",
    "    #make the normal vectors!\n",
    "        #self.detA = [ zenith[0] + self.tiltA , zenith[1] ] \n",
    "        #self.detB = [ zenith[0] + self.tiltB , zenith[1] + np.pi/2 ] \n",
    "       # self.detC = [ zenith[0] + self.tiltC , zenith[1] + np.pi ] \n",
    "        #self.detD = [ zenith[0] + self.tiltD , zenith[1] + 3*np.pi/2 ] \n",
    "\n",
    "        #self.Anorm = hp.ang2vec(self.detA[0],self.detA[1])\n",
    "        #self.Bnorm = hp.ang2vec(self.detB[0],self.detB[1])\n",
    "        #self.Cnorm = hp.ang2vec(self.detC[0],self.detC[1])\n",
    "        #self.Dnorm = hp.ang2vec(self.detD[0],self.detD[1])\n",
    "\n",
    "    \n",
    "       # self.dets = [self.Anorm,self.Bnorm,self.Cnorm,self.Dnorm] \n",
    "        \n",
    "    @property\n",
    "    def detA(self):\n",
    "        \"\"\"BurstCube is composed of 4 separate scintillators to detect and localize events. \n",
    "        In this software package, they are labelled A through D. \n",
    "        \"\"\"\n",
    "        return [ self.zenith[0] + self.tiltA , self.zenith[1] ]\n",
    "    @property \n",
    "    def detB(self):\n",
    "        \"\"\"BurstCube is composed of 4 separate scintillators to detect and localize events. \n",
    "        In this software package, they are labelled A through D. \n",
    "        \"\"\"\n",
    "        return [ self.zenith[0] + self.tiltB , self.zenith[1] + np.pi/2 ]\n",
    "    @property\n",
    "    def detC(self):\n",
    "        \"\"\"BurstCube is composed of 4 separate scintillators to detect and localize events. \n",
    "        In this software package, they are labelled A through D. \n",
    "        \"\"\"\n",
    "        return [ self.zenith[0] + self.tiltC , self.zenith[1] ]\n",
    "    @property \n",
    "    def detD(self):\n",
    "        \"\"\"BurstCube is composed of 4 separate scintillators to detect and localize events. \n",
    "        In this software package, they are labelled A through D. \n",
    "        \"\"\"\n",
    "        return [ self.zenith[0] + self.tiltD , self.zenith[1] + np.pi/2 ]\n",
    "    @property\n",
    "    def normA(self):\n",
    "        return  hp.ang2vec(self.detA[0],self.detA[1])\n",
    "    @property \n",
    "    def normB(self):\n",
    "        return  hp.ang2vec(self.detB[0],self.detB[1])\n",
    "    @property\n",
    "    def normC(self):\n",
    "        return  hp.ang2vec(self.detC[0],self.detC[1])\n",
    "    @property \n",
    "    def normD(self):\n",
    "        return  hp.ang2vec(self.detD[0],self.detD[1])\n",
    "\n",
    "    \n",
    "    @property\n",
    "    def dets(self):\n",
    "        return [self.normA,self.normB,self.normC,self.normD] \n",
    "    \n",
    "    \n",
    "    \n",
    "    def response2GRB(self, GRB):   #is this how I inherit? \n",
    "        #first need to include the GRB.\n",
    "       \n",
    "        \"\"\"\n",
    "        Using least squares regression, respond2GRB will determine the sky position of an array of GRB sources assuming some inherent background noise within \n",
    "        detectors, along with fluctuations of either Gaussian or Poissonian nature. \n",
    "\n",
    "        Parameters\n",
    "        ----------\n",
    "        GRB : object\n",
    "        \n",
    "        An instance of the separately defined \"GRBs\" class that contains a number of evenly spaced sky positions of a given strength. \n",
    "\n",
    "        Returns\n",
    "        ----------\n",
    "        localizationerrors : array\n",
    "\n",
    "        numpy array that contains the average localization uncertainty at each sky position. \n",
    "\n",
    "        \n",
    "        \"\"\"\n",
    "        \n",
    "        self.localizationerrors = []    \n",
    "        for i in range(len(GRB.sourceangs)):\n",
    "            sourceAng = GRB.sourceangs[i]\n",
    "            print(\"Testing \" + str(np.rad2deg(sourceAng)))\n",
    "           #this check passes.       \n",
    "\n",
    "            \n",
    "           # print(\"Testing at \" + str(np.rad2deg(GRB.sourceangs)))\n",
    "            sourcexyz = hp.ang2vec(sourceAng[0],sourceAng[1]) #cartesian position of the burst\n",
    "            loop = 0 #I'm going to want to sample each sky position more than once,\n",
    "                    #here's where I define how many times that is\n",
    "            locunc = []\n",
    "            while loop<5:\n",
    "                \n",
    "            "
   ]
  },
  {
   "cell_type": "markdown",
   "metadata": {},
   "source": [
    "The code block below needs to be refactored to no longer loop each detector..."
   ]
  },
  {
   "cell_type": "code",
   "execution_count": null,
   "metadata": {
    "collapsed": true
   },
   "outputs": [],
   "source": [
    "    \n",
    "                detcounts = []  #number of counts incident in each detector. \n",
    "                \n",
    "                \n",
    "                \n",
    "                sepA = bf.angle(sourcexyx,self.normA)\n",
    "                if sepA < np.pi/2:\n",
    "                    dtheoryA = GRB.Ao * bf.response(sourcexyz,self.normA) \n",
    "                else:\n",
    "                    dtheoryA = 0\n",
    "                countsA = dtheoryA + self.bg    \n",
    "                unccountsA = np.sqrt(countsA)\n",
    "                detactualA = rand.gauss(countsA,unccountsA)\n",
    "                \n",
    "                if detactual-self.bg < 0:\n",
    "                    detactual = 0\n",
    "                    \n",
    "                sepB = bf.angle(sourcexyx,self.normB)\n",
    "                if sepB < np.pi/2:\n",
    "                    dtheoryB = GRB.Ao * bf.response(sourcexyz,self.normB) \n",
    "                else:\n",
    "                    dtheoryB = 0\n",
    "                countsB = dtheoryB + self.bg    \n",
    "                unccountsB = np.sqrt(countsB)\n",
    "                detactualB = rand.gauss(countsB,unccountsB)\n",
    "                \n",
    "                if detactualB-self.bg < 0:\n",
    "                    detactualB = 0\n",
    "                    \n",
    "                sepC = bf.angle(sourcexyx,self.normC)\n",
    "                if sepC < np.pi/2:\n",
    "                    dtheoryC = GRB.Ao * bf.response(sourcexyz,self.normC) \n",
    "                else:\n",
    "                    dtheoryC = 0\n",
    "                countsC = dtheoryC + self.bg    \n",
    "                unccountsC = np.sqrt(countsC)\n",
    "                detactualC = rand.gauss(countsC,unccountsC)\n",
    "                \n",
    "                if detactualC-self.bg < 0:\n",
    "                    detactualC = 0\n",
    "                    \n",
    "                sepD = bf.angle(sourcexyx,self.normD)\n",
    "                if sepD < np.pi/2:\n",
    "                    dtheoryD = GRB.Ao * bf.response(sourcexyz,self.normD) \n",
    "                else:\n",
    "                    dtheoryD = 0\n",
    "                countsD = dtheoryD + self.bg    \n",
    "                unccountsC = np.sqrt(countsC)\n",
    "                detactualD = rand.gauss(countsD,unccountsD)\n",
    "                \n",
    "                if detactualD-self.bg < 0:\n",
    "                    detactualD = 0\n",
    "              "
   ]
  },
  {
   "cell_type": "code",
   "execution_count": null,
   "metadata": {
    "collapsed": true
   },
   "outputs": [],
   "source": [
    "      \n",
    "                    \n",
    "                \n",
    "                \n",
    "                \n",
    "                coarsethetaloc,coarsephiloc,coarseAo = bf.solver(detcounts,self.dets,0,90,0,360,20,self.bg)\n",
    "                finethetaloc,finephiloc,fineAo = bf.solver(detcounts,self.dets,coarsethetaloc-5,coarsethetaloc+5,coarsephiloc-5,coarsephiloc+5,12,self.bg)\n",
    "                \n",
    "                if finethetaloc > 180:\n",
    "                #    print(\"it recovered an unrealistic answer, skip\")\n",
    "                    break\n",
    "                elif finethetaloc < 0:\n",
    "                    #print(\"Same issue, there are limits to theta that are broken here. \")\n",
    "                    break \n",
    "                    \n",
    "                recpos = [finethetaloc,finephiloc]\n",
    "              #  print(\"Recovered position at \" + str(recpos))\n",
    "                \n",
    "                recvec = hp.ang2vec(np.deg2rad(finethetaloc),np.deg2rad(finephiloc))\n",
    "                locunc.append(bf.angle(sourcexyz,recvec))\n",
    "                print(\"loc unc: \" + str(np.rad2deg(bf.angle(sourcexyz,recvec))) + \" deg\")\n",
    "                loop+=1\n",
    "          #  print(\"Obtained avg loc unc of \" + np.rad2deg(s.mean(locunc)) + \"\")\n",
    "\n",
    "            self.localizationerrors.append(np.rad2deg(s.mean(locunc)))\n",
    "\n",
    "           # print(\"obtained error of\" +  str(s.mean(locunc)))\n",
    "                #loc unc is the uncertainty at each sky position, localerros is for all of them\n",
    "            \n",
    "            #should there be more selfs? more prints? basically done so time to debug after lunch. \n",
    "        \n",
    "        maybe = input(\"All done with the simulation, want to make the skymap too? \")\n",
    "        \n",
    "        if maybe == \"yes\" or maybe == \"Yes\" or maybe == \"y\": \n",
    "            import matplotlib.pyplot as plt\n",
    "            from healpy import newvisufunc\n",
    "            if len(self.localizationerrors) == len(GRB.sourceangs):\n",
    "                im = np.array(self.localizationerrors)\n",
    "            else:\n",
    "                blockedpart=1000*np.ones(GRB.pixels-len(self.localizadtionerrors))\n",
    "                im = np.concatenate((self.localizationerrors,blockedpart))\n",
    "            hp.newvisufunc.mollview(im,min=0, max=30,unit='Localization Accurary (degrees)',graticule=True,graticule_labels=True,cmap='viridis_r')\n",
    "            plt.title('All Sky Localization Uncertainty for BurstCube')\n",
    "        else:\n",
    "            print(\"Ok, maybe next time!\")\n",
    "\n",
    "        return self.localizationerrors\n",
    "            \n",
    "    \n",
    "    "
   ]
  },
  {
   "cell_type": "code",
   "execution_count": null,
   "metadata": {
    "collapsed": true
   },
   "outputs": [],
   "source": [
    "def lsr(Atest,Btest,Ctest,Dtest):\n",
    "    Atest = detactualA\n",
    "    Btest = detactualB\n",
    "    Ctest = detactualC\n",
    "    Dtest = detactualD\n",
    "    \n",
    "    ct = np.deg2rad(np.linspace(0,180,19))\n",
    "    cp = np.deg2rad(np.linspace(0,360,37))\n",
    "    cAo = np.linspace(0,1000,11)\n",
    "    \n",
    "    for i in range(len(ct)):\n",
    "        "
   ]
  },
  {
   "cell_type": "code",
   "execution_count": null,
   "metadata": {
    "collapsed": true
   },
   "outputs": [],
   "source": []
  },
  {
   "cell_type": "code",
   "execution_count": null,
   "metadata": {
    "collapsed": true
   },
   "outputs": [],
   "source": [
    "def solver(detsvals,detnorms,bottheta,toptheta,botphi,topphi,n,bgrd):\n",
    "#this function uses a chi squared minimizer over a given range to identify the theta,phi,\n",
    "#and Ao values which correspond to the minimum chi squared and thus localized source. \n",
    "    confidence = []\n",
    "    chiterms = []\n",
    "    thecon = []\n",
    "    phicon = []\n",
    "    for s in range(len(detsvals)):     \n",
    "        oa=np.deg2rad(np.linspace(bottheta,toptheta,n))  #range of thetas to sample\n",
    "        ob=np.deg2rad(np.linspace(botphi,topphi,n)) #phi\n",
    "        Aofit=np.linspace(0,1000,25)  \n",
    "        for sa in range(len(oa)): \n",
    "            for sb in range(len(ob)):\n",
    "                for sc in range(len(Aofit)):\n",
    "                    #make sure it fits within the acceptable range\n",
    "                    if oa[sa]>=0 and oa[sa]<=np.pi and ob[sb]>=0 and ob[sb]<=2*np.pi:\n",
    "                        CHIsourceang=[oa[sa],ob[sb]]\n",
    "                        CHIsourcexyz = hp.ang2vec(CHIsourceang[0],CHIsourceang[1])\n",
    "                        CHIsep=angle(CHIsourcexyz,detnorms[s])                                           \n",
    "                        if CHIsep<np.pi/2: \n",
    "                            chi=Aofit[sc]*response(CHIsourcexyz,detnorms[s])+bgrd\n",
    "                            #print(\"Chi test angle\"+str(CHIsourcexyz))\n",
    "                            #print(\"detector\"+str(dets[s]))\n",
    "                            #print(\"chi sometiems\"+str(chi))\n",
    "                            #print(\"separation here, is it okay? \" +str(np.rad2deg(CHIsep)))\n",
    "\n",
    "                            #this produces nan error, se\n",
    "                            \n",
    "                        else:\n",
    "                            chi=0            \n",
    "                        if detsvals[s]>0:   #if there is a signal in the detector \n",
    "                            chiterm=((chi-detsvals[s])**2/detsvals[s])\n",
    "                        else:    #if not, just zero \n",
    "                            chiterm=1e10\n",
    "                    else: \n",
    "                        chiterm=1e10 #some large #, just to note that it definitely isn't right angle \n",
    "                                                                       "
   ]
  },
  {
   "cell_type": "code",
   "execution_count": null,
   "metadata": {
    "collapsed": true
   },
   "outputs": [],
   "source": [
    "    def plot_skymap(self,GRB):\n",
    "        import numpy as np\n",
    "        import matplotlib.pyplot as plt\n",
    "        import healpy as hp\n",
    "        from healpy import newvisufunc\n",
    "        if len(self.localizationerrors) == len(GRB.sourceangs):  #if the function successfully was able to catch all the spots (meaning nothing went wrong!)\n",
    "            im = np.array(self.localizationerrors) \n",
    "        else:\n",
    "            blockedpart=1000*np.ones(GRB.pixels-len(angoffset))\n",
    "            im=np.concatenate((self.localizationerrors,blockedpart))\n",
    "        hp.newvisufunc.mollview(im,min=0, max=30,unit='Localization Accurary (degrees)',graticule=True,graticule_labels=True,cmap='viridis_r')\n",
    "        plt.title('All Sky Localization Uncertainty for BurstCube')\n",
    "        "
   ]
  },
  {
   "cell_type": "code",
   "execution_count": null,
   "metadata": {
    "collapsed": true
   },
   "outputs": [],
   "source": [
    "class Plots:"
   ]
  },
  {
   "cell_type": "code",
   "execution_count": null,
   "metadata": {
    "collapsed": true
   },
   "outputs": [],
   "source": [
    "cube1 = BurstCube(background=1000)"
   ]
  },
  {
   "cell_type": "code",
   "execution_count": null,
   "metadata": {
    "collapsed": true,
    "scrolled": true
   },
   "outputs": [],
   "source": [
    "cube1.response2GRB(GRB)"
   ]
  },
  {
   "cell_type": "code",
   "execution_count": null,
   "metadata": {
    "collapsed": true
   },
   "outputs": [],
   "source": [
    "cube1.plot_skymap()"
   ]
  },
  {
   "cell_type": "code",
   "execution_count": null,
   "metadata": {
    "collapsed": true
   },
   "outputs": [],
   "source": [
    "import matplotlib.pyplot as plt\n",
    "plt.show()"
   ]
  },
  {
   "cell_type": "code",
   "execution_count": null,
   "metadata": {
    "collapsed": true
   },
   "outputs": [],
   "source": [
    "#to generate an array of all the source angles, and basically follow that \n",
    "\n",
    "GRB = GRBs(2)  #only thing I have to identify is the nside\n",
    "len(GRB.sourceangs)"
   ]
  },
  {
   "cell_type": "code",
   "execution_count": null,
   "metadata": {
    "collapsed": true
   },
   "outputs": [],
   "source": [
    "import numpy as np\n",
    "import healpy as hp\n",
    "import burstfuncs as bf\n",
    "import random as rand\n",
    "\n",
    "class GRBs():\n",
    " \n",
    "    \"\"\"\n",
    "    Generates an array of GRB's with some given strength at different sky positions.\n",
    "    \n",
    "    Output should be an array. \n",
    "    \"\"\"\n",
    "    def __init__(self,NSIDE,strength):\n",
    "        import numpy as np\n",
    "        import healpy as hp\n",
    "        #depending on NSIDE, there will be anywhere from 12 to infinite spots on the sky w/ GRBs\n",
    "        self.Ao = strength\n",
    "        self.pixels = hp.nside2npix(NSIDE)\n",
    "\n",
    "        #want to convert these pixels into theta phi coords. \n",
    "        self.sourceangs = []\n",
    "        for i in range(self.pixels):\n",
    "            self.sourceangs.append(hp.pix2ang(NSIDE,i))\n",
    "\n",
    "\n",
    "class BurstCube:\n",
    "    def __init__(self,background):\n",
    "        import numpy as np\n",
    "        import healpy as hp\n",
    "        import burstfuncs as bf\n",
    "        self.zenith = [0 , 0]\n",
    "        self.bg = background\n",
    "        test = input(\"Are the detectors alternating? \")\n",
    "        if test == \"yes\" or test == \"Yes\" or test == \"y\" or test == \"asdlfkjawe\":           \n",
    "            self.tiltA = np.deg2rad(float(input(\"Please enter the first tilt (deg) \")))\n",
    "            self.tiltB = np.deg2rad(float(input(\"Please enter the second tilt (deg) \")))\n",
    "            self.tiltC = self.tiltA\n",
    "            self.tiltD = self.tiltB\n",
    "        else:\n",
    "            self.tilt = np.deg2rad(float(input(\"Please enter the tilt (deg) \")))\n",
    "            self.tiltA = self.tiltB = self.tiltC = self.tiltD = self.tilt\n",
    "            \n",
    "        \n",
    "    @property\n",
    "    def detA(self):\n",
    "        return [ self.zenith[0] + self.tiltA , self.zenith[1] ]\n",
    "    @property \n",
    "    def detB(self):\n",
    "        return [ self.zenith[0] + self.tiltB , self.zenith[1] + np.pi/2 ]\n",
    "    @property\n",
    "    def detC(self):\n",
    "        return [ self.zenith[0] + self.tiltC , self.zenith[1] ]\n",
    "    @property \n",
    "    def detD(self):\n",
    "        return [ self.zenith[0] + self.tiltD , self.zenith[1] + np.pi/2 ]\n",
    "    @property\n",
    "    def normA(self):\n",
    "        return  hp.ang2vec(self.detA[0],self.detA[1])\n",
    "    @property \n",
    "    def normB(self):\n",
    "        return  hp.ang2vec(self.detB[0],self.detB[1])\n",
    "    @property\n",
    "    def normC(self):\n",
    "        return  hp.ang2vec(self.detC[0],self.detC[1])\n",
    "    @property \n",
    "    def normD(self):\n",
    "        return  hp.ang2vec(self.detD[0],self.detD[1])\n",
    "\n",
    "    \n",
    "    @property\n",
    "    def dets(self):\n",
    "        return [self.normA,self.normB,self.normC,self.normD] \n",
    "    \n",
    "    \n",
    "    \n",
    "    \n",
    "    def respond2GRB(self, GRB):   #is this how I inherit? \n",
    "        #first need to include the GRB.\n",
    "        \n",
    "        #Putting these here as a reminder, need to learn how to implement Gaussian fluctuations, hopefully in a similar to the actions gauss(x,sigmax)\n",
    "        #Gauss = True\n",
    "        #Poisson = False\n",
    "\n",
    "\n",
    "        \"\"\"\n",
    "        Using least squares regression, respond2GRB will determine the sky position of an array of GRB sources assuming some inherent background noise within \n",
    "        detectors, along with fluctuations of either Gaussian or Poissonian nature. \n",
    "\n",
    "        Parameters\n",
    "        ----------\n",
    "        GRB : object\n",
    "        \n",
    "        An instance of the separately defined \"GRBs\" class that contains a number of evenly spaced sky positions of a given strength. \n",
    "\n",
    "        Returns\n",
    "        ----------\n",
    "        localizationerrors : array\n",
    "\n",
    "        numpy array that contains the average localization uncertainty at each sky position. \n",
    "\n",
    "        \n",
    "        \"\"\"\n",
    "        localizationerrors = []    \n",
    "        for i in range(len(GRB.sourceangs)):\n",
    "            sourceAng = GRB.sourceangs[i]\n",
    "           # print(\"Source angle is \" + str(sourceAng))\n",
    "           #this check passes.       \n",
    "\n",
    "            \n",
    "           # print(\"Testing at \" + str(np.rad2deg(GRB.sourceangs)))\n",
    "            sourcexyz = hp.ang2vec(sourceAng[0],sourceAng[1]) #cartesian position of the burst\n",
    "            loop = 0 #I'm going to want to sample each sky position more than once,\n",
    "                    #here's where I define how many times that is\n",
    "            locunc = []\n",
    "            while loop<3:\n",
    "                detcounts = []  #number of counts incident in each detector. \n",
    "                for j in range(len(self.dets)):\n",
    "                    sep=bf.angle(sourcexyz,self.dets[j])\n",
    "                   # print(\"separation is \" + str(np.rad2deg(sep)))\n",
    "                   #this check passes.  \n",
    "               \n",
    "                    if sep < np.pi/2: # meaning if >90, would not be facing detector.\n",
    "                        dtheory=GRB.Ao*bf.response(sourcexyz,self.dets[j])  #still need to define strength, brb and gonna do that \n",
    "                    else: #like I was saying, has to face it!\n",
    "                        dtheory = 0 \n",
    "                     \n",
    "                   # print(\"dtheory test: \" + str(dtheory))\n",
    "                    # this check passes too. \n",
    "                    \n",
    "                    counts = dtheory + self.bg #another artifact, incl this background effect somewhere\n",
    "                    unccounts = np.sqrt(counts)\n",
    "                    detactual = rand.gauss(counts,unccounts)  #there is a lot of noise, present, updating it now. \n",
    "                    if detactual-self.bg < 0:\n",
    "                        detactual = 0\n",
    "                    \n",
    "                    detcounts.append(detactual)\n",
    "    \n",
    "                   #now for the LSF method using chi squared, applies a coarse to fine refactor here. \n",
    "                   #plenty of old variable names to update as well. \n",
    "                \n",
    "                   # print(\"after fluctuations, \" + str(detactual))\n",
    "                    #fixed indentation errors, uninstalled module, legacy code all fixed. Passes. \n",
    "\n",
    "                \n",
    "                \n",
    "                coarsethetaloc,coarsephiloc,coarseAo = bf.solver(detcounts,self.dets,0,90,0,360,12,self.bg)\n",
    "                finethetaloc,finephiloc,fineAo = bf.solver(detcounts,self.dets,coarsethetaloc-5,coarsethetaloc+5,coarsephiloc-7,coarsephiloc+7,12,self.bg)\n",
    "                \n",
    "                if finethetaloc > 180:\n",
    "                #    print(\"it recovered an unrealistic answer, skip\")\n",
    "                    break\n",
    "                elif finethetaloc < 0:\n",
    "                    #print(\"Same issue, there are limits to theta that are broken here. \")\n",
    "                    break \n",
    "                    \n",
    "                recpos = [finethetaloc,finephiloc]\n",
    "                recvec = hp.ang2vec(np.deg2rad(finethetaloc),np.deg2rad(finephiloc))\n",
    "                locunc.append(bf.angle(sourcexyz,recvec))\n",
    "               # print(\"loc unc\" + str(locunc))\n",
    "                loop+=1\n",
    "            print(np.rad2deg(s.mean(locunc)))\n",
    "\n",
    "            localizationerrors.append(np.rad2deg(s.mean(locunc)))\n",
    "\n",
    "           # print(\"obtained error of\" +  str(s.mean(locunc)))\n",
    "                #loc unc is the uncertainty at each sky position, localerros is for all of them\n",
    "            \n",
    "            #should there be more selfs? more prints? basically done so time to debug after lunch. \n",
    "        return localizationerrors\n",
    "        "
   ]
  },
  {
   "cell_type": "code",
   "execution_count": null,
   "metadata": {
    "collapsed": true
   },
   "outputs": [],
   "source": [
    "GRB = GRBs(NSIDE=8,strength=500)"
   ]
  },
  {
   "cell_type": "code",
   "execution_count": null,
   "metadata": {
    "collapsed": true
   },
   "outputs": [],
   "source": [
    "cubesat = BurstCube(background=1000)"
   ]
  },
  {
   "cell_type": "code",
   "execution_count": null,
   "metadata": {
    "collapsed": true
   },
   "outputs": [],
   "source": [
    "cubesat.bg"
   ]
  },
  {
   "cell_type": "code",
   "execution_count": null,
   "metadata": {
    "collapsed": true
   },
   "outputs": [],
   "source": [
    "cubesat.respond2GRB(GRB)"
   ]
  },
  {
   "cell_type": "code",
   "execution_count": null,
   "metadata": {
    "collapsed": true
   },
   "outputs": [],
   "source": [
    "import healpy as hp\n",
    "import numpy as np\n",
    "import time"
   ]
  },
  {
   "cell_type": "code",
   "execution_count": null,
   "metadata": {
    "collapsed": true
   },
   "outputs": [],
   "source": [
    "start = time.time()\n",
    "sky = np.rad2deg(hp.pix2ang(64,np.arange(49152)))\n",
    "Aoguess = 500*np.ones(49152)\n",
    "end = time.time()\n",
    "print(\"Time elapsed: \" + str(end-start))"
   ]
  },
  {
   "cell_type": "code",
   "execution_count": null,
   "metadata": {
    "collapsed": true
   },
   "outputs": [],
   "source": [
    "arr = [0,1]"
   ]
  },
  {
   "cell_type": "code",
   "execution_count": null,
   "metadata": {
    "collapsed": true
   },
   "outputs": [],
   "source": [
    "arr = np.linspace(0,11,12)"
   ]
  },
  {
   "cell_type": "code",
   "execution_count": null,
   "metadata": {
    "collapsed": true
   },
   "outputs": [],
   "source": [
    "arr = np.arange(12)"
   ]
  },
  {
   "cell_type": "code",
   "execution_count": null,
   "metadata": {
    "collapsed": true
   },
   "outputs": [],
   "source": [
    "import healpy as hp"
   ]
  },
  {
   "cell_type": "code",
   "execution_count": null,
   "metadata": {
    "collapsed": true
   },
   "outputs": [],
   "source": [
    "sky[0]"
   ]
  },
  {
   "cell_type": "code",
   "execution_count": null,
   "metadata": {
    "collapsed": true
   },
   "outputs": [],
   "source": [
    "import numpy as np\n",
    "np.linspace(0,1000,26)"
   ]
  },
  {
   "cell_type": "code",
   "execution_count": null,
   "metadata": {
    "collapsed": true
   },
   "outputs": [],
   "source": [
    "Ao = np.linspace(0,1000,26)\n",
    "#bg = bgrd*np.ones()\n",
    "CHIsourcexyz = hp.pix2vec(64,np.arange(49152))"
   ]
  },
  {
   "cell_type": "code",
   "execution_count": null,
   "metadata": {
    "collapsed": true
   },
   "outputs": [],
   "source": [
    "xs = CHIsourcexyz[0]\n",
    "ys = CHIsourcexyz[1]\n",
    "zs = CHIsourcexyz[2]\n",
    "\n",
    "for u in range(len(Ao)):\n",
    "    #sample through different strengths \n",
    "    \n",
    "#want this to be an array: \n",
    "chisep.append(angle(CHIsourcexyz[i],detnorms[s]))\n"
   ]
  },
  {
   "cell_type": "code",
   "execution_count": null,
   "metadata": {
    "collapsed": true
   },
   "outputs": [],
   "source": [
    "def angle(v1, v2):\n",
    "    \"\"\"\"\n",
    "    Finds the angle between 2 vectors\n",
    "    \n",
    "    Parameters\n",
    "    ----------\n",
    "    \n",
    "    v1 : array\n",
    "    v2 : array\n",
    "        The arrays representing the vectors who's angle is to be calculated.\n",
    "        \n",
    "    Returns\n",
    "    -------\n",
    "    \n",
    "    ang : float\n",
    "        Angle between the 2 vectors. \n",
    "        \n",
    "    \"\"\"\n",
    "\n",
    "    ang = np.arccos(np.dot(v1, v2) / (length(v1) * length(v2)))\n",
    "    return ang\n"
   ]
  },
  {
   "cell_type": "code",
   "execution_count": null,
   "metadata": {
    "collapsed": true
   },
   "outputs": [],
   "source": [
    "import numpy as np"
   ]
  },
  {
   "cell_type": "code",
   "execution_count": null,
   "metadata": {
    "collapsed": true
   },
   "outputs": [],
   "source": [
    "theta = np.linspace(0,90,10)\n",
    "phi = np.linspace(0,360,37)\n",
    "strength = np.linspace(0,1000,101)\n"
   ]
  },
  {
   "cell_type": "code",
   "execution_count": null,
   "metadata": {
    "collapsed": true
   },
   "outputs": [],
   "source": []
  },
  {
   "cell_type": "code",
   "execution_count": null,
   "metadata": {
    "collapsed": true
   },
   "outputs": [],
   "source": [
    "np.angle([[0,0,1],[0,0,1]],[[0,1,0],[0,1,0]],deg=True)\n",
    "\n",
    "#should be a numpy way to handle arrays "
   ]
  },
  {
   "cell_type": "code",
   "execution_count": null,
   "metadata": {
    "collapsed": true
   },
   "outputs": [],
   "source": [
    "findAngles([[0,0,1],[0,0,1]],[[0,1,0],[0,1,0]])"
   ]
  },
  {
   "cell_type": "code",
   "execution_count": null,
   "metadata": {
    "collapsed": true
   },
   "outputs": [],
   "source": [
    "import numpy as np\n",
    "import healpy as hp"
   ]
  },
  {
   "cell_type": "code",
   "execution_count": null,
   "metadata": {
    "collapsed": true
   },
   "outputs": [],
   "source": [
    "def findAngles(v1s, v2s):\n",
    "    dot = np.einsum('ijk,ijk->ij',[v1s,v1s,v2s],[v2s,v1s,v2s])\n",
    "    return np.arccos(dot[0,:]/(np.sqrt(dot[1,:])*np.sqrt(dot[2,:])))"
   ]
  },
  {
   "cell_type": "code",
   "execution_count": null,
   "metadata": {
    "collapsed": true
   },
   "outputs": [],
   "source": [
    "chiphi = np.arange(0,360,11)\n",
    "chitheta = np.arange(0,90,11)\n",
    "chiA = np.arange(10,100,11)"
   ]
  },
  {
   "cell_type": "code",
   "execution_count": null,
   "metadata": {},
   "outputs": [],
   "source": [
    "sphi, stheta, sstrength = np.meshgrid(chiphi,chitheta,chiA)"
   ]
  },
  {
   "cell_type": "code",
   "execution_count": null,
   "metadata": {
    "collapsed": true,
    "scrolled": true
   },
   "outputs": [],
   "source": [
    "vecs = hp.ang2vec(np.deg2rad(stheta),np.deg2rad(sphi))\n",
    "\n",
    "\n"
   ]
  },
  {
   "cell_type": "markdown",
   "metadata": {},
   "source": [
    "After making a meshgrid of all possible, now to find the separation of each....\n"
   ]
  },
  {
   "cell_type": "code",
   "execution_count": null,
   "metadata": {
    "collapsed": true
   },
   "outputs": [],
   "source": []
  },
  {
   "cell_type": "code",
   "execution_count": null,
   "metadata": {},
   "outputs": [],
   "source": [
    "np.rad2deg(hp.vec2ang(vecs[0][0]))"
   ]
  },
  {
   "cell_type": "code",
   "execution_count": null,
   "metadata": {
    "collapsed": true
   },
   "outputs": [],
   "source": [
    "len(sphi[0])"
   ]
  },
  {
   "cell_type": "code",
   "execution_count": null,
   "metadata": {
    "collapsed": true
   },
   "outputs": [],
   "source": [
    "CHIsourcexyz = hp.pix2vec(64,np.arange(49152))\n",
    "fakenorm = [0,0,1]\n"
   ]
  },
  {
   "cell_type": "code",
   "execution_count": null,
   "metadata": {
    "collapsed": true
   },
   "outputs": [],
   "source": [
    "results = sphi + stheta + sstrength"
   ]
  },
  {
   "cell_type": "code",
   "execution_count": null,
   "metadata": {
    "collapsed": true
   },
   "outputs": [],
   "source": [
    "findAngles(CHIsourcexyz,fakenorm)"
   ]
  },
  {
   "cell_type": "code",
   "execution_count": null,
   "metadata": {
    "collapsed": true
   },
   "outputs": [],
   "source": [
    "np.einsum?"
   ]
  },
  {
   "cell_type": "code",
   "execution_count": null,
   "metadata": {
    "collapsed": true
   },
   "outputs": [],
   "source": [
    "fakenorm"
   ]
  },
  {
   "cell_type": "code",
   "execution_count": null,
   "metadata": {
    "collapsed": true
   },
   "outputs": [],
   "source": [
    "fakenorms = np.array(fakenorm,"
   ]
  },
  {
   "cell_type": "code",
   "execution_count": null,
   "metadata": {
    "collapsed": true
   },
   "outputs": [],
   "source": []
  },
  {
   "cell_type": "code",
   "execution_count": null,
   "metadata": {
    "collapsed": true
   },
   "outputs": [],
   "source": []
  },
  {
   "cell_type": "code",
   "execution_count": null,
   "metadata": {
    "collapsed": true
   },
   "outputs": [],
   "source": [
    "fakenorm = [0,0,1]"
   ]
  },
  {
   "cell_type": "code",
   "execution_count": null,
   "metadata": {},
   "outputs": [],
   "source": [
    "fakenorms = fakenorm*np.ones(100)"
   ]
  },
  {
   "cell_type": "code",
   "execution_count": null,
   "metadata": {},
   "outputs": [],
   "source": [
    "np.full_like(fakenorm)"
   ]
  },
  {
   "cell_type": "code",
   "execution_count": null,
   "metadata": {
    "collapsed": true
   },
   "outputs": [],
   "source": [
    ">>> y = np.arange(6, dtype=np.double)\n",
    ">>> np.full_like(y, 0.1)\n",
    "array([ 0.1,  0.1,  0.1,  0.1,  0.1,  0.1])"
   ]
  },
  {
   "cell_type": "code",
   "execution_count": null,
   "metadata": {},
   "outputs": [],
   "source": [
    "np.arange(6)"
   ]
  },
  {
   "cell_type": "code",
   "execution_count": null,
   "metadata": {},
   "outputs": [],
   "source": [
    "1/np.sqrt(2)"
   ]
  },
  {
   "cell_type": "code",
   "execution_count": null,
   "metadata": {
    "collapsed": true
   },
   "outputs": [],
   "source": [
    "import numpy as np\n",
    "import healpy as hp\n",
    "import time"
   ]
  },
  {
   "cell_type": "code",
   "execution_count": null,
   "metadata": {
    "collapsed": true
   },
   "outputs": [],
   "source": []
  },
  {
   "cell_type": "code",
   "execution_count": null,
   "metadata": {},
   "outputs": [],
   "source": [
    "start = time.time()\n",
    "\n",
    "fakenorm  = [0,0.7071,0.7071]\n",
    "chivecs = hp.pix2vec(64,np.arange(49152))\n",
    "fakexs = fakenorm[0]*np.ones(49152)\n",
    "fakeys = fakenorm[1]*np.ones(49152)\n",
    "fakezs = fakenorm[2]*np.ones(49152)\n",
    "\n",
    "\n",
    "\n",
    "\n",
    "#seps = findAngles([chivecs[0],chivecs[1],chivecs[2]], [fakexs,fakeys,fakezs])\n",
    "\n",
    "cnew = []\n",
    "fakenorms = []\n",
    "for i in range(len(chivecs[0])):\n",
    "    cnew.append([chivecs[0][i],chivecs[1][i],chivecs[2][i]])\n",
    "    fakenorms.append([fakenorm[0],fakenorm[1],fakenorm[2]])\n",
    "\n",
    "    \n",
    "seps = findAngles(cnew,fakenorms)    \n",
    "\n",
    "strength = np.linspace(0,1000,25)\n",
    "\n",
    "#response can handle array intakes \n",
    "\n",
    "chiresponses = []\n",
    "for j in range(len(strength)):\n",
    "    chiresponse = strength[j]*response(seps)\n",
    "\n",
    "    chiresponses.append(chiresponse)\n",
    "\n",
    "    \n",
    "end = time.time()\n",
    "\n",
    "print(\"Time elapsed: \" + str(end-start) + \" s\")"
   ]
  },
  {
   "cell_type": "code",
   "execution_count": null,
   "metadata": {},
   "outputs": [],
   "source": [
    "np.concatenate(chiresponses[0],chiresponses[1])"
   ]
  },
  {
   "cell_type": "code",
   "execution_count": null,
   "metadata": {
    "collapsed": true
   },
   "outputs": [],
   "source": []
  },
  {
   "cell_type": "code",
   "execution_count": null,
   "metadata": {
    "collapsed": true
   },
   "outputs": [],
   "source": []
  },
  {
   "cell_type": "code",
   "execution_count": null,
   "metadata": {
    "collapsed": true
   },
   "outputs": [],
   "source": [
    "def response(A):\n",
    "    \"\"\"\n",
    "    Meant to imitate the actual response of a scintillator.\n",
    "    Inputs 2 vectors, and responds with a cos^x dependence.\n",
    "    \"\"\"\n",
    "    #meant to imitate the response of the detectors for effective area vs. angle, found to be around .77\n",
    " #   print(length(A),length(B))\n",
    "#if cosine is negative, \n",
    "    return pow(abs(np.cos(A)),0.76)"
   ]
  },
  {
   "cell_type": "code",
   "execution_count": null,
   "metadata": {
    "collapsed": true
   },
   "outputs": [],
   "source": [
    "newchivecs = [chivecs[0],chivecs[1],chivecs[2]]"
   ]
  },
  {
   "cell_type": "code",
   "execution_count": null,
   "metadata": {},
   "outputs": [],
   "source": [
    "print(newchivecs)"
   ]
  },
  {
   "cell_type": "code",
   "execution_count": null,
   "metadata": {
    "collapsed": true
   },
   "outputs": [],
   "source": []
  },
  {
   "cell_type": "code",
   "execution_count": null,
   "metadata": {
    "collapsed": true
   },
   "outputs": [],
   "source": [
    "def findAngles(v1s, v2s):\n",
    "    dot = np.einsum('ijk,ijk->ij',[v1s,v1s,v2s],[v2s,v1s,v2s])\n",
    "    return np.arccos(dot[0,:]/(np.sqrt(dot[1,:])*np.sqrt(dot[2,:])))\n",
    "\n",
    "\n"
   ]
  },
  {
   "cell_type": "code",
   "execution_count": null,
   "metadata": {},
   "outputs": [],
   "source": [
    "from numpy import (array, dot, arccos, clip)\n",
    "from numpy.linalg import norm\n",
    "\n",
    "u = chivecs\n",
    "v = [fakexs,fakeys,fakezs]\n",
    "c = dot(u,v)/norm(u)/norm(v) # -> cosine of the angle\n",
    "angle = arccos(clip(c, -1, 1)) # if you really want the angle"
   ]
  },
  {
   "cell_type": "code",
   "execution_count": null,
   "metadata": {
    "collapsed": true
   },
   "outputs": [],
   "source": [
    "a = []"
   ]
  },
  {
   "cell_type": "code",
   "execution_count": null,
   "metadata": {
    "collapsed": true
   },
   "outputs": [],
   "source": [
    "a.append([0,1,1])"
   ]
  },
  {
   "cell_type": "code",
   "execution_count": null,
   "metadata": {},
   "outputs": [],
   "source": [
    "a"
   ]
  },
  {
   "cell_type": "code",
   "execution_count": null,
   "metadata": {
    "collapsed": true
   },
   "outputs": [],
   "source": [
    "import healpy as hp"
   ]
  },
  {
   "cell_type": "code",
   "execution_count": null,
   "metadata": {},
   "outputs": [],
   "source": [
    "hp.nside2npix(64)"
   ]
  },
  {
   "cell_type": "code",
   "execution_count": 3,
   "metadata": {
    "collapsed": true
   },
   "outputs": [],
   "source": [
    "import burstutils as utils\n",
    "import numpy as np"
   ]
  },
  {
   "cell_type": "code",
   "execution_count": null,
   "metadata": {},
   "outputs": [],
   "source": [
    "fakenorm = [0,0,1]\n",
    "fakeval = 1600\n",
    "\n",
    "fakechi = utils.quad_solver(fakeval,fakenorm,0,5,0,360,0,500,1,1,2,1000)"
   ]
  },
  {
   "cell_type": "code",
   "execution_count": null,
   "metadata": {},
   "outputs": [],
   "source": [
    "fakechi"
   ]
  },
  {
   "cell_type": "code",
   "execution_count": 4,
   "metadata": {
    "collapsed": true
   },
   "outputs": [],
   "source": [
    "chisquareds = [10,100,4,60,66,1002,99,93]"
   ]
  },
  {
   "cell_type": "code",
   "execution_count": 5,
   "metadata": {},
   "outputs": [
    {
     "data": {
      "text/plain": [
       "(1.0, 99.0, 23.0)"
      ]
     },
     "execution_count": 5,
     "metadata": {},
     "output_type": "execute_result"
    }
   ],
   "source": [
    "utils.indexer(chisquareds,1,8,27,99,23,45,2,2,2)"
   ]
  },
  {
   "cell_type": "code",
   "execution_count": null,
   "metadata": {
    "collapsed": true
   },
   "outputs": [],
   "source": []
  }
 ],
 "metadata": {
  "kernelspec": {
   "display_name": "Python 3",
   "language": "python",
   "name": "python3"
  },
  "language_info": {
   "codemirror_mode": {
    "name": "ipython",
    "version": 3
   },
   "file_extension": ".py",
   "mimetype": "text/x-python",
   "name": "python",
   "nbconvert_exporter": "python",
   "pygments_lexer": "ipython3",
   "version": "3.6.1"
  }
 },
 "nbformat": 4,
 "nbformat_minor": 2
}
