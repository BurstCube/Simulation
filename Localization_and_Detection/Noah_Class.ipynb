{
 "cells": [
  {
   "cell_type": "code",
   "execution_count": null,
   "metadata": {
    "collapsed": true
   },
   "outputs": [],
   "source": [
    "class #something in here about the various functions I use to start? "
   ]
  },
  {
   "cell_type": "markdown",
   "metadata": {},
   "source": [
    "Going to start with making 2 classes, GRBs and BurstCube's. I want to see how they interact with each other. It should be relatively straight forward designing both. The GRB class will be of a given strength and sky position. The BurstCube will have 4 detectors, each with some set background noise, and it will depend how they are oriented. This will mean I have to vary both how they are oriented in the sky, as well as how they are tilted relative to each other. Changing individual detector's alignment will be as easy as using a rotation matrix or two, but how to do all 4 at once? "
   ]
  },
  {
   "cell_type": "code",
   "execution_count": 5,
   "metadata": {
    "collapsed": true
   },
   "outputs": [],
   "source": [
    "class GRB():  #if this class inherits anything, it goes within these parenthasis\n",
    "    \"\"\"\"\n",
    "    A class where I define the GRB's I want to test, \n",
    "    giving them attributes such as strength and sky position. \n",
    "    \n",
    "    Only action I am giving them at the moment is just print details, \n",
    "    a simple function, that you guessed it, prints details. \n",
    "    \"\"\"\"\n",
    "    \n",
    "    def __init__(self,strength,theta,phi):\n",
    "        self.strength = strength\n",
    "        self.theta = np.deg2rad(theta)\n",
    "        self.phi = np.deg2rad(phi)\n",
    "    def print_details(self):\n",
    "        print(\"This GRB will produce an effect of \" + str(self.strength) + \" counts, located at polar angle \" + str(np.rad2deg(self.theta)) + \" deg and azimuthal angle \" + str(np.rad2deg(self.phi))+ \" deg.\") \n",
    "             \n",
    "        \n",
    "    "
   ]
  },
  {
   "cell_type": "code",
   "execution_count": null,
   "metadata": {
    "collapsed": true
   },
   "outputs": [],
   "source": [
    "class BurstCube():\n",
    "    def __init__(self):\n",
    "        self.response =  #shortcut for thickness, could make a bigger path later on. \n",
    "        self.detA = \n",
    "        self.detB = \n",
    "        self.detC = \n",
    "        self.detD = \n",
    "    \n",
    "    def rotate(self):\n",
    "    \n",
    "    def print_details(self):\n",
    "        \n",
    "    def simulate(): #inherit the GRB class here, simulate what happens to the detector, both in terms of counts detected, and localization. \n",
    "        "
   ]
  },
  {
   "cell_type": "code",
   "execution_count": 6,
   "metadata": {},
   "outputs": [],
   "source": [
    "burst = GRB(100,90,93)"
   ]
  },
  {
   "cell_type": "code",
   "execution_count": 7,
   "metadata": {},
   "outputs": [],
   "source": [
    "import numpy as np"
   ]
  },
  {
   "cell_type": "code",
   "execution_count": 8,
   "metadata": {},
   "outputs": [
    {
     "name": "stdout",
     "output_type": "stream",
     "text": [
      "This GRB will produce an effect of 100 counts, located at polar angle 90.0 deg and azimuthal angle 93.0 deg.\n"
     ]
    }
   ],
   "source": [
    "burst.print_details()"
   ]
  },
  {
   "cell_type": "code",
   "execution_count": null,
   "metadata": {},
   "outputs": [],
   "source": [
    "burst.theta1"
   ]
  },
  {
   "cell_type": "code",
   "execution_count": null,
   "metadata": {
    "collapsed": true
   },
   "outputs": [],
   "source": [
    "        print(\"This GRB will produce an effect of \" + str(self.strength) + \" counts, located at polar angle \" + str(self.theta) + \" and azimuthal angle \" + str(self.phi))\n"
   ]
  }
 ],
 "metadata": {
  "kernelspec": {
   "display_name": "Python 3",
   "language": "python",
   "name": "python3"
  },
  "language_info": {
   "codemirror_mode": {
    "name": "ipython",
    "version": 3
   },
   "file_extension": ".py",
   "mimetype": "text/x-python",
   "name": "python",
   "nbconvert_exporter": "python",
   "pygments_lexer": "ipython3",
   "version": "3.6.1"
  }
 },
 "nbformat": 4,
 "nbformat_minor": 2
}
