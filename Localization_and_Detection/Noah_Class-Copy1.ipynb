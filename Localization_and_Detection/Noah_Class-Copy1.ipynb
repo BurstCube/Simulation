{
 "cells": [
  {
   "cell_type": "markdown",
   "metadata": {},
   "source": [
    "Going to start with making 2 classes, GRBs and BurstCube's. I want to see how they interact with each other. It should be relatively straight forward designing both. The GRB class will be of a given strength and sky position. The BurstCube will have 4 detectors, each with some set background noise, and it will depend how they are oriented. This will mean I have to vary both how they are oriented in the sky, as well as how they are tilted relative to each other. Changing individual detector's alignment will be as easy as using a rotation matrix or two, but how to do all 4 at once? "
   ]
  },
  {
   "cell_type": "code",
   "execution_count": 1,
   "metadata": {
    "collapsed": true
   },
   "outputs": [],
   "source": [
    "import numpy as np\n",
    "import healpy as hp"
   ]
  },
  {
   "cell_type": "code",
   "execution_count": null,
   "metadata": {
    "collapsed": true
   },
   "outputs": [],
   "source": []
  },
  {
   "cell_type": "code",
   "execution_count": null,
   "metadata": {
    "collapsed": true
   },
   "outputs": [],
   "source": [
    "class GRB():  #if this class inherits anything, it goes within these parenthasis\n",
    "    \"\"\"\"\n",
    "    A class where I define the GRB's I want to test, \n",
    "    giving them attributes such as strength and sky position. \n",
    "    \n",
    "    Only action I am giving them at the moment is just print details, \n",
    "    a simple function, that you guessed it, prints details. \n",
    "    \"\"\"\"\n",
    "    \n",
    "    def __init__(self,strength,theta,phi):\n",
    "        self.strength = strength\n",
    "        self.theta = np.deg2rad(theta)\n",
    "        self.phi = np.deg2rad(phi)\n",
    "    def print_details(self):\n",
    "        print(\"This GRB will produce an effect of \" + str(self.strength) + \" counts, located at polar angle \" + str(np.rad2deg(self.theta)) + \" deg and azimuthal angle \" + str(np.rad2deg(self.phi))+ \" deg.\") \n",
    "             \n",
    "        \n",
    "    "
   ]
  },
  {
   "cell_type": "code",
   "execution_count": 29,
   "metadata": {},
   "outputs": [],
   "source": [
    "import numpy as np\n",
    "import healpy as hp\n",
    "zenith = [0,0]\n",
    "class BurstCube:\n",
    "    def __init__(self):\n",
    "        test = input(\"Are the detectors alternating? \")\n",
    "        if test == \"yes\" or test == \"Yes\" or test == \"y\" or test == \"asdlfkjawe\":           \n",
    "            self.tiltA = float(input(\"Please enter the first tilt (deg) \"))\n",
    "            self.tiltB = float(input(\"Please enter the second tilt (deg) \"))\n",
    "            self.tiltC = self.tiltA\n",
    "            self.tiltD = self.tiltD\n",
    "        else:\n",
    "            self.tilt = float(input(\"Please enter the tilt (deg) \"))\n",
    "            self.tiltA = self.tiltB = self.tiltC = self.tiltD = self.tilt\n",
    "            \n",
    "    \n",
    "    #make the normal vectors!\n",
    "        self.detA = [ zenith[0] + self.tiltA , zenith[1] ] \n",
    "        self.detB = [ zenith[0] + self.tiltB , zenith[1] + np.pi/2 ] \n",
    "        self.detC = [ zenith[0] + self.tiltC , zenith[1] + np.pi ] \n",
    "        self.detD = [ zenith[0] + self.tiltD , zenith[1] + 3*np.pi/2 ] \n",
    "    \n",
    "    "
   ]
  },
  {
   "cell_type": "code",
   "execution_count": 32,
   "metadata": {},
   "outputs": [
    {
     "name": "stdout",
     "output_type": "stream",
     "text": [
      "Are the detectors alternating? no\n",
      "Please enter the tilt (deg) 30\n"
     ]
    }
   ],
   "source": [
    "BC1 = BurstCube()"
   ]
  },
  {
   "cell_type": "markdown",
   "metadata": {},
   "source": [
    "BC1.det<> is the angle in spherical coordinates of the normal of the detector. That should be enough info to be able to create the simulation, which can convert that to a cartesain term in house. Now to do that, and include the GRB. "
   ]
  },
  {
   "cell_type": "code",
   "execution_count": 33,
   "metadata": {},
   "outputs": [
    {
     "data": {
      "text/plain": [
       "[30.0, 0]"
      ]
     },
     "execution_count": 33,
     "metadata": {},
     "output_type": "execute_result"
    }
   ],
   "source": [
    "BC1.detA  #this is the angle in spherical coordinates of the normal of the detector"
   ]
  },
  {
   "cell_type": "code",
   "execution_count": 34,
   "metadata": {},
   "outputs": [
    {
     "data": {
      "text/plain": [
       "[30.0, 1.5707963267948966]"
      ]
     },
     "execution_count": 34,
     "metadata": {},
     "output_type": "execute_result"
    }
   ],
   "source": [
    "BC1.detB"
   ]
  },
  {
   "cell_type": "code",
   "execution_count": null,
   "metadata": {
    "collapsed": true
   },
   "outputs": [],
   "source": []
  },
  {
   "cell_type": "code",
   "execution_count": null,
   "metadata": {
    "collapsed": true
   },
   "outputs": [],
   "source": []
  },
  {
   "cell_type": "code",
   "execution_count": 29,
   "metadata": {
    "collapsed": true
   },
   "outputs": [],
   "source": [
    "zenith = [0,0]\n",
    "\n",
    "class Detector:\n",
    "    \"\"\"Each detector goes here\n",
    "    \"\"\"\n",
    "    def __init__(self,norm,thickness):\n",
    "        self.det = norm\n",
    "        self.thickness = thickness\n",
    "        \n",
    "    def makenorm(self):\n",
    "        tilt = np.deg2rad(self.det)\n",
    "        detnorm = [zenith[0] + tilt,zenith[1]] \n",
    "        print(detnorm)\n",
    "        \n",
    "\n"
   ]
  },
  {
   "cell_type": "code",
   "execution_count": 32,
   "metadata": {
    "collapsed": true
   },
   "outputs": [],
   "source": [
    "A = Detector(30,.76)\n",
    "\n",
    "B = Detector(30,.76)\n",
    "C = Detector(30,.76)\n",
    "D = Detector(30,.76)\n",
    "\n",
    "\n"
   ]
  },
  {
   "cell_type": "code",
   "execution_count": 31,
   "metadata": {},
   "outputs": [
    {
     "name": "stdout",
     "output_type": "stream",
     "text": [
      "[0.52359877559829882, 0]\n"
     ]
    }
   ],
   "source": [
    "A.makenorm()"
   ]
  },
  {
   "cell_type": "code",
   "execution_count": 13,
   "metadata": {},
   "outputs": [
    {
     "ename": "SyntaxError",
     "evalue": "unexpected EOF while parsing (<ipython-input-13-5181496f6cd9>, line 52)",
     "output_type": "error",
     "traceback": [
      "\u001b[0;36m  File \u001b[0;32m\"<ipython-input-13-5181496f6cd9>\"\u001b[0;36m, line \u001b[0;32m52\u001b[0m\n\u001b[0;31m    \u001b[0m\n\u001b[0m    ^\u001b[0m\n\u001b[0;31mSyntaxError\u001b[0m\u001b[0;31m:\u001b[0m unexpected EOF while parsing\n"
     ]
    }
   ],
   "source": [
    "class BurstCube():\n",
    "    zenith = [0,0]  #globally defined zenith, the north pole for lack of a better term. \n",
    "    import numpy as np\n",
    "    import healpy as hp\n",
    "    def __init__(self,A,B):\n",
    "        \n",
    "        \"\"\"Assuming only 2 tilts are ranging... not all 4. \n",
    "        \n",
    "        \"\"\"\n",
    "        \n",
    "        self.tiltA = np.deg2rad(A)\n",
    "        self.tiltB = np.deg2rad(B)\n",
    "        self.tiltC = np.deg2rad(A)\n",
    "        self.tiltD = np.deg2rad(B)\n",
    "        \n",
    "        self.response = 0.76 #shortcut for thickness, could make a bigger path later on. \n",
    "        return self.tiltA,tiltB,tiltC,tiltD\n",
    "    detA = [zenith[0] + tiltA,zenith[1]] \n",
    "    detB = [zenith[0] + tiltB,zenith[1] + np.pi/2] \n",
    "    detC = [zenith[0] + tiltC,zenith[1] + np.pi] \n",
    "    detD = [zenith[0] + tiltD,zenith[1] + 3*np.pi/2] \n",
    "\n",
    "    #now to add more local variables, don't need to be in the init though!\n",
    "    detAnorm = hp.ang2vec(detA[0],detA[1])\n",
    "    detBnorm = hp.ang2vec(detB[0],detB[1])\n",
    "    detCnorm = hp.ang2vec(detC[0],detC[1])\n",
    "    detDnorm = hp.ang2vec(detD[0],detD[1])\n",
    "    \n",
    "\n",
    "    \n",
    "    \n",
    "    \n",
    "    def rotate(self,det,howmuch):\n",
    "        \"\"\"Rotates a given *det* by angle *howmuch*. \n",
    "        \"\"\"\n",
    "        xnew = det[0]* np.cos(howmuch) - det[1]*np.sin(howmuch)\n",
    "        ynew = det[0]* np.sin(howmuch) + det[1]*np.cos(howmuch)\n",
    "        \n",
    "        #now to normalize it to avoid funkiness... \n",
    "        rotnorm = [xnew/((xnew*xnew+ynew*ynew)**.5),ynew/((xnew*xnew+ynew*ynew)**.5)]\n",
    "    \n",
    "        return rotnorm #new vector rotated to desired angle\n",
    "                #incomplete, but good for now since probably won't be used that much anyway!\n",
    "        \n",
    "    def print_details(self):\n",
    "        print(\"This design is \" +str(A)+ \" degrees by \" + str(B) + \" degrees.\")\n",
    "        \n",
    "    def simulate(self): \n",
    "#inherit the GRB class here, simulate what happens to the detector, both in terms of counts detected, and localization. \n",
    "        #print testing a GRB of this stregnth and location here\n",
    "    \n",
    "    #wouild be easier to call this already made function than re assemble it right here, can I \n",
    "    \n",
    "    import burstsim as bc \n",
    "        bc.mynewsim(NSIDE GRB info, tilt info, and so on )"
   ]
  },
  {
   "cell_type": "code",
   "execution_count": null,
   "metadata": {
    "collapsed": true
   },
   "outputs": [],
   "source": [
    "burst = GRB(100,90,93)"
   ]
  },
  {
   "cell_type": "code",
   "execution_count": 9,
   "metadata": {},
   "outputs": [
    {
     "ename": "NameError",
     "evalue": "name 'zenith' is not defined",
     "output_type": "error",
     "traceback": [
      "\u001b[0;31m---------------------------------------------------------------------------\u001b[0m",
      "\u001b[0;31mNameError\u001b[0m                                 Traceback (most recent call last)",
      "\u001b[0;32m<ipython-input-9-bc2061f562d2>\u001b[0m in \u001b[0;36m<module>\u001b[0;34m()\u001b[0m\n\u001b[0;32m----> 1\u001b[0;31m \u001b[0mbc1\u001b[0m \u001b[0;34m=\u001b[0m \u001b[0mBurstCube\u001b[0m\u001b[0;34m(\u001b[0m\u001b[0;36m30\u001b[0m\u001b[0;34m,\u001b[0m\u001b[0;36m45\u001b[0m\u001b[0;34m)\u001b[0m\u001b[0;34m\u001b[0m\u001b[0m\n\u001b[0m",
      "\u001b[0;32m<ipython-input-8-ef84e515c537>\u001b[0m in \u001b[0;36m__init__\u001b[0;34m(self, A, B)\u001b[0m\n\u001b[1;32m     11\u001b[0m \u001b[0;34m\u001b[0m\u001b[0m\n\u001b[1;32m     12\u001b[0m         \u001b[0mself\u001b[0m\u001b[0;34m.\u001b[0m\u001b[0mresponse\u001b[0m \u001b[0;34m=\u001b[0m \u001b[0;36m0.76\u001b[0m \u001b[0;31m#shortcut for thickness, could make a bigger path later on.\u001b[0m\u001b[0;34m\u001b[0m\u001b[0m\n\u001b[0;32m---> 13\u001b[0;31m         \u001b[0mdetA\u001b[0m \u001b[0;34m=\u001b[0m \u001b[0;34m[\u001b[0m\u001b[0mzenith\u001b[0m\u001b[0;34m[\u001b[0m\u001b[0;36m0\u001b[0m\u001b[0;34m]\u001b[0m \u001b[0;34m+\u001b[0m \u001b[0mtiltA\u001b[0m\u001b[0;34m,\u001b[0m\u001b[0mzenith\u001b[0m\u001b[0;34m[\u001b[0m\u001b[0;36m1\u001b[0m\u001b[0;34m]\u001b[0m\u001b[0;34m]\u001b[0m\u001b[0;34m\u001b[0m\u001b[0m\n\u001b[0m\u001b[1;32m     14\u001b[0m         \u001b[0mdetB\u001b[0m \u001b[0;34m=\u001b[0m \u001b[0;34m[\u001b[0m\u001b[0mzenith\u001b[0m\u001b[0;34m[\u001b[0m\u001b[0;36m0\u001b[0m\u001b[0;34m]\u001b[0m \u001b[0;34m+\u001b[0m \u001b[0mtiltB\u001b[0m\u001b[0;34m,\u001b[0m\u001b[0mzenith\u001b[0m\u001b[0;34m[\u001b[0m\u001b[0;36m1\u001b[0m\u001b[0;34m]\u001b[0m \u001b[0;34m+\u001b[0m \u001b[0mnp\u001b[0m\u001b[0;34m.\u001b[0m\u001b[0mpi\u001b[0m\u001b[0;34m/\u001b[0m\u001b[0;36m2\u001b[0m\u001b[0;34m]\u001b[0m\u001b[0;34m\u001b[0m\u001b[0m\n\u001b[1;32m     15\u001b[0m         \u001b[0mdetC\u001b[0m \u001b[0;34m=\u001b[0m \u001b[0;34m[\u001b[0m\u001b[0mzenith\u001b[0m\u001b[0;34m[\u001b[0m\u001b[0;36m0\u001b[0m\u001b[0;34m]\u001b[0m \u001b[0;34m+\u001b[0m \u001b[0mtiltC\u001b[0m\u001b[0;34m,\u001b[0m\u001b[0mzenith\u001b[0m\u001b[0;34m[\u001b[0m\u001b[0;36m1\u001b[0m\u001b[0;34m]\u001b[0m \u001b[0;34m+\u001b[0m \u001b[0mnp\u001b[0m\u001b[0;34m.\u001b[0m\u001b[0mpi\u001b[0m\u001b[0;34m]\u001b[0m\u001b[0;34m\u001b[0m\u001b[0m\n",
      "\u001b[0;31mNameError\u001b[0m: name 'zenith' is not defined"
     ]
    }
   ],
   "source": [
    "bc1 = BurstCube(30,45)"
   ]
  },
  {
   "cell_type": "code",
   "execution_count": null,
   "metadata": {
    "collapsed": true
   },
   "outputs": [],
   "source": [
    "burst.print_details()"
   ]
  },
  {
   "cell_type": "code",
   "execution_count": null,
   "metadata": {
    "collapsed": true
   },
   "outputs": [],
   "source": [
    "burst.theta1"
   ]
  },
  {
   "cell_type": "code",
   "execution_count": null,
   "metadata": {
    "collapsed": true
   },
   "outputs": [],
   "source": [
    "        print(\"This GRB will produce an effect of \" + str(self.strength) + \" counts, located at polar angle \" + str(self.theta) + \" and azimuthal angle \" + str(self.phi))\n"
   ]
  }
 ],
 "metadata": {
  "kernelspec": {
   "display_name": "Python 3",
   "language": "python",
   "name": "python3"
  },
  "language_info": {
   "codemirror_mode": {
    "name": "ipython",
    "version": 3
   },
   "file_extension": ".py",
   "mimetype": "text/x-python",
   "name": "python",
   "nbconvert_exporter": "python",
   "pygments_lexer": "ipython3",
   "version": "3.6.1"
  }
 },
 "nbformat": 4,
 "nbformat_minor": 2
}
