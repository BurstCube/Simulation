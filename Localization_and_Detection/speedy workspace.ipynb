{
 "cells": [
  {
   "cell_type": "code",
   "execution_count": 1,
   "metadata": {
    "collapsed": true
   },
   "outputs": [],
   "source": [
    "import numpy as np\n",
    "import healpy as hp"
   ]
  },
  {
   "cell_type": "code",
   "execution_count": 2,
   "metadata": {
    "collapsed": true
   },
   "outputs": [],
   "source": [
    "def speedy_solver(detsvals,detnorms,bottheta,toptheta,botphi,topphi,n,background):\n",
    "   # mask2 = np.array(detsvals) >background\n",
    "    #detsvals = detsvals[mask2]\n",
    "    theta = np.deg2rad(np.linspace(bottheta,toptheta,n))\n",
    "    phi = np.deg2rad(np.linspace(botphi,topphi,n))\n",
    "    mtheta,mphi = np.meshgrid(theta,phi)\n",
    "    chiveco = hp.ang2vec(mtheta,mphi)\n",
    "    chivecs = np.concatenate(chiveco)\n",
    "    As= np.linspace(10,1000,30)\n",
    "    chiterms = np.zeros(len(As)*len(theta)*len(phi))\n",
    "   # print(\"Len chi terms: the zeros one.. \" + str(len(chiterms)))\n",
    "    for s in range(len(detsvals)):\n",
    "        normarr = detnorms[s]\n",
    "   #    print(\"normal array \" + str(s) + \" \" + str(np.rad2deg(hp.vec2ang(normarr)))) \n",
    "        normarrs = []\n",
    "        for garc in range((len(theta)*len(phi))):\n",
    "            normarrs.append([normarr[0],normarr[1],normarr[2]])\n",
    "        \n",
    "        seps = findAngles(chivecs,normarrs)\n",
    "        \n",
    "        #mask = seps < np.pi/2\n",
    "        #seps[mask]\n",
    "        #only using seps under 90, good. \n",
    "        AA,SS = np.meshgrid(As,seps)\n",
    "\n",
    "        Aofit = np.concatenate(AA)\n",
    "        chiseps = np.concatenate(SS)\n",
    "        bg = background * np.ones(len(chiseps))\n",
    "        #when chiseps in here are >90, make response huuuge\n",
    "        good = chiseps < np.pi/2\n",
    "        bad = chiseps > np.pi/2\n",
    "        chiseps[good]\n",
    "        chiResponse = np.multiply(Aofit,response(chisepschiseps[good])) + bg\n",
    "         \n",
    "    #  print(\"iteration : \" + str(s))\n",
    "        chiterm = np.divide(np.power(np.subtract(chiResponse,detsvals[s]),2),detsvals[s])\n",
    "      #  print(\"chiterm: \" + str(chiterm))\n",
    "\n",
    "        chiterms += chiterm\n",
    "     #   print(\"chiterms final: \" + str(chiterms))\n",
    "    chimin = min(chiterms)\n",
    "    chisquareds = list(chiterms)\n",
    "\n",
    "    thetaloc = np.rad2deg(theta[int((chisquareds.index(chimin)-(chisquareds.index(chimin) % (len(phi)*len(Aofit))))/(len(phi)*len(Aofit)))])\n",
    "    philoc = np.rad2deg(phi[int(((chisquareds.index(chimin) % (len(phi)*len(Aofit)))-(chisquareds.index(chimin) % (len(Aofit))))/len(Aofit))])\n",
    "    Aoguess=Aofit[int((chisquareds.index(chimin) % (len(phi)*len(Aofit)))  % len(Aofit))]\n",
    "    \n",
    "    return thetaloc,philoc,Aoguess\n"
   ]
  },
  {
   "cell_type": "code",
   "execution_count": null,
   "metadata": {
    "collapsed": true
   },
   "outputs": [],
   "source": []
  }
 ],
 "metadata": {
  "kernelspec": {
   "display_name": "Python 3",
   "language": "python",
   "name": "python3"
  },
  "language_info": {
   "codemirror_mode": {
    "name": "ipython",
    "version": 3
   },
   "file_extension": ".py",
   "mimetype": "text/x-python",
   "name": "python",
   "nbconvert_exporter": "python",
   "pygments_lexer": "ipython3",
   "version": "3.6.1"
  }
 },
 "nbformat": 4,
 "nbformat_minor": 2
}
