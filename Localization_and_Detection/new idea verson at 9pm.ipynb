{
 "cells": [
  {
   "cell_type": "code",
   "execution_count": 4,
   "metadata": {
    "collapsed": true
   },
   "outputs": [],
   "source": [
    "import numpy as np\n",
    "import healpy as hp"
   ]
  },
  {
   "cell_type": "code",
   "execution_count": 22,
   "metadata": {
    "collapsed": true
   },
   "outputs": [],
   "source": [
    "theta = np.deg2rad(np.linspace(0,90,10))\n",
    "phi = np.deg2rad(np.linspace(0,360,37))"
   ]
  },
  {
   "cell_type": "code",
   "execution_count": 23,
   "metadata": {
    "collapsed": true
   },
   "outputs": [],
   "source": [
    "mtheta,mphi = np.meshgrid(theta,phi)"
   ]
  },
  {
   "cell_type": "code",
   "execution_count": 31,
   "metadata": {},
   "outputs": [],
   "source": [
    "thetaS = (hp.vec2ang(hp.ang2vec(mtheta,mphi)))[0]"
   ]
  },
  {
   "cell_type": "code",
   "execution_count": 32,
   "metadata": {},
   "outputs": [],
   "source": [
    "phiS = (hp.vec2ang(hp.ang2vec(mtheta,mphi)))[1]"
   ]
  },
  {
   "cell_type": "code",
   "execution_count": 41,
   "metadata": {},
   "outputs": [
    {
     "data": {
      "text/plain": [
       "array([[  1.73648178e-01,   0.00000000e+00,   9.84807753e-01],\n",
       "       [  1.71010072e-01,   3.01536896e-02,   9.84807753e-01],\n",
       "       [  1.63175911e-01,   5.93911746e-02,   9.84807753e-01],\n",
       "       [  1.50383733e-01,   8.68240888e-02,   9.84807753e-01],\n",
       "       [  1.33022222e-01,   1.11618897e-01,   9.84807753e-01],\n",
       "       [  1.11618897e-01,   1.33022222e-01,   9.84807753e-01],\n",
       "       [  8.68240888e-02,   1.50383733e-01,   9.84807753e-01],\n",
       "       [  5.93911746e-02,   1.63175911e-01,   9.84807753e-01],\n",
       "       [  3.01536896e-02,   1.71010072e-01,   9.84807753e-01],\n",
       "       [  1.06328842e-17,   1.73648178e-01,   9.84807753e-01],\n",
       "       [ -3.01536896e-02,   1.71010072e-01,   9.84807753e-01],\n",
       "       [ -5.93911746e-02,   1.63175911e-01,   9.84807753e-01],\n",
       "       [ -8.68240888e-02,   1.50383733e-01,   9.84807753e-01],\n",
       "       [ -1.11618897e-01,   1.33022222e-01,   9.84807753e-01],\n",
       "       [ -1.33022222e-01,   1.11618897e-01,   9.84807753e-01],\n",
       "       [ -1.50383733e-01,   8.68240888e-02,   9.84807753e-01],\n",
       "       [ -1.63175911e-01,   5.93911746e-02,   9.84807753e-01],\n",
       "       [ -1.71010072e-01,   3.01536896e-02,   9.84807753e-01],\n",
       "       [ -1.73648178e-01,   2.12657685e-17,   9.84807753e-01],\n",
       "       [ -1.71010072e-01,  -3.01536896e-02,   9.84807753e-01],\n",
       "       [ -1.63175911e-01,  -5.93911746e-02,   9.84807753e-01],\n",
       "       [ -1.50383733e-01,  -8.68240888e-02,   9.84807753e-01],\n",
       "       [ -1.33022222e-01,  -1.11618897e-01,   9.84807753e-01],\n",
       "       [ -1.11618897e-01,  -1.33022222e-01,   9.84807753e-01],\n",
       "       [ -8.68240888e-02,  -1.50383733e-01,   9.84807753e-01],\n",
       "       [ -5.93911746e-02,  -1.63175911e-01,   9.84807753e-01],\n",
       "       [ -3.01536896e-02,  -1.71010072e-01,   9.84807753e-01],\n",
       "       [ -3.18986527e-17,  -1.73648178e-01,   9.84807753e-01],\n",
       "       [  3.01536896e-02,  -1.71010072e-01,   9.84807753e-01],\n",
       "       [  5.93911746e-02,  -1.63175911e-01,   9.84807753e-01],\n",
       "       [  8.68240888e-02,  -1.50383733e-01,   9.84807753e-01],\n",
       "       [  1.11618897e-01,  -1.33022222e-01,   9.84807753e-01],\n",
       "       [  1.33022222e-01,  -1.11618897e-01,   9.84807753e-01],\n",
       "       [  1.50383733e-01,  -8.68240888e-02,   9.84807753e-01],\n",
       "       [  1.63175911e-01,  -5.93911746e-02,   9.84807753e-01],\n",
       "       [  1.71010072e-01,  -3.01536896e-02,   9.84807753e-01],\n",
       "       [  1.73648178e-01,  -4.25315370e-17,   9.84807753e-01]])"
      ]
     },
     "execution_count": 41,
     "metadata": {},
     "output_type": "execute_result"
    }
   ],
   "source": [
    "\n",
    "\n",
    "\n",
    "(hp.ang2vec(mtheta,mphi)[1])"
   ]
  },
  {
   "cell_type": "code",
   "execution_count": 47,
   "metadata": {},
   "outputs": [],
   "source": [
    "fakenorm = [0,.7071,.7071]\n",
    "fakenorms = []\n",
    "for i in range(37):\n",
    "    fakenorms.append([fakenorm[0],fakenorm[1],fakenorm[2]])\n",
    "\n",
    "    "
   ]
  },
  {
   "cell_type": "code",
   "execution_count": 48,
   "metadata": {},
   "outputs": [
    {
     "data": {
      "text/plain": [
       "[[0, 0.7071, 0.7071],\n",
       " [0, 0.7071, 0.7071],\n",
       " [0, 0.7071, 0.7071],\n",
       " [0, 0.7071, 0.7071],\n",
       " [0, 0.7071, 0.7071],\n",
       " [0, 0.7071, 0.7071],\n",
       " [0, 0.7071, 0.7071],\n",
       " [0, 0.7071, 0.7071],\n",
       " [0, 0.7071, 0.7071],\n",
       " [0, 0.7071, 0.7071],\n",
       " [0, 0.7071, 0.7071],\n",
       " [0, 0.7071, 0.7071],\n",
       " [0, 0.7071, 0.7071],\n",
       " [0, 0.7071, 0.7071],\n",
       " [0, 0.7071, 0.7071],\n",
       " [0, 0.7071, 0.7071],\n",
       " [0, 0.7071, 0.7071],\n",
       " [0, 0.7071, 0.7071],\n",
       " [0, 0.7071, 0.7071],\n",
       " [0, 0.7071, 0.7071],\n",
       " [0, 0.7071, 0.7071],\n",
       " [0, 0.7071, 0.7071],\n",
       " [0, 0.7071, 0.7071],\n",
       " [0, 0.7071, 0.7071],\n",
       " [0, 0.7071, 0.7071],\n",
       " [0, 0.7071, 0.7071],\n",
       " [0, 0.7071, 0.7071],\n",
       " [0, 0.7071, 0.7071],\n",
       " [0, 0.7071, 0.7071],\n",
       " [0, 0.7071, 0.7071],\n",
       " [0, 0.7071, 0.7071],\n",
       " [0, 0.7071, 0.7071],\n",
       " [0, 0.7071, 0.7071],\n",
       " [0, 0.7071, 0.7071],\n",
       " [0, 0.7071, 0.7071],\n",
       " [0, 0.7071, 0.7071],\n",
       " [0, 0.7071, 0.7071]]"
      ]
     },
     "execution_count": 48,
     "metadata": {},
     "output_type": "execute_result"
    }
   ],
   "source": [
    "fakenorms"
   ]
  },
  {
   "cell_type": "code",
   "execution_count": 60,
   "metadata": {},
   "outputs": [
    {
     "data": {
      "text/plain": [
       "37"
      ]
     },
     "execution_count": 60,
     "metadata": {},
     "output_type": "execute_result"
    }
   ],
   "source": [
    "len(np.rad2deg(findAngles((hp.ang2vec(mtheta,mphi)[7]),fakenorms)))\n",
    "\n",
    "\n",
    "#this part is huge. Take note that the meshgrid needs to be indexed as such. Maybe need to iterate through, but only 10 times? "
   ]
  },
  {
   "cell_type": "code",
   "execution_count": 3,
   "metadata": {},
   "outputs": [
    {
     "name": "stderr",
     "output_type": "stream",
     "text": [
      "UsageError: %%cython is a cell magic, but the cell body is empty.\n"
     ]
    }
   ],
   "source": [
    "%%cython for i in range(10000):"
   ]
  },
  {
   "cell_type": "code",
   "execution_count": 42,
   "metadata": {
    "collapsed": true
   },
   "outputs": [],
   "source": [
    "fakenorm = [0,.7071,.7071]"
   ]
  },
  {
   "cell_type": "code",
   "execution_count": 43,
   "metadata": {
    "collapsed": true
   },
   "outputs": [],
   "source": [
    "def findAngles(v1s, v2s):\n",
    "    dot = np.einsum('ijk,ijk->ij',[v1s,v1s,v2s],[v2s,v1s,v2s])\n",
    "    return np.arccos(dot[0,:]/(np.sqrt(dot[1,:])*np.sqrt(dot[2,:])))\n"
   ]
  },
  {
   "cell_type": "code",
   "execution_count": null,
   "metadata": {
    "collapsed": true
   },
   "outputs": [],
   "source": []
  }
 ],
 "metadata": {
  "kernelspec": {
   "display_name": "Python 3",
   "language": "python",
   "name": "python3"
  },
  "language_info": {
   "codemirror_mode": {
    "name": "ipython",
    "version": 3
   },
   "file_extension": ".py",
   "mimetype": "text/x-python",
   "name": "python",
   "nbconvert_exporter": "python",
   "pygments_lexer": "ipython3",
   "version": "3.6.1"
  }
 },
 "nbformat": 4,
 "nbformat_minor": 2
}
