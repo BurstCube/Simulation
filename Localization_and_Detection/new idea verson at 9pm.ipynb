{
 "cells": [
  {
   "cell_type": "code",
   "execution_count": 1,
   "metadata": {
    "collapsed": true
   },
   "outputs": [],
   "source": [
    "import numpy as np\n",
    "import healpy as hp\n",
    "import time"
   ]
  },
  {
   "cell_type": "code",
   "execution_count": 2,
   "metadata": {
    "collapsed": true
   },
   "outputs": [],
   "source": [
    "def response(A):\n",
    "    \"\"\"\n",
    "    Meant to imitate the actual response of a scintillator.\n",
    "    Inputs 2 vectors, and responds with a cos^x dependence.\n",
    "    \"\"\"\n",
    "    #meant to imitate the response of the detectors for effective area vs. angle, found to be around .77\n",
    " #   print(length(A),length(B))\n",
    "#if cosine is negative, \n",
    "    return pow(abs(np.cos(A)),0.76)\n"
   ]
  },
  {
   "cell_type": "code",
   "execution_count": 3,
   "metadata": {
    "collapsed": true
   },
   "outputs": [],
   "source": [
    "def findAngles(v1s, v2s):\n",
    "    dot = np.einsum('ijk,ijk->ij',[v1s,v1s,v2s],[v2s,v1s,v2s])\n",
    "    return np.arccos(dot[0,:]/(np.sqrt(dot[1,:])*np.sqrt(dot[2,:])))\n"
   ]
  },
  {
   "cell_type": "code",
   "execution_count": 4,
   "metadata": {
    "collapsed": true
   },
   "outputs": [],
   "source": [
    "theta = np.deg2rad(np.linspace(0,90,10))\n",
    "phi = np.deg2rad(np.linspace(0,360,37))"
   ]
  },
  {
   "cell_type": "code",
   "execution_count": 5,
   "metadata": {
    "collapsed": true
   },
   "outputs": [],
   "source": [
    "mtheta,mphi = np.meshgrid(theta,phi)"
   ]
  },
  {
   "cell_type": "code",
   "execution_count": 6,
   "metadata": {
    "collapsed": true
   },
   "outputs": [],
   "source": [
    "thetaS = (hp.vec2ang(hp.ang2vec(mtheta,mphi)))[0]"
   ]
  },
  {
   "cell_type": "code",
   "execution_count": 7,
   "metadata": {
    "collapsed": true
   },
   "outputs": [],
   "source": [
    "phiS = (hp.vec2ang(hp.ang2vec(mtheta,mphi)))[1]"
   ]
  },
  {
   "cell_type": "code",
   "execution_count": 8,
   "metadata": {
    "collapsed": true
   },
   "outputs": [],
   "source": [
    "fakenormA = [0,1/np.sqrt(2),1/np.sqrt(2)]\n",
    "fakenormAs = []\n",
    "for i in range(len(phi)):\n",
    "    fakenormAs.append([fakenorm[0],fakenorm[1],fakenorm[2]])\n",
    "\n",
    "    "
   ]
  },
  {
   "cell_type": "code",
   "execution_count": null,
   "metadata": {
    "collapsed": true
   },
   "outputs": [],
   "source": [
    "#dummy source at [19,20] with A = 500\n",
    "\n",
    "#dummyresponse = 500* response()"
   ]
  },
  {
   "cell_type": "code",
   "execution_count": 9,
   "metadata": {
    "collapsed": true
   },
   "outputs": [],
   "source": [
    "seps = []\n",
    "for i in range(len(theta)):\n",
    "    seps.append(findAngles((hp.ang2vec(mtheta,mphi)[i]),fakenorms))"
   ]
  },
  {
   "cell_type": "code",
   "execution_count": null,
   "metadata": {},
   "outputs": [],
   "source": []
  },
  {
   "cell_type": "code",
   "execution_count": 10,
   "metadata": {},
   "outputs": [],
   "source": [
    "newseps = (np.concatenate(seps))\n",
    "\n"
   ]
  },
  {
   "cell_type": "code",
   "execution_count": 11,
   "metadata": {
    "collapsed": true
   },
   "outputs": [],
   "source": [
    "As= np.linspace(0,1000,3)"
   ]
  },
  {
   "cell_type": "code",
   "execution_count": 12,
   "metadata": {
    "collapsed": true
   },
   "outputs": [],
   "source": [
    "AA,SS = np.meshgrid(As,newseps)"
   ]
  },
  {
   "cell_type": "code",
   "execution_count": 13,
   "metadata": {
    "scrolled": true
   },
   "outputs": [],
   "source": [
    "Aofit = np.concatenate(AA)\n",
    "chisep = np.concatenate(SS)\n",
    "bg = 1000 * np.ones(len(chisep))"
   ]
  },
  {
   "cell_type": "code",
   "execution_count": 14,
   "metadata": {},
   "outputs": [],
   "source": [
    "chiResponse = np.multiply(Aofit,response(chisep)) + bg\n",
    "chiterms = chiterms + np.divide((chiResponse-dummyresponse)**2,dummyresponse)\n",
    "\n"
   ]
  },
  {
   "cell_type": "code",
   "execution_count": 15,
   "metadata": {},
   "outputs": [
    {
     "data": {
      "text/plain": [
       "array([ 1000.        ,  1384.21879532,  1768.43759064, ...,  1000.        ,\n",
       "        1000.        ,  1000.        ])"
      ]
     },
     "execution_count": 15,
     "metadata": {},
     "output_type": "execute_result"
    }
   ],
   "source": [
    "#now you have to find the min! "
   ]
  },
  {
   "cell_type": "code",
   "execution_count": 17,
   "metadata": {},
   "outputs": [
    {
     "data": {
      "text/plain": [
       "<memory at 0x10e6e9348>"
      ]
     },
     "execution_count": 17,
     "metadata": {},
     "output_type": "execute_result"
    }
   ],
   "source": [
    "chiResponse.data"
   ]
  },
  {
   "cell_type": "code",
   "execution_count": null,
   "metadata": {
    "collapsed": true
   },
   "outputs": [],
   "source": [
    "\n",
    "        chiresponse =  Aofit * response(chisep) + bg \n",
    "        for i in range(len(chiresponse)):\n",
    "            if chisep[i] > np.pi/2:\n",
    "                chiresponse[i] = 1e6 #arbitrarily huge number saying this number is out of the question. \n",
    "        print(\"chi terms: \")\n",
    "        chiterms = chiterms + np.divide((chiresponse-detresponse)**2,detresponse)\n",
    "       # print(chiterms)\n",
    "      #  print(\"len of Chiterms = \" + str(len(chiterms)))                               "
   ]
  },
  {
   "cell_type": "code",
   "execution_count": null,
   "metadata": {
    "collapsed": true
   },
   "outputs": [],
   "source": []
  },
  {
   "cell_type": "code",
   "execution_count": null,
   "metadata": {},
   "outputs": [],
   "source": [
    "def chisolver(chiR,act)\n",
    "    "
   ]
  },
  {
   "cell_type": "code",
   "execution_count": null,
   "metadata": {},
   "outputs": [],
   "source": [
    "len(hp.ang2vec(mtheta,mphi))"
   ]
  },
  {
   "cell_type": "code",
   "execution_count": null,
   "metadata": {},
   "outputs": [],
   "source": [
    "BB[0]"
   ]
  },
  {
   "cell_type": "code",
   "execution_count": null,
   "metadata": {},
   "outputs": [],
   "source": []
  },
  {
   "cell_type": "code",
   "execution_count": null,
   "metadata": {
    "collapsed": true
   },
   "outputs": [],
   "source": []
  }
 ],
 "metadata": {
  "kernelspec": {
   "display_name": "Python 3",
   "language": "python",
   "name": "python3"
  },
  "language_info": {
   "codemirror_mode": {
    "name": "ipython",
    "version": 3
   },
   "file_extension": ".py",
   "mimetype": "text/x-python",
   "name": "python",
   "nbconvert_exporter": "python",
   "pygments_lexer": "ipython3",
   "version": "3.6.1"
  }
 },
 "nbformat": 4,
 "nbformat_minor": 2
}
