{
 "cells": [
  {
   "cell_type": "markdown",
   "metadata": {},
   "source": [
    "In this new version of the testing space I will be tweaking at the response function I created in order to generate some sort of look up table which will be used to help design the response function for each detector, as well as the chi squared response! "
   ]
  },
  {
   "cell_type": "markdown",
   "metadata": {},
   "source": [
    "Original Functions\n",
    "=========="
   ]
  },
  {
   "cell_type": "code",
   "execution_count": 1,
   "metadata": {
    "collapsed": true
   },
   "outputs": [],
   "source": [
    "\n",
    "def chiresponse(A):\n",
    "    \"\"\"\n",
    "    The response function used in the chi squared fitting portion of the simulation. \n",
    "    Meant to imitate the actual response of a scintillator.\n",
    "    Inputs 2 vectors, and responds with a cos^x dependence.\n",
    "    \n",
    "    Parameters\n",
    "    ----------\n",
    "    A : float\n",
    "        The angle between the two vectors who's response is meant to be imitated. \n",
    "\n",
    "    Returns\n",
    "    -------\n",
    "\n",
    "    A : float\n",
    "        The cosine dependence based on the angle, includes a mask so that terms corresponding to angular separations beyond pi/2 are 0, imitating what would happen if a GRB didn't strike the face of a detector. Further simulations of this effect are neccessary in a different software package to confirm this assumption, but its okay for now. \n",
    "\n",
    "    \"\"\"\n",
    "    #meant to imitate the response of the detectors for effective area vs. angle, found to be around .77\n",
    " #   print(length(A),length(B))\n",
    "#if cosine is negative, \n",
    "\n",
    "    mask = A > np.pi/2.\n",
    "\n",
    "    A[mask] = 0\n",
    "    A[~mask] = pow(abs(np.cos(A[~mask])),0.76)\n",
    "    \n",
    "    \n",
    "    return A\n",
    "\n",
    "def response(A):\n",
    "    \"\"\"\n",
    "    Meant to imitate the actual response of a scintillator.\n",
    "    Inputs 2 vectors, and responds with a cos^x dependence.\n",
    "    \n",
    "    Parameters\n",
    "    -----------\n",
    "    A : float\n",
    "        The angular separation in radians between the normal vector of the detector, and the position in the sky of the simulated GRB. \n",
    "\n",
    "    Returns\n",
    "    -------\n",
    "    R : float\n",
    "        The response function of how the scintillator will respond to a source at angle A. \n",
    "\n",
    "    \"\"\"\n",
    "    #meant to imitate the response of the detectors for effective area vs. angle, found to be around .77\n",
    " #   print(length(A),length(B))\n",
    "#if cosine is negative, \n",
    "\n",
    "    R = pow(abs(np.cos(A)),0.76)\n",
    "    \n",
    "    \n",
    "    return R         \n",
    "\n"
   ]
  },
  {
   "cell_type": "markdown",
   "metadata": {},
   "source": [
    "First of all, there's no real reason for there to be two of these in the first place. Response should be replaced by the \"chiresponse\" version in all places in the code,and just for simplicity rename that response. "
   ]
  },
  {
   "cell_type": "code",
   "execution_count": null,
   "metadata": {
    "collapsed": true
   },
   "outputs": [],
   "source": [
    "def response(A):\n",
    "    \"\"\"\n",
    "    Meant to imitate the actual response of a scintillator.\n",
    "    Inputs 2 vectors, and responds with a cos^x dependence.\n",
    "    \n",
    "    Parameters\n",
    "    ----------\n",
    "    A : float\n",
    "        The angle between the two vectors who's response is meant to be imitated. \n",
    "\n",
    "    Returns\n",
    "    -------\n",
    "\n",
    "    A : float\n",
    "        The cosine dependence based on the angle, includes a mask so that terms corresponding to angular separations beyond pi/2 are 0, imitating what would happen if a GRB didn't strike the face of a detector. Further simulations of this effect are neccessary in a different software package to confirm this assumption, but its okay for now. \n",
    "\n",
    "    \"\"\"\n",
    "    mask = A > np.pi/2.\n",
    "\n",
    "    A[mask] = 0\n",
    "    A[~mask] = pow(abs(np.cos(A[~mask])),0.76)\n",
    "    \n",
    "    \n",
    "    return A"
   ]
  },
  {
   "cell_type": "markdown",
   "metadata": {},
   "source": [
    "Now I want to make a lookup table for each detector, note each has a different normal, and in these different domains have varying response functions. Let's do a dumb one now."
   ]
  },
  {
   "cell_type": "code",
   "execution_count": 21,
   "metadata": {
    "collapsed": true
   },
   "outputs": [],
   "source": [
    "import numpy as np\n",
    "def response(detnorm,skyvec):\n",
    "    \"\"\"\n",
    "    Meant to imitate the actual response of a scintillator.\n",
    "    Inputs 2 vectors, and responds with a cos^x dependence.\n",
    "    \n",
    "    Parameters\n",
    "    ----------\n",
    "    detnorm : array\n",
    "        The normal vector of the detector. \n",
    "    skyvec : array\n",
    "        The position of GRB in xyz coord. \n",
    "\n",
    "    Returns\n",
    "    -------\n",
    "\n",
    "    A : float\n",
    "        The cosine dependence based on the angle, includes a mask so that terms corresponding to angular separations beyond pi/2 are 0, imitating what would happen if a GRB didn't strike the face of a detector. Further simulations of this effect are neccessary in a different software package to confirm this assumption, but its okay for now. \n",
    "\n",
    "    \"\"\"\n",
    "    from burstutils import findAngles   \n",
    "    from healpy import ang2vec,vec2ang \n",
    "    theta,phi = vec2ang(skyvec)\n",
    "    A = findAngles(detnorm,skyvec)\n",
    "\n",
    "    if theta[0]  < np.pi/8:\n",
    "        mask = A > np.pi/2\n",
    "\n",
    "        A[mask] = 0\n",
    "        A[~mask] = pow(abs(np.cos(A[~mask])),1)\n",
    "    else:\n",
    "        mask = A > np.pi/2\n",
    "\n",
    "        A[mask] = 0\n",
    "        A[~mask] = pow(abs(np.cos(A[~mask])),.75)\n",
    "    \n",
    "\n",
    "    \n",
    "        \n",
    "    return A"
   ]
  },
  {
   "cell_type": "markdown",
   "metadata": {},
   "source": [
    "This appears to be a VERY simple version of this code which changes the response function based on where the theta and phi are of the GRB. Is this right? "
   ]
  },
  {
   "cell_type": "code",
   "execution_count": 5,
   "metadata": {
    "collapsed": true
   },
   "outputs": [],
   "source": []
  },
  {
   "cell_type": "code",
   "execution_count": null,
   "metadata": {},
   "outputs": [],
   "source": []
  },
  {
   "cell_type": "code",
   "execution_count": null,
   "metadata": {
    "collapsed": true
   },
   "outputs": [],
   "source": []
  }
 ],
 "metadata": {
  "kernelspec": {
   "display_name": "Python 3",
   "language": "python",
   "name": "python3"
  },
  "language_info": {
   "codemirror_mode": {
    "name": "ipython",
    "version": 3
   },
   "file_extension": ".py",
   "mimetype": "text/x-python",
   "name": "python",
   "nbconvert_exporter": "python",
   "pygments_lexer": "ipython3",
   "version": "3.6.1"
  }
 },
 "nbformat": 4,
 "nbformat_minor": 2
}
