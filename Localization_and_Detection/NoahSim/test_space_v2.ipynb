{
 "cells": [
  {
   "cell_type": "markdown",
   "metadata": {},
   "source": [
    "In this new version of the testing space I will be tweaking at the response function I created in order to generate some sort of look up table which will be used to help design the response function for each detector, as well as the chi squared response! "
   ]
  },
  {
   "cell_type": "markdown",
   "metadata": {},
   "source": [
    "Original Functions\n",
    "=========="
   ]
  },
  {
   "cell_type": "code",
   "execution_count": null,
   "metadata": {
    "collapsed": true
   },
   "outputs": [],
   "source": [
    "\n",
    "def chiresponse(A):\n",
    "    \"\"\"\n",
    "    The response function used in the chi squared fitting portion of the simulation. \n",
    "    Meant to imitate the actual response of a scintillator.\n",
    "    Inputs 2 vectors, and responds with a cos^x dependence.\n",
    "    \n",
    "    Parameters\n",
    "    ----------\n",
    "    A : float\n",
    "        The angle between the two vectors who's response is meant to be imitated. \n",
    "\n",
    "    Returns\n",
    "    -------\n",
    "\n",
    "    A : float\n",
    "        The cosine dependence based on the angle, includes a mask so that terms corresponding to angular separations beyond pi/2 are 0, imitating what would happen if a GRB didn't strike the face of a detector. Further simulations of this effect are neccessary in a different software package to confirm this assumption, but its okay for now. \n",
    "\n",
    "    \"\"\"\n",
    "    #meant to imitate the response of the detectors for effective area vs. angle, found to be around .77\n",
    " #   print(length(A),length(B))\n",
    "#if cosine is negative, \n",
    "\n",
    "    mask = A > np.pi/2.\n",
    "\n",
    "    A[mask] = 0\n",
    "    A[~mask] = pow(abs(np.cos(A[~mask])),0.76)\n",
    "    \n",
    "    \n",
    "    return A\n",
    "\n",
    "def response(A):\n",
    "    \"\"\"\n",
    "    Meant to imitate the actual response of a scintillator.\n",
    "    Inputs 2 vectors, and responds with a cos^x dependence.\n",
    "    \n",
    "    Parameters\n",
    "    -----------\n",
    "    A : float\n",
    "        The angular separation in radians between the normal vector of the detector, and the position in the sky of the simulated GRB. \n",
    "\n",
    "    Returns\n",
    "    -------\n",
    "    R : float\n",
    "        The response function of how the scintillator will respond to a source at angle A. \n",
    "\n",
    "    \"\"\"\n",
    "    #meant to imitate the response of the detectors for effective area vs. angle, found to be around .77\n",
    " #   print(length(A),length(B))\n",
    "#if cosine is negative, \n",
    "\n",
    "    R = pow(abs(np.cos(A)),0.76)\n",
    "    \n",
    "    \n",
    "    return R         \n",
    "\n"
   ]
  },
  {
   "cell_type": "markdown",
   "metadata": {},
   "source": [
    "First of all, there's no real reason for there to be two of these in the first place. Response should be replaced by the \"chiresponse\" version in all places in the code,and just for simplicity rename that response. "
   ]
  },
  {
   "cell_type": "code",
   "execution_count": null,
   "metadata": {
    "collapsed": true
   },
   "outputs": [],
   "source": [
    "def response(A):\n",
    "    \"\"\"\n",
    "    Meant to imitate the actual response of a scintillator.\n",
    "    Inputs 2 vectors, and responds with a cos^x dependence.\n",
    "    \n",
    "    Parameters\n",
    "    ----------\n",
    "    A : float\n",
    "        The angle between the two vectors who's response is meant to be imitated. \n",
    "\n",
    "    Returns\n",
    "    -------\n",
    "\n",
    "    A : float\n",
    "        The cosine dependence based on the angle, includes a mask so that terms corresponding to angular separations beyond pi/2 are 0, imitating what would happen if a GRB didn't strike the face of a detector. Further simulations of this effect are neccessary in a different software package to confirm this assumption, but its okay for now. \n",
    "\n",
    "    \"\"\"\n",
    "    mask = A > np.pi/2.\n",
    "\n",
    "    A[mask] = 0\n",
    "    A[~mask] = pow(abs(np.cos(A[~mask])),0.76)\n",
    "    \n",
    "    \n",
    "    return A"
   ]
  },
  {
   "cell_type": "markdown",
   "metadata": {},
   "source": [
    "Now I want to make a lookup table for each detector, note each has a different normal, and in these different domains have varying response functions. Let's do a dumb one now."
   ]
  },
  {
   "cell_type": "code",
   "execution_count": null,
   "metadata": {
    "collapsed": true
   },
   "outputs": [],
   "source": [
    "import numpy as np\n",
    "def response(detnorm,skyvec):\n",
    "    \"\"\"\n",
    "    Meant to imitate the actual response of a scintillator.\n",
    "    Inputs 2 vectors, and responds with a cos^x dependence.\n",
    "    \n",
    "    Parameters\n",
    "    ----------\n",
    "    detnorm : array\n",
    "        The normal vector of the detector. \n",
    "    skyvec : array\n",
    "        The position of GRB in xyz coord. \n",
    "\n",
    "    Returns\n",
    "    -------\n",
    "\n",
    "    A : float\n",
    "        The cosine dependence based on the angle, includes a mask so that terms corresponding to angular separations beyond pi/2 are 0, imitating what would happen if a GRB didn't strike the face of a detector. Further simulations of this effect are neccessary in a different software package to confirm this assumption, but its okay for now. \n",
    "\n",
    "    \"\"\"\n",
    "    from burstutils import findAngles   \n",
    "    from healpy import ang2vec,vec2ang \n",
    "    theta,phi = vec2ang(skyvec)\n",
    "    A = findAngles(detnorm,skyvec)\n",
    "\n",
    "    if theta[0]  < np.pi/8:\n",
    "        mask = A > np.pi/2\n",
    "\n",
    "        A[mask] = 0\n",
    "        A[~mask] = pow(abs(np.cos(A[~mask])),1)\n",
    "    else:\n",
    "        mask = A > np.pi/2\n",
    "\n",
    "        A[mask] = 0\n",
    "        A[~mask] = pow(abs(np.cos(A[~mask])),.75)\n",
    "    \n",
    "\n",
    "    \n",
    "        \n",
    "    return A"
   ]
  },
  {
   "cell_type": "markdown",
   "metadata": {},
   "source": [
    "This appears to be a VERY simple version of this code which changes the response function based on where the theta and phi are of the GRB. Is this right? "
   ]
  },
  {
   "cell_type": "markdown",
   "metadata": {},
   "source": [
    "I think you’re trying too hard to make the cos(theta) dependence work in that function.  You probably should just have a 2-d array that gives the response for a given zenith and phi direction."
   ]
  },
  {
   "cell_type": "code",
   "execution_count": null,
   "metadata": {
    "collapsed": true
   },
   "outputs": [],
   "source": [
    "import numpy as np\n",
    "def response(detnorm,skyvec):\n",
    "    \"\"\"\n",
    "    Meant to imitate the actual response of a scintillator.\n",
    "    Inputs 2 vectors, and responds with a cos^x dependence.\n",
    "    \n",
    "    Parameters\n",
    "    ----------\n",
    "    detnorm : array\n",
    "        The normal vector of the detector. \n",
    "    skyvec : array\n",
    "        The position of GRB in xyz coord. \n",
    "\n",
    "    Returns\n",
    "    -------\n",
    "\n",
    "    A : float\n",
    "        The cosine dependence based on the angle, includes a mask so that terms corresponding to angular separations beyond pi/2 are 0, imitating what would happen if a GRB didn't strike the face of a detector. Further simulations of this effect are neccessary in a different software package to confirm this assumption, but its okay for now. \n",
    "\n",
    "    \"\"\"\n",
    "    from burstutils import findAngles   \n",
    "    from healpy import ang2vec,vec2ang \n",
    "    theta,phi = vec2ang(skyvec)\n",
    "    A = findAngles(detnorm,skyvec)\n",
    "\n",
    "    if theta[0]  < np.pi/8:\n",
    "        mask = A > np.pi/2\n",
    "\n",
    "        A[mask] = 0\n",
    "        A[~mask] = pow(abs(np.cos(A[~mask])),1)\n",
    "    else:\n",
    "        mask = A > np.pi/2\n",
    "\n",
    "        A[mask] = 0\n",
    "        A[~mask] = pow(abs(np.cos(A[~mask])),.75)\n",
    "    \n",
    "\n",
    "    \n",
    "        \n",
    "    return A"
   ]
  },
  {
   "cell_type": "code",
   "execution_count": null,
   "metadata": {
    "collapsed": true
   },
   "outputs": [],
   "source": []
  },
  {
   "cell_type": "code",
   "execution_count": null,
   "metadata": {
    "collapsed": true
   },
   "outputs": [],
   "source": [
    "look_up_table(0,0)"
   ]
  },
  {
   "cell_type": "markdown",
   "metadata": {},
   "source": [
    "This seems to be the right idea, next I think I need to be able to assign each of these little dots a different response, is this just done through a series of if statements? Anything easier to do?"
   ]
  },
  {
   "cell_type": "code",
   "execution_count": null,
   "metadata": {
    "collapsed": true
   },
   "outputs": [],
   "source": [
    "def look_up_table(zenith,azimuth,GRBpos):\n",
    "    \"\"\"2D Array that gives the response for a given zenith and phi.\n",
    "    Parameters\n",
    "    ----------\n",
    "    \n",
    "    zenith : float\n",
    "        The point in the sky or celestial sphere directly above an observer (in rad).\n",
    "    azimuth : float\n",
    "        The horizontal angle (in rad) \n",
    "\n",
    "    Returns \n",
    "    -------\n",
    "    response : float\n",
    "        Response of the detector given zenith and phi direction.\n",
    "    \"\"\"\n",
    "    #Create a linear gradient\n",
    "    \n",
    "    #having trouble, how do I combine this into a gradient such that as theta and phi vary, this doesnt! \n",
    "        \n",
    "    if GRBpos>zenith + pi/4:\n",
    "        x = .5\n",
    "\n",
    "#Something like this. \n",
    "    #Keep going for these specifications, but need to create a \n",
    "    #linear gradient. \n",
    "    return x\n"
   ]
  },
  {
   "cell_type": "code",
   "execution_count": null,
   "metadata": {
    "collapsed": true
   },
   "outputs": [],
   "source": [
    "np.gradient?"
   ]
  },
  {
   "cell_type": "code",
   "execution_count": null,
   "metadata": {
    "collapsed": true
   },
   "outputs": [],
   "source": [
    "import numpy as np"
   ]
  },
  {
   "cell_type": "code",
   "execution_count": null,
   "metadata": {
    "collapsed": true
   },
   "outputs": [],
   "source": []
  },
  {
   "cell_type": "markdown",
   "metadata": {},
   "source": [
    "Order of events:\n",
    "\n",
    "1. GRB is at a certain position\n",
    "2. Detector (A,B,C,D) is oriented at a certain position\n",
    "3. Angle is calculated between GRB and Detector, with that a response is generated\n",
    "    Depending on the detector's zenith due to shadowing effects of other features of BurstCube, this response changes.\n",
    "   "
   ]
  },
  {
   "cell_type": "code",
   "execution_count": null,
   "metadata": {
    "collapsed": true
   },
   "outputs": [],
   "source": [
    "def response(skypos,detnorm):\n",
    "    GRBpos = hp.vec2ang(skypos)\n",
    "    #Returns [theta,phi]\n",
    "    detzenith,detaz = hp.vec2ang(detnorm)\n",
    "    dependence = lookuptable(dettheta,detphi)\n",
    "    x = lookuptable(skypos,detzenith,detaz)\n",
    "    #This lookup table will return the dependence of the detector. \n",
    "     A = findAngles(detnorm,skyvec)\n",
    "    mask = A > np.pi/2\n",
    "\n",
    "    A[mask] = 0\n",
    "        \n",
    "    A[~mask] = pow(abs(np.cos(A[~mask])),dependence)\n",
    "    \n",
    "    return A\n",
    "    "
   ]
  },
  {
   "cell_type": "code",
   "execution_count": null,
   "metadata": {
    "collapsed": true
   },
   "outputs": [],
   "source": [
    "def look_up_table(GRBpos,detzenith,detaz):\n",
    "    \"\"\"2D Array that gives the response for a given zenith and phi.\n",
    "    Parameters\n",
    "    ----------\n",
    "    \n",
    "    zenith : float\n",
    "        The point in the sky or celestial sphere directly above an observer (in rad).\n",
    "    azimuth : float\n",
    "        The horizontal angle (in rad) \n",
    "\n",
    "    Returns \n",
    "    -------\n",
    "    x : float\n",
    "        Response of the detector given zenith and phi direction.\n",
    "    \"\"\"\n",
    "    #Create a linear gradient for one example \n",
    "    #starts as 1, goes to 0.\n",
    "    \n",
    "    #This is a very rough version of a gradient. Obviously not correct \n",
    "    #since I'd need to do this an infinite amount of times.\n",
    "    #So how do I create a modifying function? \n",
    "    if GRBpos == zenith:\n",
    "        x =1\n",
    "    if GRBpos>zenith + pi/4:\n",
    "        x = .5\n",
    "\n",
    "#Something like this. \n",
    "    #Keep going for these specifications, but need to create a \n",
    "    #linear gradient. \n",
    "    return x\n"
   ]
  },
  {
   "cell_type": "markdown",
   "metadata": {},
   "source": [
    "Update 3/27\n",
    "----------\n",
    "\n",
    "\n",
    "Ignore everything up there. Starting in the simplest case, a look up table where I'm considering phi vs. theta, and as it goes through each it'll look like a 2D range\n",
    "\n",
    "2D array? Box |\n",
    "\""
   ]
  },
  {
   "cell_type": "code",
   "execution_count": null,
   "metadata": {
    "collapsed": true
   },
   "outputs": [],
   "source": [
    "import numpy as np"
   ]
  },
  {
   "cell_type": "code",
   "execution_count": null,
   "metadata": {
    "collapsed": true
   },
   "outputs": [],
   "source": [
    "np.matrix(np.arange(90),np.arange(180))"
   ]
  },
  {
   "cell_type": "code",
   "execution_count": null,
   "metadata": {
    "collapsed": true
   },
   "outputs": [],
   "source": [
    "theta = np.linspace(0,90,91)\n",
    "phi = np.linspace(0,180,181)"
   ]
  },
  {
   "cell_type": "code",
   "execution_count": null,
   "metadata": {
    "collapsed": true
   },
   "outputs": [],
   "source": [
    "arr = [theta,phi]"
   ]
  },
  {
   "cell_type": "code",
   "execution_count": null,
   "metadata": {
    "collapsed": true
   },
   "outputs": [],
   "source": [
    "xx, yy = np.meshgrid(theta,phi)"
   ]
  },
  {
   "cell_type": "code",
   "execution_count": null,
   "metadata": {
    "collapsed": true
   },
   "outputs": [],
   "source": [
    "import random"
   ]
  },
  {
   "cell_type": "code",
   "execution_count": null,
   "metadata": {
    "collapsed": true
   },
   "outputs": [],
   "source": [
    "cols, rows = 5, 5;\n",
    "Matrix = [[random.random() for x in range(cols)] for y in range(rows)] "
   ]
  },
  {
   "cell_type": "code",
   "execution_count": null,
   "metadata": {
    "collapsed": true
   },
   "outputs": [],
   "source": [
    "Matrix"
   ]
  },
  {
   "cell_type": "code",
   "execution_count": null,
   "metadata": {
    "collapsed": true
   },
   "outputs": [],
   "source": [
    "from mpl_toolkits.mplot3d import Axes3D\n",
    "import matplotlib.pyplot as plt\n",
    "from matplotlib import cm\n",
    "from matplotlib.ticker import LinearLocator, FormatStrFormatter\n",
    "import numpy as np\n",
    "\n",
    "\n",
    "fig = plt.figure()\n",
    "ax = fig.gca(projection='3d')\n",
    "\n",
    "# Make data.\n",
    "X = np.arange(-5, 5, 0.25)\n",
    "Y = np.arange(-5, 5, 0.25)\n",
    "X, Y = np.meshgrid(X, Y)\n",
    "R = np.sqrt(X**2 + Y**2)\n",
    "Z = np.sin(R)\n",
    "\n",
    "# Plot the surface.\n",
    "surf = ax.plot_surface(X, Y, R, cmap=cm.coolwarm,\n",
    "                       linewidth=0, antialiased=False)\n",
    "\n",
    "# Customize the z axis.\n",
    "ax.set_zlim(-1.01, 1.01)\n",
    "ax.zaxis.set_major_locator(LinearLocator(10))\n",
    "ax.zaxis.set_major_formatter(FormatStrFormatter('%.02f'))\n",
    "\n",
    "# Add a color bar which maps values to colors.\n",
    "fig.colorbar(surf, shrink=0.5, aspect=5)\n",
    "\n",
    "plt.show()"
   ]
  },
  {
   "cell_type": "code",
   "execution_count": null,
   "metadata": {
    "collapsed": true
   },
   "outputs": [],
   "source": []
  },
  {
   "cell_type": "code",
   "execution_count": null,
   "metadata": {
    "collapsed": true
   },
   "outputs": [],
   "source": [
    "from mpl_toolkits.mplot3d import Axes3D\n",
    "import matplotlib.pyplot as plt\n",
    "from matplotlib import cm\n",
    "from matplotlib.ticker import LinearLocator, FormatStrFormatter\n",
    "import numpy as np\n",
    "from burstutils import findAngles   \n",
    "import healpy as hp\n",
    "\n",
    "fig = plt.figure()\n",
    "ax = fig.gca(projection='3d')\n",
    "\n",
    "# Make data.\n",
    "normal = [0,0]\n",
    "#must convert these to vectors next in order to find angles. \n",
    "X = np.arange(0, 90, 1)\n",
    "Y = np.arange(0, 180, 1)\n",
    "Xs, Ys = np.meshgrid(X, Y)\n",
    "#need to create an identical matrix of 0,0,0 at every point \n",
    "norm = [[[0,0,0] for i in range(len(Y))] for j in range(len(X))]"
   ]
  },
  {
   "cell_type": "code",
   "execution_count": null,
   "metadata": {
    "collapsed": true
   },
   "outputs": [],
   "source": [
    "np.shape(vecs)"
   ]
  },
  {
   "cell_type": "code",
   "execution_count": null,
   "metadata": {
    "collapsed": true
   },
   "outputs": [],
   "source": [
    "vecs[0]"
   ]
  },
  {
   "cell_type": "code",
   "execution_count": null,
   "metadata": {
    "collapsed": true
   },
   "outputs": [],
   "source": [
    "findAngles(norm[0],vecs[0])"
   ]
  },
  {
   "cell_type": "code",
   "execution_count": null,
   "metadata": {
    "collapsed": true
   },
   "outputs": [],
   "source": [
    "len(Xs)"
   ]
  },
  {
   "cell_type": "code",
   "execution_count": null,
   "metadata": {
    "collapsed": true
   },
   "outputs": [],
   "source": [
    "vecs = hp.ang2vec(np.deg2rad(Xs),np.deg2rad(Ys)) \n",
    "angs = findAngles(norm,vecs)\n",
    "R = np.cos(angs)"
   ]
  },
  {
   "cell_type": "code",
   "execution_count": null,
   "metadata": {
    "collapsed": true
   },
   "outputs": [],
   "source": []
  },
  {
   "cell_type": "code",
   "execution_count": null,
   "metadata": {
    "collapsed": true
   },
   "outputs": [],
   "source": []
  },
  {
   "cell_type": "code",
   "execution_count": null,
   "metadata": {
    "collapsed": true
   },
   "outputs": [],
   "source": [
    "# Plot the surface.\n",
    "surf = ax.plot_surface(Xs, Ys, R, cmap=cm.coolwarm,\n",
    "                       linewidth=0, antialiased=False)\n",
    "\n",
    "# Customize the z axis.\n",
    "ax.set_zlim(-1.01, 1.01)\n",
    "ax.zaxis.set_major_locator(LinearLocator(10))\n",
    "ax.zaxis.set_major_formatter(FormatStrFormatter('%.02f'))\n",
    "\n",
    "# Add a color bar which maps values to colors.\n",
    "fig.colorbar(surf, shrink=0.5, aspect=5)\n",
    "\n",
    "plt.show()"
   ]
  },
  {
   "cell_type": "code",
   "execution_count": null,
   "metadata": {
    "collapsed": true
   },
   "outputs": [],
   "source": [
    "angs"
   ]
  },
  {
   "cell_type": "code",
   "execution_count": null,
   "metadata": {
    "collapsed": true
   },
   "outputs": [],
   "source": [
    "from burstutils import angle"
   ]
  },
  {
   "cell_type": "code",
   "execution_count": null,
   "metadata": {
    "collapsed": true
   },
   "outputs": [],
   "source": [
    "np.cos?"
   ]
  },
  {
   "cell_type": "code",
   "execution_count": null,
   "metadata": {
    "collapsed": true
   },
   "outputs": [],
   "source": [
    "matrix = [[0 for i in xrange(5)] for i in xrange(5)]\n"
   ]
  },
  {
   "cell_type": "code",
   "execution_count": null,
   "metadata": {
    "collapsed": true
   },
   "outputs": [],
   "source": [
    "norm = [[[0,0,0] for i in range(5)] for j in range(3)]"
   ]
  },
  {
   "cell_type": "code",
   "execution_count": null,
   "metadata": {
    "collapsed": true
   },
   "outputs": [],
   "source": [
    "%matplotlib inline"
   ]
  },
  {
   "cell_type": "code",
   "execution_count": null,
   "metadata": {},
   "outputs": [],
   "source": [
    "from mpl_toolkits.mplot3d import Axes3D\n",
    "import matplotlib.pyplot as plt\n",
    "from matplotlib import cm\n",
    "from matplotlib.ticker import LinearLocator, FormatStrFormatter\n",
    "import numpy as np\n",
    "\n",
    "\n",
    "fig = plt.figure()\n",
    "ax = fig.gca(projection='3d')\n",
    "\n",
    "# Make data.\n",
    "X = np.arange(0, 90, 1)\n",
    "Y = np.arange(0, 180, 1)\n",
    "X, Y = np.meshgrid(X, Y)\n",
    "R = np.sqrt(X**2 + Y**2)\n",
    "Z = np.cos(np.deg2rad(X))\n",
    "\n",
    "# Plot the surface.\n",
    "surf = ax.plot_surface(X, Y, Z, cmap=cm.coolwarm,\n",
    "                       linewidth=0, antialiased=False)\n",
    "\n",
    "# Customize the z axis.\n",
    "ax.zaxis.set_major_locator(LinearLocator(10))\n",
    "ax.zaxis.set_major_formatter(FormatStrFormatter('%.02f'))\n",
    "\n",
    "# Add a color bar which maps values to colors.\n",
    "fig.colorbar(surf, shrink=0.5, aspect=5)\n",
    "\n"
   ]
  },
  {
   "cell_type": "code",
   "execution_count": null,
   "metadata": {
    "collapsed": true
   },
   "outputs": [],
   "source": [
    "ax.plot_surface?"
   ]
  },
  {
   "cell_type": "markdown",
   "metadata": {},
   "source": [
    "I'm having trouble making this a 2d cosine. How do you include phi as well? I tried to make a matrix of normal vectors above and use that as a means to calculate the angle for any theta and phi combo, but that didn't work and I couldn't figure out why."
   ]
  },
  {
   "cell_type": "code",
   "execution_count": null,
   "metadata": {
    "collapsed": true
   },
   "outputs": [],
   "source": [
    "import healpy as hp"
   ]
  },
  {
   "cell_type": "markdown",
   "metadata": {},
   "source": [
    "To make this 2d cosine I'm goint to make 2 matrices, same size where one is of all the normal at every spot, and the other has the position in xyz of all the sky."
   ]
  },
  {
   "cell_type": "code",
   "execution_count": null,
   "metadata": {
    "collapsed": true
   },
   "outputs": [],
   "source": [
    "for i in range(len(x)):\n",
    "    for j in range(len(x[i])):\n",
    "        print(x[i][j])"
   ]
  },
  {
   "cell_type": "code",
   "execution_count": null,
   "metadata": {
    "collapsed": true
   },
   "outputs": [],
   "source": [
    "from burstutils import angle"
   ]
  },
  {
   "cell_type": "code",
   "execution_count": null,
   "metadata": {
    "collapsed": true
   },
   "outputs": [],
   "source": [
    "angle?"
   ]
  },
  {
   "cell_type": "code",
   "execution_count": null,
   "metadata": {
    "collapsed": true
   },
   "outputs": [],
   "source": []
  },
  {
   "cell_type": "code",
   "execution_count": null,
   "metadata": {},
   "outputs": [],
   "source": [
    "%matplotlib inline\n",
    "from mpl_toolkits.mplot3d import Axes3D\n",
    "import matplotlib.pyplot as plt\n",
    "from matplotlib import cm\n",
    "from matplotlib.ticker import LinearLocator, FormatStrFormatter\n",
    "import numpy as np\n",
    "from burstutils import angle\n",
    "import healpy as hp\n",
    "\n",
    "fig = plt.figure()\n",
    "ax = fig.gca(projection='3d')\n",
    "\n",
    "X = np.deg2rad(np.arange(0, 90, 1))\n",
    "Y = np.deg2rad(np.arange(0, 180, 1))  \n",
    "#These are all the skypoints,\n",
    "X, Y = np.meshgrid(X, Y)\n",
    "#need to make this vector matrix earlier on.\n",
    "vecs = []\n",
    "for i in range(len(X)):\n",
    "    vecs.append(hp.ang2vec(X[i],Y[i]))\n",
    "    \n",
    "norm = [[[0,0,1] for i in range(len(X[0]))] for j in range(len(Y))]\n",
    "\n",
    "#now to iterate through every point in these 2 matrices, and calculate the angle btw each \n",
    "angs = []\n",
    "for i in range(len(norm)): #loop through rows\n",
    "    angrow = []\n",
    "    for j in range(len(norm[0])): #val at each\n",
    "\n",
    "        angrow.append(angle(norm[i][j],vecs[i][j]))\n",
    "       # print(angle(norm[i][j],vecs[i][j]))\n",
    "    angs.append(angrow)\n",
    "\n",
    "R = pow(np.cos(angs),random.random())\n",
    "\n",
    "# Plot the surface.\n",
    "#I could be wrong, but this seems to be how you label. \n",
    "surf = ax.plot_surface(np.rad2deg(X), np.rad2deg(Y), R, cmap=cm.coolwarm,\n",
    "                       linewidth=0, antialiased=False)\n",
    "\n",
    "\n",
    "# Annotate graph.\n",
    "ax.set_xlabel('zen. angle')\n",
    "ax.set_ylabel('az. angle')\n",
    "ax.set_zlabel('Aeff')\n",
    "\n",
    "# Customize the z axis.\n",
    "ax.zaxis.set_major_locator(LinearLocator(10))\n",
    "ax.zaxis.set_major_formatter(FormatStrFormatter('%.02f'))\n",
    "\n",
    "# Add a color bar which maps values to colors.\n",
    "fig.colorbar(surf, shrink=0.5, aspect=5)\n",
    "\n"
   ]
  },
  {
   "cell_type": "code",
   "execution_count": null,
   "metadata": {
    "collapsed": true
   },
   "outputs": [],
   "source": []
  },
  {
   "cell_type": "code",
   "execution_count": null,
   "metadata": {},
   "outputs": [],
   "source": [
    "print(np.shape(X),np.shape(Y),np.shape(vecs),np.shape(norm),np.shape(angs),np.shape(R))"
   ]
  },
  {
   "cell_type": "code",
   "execution_count": null,
   "metadata": {
    "collapsed": true
   },
   "outputs": [],
   "source": []
  },
  {
   "cell_type": "code",
   "execution_count": null,
   "metadata": {
    "collapsed": true
   },
   "outputs": [],
   "source": [
    "Y[2]"
   ]
  },
  {
   "cell_type": "code",
   "execution_count": null,
   "metadata": {
    "collapsed": true
   },
   "outputs": [],
   "source": [
    "np.pi/6"
   ]
  },
  {
   "cell_type": "code",
   "execution_count": null,
   "metadata": {
    "collapsed": true
   },
   "outputs": [],
   "source": [
    "hp.ang2vec?"
   ]
  },
  {
   "cell_type": "code",
   "execution_count": null,
   "metadata": {
    "collapsed": true
   },
   "outputs": [],
   "source": [
    "len(X)"
   ]
  },
  {
   "cell_type": "code",
   "execution_count": null,
   "metadata": {
    "collapsed": true
   },
   "outputs": [],
   "source": [
    "#shows that its working. This is all thetas at phi = 0. #Onward!\n",
    "np.rad2deg(hp.vec2ang(vecs[0]))"
   ]
  },
  {
   "cell_type": "code",
   "execution_count": null,
   "metadata": {
    "collapsed": true
   },
   "outputs": [],
   "source": [
    "len(X[0])"
   ]
  },
  {
   "cell_type": "code",
   "execution_count": null,
   "metadata": {
    "collapsed": true
   },
   "outputs": [],
   "source": [
    "len(Y[0])"
   ]
  },
  {
   "cell_type": "code",
   "execution_count": null,
   "metadata": {
    "collapsed": true
   },
   "outputs": [],
   "source": [
    "import random"
   ]
  },
  {
   "cell_type": "code",
   "execution_count": null,
   "metadata": {},
   "outputs": [],
   "source": [
    "random.random()"
   ]
  },
  {
   "cell_type": "code",
   "execution_count": null,
   "metadata": {
    "collapsed": true
   },
   "outputs": [],
   "source": [
    "np.cos?"
   ]
  },
  {
   "cell_type": "code",
   "execution_count": null,
   "metadata": {
    "collapsed": true
   },
   "outputs": [],
   "source": []
  },
  {
   "cell_type": "markdown",
   "metadata": {
    "collapsed": true
   },
   "source": [
    "Idea 3/29:\n",
    "\n",
    "Make a look up table for each, essentially using all the stuff I found up there ^^^\n",
    "\n",
    "that gives the response exponent, and use that for sim. "
   ]
  },
  {
   "cell_type": "code",
   "execution_count": null,
   "metadata": {},
   "outputs": [],
   "source": [
    "def look_up_A(detnorm,source):\n",
    "    \"\"\"The look up table for detector A. \n",
    "    \n",
    "    Parameters\n",
    "    ----------   \n",
    "    detnorm : array\n",
    "        The vector normal to detector A. \n",
    "    source : array\n",
    "        The vector pointing to where in the sky the GRB came from. \n",
    "    \n",
    "    \n",
    "    Returns\n",
    "    -------\n",
    "    \n",
    "    x : float\n",
    "        The exponent of dependence for the detector's response.\n",
    "    \"\"\"\n",
    "    \n",
    "    ang = angle(detnorm,source)\n",
    "    if ang> np.pi/2:\n",
    "        x = 0 \n",
    "    else:\n",
    "        #Or an elseif for other nuances, but simplest case this is it. \n",
    "        x = .76\n",
    "    return x\n",
    "\n",
    "# Plot the surface.\n",
    "    "
   ]
  },
  {
   "cell_type": "code",
   "execution_count": null,
   "metadata": {
    "collapsed": true
   },
   "outputs": [],
   "source": [
    "def look_up_B(detnorm,source):\n",
    "    \"\"\"The look up table for detector B. \n",
    "    \n",
    "    Parameters\n",
    "    ----------   \n",
    "    detnorm : array\n",
    "        The vector normal to detector B. \n",
    "    source : array\n",
    "        The vector pointing to where in the sky the GRB came from. \n",
    "    \n",
    "    \n",
    "    Returns\n",
    "    -------\n",
    "    \n",
    "    x : float\n",
    "        The exponent of dependence for the detector's response.\n",
    "    \"\"\"\n",
    "    \n",
    "    ang = angle(detnorm,source)\n",
    "    if ang> np.pi/2:\n",
    "        x = 0 \n",
    "    else:\n",
    "        #Or an elseif for other nuances, but simplest case this is it. \n",
    "        x = .76\n",
    "    return x\n",
    "\n",
    "# Plot the surface."
   ]
  },
  {
   "cell_type": "code",
   "execution_count": null,
   "metadata": {
    "collapsed": true
   },
   "outputs": [],
   "source": [
    "def look_up_C(detnorm,source):\n",
    "    \"\"\"The look up table for detector C. \n",
    "    \n",
    "    Parameters\n",
    "    ----------   \n",
    "    detnorm : array\n",
    "        The vector normal to detector C. \n",
    "    source : array\n",
    "        The vector pointing to where in the sky the GRB came from. \n",
    "    \n",
    "    \n",
    "    Returns\n",
    "    -------\n",
    "    \n",
    "    x : float\n",
    "        The exponent of dependence for the detector's response.\n",
    "    \"\"\"\n",
    "    \n",
    "    ang = angle(detnorm,source)\n",
    "    if ang> np.pi/4:\n",
    "        x = 0 \n",
    "    else:\n",
    "        #Or an elseif for other nuances, but simplest case this is it. \n",
    "        x = .76\n",
    "    return x\n"
   ]
  },
  {
   "cell_type": "code",
   "execution_count": null,
   "metadata": {
    "collapsed": true
   },
   "outputs": [],
   "source": [
    "def look_up_D(detnorm,source):\n",
    "    \"\"\"The look up table for detector D. \n",
    "    \n",
    "    Parameters\n",
    "    ----------   \n",
    "    detnorm : array\n",
    "        The vector normal to detector D. \n",
    "    source : array\n",
    "        The vector pointing to where in the sky the GRB came from. \n",
    "    \n",
    "    \n",
    "    Returns\n",
    "    -------\n",
    "    \n",
    "    x : float\n",
    "        The exponent of dependence for the detector's response.\n",
    "    \"\"\"\n",
    "    \n",
    "    ang = angle(detnorm,source)\n",
    "    if ang> np.pi/2:\n",
    "        x = 0 \n",
    "    else:\n",
    "        #Or an elseif for other nuances, but simplest case this is it. \n",
    "        x = .76\n",
    "    return x"
   ]
  },
  {
   "cell_type": "code",
   "execution_count": 1,
   "metadata": {},
   "outputs": [],
   "source": [
    "import burstutils as b"
   ]
  },
  {
   "cell_type": "code",
   "execution_count": null,
   "metadata": {},
   "outputs": [],
   "source": [
    "b.findAngles"
   ]
  },
  {
   "cell_type": "code",
   "execution_count": null,
   "metadata": {
    "collapsed": true
   },
   "outputs": [],
   "source": [
    "b.findAngles?"
   ]
  },
  {
   "cell_type": "code",
   "execution_count": null,
   "metadata": {},
   "outputs": [],
   "source": [
    "v1s = [[1, 0, 0], [1, 0, 0]]\n",
    "v2s = [[1, 0, 0], [0, 1, 0]]\n"
   ]
  },
  {
   "cell_type": "code",
   "execution_count": null,
   "metadata": {},
   "outputs": [],
   "source": [
    "b.findAngles(v1s,v2s)"
   ]
  },
  {
   "cell_type": "code",
   "execution_count": null,
   "metadata": {},
   "outputs": [],
   "source": [
    "%debug"
   ]
  },
  {
   "cell_type": "code",
   "execution_count": null,
   "metadata": {},
   "outputs": [],
   "source": [
    "type(v1)"
   ]
  },
  {
   "cell_type": "code",
   "execution_count": null,
   "metadata": {},
   "outputs": [],
   "source": [
    "b.response(A,x)"
   ]
  },
  {
   "cell_type": "code",
   "execution_count": null,
   "metadata": {},
   "outputs": [],
   "source": [
    "A = np.array([0.7853981633974483])\n",
    "x = np.array([0.76])\n"
   ]
  },
  {
   "cell_type": "code",
   "execution_count": 2,
   "metadata": {
    "collapsed": true
   },
   "outputs": [],
   "source": [
    "import numpy as np"
   ]
  },
  {
   "cell_type": "code",
   "execution_count": null,
   "metadata": {},
   "outputs": [],
   "source": [
    "np.pi/4"
   ]
  },
  {
   "cell_type": "code",
   "execution_count": 18,
   "metadata": {},
   "outputs": [
    {
     "data": {
      "text/plain": [
       "array([0.76])"
      ]
     },
     "execution_count": 18,
     "metadata": {},
     "output_type": "execute_result"
    }
   ],
   "source": [
    "fakenorm = np.array([0,0,1])\n",
    "fakesource = np.array([0,0,1])\n",
    "fakenorms = np.array(([0,0,1],[0,0,1]))\n",
    "fakesources = np.array(([0,0,1],[0,0,1]))\n",
    "b.look_up_A(fakenorms,fakesources,array=True)[0]"
   ]
  },
  {
   "cell_type": "code",
   "execution_count": null,
   "metadata": {
    "collapsed": true
   },
   "outputs": [],
   "source": [
    "te"
   ]
  },
  {
   "cell_type": "code",
   "execution_count": null,
   "metadata": {
    "collapsed": true
   },
   "outputs": [],
   "source": []
  }
 ],
 "metadata": {
  "kernelspec": {
   "display_name": "Python 3",
   "language": "python",
   "name": "python3"
  },
  "language_info": {
   "codemirror_mode": {
    "name": "ipython",
    "version": 3
   },
   "file_extension": ".py",
   "mimetype": "text/x-python",
   "name": "python",
   "nbconvert_exporter": "python",
   "pygments_lexer": "ipython3",
   "version": "3.6.1"
  }
 },
 "nbformat": 4,
 "nbformat_minor": 2
}
