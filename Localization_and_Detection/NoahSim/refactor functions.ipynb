{
 "cells": [
  {
   "cell_type": "code",
   "execution_count": 1,
   "metadata": {
    "collapsed": true
   },
   "outputs": [],
   "source": [
    "%matplotlib inline"
   ]
  },
  {
   "cell_type": "code",
   "execution_count": 1,
   "metadata": {},
   "outputs": [
    {
     "data": {
      "text/plain": [
       "<matplotlib.colorbar.Colorbar at 0x1138b2940>"
      ]
     },
     "execution_count": 1,
     "metadata": {},
     "output_type": "execute_result"
    }
   ],
   "source": [
    "from mpl_toolkits.mplot3d import Axes3D\n",
    "import matplotlib.pyplot as plt\n",
    "from matplotlib import cm\n",
    "from matplotlib.ticker import LinearLocator, FormatStrFormatter\n",
    "import numpy as np\n",
    "\n",
    "\n",
    "fig = plt.figure()\n",
    "ax = fig.gca(projection='3d')\n",
    "\n",
    "# Make data.\n",
    "X = np.arange(0, 90, 1)\n",
    "Y = np.arange(0, 180, 1)\n",
    "X, Y = np.meshgrid(X, Y)\n",
    "R = np.sqrt(X**2 + Y**2)\n",
    "Z = np.cos(np.deg2rad(X))\n",
    "\n",
    "# Plot the surface.\n",
    "surf = ax.plot_surface(X, Y, Z, cmap=cm.coolwarm,\n",
    "                       linewidth=0, antialiased=False)\n",
    "\n",
    "# Customize the z axis.\n",
    "ax.zaxis.set_major_locator(LinearLocator(10))\n",
    "ax.zaxis.set_major_formatter(FormatStrFormatter('%.02f'))\n",
    "\n",
    "# Add a color bar which maps values to colors.\n",
    "fig.colorbar(surf, shrink=0.5, aspect=5)\n"
   ]
  },
  {
   "cell_type": "markdown",
   "metadata": {},
   "source": [
    "How you change points:\n",
    "\n",
    "Since it goes by ones its actually really easy. So if you look at the block below, you see I summoned the response for anything that is 45 degrees below the zenith, and tilted from 100 to 110 in phi. Using this manipulation, you can manually change stuff! Easy!\n"
   ]
  },
  {
   "cell_type": "code",
   "execution_count": 10,
   "metadata": {
    "collapsed": true
   },
   "outputs": [],
   "source": [
    "R = 0.76*np.ones(shape=np.shape(X))\n"
   ]
  },
  {
   "cell_type": "code",
   "execution_count": 17,
   "metadata": {},
   "outputs": [
    {
     "data": {
      "text/plain": [
       "(10, 45)"
      ]
     },
     "execution_count": 17,
     "metadata": {},
     "output_type": "execute_result"
    }
   ],
   "source": [
    "np.shape(R[100:110,45:])"
   ]
  },
  {
   "cell_type": "code",
   "execution_count": 7,
   "metadata": {
    "scrolled": true
   },
   "outputs": [
    {
     "data": {
      "text/plain": [
       "(180, 90)"
      ]
     },
     "execution_count": 7,
     "metadata": {},
     "output_type": "execute_result"
    }
   ],
   "source": [
    "np.shape(R)"
   ]
  },
  {
   "cell_type": "code",
   "execution_count": 17,
   "metadata": {
    "collapsed": true
   },
   "outputs": [],
   "source": [
    "mask1 = X == 3\n",
    "mask2 = Y == 56"
   ]
  },
  {
   "cell_type": "code",
   "execution_count": 18,
   "metadata": {},
   "outputs": [
    {
     "data": {
      "text/plain": [
       "array([0.99862953])"
      ]
     },
     "execution_count": 18,
     "metadata": {},
     "output_type": "execute_result"
    }
   ],
   "source": [
    "Z[mask1 & mask2]"
   ]
  },
  {
   "cell_type": "code",
   "execution_count": 20,
   "metadata": {},
   "outputs": [
    {
     "data": {
      "text/plain": [
       "(180, 90)"
      ]
     },
     "execution_count": 20,
     "metadata": {},
     "output_type": "execute_result"
    }
   ],
   "source": [
    "np.shape(X)"
   ]
  },
  {
   "cell_type": "code",
   "execution_count": 24,
   "metadata": {},
   "outputs": [
    {
     "ename": "MaskError",
     "evalue": "Mask and data not compatible: data size is 16200, mask size is 2.",
     "output_type": "error",
     "traceback": [
      "\u001b[0;31m---------------------------------------------------------------------------\u001b[0m",
      "\u001b[0;31mMaskError\u001b[0m                                 Traceback (most recent call last)",
      "\u001b[0;32m<ipython-input-24-e18e0d74f8e1>\u001b[0m in \u001b[0;36m<module>\u001b[0;34m()\u001b[0m\n\u001b[0;32m----> 1\u001b[0;31m \u001b[0mmask1\u001b[0m \u001b[0;34m=\u001b[0m \u001b[0mnp\u001b[0m\u001b[0;34m.\u001b[0m\u001b[0mma\u001b[0m\u001b[0;34m.\u001b[0m\u001b[0marray\u001b[0m\u001b[0;34m(\u001b[0m\u001b[0mX\u001b[0m\u001b[0;34m,\u001b[0m \u001b[0mmask\u001b[0m \u001b[0;34m=\u001b[0m \u001b[0;34m[\u001b[0m\u001b[0;36m30\u001b[0m\u001b[0;34m,\u001b[0m\u001b[0;36m45\u001b[0m\u001b[0;34m]\u001b[0m\u001b[0;34m)\u001b[0m\u001b[0;34m\u001b[0m\u001b[0m\n\u001b[0m",
      "\u001b[0;32m/Users/noahkasmanoff/anaconda/lib/python3.6/site-packages/numpy/ma/core.py\u001b[0m in \u001b[0;36marray\u001b[0;34m(data, dtype, copy, order, mask, fill_value, keep_mask, hard_mask, shrink, subok, ndmin)\u001b[0m\n\u001b[1;32m   6356\u001b[0m                        \u001b[0msubok\u001b[0m\u001b[0;34m=\u001b[0m\u001b[0msubok\u001b[0m\u001b[0;34m,\u001b[0m \u001b[0mkeep_mask\u001b[0m\u001b[0;34m=\u001b[0m\u001b[0mkeep_mask\u001b[0m\u001b[0;34m,\u001b[0m\u001b[0;34m\u001b[0m\u001b[0m\n\u001b[1;32m   6357\u001b[0m                        \u001b[0mhard_mask\u001b[0m\u001b[0;34m=\u001b[0m\u001b[0mhard_mask\u001b[0m\u001b[0;34m,\u001b[0m \u001b[0mfill_value\u001b[0m\u001b[0;34m=\u001b[0m\u001b[0mfill_value\u001b[0m\u001b[0;34m,\u001b[0m\u001b[0;34m\u001b[0m\u001b[0m\n\u001b[0;32m-> 6358\u001b[0;31m                        ndmin=ndmin, shrink=shrink, order=order)\n\u001b[0m\u001b[1;32m   6359\u001b[0m \u001b[0marray\u001b[0m\u001b[0;34m.\u001b[0m\u001b[0m__doc__\u001b[0m \u001b[0;34m=\u001b[0m \u001b[0mmasked_array\u001b[0m\u001b[0;34m.\u001b[0m\u001b[0m__doc__\u001b[0m\u001b[0;34m\u001b[0m\u001b[0m\n\u001b[1;32m   6360\u001b[0m \u001b[0;34m\u001b[0m\u001b[0m\n",
      "\u001b[0;32m/Users/noahkasmanoff/anaconda/lib/python3.6/site-packages/numpy/ma/core.py\u001b[0m in \u001b[0;36m__new__\u001b[0;34m(cls, data, mask, dtype, copy, subok, ndmin, fill_value, keep_mask, hard_mask, shrink, order, **options)\u001b[0m\n\u001b[1;32m   2866\u001b[0m                     \u001b[0mmsg\u001b[0m \u001b[0;34m=\u001b[0m \u001b[0;34m\"Mask and data not compatible: data size is %i, \"\u001b[0m \u001b[0;34m+\u001b[0m\u001b[0;31m \u001b[0m\u001b[0;31m\\\u001b[0m\u001b[0;34m\u001b[0m\u001b[0m\n\u001b[1;32m   2867\u001b[0m                           \u001b[0;34m\"mask size is %i.\"\u001b[0m\u001b[0;34m\u001b[0m\u001b[0m\n\u001b[0;32m-> 2868\u001b[0;31m                     \u001b[0;32mraise\u001b[0m \u001b[0mMaskError\u001b[0m\u001b[0;34m(\u001b[0m\u001b[0mmsg\u001b[0m \u001b[0;34m%\u001b[0m \u001b[0;34m(\u001b[0m\u001b[0mnd\u001b[0m\u001b[0;34m,\u001b[0m \u001b[0mnm\u001b[0m\u001b[0;34m)\u001b[0m\u001b[0;34m)\u001b[0m\u001b[0;34m\u001b[0m\u001b[0m\n\u001b[0m\u001b[1;32m   2869\u001b[0m                 \u001b[0mcopy\u001b[0m \u001b[0;34m=\u001b[0m \u001b[0;32mTrue\u001b[0m\u001b[0;34m\u001b[0m\u001b[0m\n\u001b[1;32m   2870\u001b[0m             \u001b[0;31m# Set the mask to the new value\u001b[0m\u001b[0;34m\u001b[0m\u001b[0;34m\u001b[0m\u001b[0m\n",
      "\u001b[0;31mMaskError\u001b[0m: Mask and data not compatible: data size is 16200, mask size is 2."
     ]
    }
   ],
   "source": [
    "mask1 = np.ma.array(X, mask = [30,45])"
   ]
  },
  {
   "cell_type": "code",
   "execution_count": 19,
   "metadata": {},
   "outputs": [
    {
     "name": "stderr",
     "output_type": "stream",
     "text": [
      "/Users/noahkasmanoff/anaconda/lib/python3.6/site-packages/ipykernel/__main__.py:2: DeprecationWarning: elementwise == comparison failed; this will raise an error in the future.\n",
      "  from ipykernel import kernelapp as app\n"
     ]
    },
    {
     "data": {
      "text/plain": [
       "array([], dtype=float64)"
      ]
     },
     "execution_count": 19,
     "metadata": {},
     "output_type": "execute_result"
    }
   ],
   "source": [
    "mask1 = X == 3\n",
    "mask2 = Y == [145,45]\n",
    "\n",
    "Z[mask1 & mask2]"
   ]
  },
  {
   "cell_type": "code",
   "execution_count": 23,
   "metadata": {},
   "outputs": [
    {
     "data": {
      "text/plain": [
       "(180, 90)"
      ]
     },
     "execution_count": 23,
     "metadata": {},
     "output_type": "execute_result"
    }
   ],
   "source": [
    "np.shape(X)"
   ]
  },
  {
   "cell_type": "code",
   "execution_count": 20,
   "metadata": {},
   "outputs": [
    {
     "data": {
      "text/plain": [
       "array([[False, False, False, ..., False, False, False],\n",
       "       [False, False, False, ..., False, False, False],\n",
       "       [False, False, False, ..., False, False, False],\n",
       "       ...,\n",
       "       [False, False, False, ..., False, False, False],\n",
       "       [False, False, False, ..., False, False, False],\n",
       "       [False, False, False, ..., False, False, False]])"
      ]
     },
     "execution_count": 20,
     "metadata": {},
     "output_type": "execute_result"
    }
   ],
   "source": [
    "mask1"
   ]
  },
  {
   "cell_type": "code",
   "execution_count": 18,
   "metadata": {},
   "outputs": [
    {
     "data": {
      "text/plain": [
       "False"
      ]
     },
     "execution_count": 18,
     "metadata": {},
     "output_type": "execute_result"
    }
   ],
   "source": [
    "mask1"
   ]
  },
  {
   "cell_type": "code",
   "execution_count": 25,
   "metadata": {},
   "outputs": [
    {
     "data": {
      "text/plain": [
       "88.0"
      ]
     },
     "execution_count": 25,
     "metadata": {},
     "output_type": "execute_result"
    }
   ],
   "source": [
    "\n",
    "np.round(87.7)"
   ]
  },
  {
   "cell_type": "code",
   "execution_count": null,
   "metadata": {
    "collapsed": true
   },
   "outputs": [],
   "source": []
  },
  {
   "cell_type": "code",
   "execution_count": null,
   "metadata": {
    "collapsed": true
   },
   "outputs": [],
   "source": [
    "def look_up_D(detnorm,source):\n",
    "    \"\"\"The look up table for detector D. \n",
    "    \n",
    "    Parameters\n",
    "    ----------   \n",
    "    detnorm : array\n",
    "        The vector normal to detector D. \n",
    "    source : array\n",
    "        The vector pointing to where in the sky the GRB came from. \n",
    "    \n",
    "    \n",
    "    Returns\n",
    "    -------\n",
    "    \n",
    "    x : float\n",
    "        The exponent of dependence for the detector's response.\n",
    "    \"\"\"\n",
    "    \n",
    "    ang = findAngles(detnorm,source)\n",
    "    if type(ang) != np.float64:\n",
    "\n",
    "        mask = ang > np.pi/2.\n",
    "\n",
    "        ang[mask] = 0\n",
    "        ang[~mask] = 0.76\n",
    "    \n",
    "        x = ang #rename bc it sounds better\n",
    "    else: \n",
    "        if ang> np.pi/2:\n",
    "            x = 0 \n",
    "        else:\n",
    "        #Or an elseif for other nuances, but simplest case this is it. \n",
    "            x = .76\n",
    "\n",
    "    return x"
   ]
  },
  {
   "cell_type": "code",
   "execution_count": null,
   "metadata": {
    "collapsed": true
   },
   "outputs": [],
   "source": [
    "def response_lookup(source):\n",
    "    \n",
    "    sourcetheta,sourcephi = hp.vec2ang(source)\n",
    "    sourcetheta = round(sourcetheta)\n",
    "    sourcephi = round(sourcephi)\n",
    "    #round to match the table, start interpolating later\n",
    "    \n",
    "    #now my cool table \n",
    "    \n",
    "    X = np.arange(0, 90, 1)\n",
    "    Y = np.arange(0, 360, 1)\n",
    "    X, Y = np.meshgrid(X, Y)\n",
    "    R = random.random()  #what gets hard coded in later. \n",
    "    Z = np.cos(np.deg2rad(X))\n",
    "    mask1 = X == sourcetheta\n",
    "    mask2 = Y == sourcephi\n",
    "\n",
    "    R[mask1 & mask2] #this provides the response for the specific theta, phi of the sopurce. \n",
    "    "
   ]
  },
  {
   "cell_type": "code",
   "execution_count": 9,
   "metadata": {
    "collapsed": true
   },
   "outputs": [],
   "source": [
    "import healpy as hp\n",
    "import numpy as np\n",
    "len(h)"
   ]
  },
  {
   "cell_type": "code",
   "execution_count": 10,
   "metadata": {},
   "outputs": [
    {
     "ename": "SyntaxError",
     "evalue": "invalid syntax (<ipython-input-10-94d093da6159>, line 29)",
     "output_type": "error",
     "traceback": [
      "\u001b[0;36m  File \u001b[0;32m\"<ipython-input-10-94d093da6159>\"\u001b[0;36m, line \u001b[0;32m29\u001b[0m\n\u001b[0;31m    R = 0.76*np.ones(len(X)), normal one right now\u001b[0m\n\u001b[0m                                       ^\u001b[0m\n\u001b[0;31mSyntaxError\u001b[0m\u001b[0;31m:\u001b[0m invalid syntax\n"
     ]
    }
   ],
   "source": [
    "#Fuck around w this one. \n",
    "\n",
    "def look_up_A(detnorm,source,array=False):\n",
    "    \"\"\"The look up table for detector A. \n",
    "    Currently for all these functions the coordinates are relative to the top of the spacecraft,\n",
    "    not indivudial detectors. To tranform just rotate by this specific detnorm. \n",
    "    \n",
    "    Parameters\n",
    "    ----------   \n",
    "    detnorm : array\n",
    "        The vector normal to detector A. \n",
    "    source : array\n",
    "        The vector pointing to where in the sky the GRB came from. \n",
    "    \n",
    "    \n",
    "    Returns\n",
    "    -------\n",
    "    \n",
    "    x : float\n",
    "        The exponent of dependence for the detector's response.\n",
    "    \"\"\"\n",
    "    ang = findAngles(detnorm,source)   \n",
    "\n",
    "    sourcetheta,sourcephi = hp.vec2ang(source)\n",
    "    #convert to degrees for now, not a big dealio or anything yet. \n",
    "    sourcetheta = round(np.rad2deg(sourcetheta))   #This needs to be able to take in an array and produce corresponding R's. \n",
    "    sourcephi = round(np.rad2deg(sourcephi))\n",
    "    X = np.arange(0, 180, 1)  #full sky now. \n",
    "    Y = np.arange(0, 360, 1)\n",
    "    X, Y = np.meshgrid(X, Y)\n",
    "    R = 0.76*np.ones(len(X))   #, normal one right now\n",
    "    \n",
    "    \n",
    "    if not array:\n",
    "        if ang> np.pi/2:\n",
    "            x = 0 \n",
    "        else:\n",
    "            mask1 = X == sourcetheta\n",
    "            mask2 = Y == sourcephi\n",
    "    \n",
    "            x = R[mask1 & mask2]\n",
    "            \n",
    "\n",
    "    else:\n",
    "\n",
    "        \n",
    "        \n",
    "        x = []\n",
    "\n",
    "        for spot in source:\n",
    "            mask1 = spot[0]  #theta mask\n",
    "            mask2 = spot[1]  #phi mask\n",
    "        \n",
    "            x.append(R[mask1 & mask2])\n",
    "            \n",
    "    return x\n",
    "\n",
    "\n",
    "\n",
    "\n",
    "\n",
    "def look_up_B(detnorm,source,array=False):\n",
    "    \"\"\"The look up table for detector B. \n",
    "    Currently for all these functions the coordinates are relative to the top of the spacecraft,\n",
    "    not indivudial detectors. To tranform just rotate by this specific detnorm. \n",
    "    \n",
    "    Parameters\n",
    "    ----------   \n",
    "    detnorm : array\n",
    "        The vector normal to detector B. \n",
    "    source : array\n",
    "        The vector pointing to where in the sky the GRB came from. \n",
    "    \n",
    "    \n",
    "    Returns\n",
    "    -------\n",
    "    \n",
    "    x : float\n",
    "        The exponent of dependence for the detector's response.\n",
    "    \"\"\"\n",
    "    ang = findAngles(detnorm,source)   \n",
    "\n",
    "    sourcetheta,sourcephi = hp.vec2ang(source)\n",
    "    #convert to degrees for now, not a big dealio or anything yet. \n",
    "    sourcetheta = round(np.rad2deg(sourcetheta))   #This needs to be able to take in an array and produce corresponding R's. \n",
    "    sourcephi = round(np.rad2deg(sourcephi))\n",
    "    X = np.arange(0, 180, 1)  #full sky now. \n",
    "    Y = np.arange(0, 360, 1)\n",
    "    X, Y = np.meshgrid(X, Y)\n",
    "    R = 0.76*np.ones(len(X))   #, normal one right now\n",
    "    \n",
    "    \n",
    "    if not array:\n",
    "        if ang> np.pi/2:\n",
    "            x = 0 \n",
    "        else:\n",
    "            mask1 = X == sourcetheta\n",
    "            mask2 = Y == sourcephi\n",
    "    \n",
    "            x = R[mask1 & mask2]\n",
    "            \n",
    "\n",
    "    else:\n",
    "\n",
    "        \n",
    "        \n",
    "        x = []\n",
    "\n",
    "        for spot in source:\n",
    "            mask1 = spot[0]  #theta mask\n",
    "            mask2 = spot[1]  #phi mask\n",
    "        \n",
    "            x.append(R[mask1 & mask2])\n",
    "            \n",
    "    return x\n",
    "\n",
    "\n",
    "\n",
    "\n",
    "\n",
    "\n",
    "\n",
    "\n",
    "\n",
    "\n",
    "def look_up_C(detnorm,source,array=False):\n",
    "    \"\"\"The look up table for detector C. \n",
    "    \n",
    "    Parameters\n",
    "    ----------   \n",
    "    detnorm : array\n",
    "        The vector normal to detector C. \n",
    "    source : array\n",
    "        The vector pointing to where in the sky the GRB came from. \n",
    "    \n",
    "    \n",
    "    Returns\n",
    "    -------\n",
    "    \n",
    "    x : float\n",
    "        The exponent of dependence for the detector's response.\n",
    "    \"\"\"\n",
    "    ang = findAngles(detnorm,source)   \n",
    "\n",
    "    sourcetheta,sourcephi = hp.vec2ang(source)\n",
    "    #convert to degrees for now, not a big dealio or anything yet. \n",
    "    sourcetheta = round(np.rad2deg(sourcetheta))   #This needs to be able to take in an array and produce corresponding R's. \n",
    "    sourcephi = round(np.rad2deg(sourcephi))\n",
    "    X = np.arange(0, 180, 1)  #full sky now. \n",
    "    Y = np.arange(0, 360, 1)\n",
    "    X, Y = np.meshgrid(X, Y)\n",
    "    R = 0.54*np.ones(len(X))   #, normal one right now\n",
    "    \n",
    "    \n",
    "    if not array:\n",
    "        if ang> np.pi/2:\n",
    "            x = 0 \n",
    "        else:\n",
    "            mask1 = X == sourcetheta\n",
    "            mask2 = Y == sourcephi\n",
    "    \n",
    "            x = R[mask1 & mask2]\n",
    "            \n",
    "\n",
    "    else:\n",
    "\n",
    "        \n",
    "        \n",
    "        x = []\n",
    "\n",
    "        for spot in source:\n",
    "            mask1 = spot[0]  #theta mask\n",
    "            mask2 = spot[1]  #phi mask\n",
    "        \n",
    "            x.append(R[mask1 & mask2])\n",
    "            \n",
    "    return x\n",
    "\n",
    "def look_up_D(detnorm,source,array=False):\n",
    "    \"\"\"The look up table for detector D. \n",
    "    \n",
    "    Parameters\n",
    "    ----------   \n",
    "    detnorm : array\n",
    "        The vector normal to detector D. \n",
    "    source : array\n",
    "        The vector pointing to where in the sky the GRB came from. \n",
    "    \n",
    "    \n",
    "    Returns\n",
    "    -------\n",
    "    \n",
    "    x : float\n",
    "        The exponent of dependence for the detector's response.\n",
    "    \"\"\"\n",
    "    ang = findAngles(detnorm,source)   \n",
    "\n",
    "    sourcetheta,sourcephi = hp.vec2ang(source)\n",
    "    #convert to degrees for now, not a big dealio or anything yet. \n",
    "    sourcetheta = round(np.rad2deg(sourcetheta))   #This needs to be able to take in an array and produce corresponding R's. \n",
    "    sourcephi = round(np.rad2deg(sourcephi))\n",
    "    X = np.arange(0, 180, 1)  #full sky now. \n",
    "    Y = np.arange(0, 360, 1)\n",
    "    X, Y = np.meshgrid(X, Y)\n",
    "    R = 0.76*np.ones(len(X))   #, normal one right now\n",
    "    \n",
    "    \n",
    "    if not array:\n",
    "        if ang> np.pi/2:\n",
    "            x = 0 \n",
    "        else:\n",
    "            mask1 = X == sourcetheta\n",
    "            mask2 = Y == sourcephi\n",
    "    \n",
    "            x = R[mask1 & mask2]\n",
    "            \n",
    "\n",
    "    else:\n",
    "\n",
    "        \n",
    "        \n",
    "        x = []\n",
    "\n",
    "        for spot in source:\n",
    "            mask1 = spot[0]  #theta mask\n",
    "            mask2 = spot[1]  #phi mask\n",
    "        \n",
    "            x.append(R[mask1 & mask2])\n",
    "            \n",
    "    return x\n",
    "\n",
    "\n",
    "\n"
   ]
  },
  {
   "cell_type": "code",
   "execution_count": null,
   "metadata": {
    "collapsed": true
   },
   "outputs": [],
   "source": [
    "def look_up_C(detnorm,source):\n",
    "    \"\"\"The look up table for detector C. \n",
    "    \n",
    "    Parameters\n",
    "    ----------   \n",
    "    detnorm : array\n",
    "        The vector normal to detector C. \n",
    "    source : array\n",
    "        The vector pointing to where in the sky the GRB came from. \n",
    "    \n",
    "    \n",
    "    Returns\n",
    "    -------\n",
    "    \n",
    "    x : float\n",
    "        The exponent of dependence for the detector's response.\n",
    "    \"\"\"\n",
    "    \n",
    "    ang = findAngles(detnorm,source)   \n",
    "    if type(ang) != np.float64:\n",
    "\n",
    "    #for this one calling it just mask1 since I'm sure more features will be added. \n",
    "        mask1 = ang > np.pi/3.\n",
    "\n",
    "        ang[mask1] = 0\n",
    "        ang[~mask1] = 0.5\n",
    "    \n",
    "        x = ang #rename bc it sounds better\n",
    "    else: \n",
    "        if ang> np.pi/3:\n",
    "            x = 0 \n",
    "        else:\n",
    "        #Or an elseif for other nuances, but simplest case this is it. \n",
    "            x = .5\n",
    "    return x\n",
    "\n"
   ]
  },
  {
   "cell_type": "code",
   "execution_count": null,
   "metadata": {
    "collapsed": true
   },
   "outputs": [],
   "source": []
  }
 ],
 "metadata": {
  "kernelspec": {
   "display_name": "Python 3",
   "language": "python",
   "name": "python3"
  },
  "language_info": {
   "codemirror_mode": {
    "name": "ipython",
    "version": 3
   },
   "file_extension": ".py",
   "mimetype": "text/x-python",
   "name": "python",
   "nbconvert_exporter": "python",
   "pygments_lexer": "ipython3",
   "version": "3.6.1"
  }
 },
 "nbformat": 4,
 "nbformat_minor": 2
}
