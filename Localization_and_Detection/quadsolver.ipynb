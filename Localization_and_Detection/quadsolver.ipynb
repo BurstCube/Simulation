{
 "cells": [
  {
   "cell_type": "markdown",
   "metadata": {},
   "source": [
    "ugh I'm getting bad at naming new functions, but this is going to be almost exactly the same as the array version of the solver, but now I'm going to work through it in a parallel fashion, it'll be able to take in one det val array, and return chi squared, but this time it'll be able to say if one chi term is supposed to be bad a la the conditions I had early on. \n",
    "\n",
    "so...\n",
    "\n",
    "input:  detval, detnorm, thetarange,phirange, Arange?, n, bg... same as usual\n",
    "\n",
    "returns: chisquared array of this specific detector, these are all to be added, secret here is to use the mask to turn the chiterms that are supposed to be bad, bad. "
   ]
  },
  {
   "cell_type": "code",
   "execution_count": null,
   "metadata": {
    "collapsed": true
   },
   "outputs": [],
   "source": [
    "def speedy_solver(detsvals,detnorms,bottheta,toptheta,botphi,topphi,background):\n",
    "   # mask2 = np.array(detsvals) >background\n",
    "    #detsvals = detsvals[mask2]\n",
    "    theta = np.deg2rad(np.linspace(bottheta,toptheta,3))\n",
    "    phi = np.deg2rad(np.linspace(botphi,topphi,4))\n",
    "    mphi,mtheta = np.meshgrid(phi,theta)\n",
    "    allthetas = np.concatenate(mtheta)\n",
    "    allphis = np.concatenate(mphi)\n",
    "    allvecs = hp.ang2vec(allthetas,allphis)\n",
    "    As= np.linspace(10,1000,5)\n",
    "    chiterms = np.zeros(len(As)*len(theta)*len(phi))\n",
    "   # print(\"Len chi terms: the zeros one.. \" + str(len(chiterms)))\n",
    "    for s in range(len(detsvals)):\n",
    "        normarr = detnorms[s]  #an array that is the normal vector for a given detector, changes for each loop. \n",
    "   #    print(\"normal array \" + str(s) + \" \" + str(np.rad2deg(hp.vec2ang(normarr)))) \n",
    "        normarrs = []\n",
    "        for garc in range((len(theta)*len(phi))):\n",
    "            normarrs.append([normarr[0],normarr[1],normarr[2]])\n",
    "        \n",
    "        seps = findAngles(allvecs,normarrs)\n",
    "        \n",
    "        #mask = seps < np.pi/2\n",
    "        #seps[mask]\n",
    "        #only using seps under 90, good. \n",
    "        AA,SS = np.meshgrid(As,seps)\n",
    "\n",
    "        Aofit = np.concatenate(AA)\n",
    "        chiseps = np.concatenate(SS)\n",
    "        bg = background * np.ones(len(chiseps))\n",
    "        #when chiseps in here are >90, make response huuuge\n",
    "        good = chiseps < np.pi/2\n",
    "        bad = chiseps > np.pi/2\n",
    "        chiResponse = np.multiply(Aofit,response(chiseps)) + bg\n",
    "         \n",
    "    #  print(\"iteration : \" + str(s))\n",
    "        chiterm = np.divide(np.power(np.subtract(chiResponse,detsvals[s]),2),detsvals[s])\n",
    "      #  print(\"chiterm: \" + str(chiterm))\n",
    "\n",
    "        chiterms += chiterm\n",
    "     #   print(\"chiterms final: \" + str(chiterms))\n",
    "    chimin = min(chiterms)\n",
    "    chisquareds = list(chiterms)\n",
    "   # thetaloc = np.rad2deg(theta[int((chisquareds.index(chimin)-(chisquareds.index(chimin) % (len(phi)*len(Aofit))))/(len(phi)*len(Aofit)))])\n",
    "   # philoc = np.rad2deg(phi[int(((chisquareds.index(chimin) % (len(phi)*len(Aofit)))-(chisquareds.index(chimin) % (len(Aofit))))/len(Aofit))])\n",
    "  #  Aoguess=Aofit[int((chisquareds.index(chimin) % (len(phi)*len(Aofit)))  % len(Aofit))]\n",
    "\n",
    "    return  chiterm"
   ]
  },
  {
   "cell_type": "code",
   "execution_count": null,
   "metadata": {
    "collapsed": true
   },
   "outputs": [],
   "source": [
    "def quad_solver(detval,detnorm,bottheta,toptheta,botphi,topphi,background):\n",
    "    theta = np.deg2rad(np.linspace(bottheta,toptheta,3))\n",
    "    phi = np.deg2rad(np.linspace(botphi,topphi,4))\n",
    "    mphi,mtheta = np.meshgrid(phi,theta)\n",
    "    allthetas = np.concatenate(mtheta)\n",
    "    allphis = np.concatenate(mphi)\n",
    "    allvecs = hp.ang2vec(allthetas,allphis)\n",
    "    As= np.linspace(10,1000,5)\n",
    "    normarr = detnorm\n",
    "    normarrs = []\n",
    "    for garc in range((len(theta)*len(phi))):\n",
    "        normarrs.append([normarr[0],normarr[1],normarr[2]])\n",
    "        \n",
    "    seps = findAngles(allvecs,normarrs)\n",
    "    AA,SS = np.meshgrid(As,seps)\n",
    "    Aofit = np.concatenate(AA)\n",
    "    chiseps = np.concatenate(SS)\n",
    "    [np.pi/2 if x>np.pi/2 else x for x in chiseps]\n",
    "\n",
    "    #this is close, but needs to be a way to go one step further and do this in the next chiR\n",
    "    bg = background * np.ones(len(chiseps))\n",
    "    good = chiseps < np.pi/2\n",
    "    bad = chiseps > np.pi/2\n",
    "    \n",
    "    \n",
    "    chiResponse = np.multiply(Aofit,response(chiseps)) + bg\n",
    "\n",
    "    if detval > background: \n",
    "        chiterm = np.divide(np.power(np.subtract(chiResponse,detval),2),detval)\n",
    "    else: \n",
    "        chiterm = 1e5 * np.ones(len(theta)*len(phi)*len(As))\n",
    "    \n",
    "    return chiterm"
   ]
  },
  {
   "cell_type": "code",
   "execution_count": 3,
   "metadata": {},
   "outputs": [
    {
     "data": {
      "text/plain": [
       "array([ 1, 11])"
      ]
     },
     "execution_count": 3,
     "metadata": {},
     "output_type": "execute_result"
    }
   ],
   "source": [
    "np.add([0,1],  [1,10])"
   ]
  },
  {
   "cell_type": "code",
   "execution_count": 2,
   "metadata": {
    "collapsed": true
   },
   "outputs": [],
   "source": [
    "import numpy as np"
   ]
  },
  {
   "cell_type": "code",
   "execution_count": 3,
   "metadata": {},
   "outputs": [
    {
     "data": {
      "text/plain": [
       "[4, 4, 3, 4, 3, 4, 4, 4]"
      ]
     },
     "execution_count": 3,
     "metadata": {},
     "output_type": "execute_result"
    }
   ],
   "source": [
    "a=[1,2,3,1,3,2,1,1]\n",
    "[4 if x<=2 else x for x in a]\n"
   ]
  },
  {
   "cell_type": "code",
   "execution_count": null,
   "metadata": {
    "collapsed": true
   },
   "outputs": [],
   "source": []
  }
 ],
 "metadata": {
  "kernelspec": {
   "display_name": "Python 3",
   "language": "python",
   "name": "python3"
  },
  "language_info": {
   "codemirror_mode": {
    "name": "ipython",
    "version": 3
   },
   "file_extension": ".py",
   "mimetype": "text/x-python",
   "name": "python",
   "nbconvert_exporter": "python",
   "pygments_lexer": "ipython3",
   "version": "3.6.1"
  }
 },
 "nbformat": 4,
 "nbformat_minor": 2
}
