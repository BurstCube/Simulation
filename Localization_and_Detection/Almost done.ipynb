{
 "cells": [
  {
   "cell_type": "code",
   "execution_count": 1,
   "metadata": {
    "collapsed": true
   },
   "outputs": [],
   "source": [
    "import numpy as np\n",
    "import healpy as hp\n",
    "import math as mth\n",
    "import time\n",
    "\n",
    "def response(A):\n",
    "    \"\"\"\n",
    "    Meant to imitate the actual response of a scintillator.\n",
    "    Inputs 2 vectors, and responds with a cos^x dependence.\n",
    "    \"\"\"\n",
    "    #meant to imitate the response of the detectors for effective area vs. angle, found to be around .77\n",
    " #   print(length(A),length(B))\n",
    "#if cosine is negative, \n",
    "    return pow(abs(np.cos(A)),0.76)\n",
    "\n",
    "\n",
    "def findAngles(v1s, v2s):\n",
    "    dot = np.einsum('ijk,ijk->ij',[v1s,v1s,v2s],[v2s,v1s,v2s])\n",
    "    return np.arccos(dot[0,:]/(np.sqrt(dot[1,:])*np.sqrt(dot[2,:])))\n",
    "\n",
    "def length(v):\n",
    "    \"\"\"\n",
    "    Finds the length of a vector\n",
    "    \n",
    "    Parameters\n",
    "    ----------\n",
    "    \n",
    "    v : array\n",
    "        numpy array representative of the vector you want to find the magnitude of. \n",
    "    \n",
    "    Returns\n",
    "    -------\n",
    "    \n",
    "    magv : float\n",
    "        magnitude of v.\n",
    "    \"\"\"\n",
    "    magv = mth.sqrt(np.dot(v, v))\n",
    "    return magv\n",
    "\n",
    "\n",
    "def angle(v1, v2):\n",
    "    \"\"\"\"\n",
    "    Finds the angle between 2 vectors\n",
    "    \n",
    "    Parameters\n",
    "    ----------\n",
    "    \n",
    "    v1 : array\n",
    "    v2 : array\n",
    "        The arrays representing the vectors who's angle is to be calculated.\n",
    "        \n",
    "    Returns\n",
    "    -------\n",
    "    \n",
    "    ang : float\n",
    "        Angle between the 2 vectors. \n",
    "        \n",
    "    \"\"\"\n",
    "\n",
    "    ang = np.arccos(np.dot(v1, v2) / (length(v1) * length(v2)))\n",
    "    return ang\n",
    "\n"
   ]
  },
  {
   "cell_type": "code",
   "execution_count": 2,
   "metadata": {
    "collapsed": true
   },
   "outputs": [],
   "source": [
    "#dummy source at [19,20] with A = 500\n",
    "\n",
    "#dummyresponse = 500* response()"
   ]
  },
  {
   "cell_type": "code",
   "execution_count": null,
   "metadata": {
    "collapsed": true
   },
   "outputs": [],
   "source": []
  },
  {
   "cell_type": "code",
   "execution_count": 17,
   "metadata": {},
   "outputs": [],
   "source": [
    "theta = np.deg2rad(np.linspace(0,90,10))\n",
    "phi = np.deg2rad(np.linspace(0,360,37))\n",
    "\n",
    "fakenorm = [0,0,1]\n",
    "fakenorms = []\n",
    "for i in range((len(theta)*len(phi))):\n",
    "    fakenorms.append([fakenorm[0],fakenorm[1],fakenorm[2]])\n",
    "\n",
    "    \n",
    "fakesource = hp.ang2vec(0,0)\n",
    "#based on this feature I still need to add something that tells it to deal with >90 or past the horizon related cals. \n",
    "dummyresponse = 500 * response(angle(fakesource,fakenorm)) + 1000\n",
    "    \n",
    "mtheta,mphi = np.meshgrid(theta,phi)\n",
    "\n",
    "chiveco = hp.ang2vec(mtheta,mphi)\n",
    "chivecs = np.concatenate(chiveco)\n",
    "    \n",
    "chiseps = findAngles(chivecs,fakenorms)\n",
    "\n"
   ]
  },
  {
   "cell_type": "code",
   "execution_count": 18,
   "metadata": {},
   "outputs": [
    {
     "data": {
      "text/plain": [
       "1500.0"
      ]
     },
     "execution_count": 18,
     "metadata": {},
     "output_type": "execute_result"
    }
   ],
   "source": [
    "dummyresponse"
   ]
  },
  {
   "cell_type": "code",
   "execution_count": 19,
   "metadata": {
    "collapsed": true
   },
   "outputs": [],
   "source": [
    "As= np.linspace(0,1000,30)"
   ]
  },
  {
   "cell_type": "code",
   "execution_count": 20,
   "metadata": {},
   "outputs": [],
   "source": [
    "AA,SS = np.meshgrid(As,chiseps)\n"
   ]
  },
  {
   "cell_type": "code",
   "execution_count": 21,
   "metadata": {},
   "outputs": [],
   "source": [
    "Aofit = np.concatenate(AA)\n",
    "chiseps = np.concatenate(SS)\n",
    "bg = 1000 * np.ones(len(chiseps))"
   ]
  },
  {
   "cell_type": "code",
   "execution_count": 22,
   "metadata": {},
   "outputs": [],
   "source": [
    "chiResponse = np.multiply(Aofit,response(chiseps)) + bg\n"
   ]
  },
  {
   "cell_type": "code",
   "execution_count": 23,
   "metadata": {},
   "outputs": [
    {
     "data": {
      "text/plain": [
       "11100"
      ]
     },
     "execution_count": 23,
     "metadata": {},
     "output_type": "execute_result"
    }
   ],
   "source": [
    "len(chiResponse)"
   ]
  },
  {
   "cell_type": "code",
   "execution_count": 24,
   "metadata": {
    "collapsed": true
   },
   "outputs": [],
   "source": [
    "tdummyval = dummyresponse"
   ]
  },
  {
   "cell_type": "code",
   "execution_count": 25,
   "metadata": {
    "collapsed": true,
    "scrolled": true
   },
   "outputs": [],
   "source": [
    "Aofit = np.concatenate(AA)\n",
    "chisep = np.concatenate(SS)\n",
    "bg = 1000 * np.ones(len(chisep))"
   ]
  },
  {
   "cell_type": "code",
   "execution_count": 26,
   "metadata": {},
   "outputs": [],
   "source": [
    "chiResponse = np.multiply(Aofit,response(chisep)) + bg\n",
    "\n",
    "\n",
    "#all in one. subtracts every term in array by val, then squares result, then divides by dummy ! \n",
    "chiterm = np.divide(np.power(np.subtract(chiResponse,dummyval),2),dummyval)\n",
    "chiterms += chiterm"
   ]
  },
  {
   "cell_type": "code",
   "execution_count": 27,
   "metadata": {},
   "outputs": [],
   "source": [
    "chimin = min(chiterms)"
   ]
  },
  {
   "cell_type": "code",
   "execution_count": 28,
   "metadata": {
    "collapsed": true
   },
   "outputs": [],
   "source": [
    "chisquareds = list(chiterms)"
   ]
  },
  {
   "cell_type": "code",
   "execution_count": 29,
   "metadata": {},
   "outputs": [],
   "source": [
    "Aoguess=Aofit[int((chisquareds.index(chimin) % (len(phi)*len(Aofit)))  % len(Aofit))]"
   ]
  },
  {
   "cell_type": "code",
   "execution_count": 30,
   "metadata": {
    "collapsed": true
   },
   "outputs": [],
   "source": [
    "philoc = np.rad2deg(phi[int(((chisquareds.index(chimin) % (len(phi)*len(Aofit)))-(chisquareds.index(chimin) % (len(Aofit))))/len(Aofit))])"
   ]
  },
  {
   "cell_type": "code",
   "execution_count": 31,
   "metadata": {},
   "outputs": [],
   "source": [
    "thetaloc = np.rad2deg(theta[int((chisquareds.index(chimin)-(chisquareds.index(chimin) % (len(phi)*len(Aofit))))/(len(phi)*len(Aofit)))])"
   ]
  },
  {
   "cell_type": "code",
   "execution_count": 32,
   "metadata": {},
   "outputs": [
    {
     "name": "stdout",
     "output_type": "stream",
     "text": [
      "0.0 0.0 551.724137931\n"
     ]
    }
   ],
   "source": [
    "print(thetaloc,philoc,Aoguess)"
   ]
  },
  {
   "cell_type": "code",
   "execution_count": null,
   "metadata": {},
   "outputs": [],
   "source": [
    "\n",
    "        chiresponse =  Aofit * response(chisep) + bg \n",
    "        for i in range(len(chiresponse)):\n",
    "            if chisep[i] > np.pi/2:\n",
    "                chiresponse[i] = 1e6 #arbitrarily huge number saying this number is out of the question. \n",
    "        print(\"chi terms: \")\n",
    "        chiterm = np.subtract(chiResponse)\n",
    "        chiterms = chiterms + np.divide(np.subtract(,detresponse)\n",
    "       # print(chiterms)\n",
    "      #  print(\"len of Chiterms = \" + str(len(chiterms)))                               "
   ]
  },
  {
   "cell_type": "code",
   "execution_count": null,
   "metadata": {},
   "outputs": [],
   "source": [
    "np.subtract([1,1],-1)"
   ]
  },
  {
   "cell_type": "code",
   "execution_count": null,
   "metadata": {
    "collapsed": true
   },
   "outputs": [],
   "source": [
    "def chisolver(chiR,act)\n",
    "    "
   ]
  },
  {
   "cell_type": "code",
   "execution_count": null,
   "metadata": {
    "collapsed": true
   },
   "outputs": [],
   "source": [
    "len(hp.ang2vec(mtheta,mphi))"
   ]
  },
  {
   "cell_type": "code",
   "execution_count": null,
   "metadata": {
    "collapsed": true
   },
   "outputs": [],
   "source": [
    "BB[0]"
   ]
  },
  {
   "cell_type": "code",
   "execution_count": null,
   "metadata": {
    "collapsed": true
   },
   "outputs": [],
   "source": []
  },
  {
   "cell_type": "code",
   "execution_count": null,
   "metadata": {},
   "outputs": [],
   "source": [
    "np.power([0,3,5],2)"
   ]
  },
  {
   "cell_type": "code",
   "execution_count": null,
   "metadata": {
    "collapsed": true
   },
   "outputs": [],
   "source": []
  }
 ],
 "metadata": {
  "kernelspec": {
   "display_name": "Python 3",
   "language": "python",
   "name": "python3"
  },
  "language_info": {
   "codemirror_mode": {
    "name": "ipython",
    "version": 3
   },
   "file_extension": ".py",
   "mimetype": "text/x-python",
   "name": "python",
   "nbconvert_exporter": "python",
   "pygments_lexer": "ipython3",
   "version": "3.6.1"
  }
 },
 "nbformat": 4,
 "nbformat_minor": 2
}
