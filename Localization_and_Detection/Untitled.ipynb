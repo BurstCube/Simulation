{
 "cells": [
  {
   "cell_type": "code",
   "execution_count": 3,
   "metadata": {
    "collapsed": true
   },
   "outputs": [],
   "source": [
    "import burstsim as bs\n",
    "import healpy as hp"
   ]
  },
  {
   "cell_type": "code",
   "execution_count": 4,
   "metadata": {},
   "outputs": [
    {
     "name": "stdout",
     "output_type": "stream",
     "text": [
      "Are the detectors alternating? no\n",
      "Please enter the tilt (deg) 34\n"
     ]
    }
   ],
   "source": [
    "cube1 = bs.BurstCube()\n"
   ]
  },
  {
   "cell_type": "code",
   "execution_count": 6,
   "metadata": {},
   "outputs": [
    {
     "name": "stdout",
     "output_type": "stream",
     "text": [
      "This GRB will produce an effect of 100 counts, located at polar angle 0.0 deg and azimuthal angle 0.0 deg.\n"
     ]
    }
   ],
   "source": [
    "#after making the cube, now it is time to pair it with a burst.\n",
    "\n",
    "burst1 = bs.GRB(100,0,0)\n",
    "burst1.print_details()"
   ]
  },
  {
   "cell_type": "code",
   "execution_count": 7,
   "metadata": {},
   "outputs": [
    {
     "data": {
      "text/plain": [
       "[0.59341194567807209, 0]"
      ]
     },
     "execution_count": 7,
     "metadata": {},
     "output_type": "execute_result"
    }
   ],
   "source": [
    "cube1.detA"
   ]
  },
  {
   "cell_type": "code",
   "execution_count": 9,
   "metadata": {},
   "outputs": [],
   "source": [
    "\n",
    "Anorm = hp.ang2vec(cube1.detA[0],cube1.detA[1])\n",
    "Bnorm = hp.ang2vec(cube1.detB[0],cube1.detB[1])\n",
    "Cnorm = hp.ang2vec(cube1.detC[0],cube1.detC[1])\n",
    "Dnorm = hp.ang2vec(cube1.detD[0],cube1.detD[1])\n"
   ]
  },
  {
   "cell_type": "code",
   "execution_count": null,
   "metadata": {
    "collapsed": true
   },
   "outputs": [],
   "source": []
  },
  {
   "cell_type": "markdown",
   "metadata": {},
   "source": [
    "Made an array of all the detector's normals, produce a certain number of counts using response."
   ]
  },
  {
   "cell_type": "code",
   "execution_count": null,
   "metadata": {
    "collapsed": true
   },
   "outputs": [],
   "source": []
  },
  {
   "cell_type": "code",
   "execution_count": 14,
   "metadata": {},
   "outputs": [],
   "source": [
    "pixels = hp.nside2npix(1)"
   ]
  },
  {
   "cell_type": "code",
   "execution_count": 15,
   "metadata": {},
   "outputs": [
    {
     "data": {
      "text/plain": [
       "12"
      ]
     },
     "execution_count": 15,
     "metadata": {},
     "output_type": "execute_result"
    }
   ],
   "source": [
    "pixels"
   ]
  },
  {
   "cell_type": "code",
   "execution_count": 25,
   "metadata": {
    "collapsed": true
   },
   "outputs": [],
   "source": [
    "class GRBs():\n",
    "\t\"\"\"\n",
    "\tGenerates an array of GRB's given \n",
    "\tcertains strength at different sky positions.\n",
    "\t\n",
    "\tOutput should be an array. \n",
    "\t\"\"\"\n",
    "\tdef __init__(self,NSIDE):\n",
    "\t\t#depending on NSIDE, there will be anywhere from 12 to infinite spots on the sky w/ GRBs\n",
    "\n",
    "\t\tself.pixels = hp.nside2npix(NSIDE)\n",
    "\n",
    "\t\t#want to convert these pixels into theta phi coords. \n",
    "\t\tself.sourceangs = []\n",
    "\t\tfor i in range(self.pixels):\n",
    "\t\t\tself.sourceangs.append(hp.pix2ang(NSIDE,i))\n",
    "\n"
   ]
  },
  {
   "cell_type": "code",
   "execution_count": 26,
   "metadata": {},
   "outputs": [],
   "source": [
    "GRB = GRBs(2)"
   ]
  },
  {
   "cell_type": "code",
   "execution_count": 27,
   "metadata": {},
   "outputs": [
    {
     "data": {
      "text/plain": [
       "[(0.41113786232234778, 0.78539816339744828),\n",
       " (0.41113786232234778, 2.3561944901923448),\n",
       " (0.41113786232234778, 3.9269908169872414),\n",
       " (0.41113786232234778, 5.497787143782138),\n",
       " (0.84106867056793033, 0.39269908169872414),\n",
       " (0.84106867056793033, 1.1780972450961724),\n",
       " (0.84106867056793033, 1.9634954084936205),\n",
       " (0.84106867056793033, 2.748893571891069),\n",
       " (0.84106867056793033, 3.5342917352885168),\n",
       " (0.84106867056793033, 4.3196898986859651),\n",
       " (0.84106867056793033, 5.1050880620834134),\n",
       " (0.84106867056793033, 5.8904862254808616),\n",
       " (1.2309594173407747, 0.0),\n",
       " (1.2309594173407747, 0.78539816339744828),\n",
       " (1.2309594173407747, 1.5707963267948966),\n",
       " (1.2309594173407747, 2.3561944901923448),\n",
       " (1.2309594173407747, 3.1415926535897931),\n",
       " (1.2309594173407747, 3.926990816987241),\n",
       " (1.2309594173407747, 4.7123889803846897),\n",
       " (1.2309594173407747, 5.497787143782138),\n",
       " (1.5707963267948966, 0.39269908169872414),\n",
       " (1.5707963267948966, 1.1780972450961724),\n",
       " (1.5707963267948966, 1.9634954084936205),\n",
       " (1.5707963267948966, 2.748893571891069),\n",
       " (1.5707963267948966, 3.5342917352885168),\n",
       " (1.5707963267948966, 4.3196898986859651),\n",
       " (1.5707963267948966, 5.1050880620834134),\n",
       " (1.5707963267948966, 5.8904862254808616),\n",
       " (1.9106332362490184, 0.0),\n",
       " (1.9106332362490184, 0.78539816339744828),\n",
       " (1.9106332362490184, 1.5707963267948966),\n",
       " (1.9106332362490184, 2.3561944901923448),\n",
       " (1.9106332362490184, 3.1415926535897931),\n",
       " (1.9106332362490184, 3.926990816987241),\n",
       " (1.9106332362490184, 4.7123889803846897),\n",
       " (1.9106332362490184, 5.497787143782138),\n",
       " (2.3005239830218631, 0.39269908169872414),\n",
       " (2.3005239830218631, 1.1780972450961724),\n",
       " (2.3005239830218631, 1.9634954084936205),\n",
       " (2.3005239830218631, 2.748893571891069),\n",
       " (2.3005239830218631, 3.5342917352885168),\n",
       " (2.3005239830218631, 4.3196898986859651),\n",
       " (2.3005239830218631, 5.1050880620834134),\n",
       " (2.3005239830218631, 5.8904862254808616),\n",
       " (2.7304547912674453, 0.78539816339744828),\n",
       " (2.7304547912674453, 2.3561944901923448),\n",
       " (2.7304547912674453, 3.9269908169872414),\n",
       " (2.7304547912674453, 5.497787143782138)]"
      ]
     },
     "execution_count": 27,
     "metadata": {},
     "output_type": "execute_result"
    }
   ],
   "source": [
    "GRB.sourceangs"
   ]
  },
  {
   "cell_type": "code",
   "execution_count": 24,
   "metadata": {},
   "outputs": [
    {
     "data": {
      "text/plain": [
       "(0.41113786232234778, 0.78539816339744828)"
      ]
     },
     "execution_count": 24,
     "metadata": {},
     "output_type": "execute_result"
    }
   ],
   "source": [
    "GRB.sourceangs[0]"
   ]
  },
  {
   "cell_type": "code",
   "execution_count": 42,
   "metadata": {},
   "outputs": [],
   "source": [
    "zenith = [0,0]\n",
    "background = 1000\n",
    "class BurstCube:\n",
    "    import numpy as np\n",
    "    import healpy as hp\n",
    "    def __init__(self):\n",
    "        test = input(\"Are the detectors alternating? \")\n",
    "        if test == \"yes\" or test == \"Yes\" or test == \"y\" or test == \"asdlfkjawe\":           \n",
    "            self.tiltA = np.deg2rad(float(input(\"Please enter the first tilt (deg) \")))\n",
    "            self.tiltB = np.deg2rad(float(input(\"Please enter the second tilt (deg) \")))\n",
    "            self.tiltC = self.tiltA\n",
    "            self.tiltD = self.tiltD\n",
    "        else:\n",
    "            self.tilt = np.deg2rad(float(input(\"Please enter the tilt (deg) \")))\n",
    "            self.tiltA = self.tiltB = self.tiltC = self.tiltD = self.tilt\n",
    "            \n",
    "    \n",
    "    #make the normal vectors!\n",
    "        #self.detA = [ zenith[0] + self.tiltA , zenith[1] ] \n",
    "        self.detB = [ zenith[0] + self.tiltB , zenith[1] + np.pi/2 ] \n",
    "        self.detC = [ zenith[0] + self.tiltC , zenith[1] + np.pi ] \n",
    "        self.detD = [ zenith[0] + self.tiltD , zenith[1] + 3*np.pi/2 ] \n",
    "\n",
    "        self.Anorm = hp.ang2vec(self.detA[0],self.detA[1])\n",
    "        self.Bnorm = hp.ang2vec(self.detB[0],self.detB[1])\n",
    "        self.Cnorm = hp.ang2vec(self.detC[0],self.detC[1])\n",
    "        self.Dnorm = hp.ang2vec(self.detD[0],self.detD[1])\n",
    "\n",
    "    \n",
    "        self.dets = [self.Anorm,self.Bnorm,self.Cnorm,self.Dnorm] \n",
    "        \n",
    "    @property\n",
    "    def detA(self):\n",
    "        return [ zenith[0] + self.tiltA , zenith[1] ]\n",
    "    @property \n",
    "    def detB(self):\n",
    "        return [ zenith[0] + self.tiltB , zenith[1] + np.pi/2 ]\n",
    "    \n",
    "    \n",
    "    def respond2GRB(self, GRB):\n",
    "        \n",
    "        #do things to GRB\n",
    "        \n",
    "        return GRB\n",
    "        "
   ]
  },
  {
   "cell_type": "code",
   "execution_count": 43,
   "metadata": {},
   "outputs": [
    {
     "name": "stdout",
     "output_type": "stream",
     "text": [
      "Are the detectors alternating? y\n",
      "Please enter the first tilt (deg) 45\n",
      "Please enter the second tilt (deg) 45\n"
     ]
    },
    {
     "ename": "AttributeError",
     "evalue": "'BurstCube' object has no attribute 'tiltD'",
     "output_type": "error",
     "traceback": [
      "\u001b[0;31m---------------------------------------------------------------------------\u001b[0m",
      "\u001b[0;31mAttributeError\u001b[0m                            Traceback (most recent call last)",
      "\u001b[0;32m<ipython-input-43-75fc850dd53d>\u001b[0m in \u001b[0;36m<module>\u001b[0;34m()\u001b[0m\n\u001b[0;32m----> 1\u001b[0;31m \u001b[0mcube1\u001b[0m \u001b[0;34m=\u001b[0m  \u001b[0mBurstCube\u001b[0m\u001b[0;34m(\u001b[0m\u001b[0;34m)\u001b[0m\u001b[0;34m\u001b[0m\u001b[0m\n\u001b[0m",
      "\u001b[0;32m<ipython-input-42-164f12ea8694>\u001b[0m in \u001b[0;36m__init__\u001b[0;34m(self)\u001b[0m\n\u001b[1;32m     10\u001b[0m             \u001b[0mself\u001b[0m\u001b[0;34m.\u001b[0m\u001b[0mtiltB\u001b[0m \u001b[0;34m=\u001b[0m \u001b[0mnp\u001b[0m\u001b[0;34m.\u001b[0m\u001b[0mdeg2rad\u001b[0m\u001b[0;34m(\u001b[0m\u001b[0mfloat\u001b[0m\u001b[0;34m(\u001b[0m\u001b[0minput\u001b[0m\u001b[0;34m(\u001b[0m\u001b[0;34m\"Please enter the second tilt (deg) \"\u001b[0m\u001b[0;34m)\u001b[0m\u001b[0;34m)\u001b[0m\u001b[0;34m)\u001b[0m\u001b[0;34m\u001b[0m\u001b[0m\n\u001b[1;32m     11\u001b[0m             \u001b[0mself\u001b[0m\u001b[0;34m.\u001b[0m\u001b[0mtiltC\u001b[0m \u001b[0;34m=\u001b[0m \u001b[0mself\u001b[0m\u001b[0;34m.\u001b[0m\u001b[0mtiltA\u001b[0m\u001b[0;34m\u001b[0m\u001b[0m\n\u001b[0;32m---> 12\u001b[0;31m             \u001b[0mself\u001b[0m\u001b[0;34m.\u001b[0m\u001b[0mtiltD\u001b[0m \u001b[0;34m=\u001b[0m \u001b[0mself\u001b[0m\u001b[0;34m.\u001b[0m\u001b[0mtiltD\u001b[0m\u001b[0;34m\u001b[0m\u001b[0m\n\u001b[0m\u001b[1;32m     13\u001b[0m         \u001b[0;32melse\u001b[0m\u001b[0;34m:\u001b[0m\u001b[0;34m\u001b[0m\u001b[0m\n\u001b[1;32m     14\u001b[0m             \u001b[0mself\u001b[0m\u001b[0;34m.\u001b[0m\u001b[0mtilt\u001b[0m \u001b[0;34m=\u001b[0m \u001b[0mnp\u001b[0m\u001b[0;34m.\u001b[0m\u001b[0mdeg2rad\u001b[0m\u001b[0;34m(\u001b[0m\u001b[0mfloat\u001b[0m\u001b[0;34m(\u001b[0m\u001b[0minput\u001b[0m\u001b[0;34m(\u001b[0m\u001b[0;34m\"Please enter the tilt (deg) \"\u001b[0m\u001b[0;34m)\u001b[0m\u001b[0;34m)\u001b[0m\u001b[0;34m)\u001b[0m\u001b[0;34m\u001b[0m\u001b[0m\n",
      "\u001b[0;31mAttributeError\u001b[0m: 'BurstCube' object has no attribute 'tiltD'"
     ]
    }
   ],
   "source": [
    "cube1 =  BurstCube()"
   ]
  },
  {
   "cell_type": "code",
   "execution_count": 41,
   "metadata": {},
   "outputs": [
    {
     "data": {
      "text/plain": [
       "[0.78539816339744828, 0]"
      ]
     },
     "execution_count": 41,
     "metadata": {},
     "output_type": "execute_result"
    }
   ],
   "source": [
    "cube1.respondToGRB(GRB)\n",
    "\n",
    "\n",
    "#do individual responses to each GRB, this is from my localization stuff, and then I'm in business. "
   ]
  },
  {
   "cell_type": "code",
   "execution_count": 37,
   "metadata": {},
   "outputs": [
    {
     "data": {
      "text/plain": [
       "[array([ 0.5591929 ,  0.        ,  0.82903757]),\n",
       " array([  3.42406900e-17,   5.59192903e-01,   8.29037573e-01]),\n",
       " array([ -5.59192903e-01,   6.84813799e-17,   8.29037573e-01]),\n",
       " array([ -1.02722070e-16,  -5.59192903e-01,   8.29037573e-01])]"
      ]
     },
     "execution_count": 37,
     "metadata": {},
     "output_type": "execute_result"
    }
   ],
   "source": [
    "cube1.dets"
   ]
  },
  {
   "cell_type": "code",
   "execution_count": null,
   "metadata": {
    "collapsed": true
   },
   "outputs": [],
   "source": []
  }
 ],
 "metadata": {
  "kernelspec": {
   "display_name": "Python 3",
   "language": "python",
   "name": "python3"
  },
  "language_info": {
   "codemirror_mode": {
    "name": "ipython",
    "version": 3
   },
   "file_extension": ".py",
   "mimetype": "text/x-python",
   "name": "python",
   "nbconvert_exporter": "python",
   "pygments_lexer": "ipython3",
   "version": "3.6.1"
  }
 },
 "nbformat": 4,
 "nbformat_minor": 2
}
