{
 "metadata": {
  "name": "",
  "signature": "sha256:ecaf95504f3fe8013a6a6b65c127b07a5eb934f4234e9b9e575a4267b86ae8a9"
 },
 "nbformat": 3,
 "nbformat_minor": 0,
 "worksheets": [
  {
   "cells": [
    {
     "cell_type": "code",
     "collapsed": false,
     "input": [
      "%matplotlib inline\n",
      "import matplotlib.pyplot as plt\n",
      "import numpy as np"
     ],
     "language": "python",
     "metadata": {},
     "outputs": [],
     "prompt_number": 1
    },
    {
     "cell_type": "code",
     "collapsed": false,
     "input": [
      "from BurstSim.GRB import *\n",
      "from BurstSim.Detector import *\n",
      "from BurstSim.Spacecraft import *"
     ],
     "language": "python",
     "metadata": {},
     "outputs": [],
     "prompt_number": 2
    },
    {
     "cell_type": "code",
     "collapsed": false,
     "input": [
      "import ephem as eph"
     ],
     "language": "python",
     "metadata": {},
     "outputs": [],
     "prompt_number": 3
    },
    {
     "cell_type": "code",
     "collapsed": false,
     "input": [
      "pointings = {'01': ('60:0:0','10:0:0'),\n",
      "            '02': ('120:0:0','15:0:0'),\n",
      "            '03': ('180:0:0','20:0:0'),\n",
      "            '04': ('240:0:0','10:0:0'),\n",
      "            '05': ('300:0:0','15:0:0'),\n",
      "            '06': ('360:0:0','20:0:0')}"
     ],
     "language": "python",
     "metadata": {},
     "outputs": [],
     "prompt_number": 4
    },
    {
     "cell_type": "code",
     "collapsed": false,
     "input": [
      "lons = [\"{}:0:0\".format(lon) for lon in np.linspace(10,40,4)]"
     ],
     "language": "python",
     "metadata": {},
     "outputs": [],
     "prompt_number": 5
    },
    {
     "cell_type": "code",
     "collapsed": false,
     "input": [
      "spacecrafts = [Spacecraft(pointings, lon = lon) for lon in lons]"
     ],
     "language": "python",
     "metadata": {},
     "outputs": [],
     "prompt_number": 6
    },
    {
     "cell_type": "code",
     "collapsed": false,
     "input": [
      "det1 = spacecrafts[0].detectors[0]\n",
      "det2 = spacecrafts[3].detectors[0]"
     ],
     "language": "python",
     "metadata": {},
     "outputs": [],
     "prompt_number": 9
    },
    {
     "cell_type": "code",
     "collapsed": false,
     "input": [
      "alpha1,delta1 = det1.obs.radec_of(0,90)\n",
      "s1 = np.array([np.cos(delta1)*np.cos(alpha1), np.cos(delta1)*np.sin(alpha1),np.sin(delta1)])\n",
      "r1 = det1.obs.elev\n",
      "\n",
      "alpha2,delta2 = det2.obs.radec_of(0,90)\n",
      "s2 = np.array([np.cos(delta2)*np.cos(alpha2), np.cos(delta2)*np.sin(alpha2),np.sin(delta2)])\n",
      "r2 = det2.obs.elev\n",
      "\n",
      "print r1,s1\n",
      "print r2,s2"
     ],
     "language": "python",
     "metadata": {},
     "outputs": [
      {
       "output_type": "stream",
       "stream": "stdout",
       "text": [
        "550000.0 [-0.34653391  0.91728949  0.1961995 ]\n",
        "550000.0 [-0.75876435  0.62110376  0.19623148]\n"
       ]
      }
     ],
     "prompt_number": 11
    },
    {
     "cell_type": "code",
     "collapsed": false,
     "input": [
      "grb = eph.readdb('GRB,f|V|F7,11.2,-20.,35.26,2000')\n",
      "grb.compute()\n",
      "print grb._ra,grb._dec"
     ],
     "language": "python",
     "metadata": {},
     "outputs": [
      {
       "output_type": "stream",
       "stream": "stdout",
       "text": [
        "11:12:00.00 -20:00:00.0\n"
       ]
      }
     ],
     "prompt_number": 15
    },
    {
     "cell_type": "code",
     "collapsed": false,
     "input": [
      "G_u = np.array([np.cos(grb.a_dec)*np.cos(grb.a_ra),\n",
      "              np.cos(grb.a_dec)*np.sin(grb.a_ra),\n",
      "              np.sin(grb.a_dec)])\n",
      "R = 1. # doesn't matter\n",
      "G = R*G_u\n",
      "print G\n",
      "print G_u"
     ],
     "language": "python",
     "metadata": {},
     "outputs": [
      {
       "output_type": "stream",
       "stream": "stdout",
       "text": [
        "[-0.91915808  0.19537308 -0.34202014]\n",
        "[-0.91915808  0.19537308 -0.34202014]\n"
       ]
      }
     ],
     "prompt_number": 122
    },
    {
     "cell_type": "code",
     "collapsed": false,
     "input": [
      "S = r1*s1 - r2*s2\n",
      "S_u = S/np.linalg.norm(S)\n",
      "print S\n",
      "print S_u"
     ],
     "language": "python",
     "metadata": {},
     "outputs": [
      {
       "output_type": "stream",
       "stream": "stdout",
       "text": [
        "[  2.26726739e+05   1.62902153e+05  -1.75890101e+01]\n",
        "[  8.12113290e-01   5.83499786e-01  -6.30021360e-05]\n"
       ]
      }
     ],
     "prompt_number": 123
    },
    {
     "cell_type": "markdown",
     "metadata": {},
     "source": [
      "This is the full cross product with full size vectors"
     ]
    },
    {
     "cell_type": "code",
     "collapsed": false,
     "input": [
      "T = np.cross(np.cross(S,G),S)\n",
      "A = np.dot(G,T)/(np.linalg.norm(G)*np.linalg.norm(T))\n",
      "print A"
     ],
     "language": "python",
     "metadata": {},
     "outputs": [
      {
       "output_type": "stream",
       "stream": "stdout",
       "text": [
        "0.774610334748\n"
       ]
      }
     ],
     "prompt_number": 127
    },
    {
     "cell_type": "markdown",
     "metadata": {},
     "source": [
      "This is after factoring out all of the normalisations and using unit vectors"
     ]
    },
    {
     "cell_type": "code",
     "collapsed": false,
     "input": [
      "np.dot(G_u,S_u)"
     ],
     "language": "python",
     "metadata": {},
     "outputs": [
      {
       "metadata": {},
       "output_type": "pyout",
       "prompt_number": 131,
       "text": [
        "-0.63243879490562582"
       ]
      }
     ],
     "prompt_number": 131
    },
    {
     "cell_type": "code",
     "collapsed": false,
     "input": [
      "T = G_u - np.dot(G_u,S_u)*S_u\n",
      "B = np.dot(G_u,T)/np.linalg.norm(T)\n",
      "print B"
     ],
     "language": "python",
     "metadata": {},
     "outputs": [
      {
       "output_type": "stream",
       "stream": "stdout",
       "text": [
        "0.774610334748\n"
       ]
      }
     ],
     "prompt_number": 133
    },
    {
     "cell_type": "code",
     "collapsed": false,
     "input": [
      "theta = np.arccos(B)\n",
      "print theta"
     ],
     "language": "python",
     "metadata": {},
     "outputs": [
      {
       "output_type": "stream",
       "stream": "stdout",
       "text": [
        "0.684697595653\n"
       ]
      }
     ],
     "prompt_number": 138
    },
    {
     "cell_type": "code",
     "collapsed": false,
     "input": [
      "delta = np.sin(theta)*np.linalg.norm(S)\n",
      "print delta"
     ],
     "language": "python",
     "metadata": {},
     "outputs": [
      {
       "output_type": "stream",
       "stream": "stdout",
       "text": [
        "176565.003257\n"
       ]
      }
     ],
     "prompt_number": 140
    },
    {
     "cell_type": "code",
     "collapsed": false,
     "input": [
      "print delta / eph.c"
     ],
     "language": "python",
     "metadata": {},
     "outputs": [
      {
       "output_type": "stream",
       "stream": "stdout",
       "text": [
        "0.000588957455551\n"
       ]
      }
     ],
     "prompt_number": 141
    },
    {
     "cell_type": "markdown",
     "metadata": {},
     "source": [
      "So, for two satellites at these positions we've got a time offset of 589 microseconds."
     ]
    },
    {
     "cell_type": "code",
     "collapsed": false,
     "input": [
      "Spar = np.cross(S,r2*s2)\n",
      "Spar = Spar/np.linalg.norm(Spar)\n",
      "print Spar"
     ],
     "language": "python",
     "metadata": {},
     "outputs": [
      {
       "output_type": "stream",
       "stream": "stdout",
       "text": [
        "[ 0.11841757 -0.1647075   0.97920821]\n"
       ]
      }
     ],
     "prompt_number": 149
    },
    {
     "cell_type": "code",
     "collapsed": false,
     "input": [
      "Spar"
     ],
     "language": "python",
     "metadata": {},
     "outputs": [
      {
       "metadata": {},
       "output_type": "pyout",
       "prompt_number": 148,
       "text": [
        "array([ 0.11841757, -0.1647075 ,  0.97920821])"
       ]
      }
     ],
     "prompt_number": 148
    },
    {
     "cell_type": "code",
     "collapsed": false,
     "input": [
      "%matplotlib inline\n",
      "import matplotlib as mpl\n",
      "import matplotlib.pyplot as plt\n",
      "from mpl_toolkits.basemap import Basemap"
     ],
     "language": "python",
     "metadata": {},
     "outputs": [],
     "prompt_number": 1
    },
    {
     "cell_type": "code",
     "collapsed": false,
     "input": [
      "from BurstSim.GRB import *\n",
      "from BurstSim.Detector import *\n",
      "from BurstSim.Spacecraft import *\n",
      "from BurstSim.Stats import calcNorms, addErrors, calcNormsWithError"
     ],
     "language": "python",
     "metadata": {},
     "outputs": [],
     "prompt_number": 2
    },
    {
     "cell_type": "code",
     "collapsed": false,
     "input": [
      "#Evenly spaced around azimuth\n",
      "#Staggared 15 degree intervals from zenith\n",
      "#Arbitrary type\n",
      "pointings = {'01': ('0:0:0','5:0:0'),\n",
      "            '02': ('30:0:0','20:0:0'),\n",
      "            '03': ('60:0:0','35:0:0'),\n",
      "            '04': ('90:0:0','10:0:0'),\n",
      "            '05': ('120:0:0','25:0:0'),\n",
      "            '06': ('150:0:0','40:0:0'),\n",
      "            '07': ('180:0:0','15:0:0'),\n",
      "            '08': ('210:0:0','30:0:0'),\n",
      "            '09': ('240:0:0','45:0:0'),\n",
      "            '10': ('270:0:0','20:0:0'),\n",
      "            '11': ('300:0:0','35:0:0'),\n",
      "            '12': ('330:0:0','50:0:0')}"
     ],
     "language": "python",
     "metadata": {},
     "outputs": [],
     "prompt_number": 3
    },
    {
     "cell_type": "code",
     "collapsed": false,
     "input": [
      "spacecraft = Spacecraft(pointings,window=0.1)"
     ],
     "language": "python",
     "metadata": {},
     "outputs": [],
     "prompt_number": 4
    },
    {
     "cell_type": "code",
     "collapsed": false,
     "input": [
      "res = 250\n",
      "rr,dd = np.meshgrid(np.linspace(0,360,res,endpoint=False),np.linspace(-90,90,res))\n",
      "exposure_positions = np.vstack([rr.ravel(),dd.ravel()])"
     ],
     "language": "python",
     "metadata": {},
     "outputs": [],
     "prompt_number": 5
    },
    {
     "cell_type": "code",
     "collapsed": false,
     "input": [
      "exposures = np.array([[detector.exposure(position[0],position[1],FoV=True) for position in exposure_positions.T] \n",
      "                      for detector in spacecraft.detectors])"
     ],
     "language": "python",
     "metadata": {},
     "outputs": [],
     "prompt_number": 8
    },
    {
     "cell_type": "code",
     "collapsed": false,
     "input": [
      "plt.figure(figsize=(20,4))\n",
      "m = Basemap(projection='moll',lon_0=180.,resolution='c')\n",
      "x,y = m(rr,dd)\n",
      "for sp in range(12):\n",
      "    plt.subplot(2, 6, sp+1)\n",
      "    m.pcolormesh(x,y,exposures[sp].reshape((res,res)))\n",
      "plt.show()"
     ],
     "language": "python",
     "metadata": {},
     "outputs": [
      {
       "metadata": {},
       "output_type": "display_data",
       "png": "[encoded data removed]",
       "text": [
        "<matplotlib.figure.Figure at 0x118a77f50>"
       ]
      }
     ],
     "prompt_number": 9
    },
    {
     "cell_type": "code",
     "collapsed": false,
     "input": [
      "plt.figure(figsize=(8,10))\n",
      "m = Basemap(projection='moll',lon_0=180,resolution='c')\n",
      "m.drawparallels(np.arange(-90.,120.,30.))\n",
      "m.drawmeridians(np.arange(0.,420.,60.))\n",
      "x,y = m(rr,dd)\n",
      "m.pcolormesh(x,y,exposures.sum(axis=0).reshape((res,res)))\n",
      "m.colorbar()\n",
      "plt.show()"
     ],
     "language": "python",
     "metadata": {},
     "outputs": [
      {
       "metadata": {},
       "output_type": "display_data",
       "png": "[encoded data removed]",
       "text": [
        "<matplotlib.figure.Figure at 0x1115d3fd0>"
       ]
      }
     ],
     "prompt_number": 10
    },
    {
     "cell_type": "code",
     "collapsed": false,
     "input": [
      "np.shape(exposures.sum(axis=0))"
     ],
     "language": "python",
     "metadata": {},
     "outputs": [
      {
       "metadata": {},
       "output_type": "pyout",
       "prompt_number": 12,
       "text": [
        "(62500,)"
       ]
      }
     ],
     "prompt_number": 12
    },
    {
     "cell_type": "code",
     "collapsed": false,
     "input": [
      "np.sum(exposures)/12."
     ],
     "language": "python",
     "metadata": {},
     "outputs": [
      {
       "metadata": {},
       "output_type": "pyout",
       "prompt_number": 15,
       "text": [
        "35617.0"
       ]
      }
     ],
     "prompt_number": 15
    },
    {
     "cell_type": "code",
     "collapsed": false,
     "input": [
      "35617.0 /62500."
     ],
     "language": "python",
     "metadata": {},
     "outputs": [
      {
       "metadata": {},
       "output_type": "pyout",
       "prompt_number": 16,
       "text": [
        "0.569872"
       ]
      }
     ],
     "prompt_number": 16
    },
    {
     "cell_type": "code",
     "collapsed": false,
     "input": [
      "np.shape(rr)"
     ],
     "language": "python",
     "metadata": {},
     "outputs": [
      {
       "metadata": {},
       "output_type": "pyout",
       "prompt_number": 17,
       "text": [
        "(250, 250)"
       ]
      }
     ],
     "prompt_number": 17
    },
    {
     "cell_type": "code",
     "collapsed": false,
     "input": [
      "rr[exposures.sum(axis=0).reshape((res,res)) > 0.]"
     ],
     "language": "python",
     "metadata": {},
     "outputs": [
      {
       "metadata": {},
       "output_type": "pyout",
       "prompt_number": 21,
       "text": [
        "array([ 168.48,  169.92,  171.36, ...,  355.68,  357.12,  358.56])"
       ]
      }
     ],
     "prompt_number": 21
    },
    {
     "cell_type": "code",
     "collapsed": false,
     "input": [
      "dd[exposures.sum(axis=0).reshape((res,res)) > 0.]"
     ],
     "language": "python",
     "metadata": {},
     "outputs": [
      {
       "metadata": {},
       "output_type": "pyout",
       "prompt_number": 23,
       "text": [
        "array([-61.80722892, -61.80722892, -61.80722892, ...,  90.        ,\n",
        "        90.        ,  90.        ])"
       ]
      }
     ],
     "prompt_number": 23
    },
    {
     "cell_type": "code",
     "collapsed": false,
     "input": [],
     "language": "python",
     "metadata": {},
     "outputs": []
    }
   ],
   "metadata": {}
  }
 ]
}