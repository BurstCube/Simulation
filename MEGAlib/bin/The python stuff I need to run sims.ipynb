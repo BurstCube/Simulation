{
 "cells": [
  {
   "cell_type": "markdown",
   "metadata": {},
   "source": [
    "In this notebook are all the tools I need to load in a MEGAlib simulation for a given detector geometry, specified in the directory MEGAlib/geo/ ... look at the config.yaml file in order to determine which geometry file is currently being tested, and manipulated in there along with other factors to test."
   ]
  },
  {
   "cell_type": "markdown",
   "metadata": {},
   "source": [
    "Part I \n",
    "------\n",
    "\n",
    "Creating .source files"
   ]
  },
  {
   "cell_type": "code",
   "execution_count": 1,
   "metadata": {
    "collapsed": true
   },
   "outputs": [],
   "source": [
    "import os"
   ]
  },
  {
   "cell_type": "code",
   "execution_count": null,
   "metadata": {},
   "outputs": [],
   "source": []
  },
  {
   "cell_type": "code",
   "execution_count": null,
   "metadata": {},
   "outputs": [],
   "source": [
    "#change the directory so gz files immediately go where I want them to.\n",
    "\n",
    "\n"
   ]
  },
  {
   "cell_type": "code",
   "execution_count": 3,
   "metadata": {
    "collapsed": true
   },
   "outputs": [],
   "source": [
    "#import the simgenerator\n",
    "import simGenerator\n"
   ]
  },
  {
   "cell_type": "code",
   "execution_count": 4,
   "metadata": {},
   "outputs": [],
   "source": [
    "#use proper directory, and create a configureator object.\n",
    "testdir = '/Users/noahkasmanoff/BurstCube/Simulation/MEGAlib/test/'\n",
    "siliconedir = '/Users/noahkasmanoff/BurstCube/Simulation/MEGAlib/test/silicone/' \n",
    "teflondir = '/Users/noahkasmanoff/BurstCube/Simulation/MEGAlib/test/teflon/' \n",
    "\n",
    "confteflon = simGenerator.configurator(testdir+'configteflon.yaml')\n",
    "confsilicone = simGenerator.configurator(testdir+'configsilicone.yaml')\n",
    "confEteflon = simGenerator.configurator(testdir+'configEteflon.yaml')\n",
    "confEsilicone = simGenerator.configurator(testdir+'configEsilicone.yaml')"
   ]
  },
  {
   "cell_type": "code",
   "execution_count": 5,
   "metadata": {},
   "outputs": [],
   "source": [
    "#an action taken by the configurator, create source files. \n",
    "confsilicone.createSourceFiles()\n",
    "confteflon.createSourceFiles()\n",
    "confEsilicone.createSourceFiles()\n",
    "confEteflon.createSourceFiles()"
   ]
  },
  {
   "cell_type": "code",
   "execution_count": 6,
   "metadata": {
    "collapsed": true
   },
   "outputs": [],
   "source": [
    "import runSims"
   ]
  },
  {
   "cell_type": "raw",
   "metadata": {},
   "source": [
    "os.path.dirname"
   ]
  },
  {
   "cell_type": "markdown",
   "metadata": {},
   "source": [
    "Take the most recent geometry file, and run a simulation of effective area, energy, all plots etc with 1000 events \n",
    "\n",
    "as I add features, want to continously compare to the base version of it.\n",
    "\n",
    "Using a compare function in the plot tools that does this. \n",
    "\n"
   ]
  },
  {
   "cell_type": "code",
   "execution_count": 7,
   "metadata": {
    "scrolled": true
   },
   "outputs": [
    {
     "name": "stdout",
     "output_type": "stream",
     "text": [
      "file: BurstCube_100.000keV_0.00ze_0.00az.source\n",
      "Running cosima on /Users/noahkasmanoff/BurstCube/Simulation/MEGAlib/test/teflon/BurstCube_100.000keV_0.00ze_0.00az.source\n",
      "Writing Log for /Users/noahkasmanoff/BurstCube/Simulation/MEGAlib/test/teflon/BurstCube_100.000keV_0.00ze_0.00az.source\n",
      "file: BurstCube_100.000keV_22.50ze_0.00az.source\n",
      "Running cosima on /Users/noahkasmanoff/BurstCube/Simulation/MEGAlib/test/teflon/BurstCube_100.000keV_22.50ze_0.00az.source\n",
      "Writing Log for /Users/noahkasmanoff/BurstCube/Simulation/MEGAlib/test/teflon/BurstCube_100.000keV_22.50ze_0.00az.source\n",
      "file: BurstCube_100.000keV_45.00ze_0.00az.source\n",
      "Running cosima on /Users/noahkasmanoff/BurstCube/Simulation/MEGAlib/test/teflon/BurstCube_100.000keV_45.00ze_0.00az.source\n",
      "Writing Log for /Users/noahkasmanoff/BurstCube/Simulation/MEGAlib/test/teflon/BurstCube_100.000keV_45.00ze_0.00az.source\n",
      "file: BurstCube_100.000keV_67.50ze_0.00az.source\n",
      "Running cosima on /Users/noahkasmanoff/BurstCube/Simulation/MEGAlib/test/teflon/BurstCube_100.000keV_67.50ze_0.00az.source\n",
      "Writing Log for /Users/noahkasmanoff/BurstCube/Simulation/MEGAlib/test/teflon/BurstCube_100.000keV_67.50ze_0.00az.source\n",
      "file: BurstCube_100.000keV_90.00ze_0.00az.source\n",
      "Running cosima on /Users/noahkasmanoff/BurstCube/Simulation/MEGAlib/test/teflon/BurstCube_100.000keV_90.00ze_0.00az.source\n",
      "Writing Log for /Users/noahkasmanoff/BurstCube/Simulation/MEGAlib/test/teflon/BurstCube_100.000keV_90.00ze_0.00az.source\n",
      "file: BurstCube_104.664keV_0.00ze_0.00az.source\n",
      "Running cosima on /Users/noahkasmanoff/BurstCube/Simulation/MEGAlib/test/teflon/BurstCube_104.664keV_0.00ze_0.00az.source\n",
      "Writing Log for /Users/noahkasmanoff/BurstCube/Simulation/MEGAlib/test/teflon/BurstCube_104.664keV_0.00ze_0.00az.source\n",
      "file: BurstCube_15000.000keV_0.00ze_0.00az.source\n",
      "Running cosima on /Users/noahkasmanoff/BurstCube/Simulation/MEGAlib/test/teflon/BurstCube_15000.000keV_0.00ze_0.00az.source\n",
      "Writing Log for /Users/noahkasmanoff/BurstCube/Simulation/MEGAlib/test/teflon/BurstCube_15000.000keV_0.00ze_0.00az.source\n",
      "file: BurstCube_20.000keV_0.00ze_0.00az.source\n",
      "Running cosima on /Users/noahkasmanoff/BurstCube/Simulation/MEGAlib/test/teflon/BurstCube_20.000keV_0.00ze_0.00az.source\n",
      "Writing Log for /Users/noahkasmanoff/BurstCube/Simulation/MEGAlib/test/teflon/BurstCube_20.000keV_0.00ze_0.00az.source\n",
      "file: BurstCube_2866.328keV_0.00ze_0.00az.source\n",
      "Running cosima on /Users/noahkasmanoff/BurstCube/Simulation/MEGAlib/test/teflon/BurstCube_2866.328keV_0.00ze_0.00az.source\n",
      "Writing Log for /Users/noahkasmanoff/BurstCube/Simulation/MEGAlib/test/teflon/BurstCube_2866.328keV_0.00ze_0.00az.source\n",
      "file: BurstCube_547.723keV_0.00ze_0.00az.source\n",
      "Running cosima on /Users/noahkasmanoff/BurstCube/Simulation/MEGAlib/test/teflon/BurstCube_547.723keV_0.00ze_0.00az.source\n",
      "Writing Log for /Users/noahkasmanoff/BurstCube/Simulation/MEGAlib/test/teflon/BurstCube_547.723keV_0.00ze_0.00az.source\n"
     ]
    }
   ],
   "source": [
    "os.chdir('/Users/noahkasmanoff/BurstCube/Simulation/MEGAlib/test/teflon/')\n",
    "\n",
    "files = os.listdir(teflondir)\n",
    "for file in files:\n",
    "    if file[-1] == 'e': #one way to find a sim\n",
    "        print('file: ' + file)\n",
    "        runSims.runCosima(teflondir + file)\n",
    "    "
   ]
  },
  {
   "cell_type": "code",
   "execution_count": 8,
   "metadata": {},
   "outputs": [
    {
     "name": "stdout",
     "output_type": "stream",
     "text": [
      "file: BurstCube_100.000keV_0.00ze_0.00az.source\n",
      "Running cosima on /Users/noahkasmanoff/BurstCube/Simulation/MEGAlib/test/silicone/BurstCube_100.000keV_0.00ze_0.00az.source\n",
      "Writing Log for /Users/noahkasmanoff/BurstCube/Simulation/MEGAlib/test/silicone/BurstCube_100.000keV_0.00ze_0.00az.source\n",
      "file: BurstCube_100.000keV_22.50ze_0.00az.source\n",
      "Running cosima on /Users/noahkasmanoff/BurstCube/Simulation/MEGAlib/test/silicone/BurstCube_100.000keV_22.50ze_0.00az.source\n",
      "Writing Log for /Users/noahkasmanoff/BurstCube/Simulation/MEGAlib/test/silicone/BurstCube_100.000keV_22.50ze_0.00az.source\n",
      "file: BurstCube_100.000keV_45.00ze_0.00az.source\n",
      "Running cosima on /Users/noahkasmanoff/BurstCube/Simulation/MEGAlib/test/silicone/BurstCube_100.000keV_45.00ze_0.00az.source\n",
      "Writing Log for /Users/noahkasmanoff/BurstCube/Simulation/MEGAlib/test/silicone/BurstCube_100.000keV_45.00ze_0.00az.source\n",
      "file: BurstCube_100.000keV_67.50ze_0.00az.source\n",
      "Running cosima on /Users/noahkasmanoff/BurstCube/Simulation/MEGAlib/test/silicone/BurstCube_100.000keV_67.50ze_0.00az.source\n",
      "Writing Log for /Users/noahkasmanoff/BurstCube/Simulation/MEGAlib/test/silicone/BurstCube_100.000keV_67.50ze_0.00az.source\n",
      "file: BurstCube_100.000keV_90.00ze_0.00az.source\n",
      "Running cosima on /Users/noahkasmanoff/BurstCube/Simulation/MEGAlib/test/silicone/BurstCube_100.000keV_90.00ze_0.00az.source\n",
      "Writing Log for /Users/noahkasmanoff/BurstCube/Simulation/MEGAlib/test/silicone/BurstCube_100.000keV_90.00ze_0.00az.source\n",
      "file: BurstCube_104.664keV_0.00ze_0.00az.source\n",
      "Running cosima on /Users/noahkasmanoff/BurstCube/Simulation/MEGAlib/test/silicone/BurstCube_104.664keV_0.00ze_0.00az.source\n",
      "Writing Log for /Users/noahkasmanoff/BurstCube/Simulation/MEGAlib/test/silicone/BurstCube_104.664keV_0.00ze_0.00az.source\n",
      "file: BurstCube_15000.000keV_0.00ze_0.00az.source\n",
      "Running cosima on /Users/noahkasmanoff/BurstCube/Simulation/MEGAlib/test/silicone/BurstCube_15000.000keV_0.00ze_0.00az.source\n",
      "Writing Log for /Users/noahkasmanoff/BurstCube/Simulation/MEGAlib/test/silicone/BurstCube_15000.000keV_0.00ze_0.00az.source\n",
      "file: BurstCube_20.000keV_0.00ze_0.00az.source\n",
      "Running cosima on /Users/noahkasmanoff/BurstCube/Simulation/MEGAlib/test/silicone/BurstCube_20.000keV_0.00ze_0.00az.source\n",
      "Writing Log for /Users/noahkasmanoff/BurstCube/Simulation/MEGAlib/test/silicone/BurstCube_20.000keV_0.00ze_0.00az.source\n",
      "file: BurstCube_2866.328keV_0.00ze_0.00az.source\n",
      "Running cosima on /Users/noahkasmanoff/BurstCube/Simulation/MEGAlib/test/silicone/BurstCube_2866.328keV_0.00ze_0.00az.source\n",
      "Writing Log for /Users/noahkasmanoff/BurstCube/Simulation/MEGAlib/test/silicone/BurstCube_2866.328keV_0.00ze_0.00az.source\n",
      "file: BurstCube_547.723keV_0.00ze_0.00az.source\n",
      "Running cosima on /Users/noahkasmanoff/BurstCube/Simulation/MEGAlib/test/silicone/BurstCube_547.723keV_0.00ze_0.00az.source\n",
      "Writing Log for /Users/noahkasmanoff/BurstCube/Simulation/MEGAlib/test/silicone/BurstCube_547.723keV_0.00ze_0.00az.source\n"
     ]
    }
   ],
   "source": [
    "os.chdir('/Users/noahkasmanoff/BurstCube/Simulation/MEGAlib/test/silicone/')\n",
    "\n",
    "files = os.listdir(siliconedir)\n",
    "for file in files:\n",
    "    if file[-1] == 'e': #one way to find a sim\n",
    "        print('file: ' + file)\n",
    "        runSims.runCosima(siliconedir + file)"
   ]
  },
  {
   "cell_type": "markdown",
   "metadata": {},
   "source": [
    "Part 3\n",
    "-----\n",
    "\n",
    "Plotting results"
   ]
  },
  {
   "cell_type": "code",
   "execution_count": 10,
   "metadata": {
    "collapsed": true
   },
   "outputs": [],
   "source": [
    "import glob"
   ]
  },
  {
   "cell_type": "code",
   "execution_count": 15,
   "metadata": {},
   "outputs": [],
   "source": [
    "config_files_E = glob.glob(testdir + 'configE*.yaml')"
   ]
  },
  {
   "cell_type": "code",
   "execution_count": 18,
   "metadata": {},
   "outputs": [],
   "source": [
    "del config_files_E[0]\n",
    "config_files_E"
   ]
  },
  {
   "cell_type": "code",
   "execution_count": 20,
   "metadata": {
    "collapsed": true
   },
   "outputs": [],
   "source": [
    "names = ['Teflon', 'Silicone']"
   ]
  },
  {
   "cell_type": "code",
   "execution_count": 21,
   "metadata": {},
   "outputs": [],
   "source": [
    "%matplotlib inline\n",
    "import matplotlib.pyplot as plt"
   ]
  },
  {
   "cell_type": "code",
   "execution_count": 22,
   "metadata": {
    "collapsed": true
   },
   "outputs": [],
   "source": [
    "from plotSim import plotAeffComparison, plotThetaComparison\n",
    "from bcSim import simFiles\n",
    "from glob import glob"
   ]
  },
  {
   "cell_type": "code",
   "execution_count": 23,
   "metadata": {},
   "outputs": [
    {
     "name": "stdout",
     "output_type": "stream",
     "text": [
      "Loading $BURSTCUBE/Simulation/MEGAlib/test/silicone//BurstCube_20.000keV_0.00ze_0.00az.inc1.id1.sim\n",
      "Loading $BURSTCUBE/Simulation/MEGAlib/test/silicone//BurstCube_104.664keV_0.00ze_0.00az.inc1.id1.sim\n",
      "Loading $BURSTCUBE/Simulation/MEGAlib/test/silicone//BurstCube_547.723keV_0.00ze_0.00az.inc1.id1.sim\n",
      "Loading $BURSTCUBE/Simulation/MEGAlib/test/silicone//BurstCube_2866.328keV_0.00ze_0.00az.inc1.id1.sim\n",
      "Loading $BURSTCUBE/Simulation/MEGAlib/test/silicone//BurstCube_15000.000keV_0.00ze_0.00az.inc1.id1.sim\n",
      "Loading $BURSTCUBE/Simulation/MEGAlib/test/teflon//BurstCube_20.000keV_0.00ze_0.00az.inc1.id1.sim\n",
      "Loading $BURSTCUBE/Simulation/MEGAlib/test/teflon//BurstCube_104.664keV_0.00ze_0.00az.inc1.id1.sim\n",
      "Loading $BURSTCUBE/Simulation/MEGAlib/test/teflon//BurstCube_547.723keV_0.00ze_0.00az.inc1.id1.sim\n",
      "Loading $BURSTCUBE/Simulation/MEGAlib/test/teflon//BurstCube_2866.328keV_0.00ze_0.00az.inc1.id1.sim\n",
      "Loading $BURSTCUBE/Simulation/MEGAlib/test/teflon//BurstCube_15000.000keV_0.00ze_0.00az.inc1.id1.sim\n"
     ]
    }
   ],
   "source": [
    "sims_E = [simFiles(config_file) for config_file in config_files_E]"
   ]
  },
  {
   "cell_type": "code",
   "execution_count": 24,
   "metadata": {},
   "outputs": [
    {
     "data": {
      "image/png": "[encoded data removed]",
      "text/plain": [
       "<matplotlib.figure.Figure at 0x107cf1f98>"
      ]
     },
     "metadata": {},
     "output_type": "display_data"
    }
   ],
   "source": [
    "plotAeffComparison(sims_E, names, compareTo='Teflon')"
   ]
  },
  {
   "cell_type": "code",
   "execution_count": 25,
   "metadata": {
    "collapsed": true
   },
   "outputs": [],
   "source": [
    "aeffs_E = [sim.calculateAeff(useEres=False) for sim in sims_E]"
   ]
  },
  {
   "cell_type": "code",
   "execution_count": 26,
   "metadata": {},
   "outputs": [
    {
     "data": {
      "text/plain": [
       "[array([(0., 0.,    20.     ,  0.38670832,  0.38670832,  0.38670832),\n",
       "        (0., 0.,   104.66351, 57.233917  , 51.624992  , 54.372223  ),\n",
       "        (0., 0.,   547.72253, 39.585007  , 19.990427  , 20.465448  ),\n",
       "        (0., 0.,  2866.3284 , 22.507341  ,  3.511145  ,  7.02229   ),\n",
       "        (0., 0., 15000.     , 27.81608   ,  0.19471256,  0.41724122)],\n",
       "       dtype=[('az', '<f4'), ('ze', '<f4'), ('keV', '<f4'), ('aeff', '<f4'), ('aeff_eres', '<f4'), ('aeff_eres_modfrac', '<f4')]),\n",
       " array([(0., 0.,    20.     ,  4.4142513,  4.387766  ,  4.387766  ),\n",
       "        (0., 0.,   104.66351, 65.42041  , 59.46715   , 62.803593  ),\n",
       "        (0., 0.,   547.72253, 40.842976 , 21.320034  , 21.810148  ),\n",
       "        (0., 0.,  2866.3284 , 22.073154 ,  3.3771927 ,  6.7543855 ),\n",
       "        (0., 0., 15000.     , 25.550959 ,  0.07665288,  0.15330575)],\n",
       "       dtype=[('az', '<f4'), ('ze', '<f4'), ('keV', '<f4'), ('aeff', '<f4'), ('aeff_eres', '<f4'), ('aeff_eres_modfrac', '<f4')])]"
      ]
     },
     "execution_count": 26,
     "metadata": {},
     "output_type": "execute_result"
    }
   ],
   "source": [
    "aeffs_E"
   ]
  },
  {
   "cell_type": "markdown",
   "metadata": {},
   "source": [
    "I'd like to point out I am using a much smaller energy range than the one on the given example, but as far as I can tell from here the trend looks correct. Will look more into understanding how to do this for angular dependences next!"
   ]
  },
  {
   "cell_type": "code",
   "execution_count": null,
   "metadata": {
    "collapsed": true
   },
   "outputs": [],
   "source": []
  },
  {
   "cell_type": "code",
   "execution_count": null,
   "metadata": {
    "collapsed": true
   },
   "outputs": [],
   "source": [
    "import plotSim"
   ]
  },
  {
   "cell_type": "code",
   "execution_count": null,
   "metadata": {
    "collapsed": true
   },
   "outputs": [],
   "source": [
    "from bcSim import simFiles\n"
   ]
  },
  {
   "cell_type": "code",
   "execution_count": null,
   "metadata": {},
   "outputs": [],
   "source": [
    "sfs = simFiles(testdir + 'configsilicone.yaml')"
   ]
  },
  {
   "cell_type": "code",
   "execution_count": null,
   "metadata": {
    "collapsed": true
   },
   "outputs": [],
   "source": [
    "#Need to iterate through files\n"
   ]
  },
  {
   "cell_type": "code",
   "execution_count": null,
   "metadata": {
    "collapsed": true
   },
   "outputs": [],
   "source": [
    "import plotSim"
   ]
  },
  {
   "cell_type": "markdown",
   "metadata": {},
   "source": [
    "plotSim.plotAeff = all the sim files in here, and that's what I need to use"
   ]
  },
  {
   "cell_type": "code",
   "execution_count": null,
   "metadata": {
    "collapsed": true
   },
   "outputs": [],
   "source": [
    "import bcSim"
   ]
  },
  {
   "cell_type": "code",
   "execution_count": null,
   "metadata": {
    "scrolled": false
   },
   "outputs": [],
   "source": [
    "plotSim.plotAeff(sfs)"
   ]
  },
  {
   "cell_type": "code",
   "execution_count": null,
   "metadata": {
    "collapsed": true
   },
   "outputs": [],
   "source": []
  }
 ],
 "metadata": {
  "kernelspec": {
   "display_name": "Python 3",
   "language": "python",
   "name": "python3"
  },
  "language_info": {
   "codemirror_mode": {
    "name": "ipython",
    "version": 3
   },
   "file_extension": ".py",
   "mimetype": "text/x-python",
   "name": "python",
   "nbconvert_exporter": "python",
   "pygments_lexer": "ipython3",
   "version": "3.6.1"
  }
 },
 "nbformat": 4,
 "nbformat_minor": 2
}
