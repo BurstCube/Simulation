{
 "cells": [
  {
   "cell_type": "markdown",
   "metadata": {},
   "source": [
    "In this notebook are all the tools I need to load in a MEGAlib simulation for a given detector geometry, specified in the directory MEGAlib/geo/ ... look at the config.yaml file in order to determine which geometry file is currently being tested, and manipulated in there along with other factors to test."
   ]
  },
  {
   "cell_type": "markdown",
   "metadata": {},
   "source": [
    "Part I \n",
    "------\n",
    "\n",
    "Creating .source files"
   ]
  },
  {
   "cell_type": "code",
   "execution_count": 2,
   "metadata": {
    "collapsed": true
   },
   "outputs": [],
   "source": [
    "#import the simgenerator\n",
    "import simGenerator\n"
   ]
  },
  {
   "cell_type": "code",
   "execution_count": 3,
   "metadata": {},
   "outputs": [],
   "source": [
    "#use proper directory, and create a configureator object.\n",
    "testdir = '/Users/noahkasmanoff/BurstCube/Simulation/MEGAlib/test/'\n",
    "conf = simGenerator.configurator(testdir+'config.yaml')"
   ]
  },
  {
   "cell_type": "code",
   "execution_count": 4,
   "metadata": {
    "collapsed": true
   },
   "outputs": [],
   "source": [
    "#an action taken by the configurator, create source files. \n",
    "conf.createSourceFiles()"
   ]
  },
  {
   "cell_type": "code",
   "execution_count": 5,
   "metadata": {
    "collapsed": true
   },
   "outputs": [],
   "source": [
    "import runSims"
   ]
  },
  {
   "cell_type": "code",
   "execution_count": null,
   "metadata": {
    "collapsed": true
   },
   "outputs": [],
   "source": [
    "testdir = '/Users/noahkasmanoff/BurstCube/Simulation/MEGAlib/test/'\n",
    "flowers_path = filename + '/flowers'\n",
    "flower_types = os.listdir(flowers_path)\n",
    "if '.DS_Store' in flower_types: flower_types.remove('.DS_Store')\n",
    "for species in flower_types:\n",
    "    index = flower_types.index(species)\n",
    "# Get all the file names\n",
    "    all_flowers_path = os.path.join(flowers_path,species ,'*g')\n",
    "    all_flowers = glob.glob(all_flowers_path)\n",
    "# Add them to the list\n",
    "    for flower in all_flowers:\n",
    "      #  print(species)  #species of each flower is here. \n",
    "        if species == 'daisy':"
   ]
  },
  {
   "cell_type": "code",
   "execution_count": 26,
   "metadata": {},
   "outputs": [
    {
     "name": "stdout",
     "output_type": "stream",
     "text": [
      "test_100.000keV_0.00theta.source\n",
      "Running cosima on /Users/noahkasmanoff/BurstCube/Simulation/MEGAlib/test/test_100.000keV_0.00theta.source\n",
      "Writing Log for /Users/noahkasmanoff/BurstCube/Simulation/MEGAlib/test/test_100.000keV_0.00theta.source\n",
      "test_100.000keV_41.41theta.source\n",
      "Running cosima on /Users/noahkasmanoff/BurstCube/Simulation/MEGAlib/test/test_100.000keV_41.41theta.source\n",
      "Writing Log for /Users/noahkasmanoff/BurstCube/Simulation/MEGAlib/test/test_100.000keV_41.41theta.source\n",
      "test_100.000keV_60.00theta.source\n",
      "Running cosima on /Users/noahkasmanoff/BurstCube/Simulation/MEGAlib/test/test_100.000keV_60.00theta.source\n",
      "Writing Log for /Users/noahkasmanoff/BurstCube/Simulation/MEGAlib/test/test_100.000keV_60.00theta.source\n",
      "test_173.205keV_0.00theta.source\n",
      "Running cosima on /Users/noahkasmanoff/BurstCube/Simulation/MEGAlib/test/test_173.205keV_0.00theta.source\n",
      "Writing Log for /Users/noahkasmanoff/BurstCube/Simulation/MEGAlib/test/test_173.205keV_0.00theta.source\n",
      "test_173.205keV_41.41theta.source\n",
      "Running cosima on /Users/noahkasmanoff/BurstCube/Simulation/MEGAlib/test/test_173.205keV_41.41theta.source\n",
      "Writing Log for /Users/noahkasmanoff/BurstCube/Simulation/MEGAlib/test/test_173.205keV_41.41theta.source\n",
      "test_173.205keV_60.00theta.source\n",
      "Running cosima on /Users/noahkasmanoff/BurstCube/Simulation/MEGAlib/test/test_173.205keV_60.00theta.source\n",
      "Writing Log for /Users/noahkasmanoff/BurstCube/Simulation/MEGAlib/test/test_173.205keV_60.00theta.source\n",
      "test_300.000keV_0.00theta.source\n",
      "Running cosima on /Users/noahkasmanoff/BurstCube/Simulation/MEGAlib/test/test_300.000keV_0.00theta.source\n",
      "Writing Log for /Users/noahkasmanoff/BurstCube/Simulation/MEGAlib/test/test_300.000keV_0.00theta.source\n",
      "test_300.000keV_41.41theta.source\n",
      "Running cosima on /Users/noahkasmanoff/BurstCube/Simulation/MEGAlib/test/test_300.000keV_41.41theta.source\n",
      "Writing Log for /Users/noahkasmanoff/BurstCube/Simulation/MEGAlib/test/test_300.000keV_41.41theta.source\n",
      "test_300.000keV_60.00theta.source\n",
      "Running cosima on /Users/noahkasmanoff/BurstCube/Simulation/MEGAlib/test/test_300.000keV_60.00theta.source\n",
      "Writing Log for /Users/noahkasmanoff/BurstCube/Simulation/MEGAlib/test/test_300.000keV_60.00theta.source\n"
     ]
    }
   ],
   "source": [
    "testdir = '/Users/noahkasmanoff/BurstCube/Simulation/MEGAlib/test/'\n",
    "files = os.listdir(testdir)\n",
    "for file in files:\n",
    "    if file[-1] == 'e': #one way to find a sim\n",
    "        print(file)\n",
    "        runSims.runCosima(testdir + file)\n",
    "    "
   ]
  },
  {
   "cell_type": "markdown",
   "metadata": {},
   "source": [
    "Part 3\n",
    "-----\n",
    "\n",
    "Plotting results"
   ]
  },
  {
   "cell_type": "code",
   "execution_count": 27,
   "metadata": {},
   "outputs": [],
   "source": [
    "import plotSim"
   ]
  },
  {
   "cell_type": "code",
   "execution_count": 28,
   "metadata": {},
   "outputs": [
    {
     "name": "stdout",
     "output_type": "stream",
     "text": [
      "test_173.205keV_0.00theta.inc1.id1.sim\n",
      "test_173.205keV_41.41theta.inc1.id1.sim\n",
      "test_173.205keV_60.00theta.inc1.id1.sim\n",
      "test_300.000keV_0.00theta.inc1.id1.sim\n",
      "test_300.000keV_41.41theta.inc1.id1.sim\n",
      "test_300.000keV_60.00theta.inc1.id1.sim\n"
     ]
    }
   ],
   "source": [
    "#obtain an array of sim files\n",
    "simfiles = []\n",
    "testdir = '/Users/noahkasmanoff/BurstCube/Simulation/MEGAlib/test/'\n",
    "files = os.listdir(testdir)\n",
    "for file in files:\n",
    "    if file[-1] == 'm': #one way to find a sim\n",
    "        print(file)\n",
    "        simfiles.append(file)\n",
    "    \n"
   ]
  },
  {
   "cell_type": "code",
   "execution_count": 29,
   "metadata": {},
   "outputs": [
    {
     "data": {
      "text/plain": [
       "['test_173.205keV_0.00theta.inc1.id1.sim',\n",
       " 'test_173.205keV_41.41theta.inc1.id1.sim',\n",
       " 'test_173.205keV_60.00theta.inc1.id1.sim',\n",
       " 'test_300.000keV_0.00theta.inc1.id1.sim',\n",
       " 'test_300.000keV_41.41theta.inc1.id1.sim',\n",
       " 'test_300.000keV_60.00theta.inc1.id1.sim']"
      ]
     },
     "execution_count": 29,
     "metadata": {},
     "output_type": "execute_result"
    }
   ],
   "source": [
    "simfiles"
   ]
  },
  {
   "cell_type": "markdown",
   "metadata": {},
   "source": [
    "Don't remember the rest :("
   ]
  },
  {
   "cell_type": "code",
   "execution_count": 7,
   "metadata": {},
   "outputs": [
    {
     "name": "stdout",
     "output_type": "stream",
     "text": [
      "Running cosima on /Users/noahkasmanoff/BurstCube/Simulation/MEGAlib/test/test_100.000keV_0.00theta.source\n",
      "Writing Log for /Users/noahkasmanoff/BurstCube/Simulation/MEGAlib/test/test_100.000keV_0.00theta.source\n"
     ]
    }
   ],
   "source": [
    "#Need to iterate through files\n",
    "runSims.runCosima(testdir + 'test_100.000keV_0.00theta.source')"
   ]
  },
  {
   "cell_type": "code",
   "execution_count": 9,
   "metadata": {},
   "outputs": [],
   "source": [
    "import plotSim"
   ]
  },
  {
   "cell_type": "markdown",
   "metadata": {},
   "source": [
    "plotSim.plotAeff = all the sim files in here, and that's what I need to use"
   ]
  },
  {
   "cell_type": "code",
   "execution_count": null,
   "metadata": {
    "collapsed": true
   },
   "outputs": [],
   "source": []
  }
 ],
 "metadata": {
  "kernelspec": {
   "display_name": "Python 3",
   "language": "python",
   "name": "python3"
  },
  "language_info": {
   "codemirror_mode": {
    "name": "ipython",
    "version": 3
   },
   "file_extension": ".py",
   "mimetype": "text/x-python",
   "name": "python",
   "nbconvert_exporter": "python",
   "pygments_lexer": "ipython3",
   "version": "3.6.1"
  }
 },
 "nbformat": 4,
 "nbformat_minor": 2
}
